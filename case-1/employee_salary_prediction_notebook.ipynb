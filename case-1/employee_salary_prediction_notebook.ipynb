{
 "cells": [
  {
   "cell_type": "markdown",
   "metadata": {
    "colab_type": "text",
    "id": "M27qF7CTrBqc"
   },
   "source": [
    "# TASK #1: UNDERSTAND THE PROBLEM STATEMENT "
   ]
  },
  {
   "cell_type": "markdown",
   "metadata": {
    "colab_type": "text",
    "id": "xNl52nl3qiyL"
   },
   "source": [
    "- The objective of this case study is to predict the employee salary based on the number of years of experience. \n",
    "- In simple linear regression, we predict the value of one variable Y based on another variable X.\n",
    "- X is called the independent variable and Y is called the dependant variable.\n",
    "- Why simple? Because it examines relationship between two variables only.\n",
    "- Why linear? when the independent variable increases (or decreases), the dependent variable increases (or decreases) in a linear fashion.\n"
   ]
  },
  {
   "cell_type": "markdown",
   "metadata": {
    "colab_type": "text",
    "id": "zKmFmyaGunc7"
   },
   "source": [
    "# TASK #2: IMPORT LIBRARIES AND DATASETS"
   ]
  },
  {
   "cell_type": "code",
   "execution_count": 11,
   "metadata": {},
   "outputs": [
    {
     "name": "stdout",
     "output_type": "stream",
     "text": [
      "Looking in indexes: https://pypi.org/simple, https://pip.repos.neuron.amazonaws.com\n",
      "Requirement already satisfied: seaborn in /home/ec2-user/anaconda3/envs/tensorflow2_p38/lib/python3.8/site-packages (0.11.2)\n",
      "Requirement already satisfied: pandas>=0.23 in /home/ec2-user/anaconda3/envs/tensorflow2_p38/lib/python3.8/site-packages (from seaborn) (1.3.4)\n",
      "Requirement already satisfied: numpy>=1.15 in /home/ec2-user/anaconda3/envs/tensorflow2_p38/lib/python3.8/site-packages (from seaborn) (1.20.3)\n",
      "Requirement already satisfied: scipy>=1.0 in /home/ec2-user/anaconda3/envs/tensorflow2_p38/lib/python3.8/site-packages (from seaborn) (1.7.2)\n",
      "Requirement already satisfied: matplotlib>=2.2 in /home/ec2-user/anaconda3/envs/tensorflow2_p38/lib/python3.8/site-packages (from seaborn) (3.4.3)\n",
      "Requirement already satisfied: pillow>=6.2.0 in /home/ec2-user/anaconda3/envs/tensorflow2_p38/lib/python3.8/site-packages (from matplotlib>=2.2->seaborn) (9.0.1)\n",
      "Requirement already satisfied: cycler>=0.10 in /home/ec2-user/anaconda3/envs/tensorflow2_p38/lib/python3.8/site-packages (from matplotlib>=2.2->seaborn) (0.11.0)\n",
      "Requirement already satisfied: python-dateutil>=2.7 in /home/ec2-user/anaconda3/envs/tensorflow2_p38/lib/python3.8/site-packages (from matplotlib>=2.2->seaborn) (2.8.2)\n",
      "Requirement already satisfied: pyparsing>=2.2.1 in /home/ec2-user/anaconda3/envs/tensorflow2_p38/lib/python3.8/site-packages (from matplotlib>=2.2->seaborn) (3.0.6)\n",
      "Requirement already satisfied: kiwisolver>=1.0.1 in /home/ec2-user/anaconda3/envs/tensorflow2_p38/lib/python3.8/site-packages (from matplotlib>=2.2->seaborn) (1.3.2)\n",
      "Requirement already satisfied: pytz>=2017.3 in /home/ec2-user/anaconda3/envs/tensorflow2_p38/lib/python3.8/site-packages (from pandas>=0.23->seaborn) (2021.3)\n",
      "Requirement already satisfied: six>=1.5 in /home/ec2-user/anaconda3/envs/tensorflow2_p38/lib/python3.8/site-packages (from python-dateutil>=2.7->matplotlib>=2.2->seaborn) (1.16.0)\n",
      "\u001b[33mWARNING: You are using pip version 22.0.4; however, version 22.2.2 is available.\n",
      "You should consider upgrading via the '/home/ec2-user/anaconda3/envs/tensorflow2_p38/bin/python -m pip install --upgrade pip' command.\u001b[0m\u001b[33m\n",
      "\u001b[0mLooking in indexes: https://pypi.org/simple, https://pip.repos.neuron.amazonaws.com\n",
      "Requirement already satisfied: tensorflow in /home/ec2-user/anaconda3/envs/tensorflow2_p38/lib/python3.8/site-packages (2.7.1)\n",
      "Requirement already satisfied: tensorboard~=2.6 in /home/ec2-user/anaconda3/envs/tensorflow2_p38/lib/python3.8/site-packages (from tensorflow) (2.8.0)\n",
      "Requirement already satisfied: grpcio<2.0,>=1.24.3 in /home/ec2-user/anaconda3/envs/tensorflow2_p38/lib/python3.8/site-packages (from tensorflow) (1.41.0)\n",
      "Requirement already satisfied: termcolor>=1.1.0 in /home/ec2-user/anaconda3/envs/tensorflow2_p38/lib/python3.8/site-packages (from tensorflow) (1.1.0)\n",
      "Requirement already satisfied: absl-py>=0.4.0 in /home/ec2-user/anaconda3/envs/tensorflow2_p38/lib/python3.8/site-packages (from tensorflow) (1.0.0)\n",
      "Requirement already satisfied: tensorflow-io-gcs-filesystem>=0.21.0 in /home/ec2-user/anaconda3/envs/tensorflow2_p38/lib/python3.8/site-packages (from tensorflow) (0.24.0)\n",
      "Requirement already satisfied: wheel<1.0,>=0.32.0 in /home/ec2-user/anaconda3/envs/tensorflow2_p38/lib/python3.8/site-packages (from tensorflow) (0.37.0)\n",
      "Requirement already satisfied: astunparse>=1.6.0 in /home/ec2-user/anaconda3/envs/tensorflow2_p38/lib/python3.8/site-packages (from tensorflow) (1.6.3)\n",
      "Requirement already satisfied: gast<0.5.0,>=0.2.1 in /home/ec2-user/anaconda3/envs/tensorflow2_p38/lib/python3.8/site-packages (from tensorflow) (0.4.0)\n",
      "Requirement already satisfied: keras-preprocessing>=1.1.1 in /home/ec2-user/anaconda3/envs/tensorflow2_p38/lib/python3.8/site-packages (from tensorflow) (1.1.2)\n",
      "Requirement already satisfied: protobuf>=3.9.2 in /home/ec2-user/anaconda3/envs/tensorflow2_p38/lib/python3.8/site-packages (from tensorflow) (3.19.1)\n",
      "Requirement already satisfied: keras<2.8,>=2.7.0rc0 in /home/ec2-user/anaconda3/envs/tensorflow2_p38/lib/python3.8/site-packages (from tensorflow) (2.7.0)\n",
      "Requirement already satisfied: wrapt>=1.11.0 in /home/ec2-user/anaconda3/envs/tensorflow2_p38/lib/python3.8/site-packages (from tensorflow) (1.12.1)\n",
      "Requirement already satisfied: numpy>=1.14.5 in /home/ec2-user/anaconda3/envs/tensorflow2_p38/lib/python3.8/site-packages (from tensorflow) (1.20.3)\n",
      "Requirement already satisfied: libclang>=9.0.1 in /home/ec2-user/anaconda3/envs/tensorflow2_p38/lib/python3.8/site-packages (from tensorflow) (13.0.0)\n",
      "Requirement already satisfied: google-pasta>=0.1.1 in /home/ec2-user/anaconda3/envs/tensorflow2_p38/lib/python3.8/site-packages (from tensorflow) (0.2.0)\n",
      "Requirement already satisfied: flatbuffers<3.0,>=1.12 in /home/ec2-user/anaconda3/envs/tensorflow2_p38/lib/python3.8/site-packages (from tensorflow) (2.0)\n",
      "Requirement already satisfied: typing-extensions>=3.6.6 in /home/ec2-user/anaconda3/envs/tensorflow2_p38/lib/python3.8/site-packages (from tensorflow) (3.10.0.2)\n",
      "Requirement already satisfied: opt-einsum>=2.3.2 in /home/ec2-user/anaconda3/envs/tensorflow2_p38/lib/python3.8/site-packages (from tensorflow) (3.3.0)\n",
      "Requirement already satisfied: tensorflow-estimator<2.8,~=2.7.0rc0 in /home/ec2-user/anaconda3/envs/tensorflow2_p38/lib/python3.8/site-packages (from tensorflow) (2.7.0)\n",
      "Requirement already satisfied: h5py>=2.9.0 in /home/ec2-user/anaconda3/envs/tensorflow2_p38/lib/python3.8/site-packages (from tensorflow) (3.4.0)\n",
      "Requirement already satisfied: six>=1.12.0 in /home/ec2-user/anaconda3/envs/tensorflow2_p38/lib/python3.8/site-packages (from tensorflow) (1.16.0)\n",
      "Requirement already satisfied: requests<3,>=2.21.0 in /home/ec2-user/anaconda3/envs/tensorflow2_p38/lib/python3.8/site-packages (from tensorboard~=2.6->tensorflow) (2.26.0)\n",
      "Requirement already satisfied: tensorboard-data-server<0.7.0,>=0.6.0 in /home/ec2-user/anaconda3/envs/tensorflow2_p38/lib/python3.8/site-packages (from tensorboard~=2.6->tensorflow) (0.6.1)\n",
      "Requirement already satisfied: google-auth<3,>=1.6.3 in /home/ec2-user/anaconda3/envs/tensorflow2_p38/lib/python3.8/site-packages (from tensorboard~=2.6->tensorflow) (2.6.2)\n",
      "Requirement already satisfied: setuptools>=41.0.0 in /home/ec2-user/anaconda3/envs/tensorflow2_p38/lib/python3.8/site-packages (from tensorboard~=2.6->tensorflow) (59.1.1)\n",
      "Requirement already satisfied: markdown>=2.6.8 in /home/ec2-user/anaconda3/envs/tensorflow2_p38/lib/python3.8/site-packages (from tensorboard~=2.6->tensorflow) (3.3.6)\n",
      "Requirement already satisfied: werkzeug>=0.11.15 in /home/ec2-user/anaconda3/envs/tensorflow2_p38/lib/python3.8/site-packages (from tensorboard~=2.6->tensorflow) (2.0.3)\n",
      "Requirement already satisfied: google-auth-oauthlib<0.5,>=0.4.1 in /home/ec2-user/anaconda3/envs/tensorflow2_p38/lib/python3.8/site-packages (from tensorboard~=2.6->tensorflow) (0.4.6)\n",
      "Requirement already satisfied: tensorboard-plugin-wit>=1.6.0 in /home/ec2-user/anaconda3/envs/tensorflow2_p38/lib/python3.8/site-packages (from tensorboard~=2.6->tensorflow) (1.8.1)\n",
      "Requirement already satisfied: cachetools<6.0,>=2.0.0 in /home/ec2-user/anaconda3/envs/tensorflow2_p38/lib/python3.8/site-packages (from google-auth<3,>=1.6.3->tensorboard~=2.6->tensorflow) (5.0.0)\n",
      "Requirement already satisfied: rsa<5,>=3.1.4 in /home/ec2-user/anaconda3/envs/tensorflow2_p38/lib/python3.8/site-packages (from google-auth<3,>=1.6.3->tensorboard~=2.6->tensorflow) (4.7.2)\n",
      "Requirement already satisfied: pyasn1-modules>=0.2.1 in /home/ec2-user/anaconda3/envs/tensorflow2_p38/lib/python3.8/site-packages (from google-auth<3,>=1.6.3->tensorboard~=2.6->tensorflow) (0.2.8)\n",
      "Requirement already satisfied: requests-oauthlib>=0.7.0 in /home/ec2-user/anaconda3/envs/tensorflow2_p38/lib/python3.8/site-packages (from google-auth-oauthlib<0.5,>=0.4.1->tensorboard~=2.6->tensorflow) (1.3.1)\n",
      "Requirement already satisfied: importlib-metadata>=4.4 in /home/ec2-user/anaconda3/envs/tensorflow2_p38/lib/python3.8/site-packages (from markdown>=2.6.8->tensorboard~=2.6->tensorflow) (4.8.2)\n",
      "Requirement already satisfied: charset-normalizer~=2.0.0 in /home/ec2-user/anaconda3/envs/tensorflow2_p38/lib/python3.8/site-packages (from requests<3,>=2.21.0->tensorboard~=2.6->tensorflow) (2.0.7)\n",
      "Requirement already satisfied: urllib3<1.27,>=1.21.1 in /home/ec2-user/anaconda3/envs/tensorflow2_p38/lib/python3.8/site-packages (from requests<3,>=2.21.0->tensorboard~=2.6->tensorflow) (1.26.8)\n",
      "Requirement already satisfied: certifi>=2017.4.17 in /home/ec2-user/anaconda3/envs/tensorflow2_p38/lib/python3.8/site-packages (from requests<3,>=2.21.0->tensorboard~=2.6->tensorflow) (2021.10.8)\n",
      "Requirement already satisfied: idna<4,>=2.5 in /home/ec2-user/anaconda3/envs/tensorflow2_p38/lib/python3.8/site-packages (from requests<3,>=2.21.0->tensorboard~=2.6->tensorflow) (3.1)\n",
      "Requirement already satisfied: zipp>=0.5 in /home/ec2-user/anaconda3/envs/tensorflow2_p38/lib/python3.8/site-packages (from importlib-metadata>=4.4->markdown>=2.6.8->tensorboard~=2.6->tensorflow) (3.6.0)\n",
      "Requirement already satisfied: pyasn1<0.5.0,>=0.4.6 in /home/ec2-user/anaconda3/envs/tensorflow2_p38/lib/python3.8/site-packages (from pyasn1-modules>=0.2.1->google-auth<3,>=1.6.3->tensorboard~=2.6->tensorflow) (0.4.8)\n",
      "Requirement already satisfied: oauthlib>=3.0.0 in /home/ec2-user/anaconda3/envs/tensorflow2_p38/lib/python3.8/site-packages (from requests-oauthlib>=0.7.0->google-auth-oauthlib<0.5,>=0.4.1->tensorboard~=2.6->tensorflow) (3.2.0)\n",
      "\u001b[33mWARNING: You are using pip version 22.0.4; however, version 22.2.2 is available.\n",
      "You should consider upgrading via the '/home/ec2-user/anaconda3/envs/tensorflow2_p38/bin/python -m pip install --upgrade pip' command.\u001b[0m\u001b[33m\n",
      "\u001b[0m"
     ]
    }
   ],
   "source": [
    "#install seaborn library\n",
    "!pip install seaborn\n",
    "!pip install tensorflow\n",
    "import tensorflow as tf\n",
    "import pandas as pd\n",
    "import numpy as np\n",
    "import seaborn as sns\n",
    "import matplotlib.pyplot as plt\n"
   ]
  },
  {
   "cell_type": "code",
   "execution_count": 12,
   "metadata": {
    "colab": {},
    "colab_type": "code",
    "id": "tjIiJdM4u1IE"
   },
   "outputs": [],
   "source": [
    "# read the csv file \n",
    "salary_df = pd.read_csv('salary.csv')"
   ]
  },
  {
   "cell_type": "code",
   "execution_count": 13,
   "metadata": {
    "colab": {
     "base_uri": "https://localhost:8080/",
     "height": 204
    },
    "colab_type": "code",
    "id": "q4_wPDKCu5Uc",
    "outputId": "886d2aaf-0205-4f46-96a7-629d0f367d2f"
   },
   "outputs": [
    {
     "data": {
      "text/html": [
       "<div>\n",
       "<style scoped>\n",
       "    .dataframe tbody tr th:only-of-type {\n",
       "        vertical-align: middle;\n",
       "    }\n",
       "\n",
       "    .dataframe tbody tr th {\n",
       "        vertical-align: top;\n",
       "    }\n",
       "\n",
       "    .dataframe thead th {\n",
       "        text-align: right;\n",
       "    }\n",
       "</style>\n",
       "<table border=\"1\" class=\"dataframe\">\n",
       "  <thead>\n",
       "    <tr style=\"text-align: right;\">\n",
       "      <th></th>\n",
       "      <th>YearsExperience</th>\n",
       "      <th>Salary</th>\n",
       "    </tr>\n",
       "  </thead>\n",
       "  <tbody>\n",
       "    <tr>\n",
       "      <th>0</th>\n",
       "      <td>1.1</td>\n",
       "      <td>39343</td>\n",
       "    </tr>\n",
       "    <tr>\n",
       "      <th>1</th>\n",
       "      <td>1.3</td>\n",
       "      <td>46205</td>\n",
       "    </tr>\n",
       "    <tr>\n",
       "      <th>2</th>\n",
       "      <td>1.5</td>\n",
       "      <td>37731</td>\n",
       "    </tr>\n",
       "    <tr>\n",
       "      <th>3</th>\n",
       "      <td>2.0</td>\n",
       "      <td>43525</td>\n",
       "    </tr>\n",
       "    <tr>\n",
       "      <th>4</th>\n",
       "      <td>2.2</td>\n",
       "      <td>39891</td>\n",
       "    </tr>\n",
       "    <tr>\n",
       "      <th>5</th>\n",
       "      <td>2.9</td>\n",
       "      <td>56642</td>\n",
       "    </tr>\n",
       "    <tr>\n",
       "      <th>6</th>\n",
       "      <td>3.0</td>\n",
       "      <td>60150</td>\n",
       "    </tr>\n",
       "    <tr>\n",
       "      <th>7</th>\n",
       "      <td>3.2</td>\n",
       "      <td>54445</td>\n",
       "    </tr>\n",
       "    <tr>\n",
       "      <th>8</th>\n",
       "      <td>3.2</td>\n",
       "      <td>64445</td>\n",
       "    </tr>\n",
       "    <tr>\n",
       "      <th>9</th>\n",
       "      <td>3.7</td>\n",
       "      <td>57189</td>\n",
       "    </tr>\n",
       "    <tr>\n",
       "      <th>10</th>\n",
       "      <td>3.9</td>\n",
       "      <td>63218</td>\n",
       "    </tr>\n",
       "    <tr>\n",
       "      <th>11</th>\n",
       "      <td>4.0</td>\n",
       "      <td>55794</td>\n",
       "    </tr>\n",
       "    <tr>\n",
       "      <th>12</th>\n",
       "      <td>4.0</td>\n",
       "      <td>56957</td>\n",
       "    </tr>\n",
       "    <tr>\n",
       "      <th>13</th>\n",
       "      <td>4.1</td>\n",
       "      <td>57081</td>\n",
       "    </tr>\n",
       "    <tr>\n",
       "      <th>14</th>\n",
       "      <td>4.5</td>\n",
       "      <td>61111</td>\n",
       "    </tr>\n",
       "    <tr>\n",
       "      <th>15</th>\n",
       "      <td>4.9</td>\n",
       "      <td>67938</td>\n",
       "    </tr>\n",
       "    <tr>\n",
       "      <th>16</th>\n",
       "      <td>5.1</td>\n",
       "      <td>66029</td>\n",
       "    </tr>\n",
       "    <tr>\n",
       "      <th>17</th>\n",
       "      <td>5.3</td>\n",
       "      <td>83088</td>\n",
       "    </tr>\n",
       "    <tr>\n",
       "      <th>18</th>\n",
       "      <td>5.9</td>\n",
       "      <td>81363</td>\n",
       "    </tr>\n",
       "    <tr>\n",
       "      <th>19</th>\n",
       "      <td>6.0</td>\n",
       "      <td>93940</td>\n",
       "    </tr>\n",
       "    <tr>\n",
       "      <th>20</th>\n",
       "      <td>6.8</td>\n",
       "      <td>91738</td>\n",
       "    </tr>\n",
       "    <tr>\n",
       "      <th>21</th>\n",
       "      <td>7.1</td>\n",
       "      <td>98273</td>\n",
       "    </tr>\n",
       "    <tr>\n",
       "      <th>22</th>\n",
       "      <td>7.9</td>\n",
       "      <td>101302</td>\n",
       "    </tr>\n",
       "    <tr>\n",
       "      <th>23</th>\n",
       "      <td>8.2</td>\n",
       "      <td>113812</td>\n",
       "    </tr>\n",
       "    <tr>\n",
       "      <th>24</th>\n",
       "      <td>8.7</td>\n",
       "      <td>109431</td>\n",
       "    </tr>\n",
       "    <tr>\n",
       "      <th>25</th>\n",
       "      <td>9.0</td>\n",
       "      <td>105582</td>\n",
       "    </tr>\n",
       "    <tr>\n",
       "      <th>26</th>\n",
       "      <td>9.5</td>\n",
       "      <td>116969</td>\n",
       "    </tr>\n",
       "    <tr>\n",
       "      <th>27</th>\n",
       "      <td>9.6</td>\n",
       "      <td>112635</td>\n",
       "    </tr>\n",
       "    <tr>\n",
       "      <th>28</th>\n",
       "      <td>10.3</td>\n",
       "      <td>122391</td>\n",
       "    </tr>\n",
       "    <tr>\n",
       "      <th>29</th>\n",
       "      <td>10.5</td>\n",
       "      <td>121872</td>\n",
       "    </tr>\n",
       "    <tr>\n",
       "      <th>30</th>\n",
       "      <td>11.2</td>\n",
       "      <td>127345</td>\n",
       "    </tr>\n",
       "    <tr>\n",
       "      <th>31</th>\n",
       "      <td>11.5</td>\n",
       "      <td>126756</td>\n",
       "    </tr>\n",
       "    <tr>\n",
       "      <th>32</th>\n",
       "      <td>12.3</td>\n",
       "      <td>128765</td>\n",
       "    </tr>\n",
       "    <tr>\n",
       "      <th>33</th>\n",
       "      <td>12.9</td>\n",
       "      <td>135675</td>\n",
       "    </tr>\n",
       "    <tr>\n",
       "      <th>34</th>\n",
       "      <td>13.5</td>\n",
       "      <td>139465</td>\n",
       "    </tr>\n",
       "  </tbody>\n",
       "</table>\n",
       "</div>"
      ],
      "text/plain": [
       "    YearsExperience  Salary\n",
       "0               1.1   39343\n",
       "1               1.3   46205\n",
       "2               1.5   37731\n",
       "3               2.0   43525\n",
       "4               2.2   39891\n",
       "5               2.9   56642\n",
       "6               3.0   60150\n",
       "7               3.2   54445\n",
       "8               3.2   64445\n",
       "9               3.7   57189\n",
       "10              3.9   63218\n",
       "11              4.0   55794\n",
       "12              4.0   56957\n",
       "13              4.1   57081\n",
       "14              4.5   61111\n",
       "15              4.9   67938\n",
       "16              5.1   66029\n",
       "17              5.3   83088\n",
       "18              5.9   81363\n",
       "19              6.0   93940\n",
       "20              6.8   91738\n",
       "21              7.1   98273\n",
       "22              7.9  101302\n",
       "23              8.2  113812\n",
       "24              8.7  109431\n",
       "25              9.0  105582\n",
       "26              9.5  116969\n",
       "27              9.6  112635\n",
       "28             10.3  122391\n",
       "29             10.5  121872\n",
       "30             11.2  127345\n",
       "31             11.5  126756\n",
       "32             12.3  128765\n",
       "33             12.9  135675\n",
       "34             13.5  139465"
      ]
     },
     "execution_count": 13,
     "metadata": {},
     "output_type": "execute_result"
    }
   ],
   "source": [
    "salary_df"
   ]
  },
  {
   "cell_type": "markdown",
   "metadata": {},
   "source": [
    "MINI CHALLENGE\n",
    " - Use head and tail methods to print the first and last 7 rows of the dataframe\n",
    " - Try to find the maximum salary value in the dataframe "
   ]
  },
  {
   "cell_type": "code",
   "execution_count": 14,
   "metadata": {},
   "outputs": [
    {
     "name": "stdout",
     "output_type": "stream",
     "text": [
      "head:    YearsExperience  Salary\n",
      "0              1.1   39343\n",
      "1              1.3   46205\n",
      "2              1.5   37731\n",
      "3              2.0   43525\n",
      "4              2.2   39891\n",
      "tail:     YearsExperience  Salary\n",
      "30             11.2  127345\n",
      "31             11.5  126756\n",
      "32             12.3  128765\n",
      "33             12.9  135675\n",
      "34             13.5  139465\n",
      "salary max: 139465\n"
     ]
    }
   ],
   "source": [
    "print(f'head: {salary_df.head()}')\n",
    "print(f'tail: {salary_df.tail()}')\n",
    "print(f\"salary max: {salary_df['Salary'].max()}\")"
   ]
  },
  {
   "cell_type": "markdown",
   "metadata": {
    "colab_type": "text",
    "id": "tMcr7xqMQre2"
   },
   "source": [
    "# TASK #3: PERFORM EXPLORATORY DATA ANALYSIS AND VISUALIZATION"
   ]
  },
  {
   "cell_type": "code",
   "execution_count": 15,
   "metadata": {},
   "outputs": [
    {
     "data": {
      "text/plain": [
       "<AxesSubplot:>"
      ]
     },
     "execution_count": 15,
     "metadata": {},
     "output_type": "execute_result"
    },
    {
     "data": {
      "image/png": "[encoded data removed]",
      "text/plain": [
       "<Figure size 432x288 with 1 Axes>"
      ]
     },
     "metadata": {
      "needs_background": "light"
     },
     "output_type": "display_data"
    }
   ],
   "source": [
    "# check if there are any Null values\n",
    "sns.heatmap(salary_df.isnull(), yticklabels = False, cbar = False, cmap=\"Blues\")\n"
   ]
  },
  {
   "cell_type": "code",
   "execution_count": 16,
   "metadata": {
    "colab": {
     "base_uri": "https://localhost:8080/",
     "height": 272
    },
    "colab_type": "code",
    "id": "hMq3-KWOx0e1",
    "outputId": "22a5b184-1f07-46ef-dfc1-f8377fd7042f",
    "scrolled": true
   },
   "outputs": [
    {
     "name": "stdout",
     "output_type": "stream",
     "text": [
      "<class 'pandas.core.frame.DataFrame'>\n",
      "RangeIndex: 35 entries, 0 to 34\n",
      "Data columns (total 2 columns):\n",
      " #   Column           Non-Null Count  Dtype  \n",
      "---  ------           --------------  -----  \n",
      " 0   YearsExperience  35 non-null     float64\n",
      " 1   Salary           35 non-null     int64  \n",
      "dtypes: float64(1), int64(1)\n",
      "memory usage: 688.0 bytes\n"
     ]
    }
   ],
   "source": [
    "# Check the dataframe info\n",
    "\n",
    "salary_df.info()"
   ]
  },
  {
   "cell_type": "code",
   "execution_count": 17,
   "metadata": {
    "colab": {
     "base_uri": "https://localhost:8080/",
     "height": 297
    },
    "colab_type": "code",
    "id": "Nn1Oxk2SzPX3",
    "outputId": "95f0265a-5e75-4a32-d771-4b3d15850c3c"
   },
   "outputs": [
    {
     "data": {
      "text/html": [
       "<div>\n",
       "<style scoped>\n",
       "    .dataframe tbody tr th:only-of-type {\n",
       "        vertical-align: middle;\n",
       "    }\n",
       "\n",
       "    .dataframe tbody tr th {\n",
       "        vertical-align: top;\n",
       "    }\n",
       "\n",
       "    .dataframe thead th {\n",
       "        text-align: right;\n",
       "    }\n",
       "</style>\n",
       "<table border=\"1\" class=\"dataframe\">\n",
       "  <thead>\n",
       "    <tr style=\"text-align: right;\">\n",
       "      <th></th>\n",
       "      <th>YearsExperience</th>\n",
       "      <th>Salary</th>\n",
       "    </tr>\n",
       "  </thead>\n",
       "  <tbody>\n",
       "    <tr>\n",
       "      <th>count</th>\n",
       "      <td>35.000000</td>\n",
       "      <td>35.000000</td>\n",
       "    </tr>\n",
       "    <tr>\n",
       "      <th>mean</th>\n",
       "      <td>6.308571</td>\n",
       "      <td>83945.600000</td>\n",
       "    </tr>\n",
       "    <tr>\n",
       "      <th>std</th>\n",
       "      <td>3.618610</td>\n",
       "      <td>32162.673003</td>\n",
       "    </tr>\n",
       "    <tr>\n",
       "      <th>min</th>\n",
       "      <td>1.100000</td>\n",
       "      <td>37731.000000</td>\n",
       "    </tr>\n",
       "    <tr>\n",
       "      <th>25%</th>\n",
       "      <td>3.450000</td>\n",
       "      <td>57019.000000</td>\n",
       "    </tr>\n",
       "    <tr>\n",
       "      <th>50%</th>\n",
       "      <td>5.300000</td>\n",
       "      <td>81363.000000</td>\n",
       "    </tr>\n",
       "    <tr>\n",
       "      <th>75%</th>\n",
       "      <td>9.250000</td>\n",
       "      <td>113223.500000</td>\n",
       "    </tr>\n",
       "    <tr>\n",
       "      <th>max</th>\n",
       "      <td>13.500000</td>\n",
       "      <td>139465.000000</td>\n",
       "    </tr>\n",
       "  </tbody>\n",
       "</table>\n",
       "</div>"
      ],
      "text/plain": [
       "       YearsExperience         Salary\n",
       "count        35.000000      35.000000\n",
       "mean          6.308571   83945.600000\n",
       "std           3.618610   32162.673003\n",
       "min           1.100000   37731.000000\n",
       "25%           3.450000   57019.000000\n",
       "50%           5.300000   81363.000000\n",
       "75%           9.250000  113223.500000\n",
       "max          13.500000  139465.000000"
      ]
     },
     "execution_count": 17,
     "metadata": {},
     "output_type": "execute_result"
    }
   ],
   "source": [
    "# Statistical summary of the dataframe\n",
    "\n",
    "salary_df.describe()"
   ]
  },
  {
   "cell_type": "markdown",
   "metadata": {},
   "source": [
    "MINI CHALLENGE\n",
    " - What are the number of years of experience corresponding to employees with minimum and maximim salaries?"
   ]
  },
  {
   "cell_type": "code",
   "execution_count": 19,
   "metadata": {},
   "outputs": [
    {
     "name": "stdout",
     "output_type": "stream",
     "text": [
      "years of experience with highest salary: 34    13.5\n",
      "Name: YearsExperience, dtype: float64\n",
      "years of experience with lowest salary: 2    1.5\n",
      "Name: YearsExperience, dtype: float64\n"
     ]
    }
   ],
   "source": [
    "print(f\"years of experience with highest salary: {salary_df['YearsExperience'][salary_df['Salary']==salary_df['Salary'].max()]}\")\n",
    "print(f\"years of experience with lowest salary: {salary_df['YearsExperience'][salary_df['Salary']==salary_df['Salary'].min()]}\")"
   ]
  },
  {
   "cell_type": "code",
   "execution_count": 20,
   "metadata": {},
   "outputs": [
    {
     "data": {
      "text/plain": [
       "array([[<AxesSubplot:title={'center':'YearsExperience'}>,\n",
       "        <AxesSubplot:title={'center':'Salary'}>]], dtype=object)"
      ]
     },
     "execution_count": 20,
     "metadata": {},
     "output_type": "execute_result"
    },
    {
     "data": {
      "image/png": "[encoded data removed]",
      "text/plain": [
       "<Figure size 1440x720 with 2 Axes>"
      ]
     },
     "metadata": {
      "needs_background": "light"
     },
     "output_type": "display_data"
    }
   ],
   "source": [
    "salary_df.hist(bins = 30, figsize = (20,10), color = 'r')\n"
   ]
  },
  {
   "cell_type": "code",
   "execution_count": 21,
   "metadata": {
    "colab": {
     "base_uri": "https://localhost:8080/",
     "height": 1000
    },
    "colab_type": "code",
    "id": "Ka9uFRXSkWHw",
    "outputId": "f42a681e-93d4-4b1f-a29c-f58fc8a6f974"
   },
   "outputs": [
    {
     "data": {
      "text/plain": [
       "<seaborn.axisgrid.PairGrid at 0x7f582d7a16a0>"
      ]
     },
     "execution_count": 21,
     "metadata": {},
     "output_type": "execute_result"
    },
    {
     "data": {
      "image/png": "[encoded data removed]",
      "text/plain": [
       "<Figure size 360x360 with 6 Axes>"
      ]
     },
     "metadata": {
      "needs_background": "light"
     },
     "output_type": "display_data"
    }
   ],
   "source": [
    "# plot pairplot\n",
    "\n",
    "sns.pairplot(salary_df)"
   ]
  },
  {
   "cell_type": "code",
   "execution_count": 9,
   "metadata": {
    "colab": {
     "base_uri": "https://localhost:8080/",
     "height": 297
    },
    "colab_type": "code",
    "id": "9q-tFxvskWDa",
    "outputId": "8834e9ec-7676-4e86-c5e7-20f4e9eccbcb"
   },
   "outputs": [
    {
     "data": {
      "image/png": "[encoded data removed]",
      "text/plain": [
       "<Figure size 432x288 with 2 Axes>"
      ]
     },
     "metadata": {
      "needs_background": "light"
     },
     "output_type": "display_data"
    }
   ],
   "source": [
    "corr_matrix = salary_df.corr()\n",
    "sns.heatmap(corr_matrix, annot = True)\n",
    "plt.show()"
   ]
  },
  {
   "cell_type": "markdown",
   "metadata": {},
   "source": [
    "MINI CHALLENGE\n",
    "- Use regplot in Seaborn to obtain a straight line fit between \"salary\" and \"years of experience\""
   ]
  },
  {
   "cell_type": "code",
   "execution_count": 22,
   "metadata": {},
   "outputs": [
    {
     "data": {
      "text/plain": [
       "<AxesSubplot:xlabel='Salary', ylabel='YearsExperience'>"
      ]
     },
     "execution_count": 22,
     "metadata": {},
     "output_type": "execute_result"
    },
    {
     "data": {
      "image/png": "[encoded data removed]",
      "text/plain": [
       "<Figure size 432x288 with 1 Axes>"
      ]
     },
     "metadata": {
      "needs_background": "light"
     },
     "output_type": "display_data"
    }
   ],
   "source": [
    "sns.regplot(data=salary_df, x='Salary', y='YearsExperience')"
   ]
  },
  {
   "cell_type": "markdown",
   "metadata": {
    "colab_type": "text",
    "id": "53qDZFRn3-S1"
   },
   "source": [
    "# TASK #4: CREATE TRAINING AND TESTING DATASET"
   ]
  },
  {
   "cell_type": "code",
   "execution_count": 23,
   "metadata": {
    "colab": {},
    "colab_type": "code",
    "id": "4OXZB2F21e4H"
   },
   "outputs": [],
   "source": [
    "X = salary_df[['YearsExperience']]\n",
    "y = salary_df[['Salary']]\n"
   ]
  },
  {
   "cell_type": "code",
   "execution_count": 24,
   "metadata": {
    "scrolled": true
   },
   "outputs": [
    {
     "data": {
      "text/html": [
       "<div>\n",
       "<style scoped>\n",
       "    .dataframe tbody tr th:only-of-type {\n",
       "        vertical-align: middle;\n",
       "    }\n",
       "\n",
       "    .dataframe tbody tr th {\n",
       "        vertical-align: top;\n",
       "    }\n",
       "\n",
       "    .dataframe thead th {\n",
       "        text-align: right;\n",
       "    }\n",
       "</style>\n",
       "<table border=\"1\" class=\"dataframe\">\n",
       "  <thead>\n",
       "    <tr style=\"text-align: right;\">\n",
       "      <th></th>\n",
       "      <th>YearsExperience</th>\n",
       "    </tr>\n",
       "  </thead>\n",
       "  <tbody>\n",
       "    <tr>\n",
       "      <th>0</th>\n",
       "      <td>1.1</td>\n",
       "    </tr>\n",
       "    <tr>\n",
       "      <th>1</th>\n",
       "      <td>1.3</td>\n",
       "    </tr>\n",
       "    <tr>\n",
       "      <th>2</th>\n",
       "      <td>1.5</td>\n",
       "    </tr>\n",
       "    <tr>\n",
       "      <th>3</th>\n",
       "      <td>2.0</td>\n",
       "    </tr>\n",
       "    <tr>\n",
       "      <th>4</th>\n",
       "      <td>2.2</td>\n",
       "    </tr>\n",
       "    <tr>\n",
       "      <th>5</th>\n",
       "      <td>2.9</td>\n",
       "    </tr>\n",
       "    <tr>\n",
       "      <th>6</th>\n",
       "      <td>3.0</td>\n",
       "    </tr>\n",
       "    <tr>\n",
       "      <th>7</th>\n",
       "      <td>3.2</td>\n",
       "    </tr>\n",
       "    <tr>\n",
       "      <th>8</th>\n",
       "      <td>3.2</td>\n",
       "    </tr>\n",
       "    <tr>\n",
       "      <th>9</th>\n",
       "      <td>3.7</td>\n",
       "    </tr>\n",
       "    <tr>\n",
       "      <th>10</th>\n",
       "      <td>3.9</td>\n",
       "    </tr>\n",
       "    <tr>\n",
       "      <th>11</th>\n",
       "      <td>4.0</td>\n",
       "    </tr>\n",
       "    <tr>\n",
       "      <th>12</th>\n",
       "      <td>4.0</td>\n",
       "    </tr>\n",
       "    <tr>\n",
       "      <th>13</th>\n",
       "      <td>4.1</td>\n",
       "    </tr>\n",
       "    <tr>\n",
       "      <th>14</th>\n",
       "      <td>4.5</td>\n",
       "    </tr>\n",
       "    <tr>\n",
       "      <th>15</th>\n",
       "      <td>4.9</td>\n",
       "    </tr>\n",
       "    <tr>\n",
       "      <th>16</th>\n",
       "      <td>5.1</td>\n",
       "    </tr>\n",
       "    <tr>\n",
       "      <th>17</th>\n",
       "      <td>5.3</td>\n",
       "    </tr>\n",
       "    <tr>\n",
       "      <th>18</th>\n",
       "      <td>5.9</td>\n",
       "    </tr>\n",
       "    <tr>\n",
       "      <th>19</th>\n",
       "      <td>6.0</td>\n",
       "    </tr>\n",
       "    <tr>\n",
       "      <th>20</th>\n",
       "      <td>6.8</td>\n",
       "    </tr>\n",
       "    <tr>\n",
       "      <th>21</th>\n",
       "      <td>7.1</td>\n",
       "    </tr>\n",
       "    <tr>\n",
       "      <th>22</th>\n",
       "      <td>7.9</td>\n",
       "    </tr>\n",
       "    <tr>\n",
       "      <th>23</th>\n",
       "      <td>8.2</td>\n",
       "    </tr>\n",
       "    <tr>\n",
       "      <th>24</th>\n",
       "      <td>8.7</td>\n",
       "    </tr>\n",
       "    <tr>\n",
       "      <th>25</th>\n",
       "      <td>9.0</td>\n",
       "    </tr>\n",
       "    <tr>\n",
       "      <th>26</th>\n",
       "      <td>9.5</td>\n",
       "    </tr>\n",
       "    <tr>\n",
       "      <th>27</th>\n",
       "      <td>9.6</td>\n",
       "    </tr>\n",
       "    <tr>\n",
       "      <th>28</th>\n",
       "      <td>10.3</td>\n",
       "    </tr>\n",
       "    <tr>\n",
       "      <th>29</th>\n",
       "      <td>10.5</td>\n",
       "    </tr>\n",
       "    <tr>\n",
       "      <th>30</th>\n",
       "      <td>11.2</td>\n",
       "    </tr>\n",
       "    <tr>\n",
       "      <th>31</th>\n",
       "      <td>11.5</td>\n",
       "    </tr>\n",
       "    <tr>\n",
       "      <th>32</th>\n",
       "      <td>12.3</td>\n",
       "    </tr>\n",
       "    <tr>\n",
       "      <th>33</th>\n",
       "      <td>12.9</td>\n",
       "    </tr>\n",
       "    <tr>\n",
       "      <th>34</th>\n",
       "      <td>13.5</td>\n",
       "    </tr>\n",
       "  </tbody>\n",
       "</table>\n",
       "</div>"
      ],
      "text/plain": [
       "    YearsExperience\n",
       "0               1.1\n",
       "1               1.3\n",
       "2               1.5\n",
       "3               2.0\n",
       "4               2.2\n",
       "5               2.9\n",
       "6               3.0\n",
       "7               3.2\n",
       "8               3.2\n",
       "9               3.7\n",
       "10              3.9\n",
       "11              4.0\n",
       "12              4.0\n",
       "13              4.1\n",
       "14              4.5\n",
       "15              4.9\n",
       "16              5.1\n",
       "17              5.3\n",
       "18              5.9\n",
       "19              6.0\n",
       "20              6.8\n",
       "21              7.1\n",
       "22              7.9\n",
       "23              8.2\n",
       "24              8.7\n",
       "25              9.0\n",
       "26              9.5\n",
       "27              9.6\n",
       "28             10.3\n",
       "29             10.5\n",
       "30             11.2\n",
       "31             11.5\n",
       "32             12.3\n",
       "33             12.9\n",
       "34             13.5"
      ]
     },
     "execution_count": 24,
     "metadata": {},
     "output_type": "execute_result"
    }
   ],
   "source": [
    "X"
   ]
  },
  {
   "cell_type": "code",
   "execution_count": 25,
   "metadata": {},
   "outputs": [
    {
     "data": {
      "text/html": [
       "<div>\n",
       "<style scoped>\n",
       "    .dataframe tbody tr th:only-of-type {\n",
       "        vertical-align: middle;\n",
       "    }\n",
       "\n",
       "    .dataframe tbody tr th {\n",
       "        vertical-align: top;\n",
       "    }\n",
       "\n",
       "    .dataframe thead th {\n",
       "        text-align: right;\n",
       "    }\n",
       "</style>\n",
       "<table border=\"1\" class=\"dataframe\">\n",
       "  <thead>\n",
       "    <tr style=\"text-align: right;\">\n",
       "      <th></th>\n",
       "      <th>Salary</th>\n",
       "    </tr>\n",
       "  </thead>\n",
       "  <tbody>\n",
       "    <tr>\n",
       "      <th>0</th>\n",
       "      <td>39343</td>\n",
       "    </tr>\n",
       "    <tr>\n",
       "      <th>1</th>\n",
       "      <td>46205</td>\n",
       "    </tr>\n",
       "    <tr>\n",
       "      <th>2</th>\n",
       "      <td>37731</td>\n",
       "    </tr>\n",
       "    <tr>\n",
       "      <th>3</th>\n",
       "      <td>43525</td>\n",
       "    </tr>\n",
       "    <tr>\n",
       "      <th>4</th>\n",
       "      <td>39891</td>\n",
       "    </tr>\n",
       "    <tr>\n",
       "      <th>5</th>\n",
       "      <td>56642</td>\n",
       "    </tr>\n",
       "    <tr>\n",
       "      <th>6</th>\n",
       "      <td>60150</td>\n",
       "    </tr>\n",
       "    <tr>\n",
       "      <th>7</th>\n",
       "      <td>54445</td>\n",
       "    </tr>\n",
       "    <tr>\n",
       "      <th>8</th>\n",
       "      <td>64445</td>\n",
       "    </tr>\n",
       "    <tr>\n",
       "      <th>9</th>\n",
       "      <td>57189</td>\n",
       "    </tr>\n",
       "    <tr>\n",
       "      <th>10</th>\n",
       "      <td>63218</td>\n",
       "    </tr>\n",
       "    <tr>\n",
       "      <th>11</th>\n",
       "      <td>55794</td>\n",
       "    </tr>\n",
       "    <tr>\n",
       "      <th>12</th>\n",
       "      <td>56957</td>\n",
       "    </tr>\n",
       "    <tr>\n",
       "      <th>13</th>\n",
       "      <td>57081</td>\n",
       "    </tr>\n",
       "    <tr>\n",
       "      <th>14</th>\n",
       "      <td>61111</td>\n",
       "    </tr>\n",
       "    <tr>\n",
       "      <th>15</th>\n",
       "      <td>67938</td>\n",
       "    </tr>\n",
       "    <tr>\n",
       "      <th>16</th>\n",
       "      <td>66029</td>\n",
       "    </tr>\n",
       "    <tr>\n",
       "      <th>17</th>\n",
       "      <td>83088</td>\n",
       "    </tr>\n",
       "    <tr>\n",
       "      <th>18</th>\n",
       "      <td>81363</td>\n",
       "    </tr>\n",
       "    <tr>\n",
       "      <th>19</th>\n",
       "      <td>93940</td>\n",
       "    </tr>\n",
       "    <tr>\n",
       "      <th>20</th>\n",
       "      <td>91738</td>\n",
       "    </tr>\n",
       "    <tr>\n",
       "      <th>21</th>\n",
       "      <td>98273</td>\n",
       "    </tr>\n",
       "    <tr>\n",
       "      <th>22</th>\n",
       "      <td>101302</td>\n",
       "    </tr>\n",
       "    <tr>\n",
       "      <th>23</th>\n",
       "      <td>113812</td>\n",
       "    </tr>\n",
       "    <tr>\n",
       "      <th>24</th>\n",
       "      <td>109431</td>\n",
       "    </tr>\n",
       "    <tr>\n",
       "      <th>25</th>\n",
       "      <td>105582</td>\n",
       "    </tr>\n",
       "    <tr>\n",
       "      <th>26</th>\n",
       "      <td>116969</td>\n",
       "    </tr>\n",
       "    <tr>\n",
       "      <th>27</th>\n",
       "      <td>112635</td>\n",
       "    </tr>\n",
       "    <tr>\n",
       "      <th>28</th>\n",
       "      <td>122391</td>\n",
       "    </tr>\n",
       "    <tr>\n",
       "      <th>29</th>\n",
       "      <td>121872</td>\n",
       "    </tr>\n",
       "    <tr>\n",
       "      <th>30</th>\n",
       "      <td>127345</td>\n",
       "    </tr>\n",
       "    <tr>\n",
       "      <th>31</th>\n",
       "      <td>126756</td>\n",
       "    </tr>\n",
       "    <tr>\n",
       "      <th>32</th>\n",
       "      <td>128765</td>\n",
       "    </tr>\n",
       "    <tr>\n",
       "      <th>33</th>\n",
       "      <td>135675</td>\n",
       "    </tr>\n",
       "    <tr>\n",
       "      <th>34</th>\n",
       "      <td>139465</td>\n",
       "    </tr>\n",
       "  </tbody>\n",
       "</table>\n",
       "</div>"
      ],
      "text/plain": [
       "    Salary\n",
       "0    39343\n",
       "1    46205\n",
       "2    37731\n",
       "3    43525\n",
       "4    39891\n",
       "5    56642\n",
       "6    60150\n",
       "7    54445\n",
       "8    64445\n",
       "9    57189\n",
       "10   63218\n",
       "11   55794\n",
       "12   56957\n",
       "13   57081\n",
       "14   61111\n",
       "15   67938\n",
       "16   66029\n",
       "17   83088\n",
       "18   81363\n",
       "19   93940\n",
       "20   91738\n",
       "21   98273\n",
       "22  101302\n",
       "23  113812\n",
       "24  109431\n",
       "25  105582\n",
       "26  116969\n",
       "27  112635\n",
       "28  122391\n",
       "29  121872\n",
       "30  127345\n",
       "31  126756\n",
       "32  128765\n",
       "33  135675\n",
       "34  139465"
      ]
     },
     "execution_count": 25,
     "metadata": {},
     "output_type": "execute_result"
    }
   ],
   "source": [
    "y"
   ]
  },
  {
   "cell_type": "code",
   "execution_count": 26,
   "metadata": {
    "colab": {
     "base_uri": "https://localhost:8080/",
     "height": 34
    },
    "colab_type": "code",
    "id": "XpGU63Ne1e9P",
    "outputId": "e16c74ca-dc1c-416c-dc44-7f927bb99bc6"
   },
   "outputs": [
    {
     "data": {
      "text/plain": [
       "(35, 1)"
      ]
     },
     "execution_count": 26,
     "metadata": {},
     "output_type": "execute_result"
    }
   ],
   "source": [
    "X.shape"
   ]
  },
  {
   "cell_type": "code",
   "execution_count": 27,
   "metadata": {
    "colab": {
     "base_uri": "https://localhost:8080/",
     "height": 34
    },
    "colab_type": "code",
    "id": "OjGj0RALA0qZ",
    "outputId": "26559a6c-880b-45b4-a1e8-3c4b92bea889"
   },
   "outputs": [
    {
     "data": {
      "text/plain": [
       "(35, 1)"
      ]
     },
     "execution_count": 27,
     "metadata": {},
     "output_type": "execute_result"
    }
   ],
   "source": [
    "y.shape"
   ]
  },
  {
   "cell_type": "code",
   "execution_count": 28,
   "metadata": {
    "colab": {},
    "colab_type": "code",
    "id": "jIeiK1maA6mm"
   },
   "outputs": [],
   "source": [
    "X = np.array(X).astype('float32')\n",
    "y = np.array(y).astype('float32')"
   ]
  },
  {
   "cell_type": "code",
   "execution_count": 29,
   "metadata": {},
   "outputs": [
    {
     "data": {
      "text/plain": [
       "array([[ 1.1],\n",
       "       [ 1.3],\n",
       "       [ 1.5],\n",
       "       [ 2. ],\n",
       "       [ 2.2],\n",
       "       [ 2.9],\n",
       "       [ 3. ],\n",
       "       [ 3.2],\n",
       "       [ 3.2],\n",
       "       [ 3.7],\n",
       "       [ 3.9],\n",
       "       [ 4. ],\n",
       "       [ 4. ],\n",
       "       [ 4.1],\n",
       "       [ 4.5],\n",
       "       [ 4.9],\n",
       "       [ 5.1],\n",
       "       [ 5.3],\n",
       "       [ 5.9],\n",
       "       [ 6. ],\n",
       "       [ 6.8],\n",
       "       [ 7.1],\n",
       "       [ 7.9],\n",
       "       [ 8.2],\n",
       "       [ 8.7],\n",
       "       [ 9. ],\n",
       "       [ 9.5],\n",
       "       [ 9.6],\n",
       "       [10.3],\n",
       "       [10.5],\n",
       "       [11.2],\n",
       "       [11.5],\n",
       "       [12.3],\n",
       "       [12.9],\n",
       "       [13.5]], dtype=float32)"
      ]
     },
     "execution_count": 29,
     "metadata": {},
     "output_type": "execute_result"
    }
   ],
   "source": [
    "# Only take the numerical variables and scale them\n",
    "X "
   ]
  },
  {
   "cell_type": "code",
   "execution_count": 30,
   "metadata": {
    "colab": {},
    "colab_type": "code",
    "id": "GoReLFfnA6uF"
   },
   "outputs": [],
   "source": [
    "# split the data into test and train sets\n",
    "from sklearn.model_selection import train_test_split\n",
    "\n",
    "X_train, X_test, y_train, y_test = train_test_split(X, y, test_size = 0.2)\n"
   ]
  },
  {
   "cell_type": "markdown",
   "metadata": {},
   "source": [
    "MINI CHALLENGE\n",
    " - Try splitting the data into 75% for training and the rest for testing\n",
    " - Verify that the split was successful by obtaining the shape of both X_train and X_test\n",
    " - Did you notice any change in the order of the data? why?"
   ]
  },
  {
   "cell_type": "code",
   "execution_count": 31,
   "metadata": {},
   "outputs": [
    {
     "name": "stdout",
     "output_type": "stream",
     "text": [
      "training size: (26, 1)\n",
      "test size: (9, 1)\n"
     ]
    }
   ],
   "source": [
    "X_train, X_test, y_train, y_test = train_test_split(X, y, test_size = 0.25)\n",
    "print(f'training size: {X_train.shape}')\n",
    "print(f'test size: {X_test.shape}')"
   ]
  },
  {
   "cell_type": "markdown",
   "metadata": {
    "colab_type": "text",
    "id": "idWHLv5alF4C"
   },
   "source": [
    "# TASK #5: TRAIN A LINEAR REGRESSION MODEL IN SK-LEARN (NOTE THAT SAGEMAKER BUILT-IN ALGORITHMS ARE NOT USED HERE)"
   ]
  },
  {
   "cell_type": "code",
   "execution_count": 32,
   "metadata": {
    "colab": {
     "base_uri": "https://localhost:8080/",
     "height": 34
    },
    "colab_type": "code",
    "id": "yHL-6mKwBURs",
    "outputId": "10d71b6d-9c2b-4bab-8b27-d3c5883e6a25"
   },
   "outputs": [
    {
     "data": {
      "text/plain": [
       "LinearRegression()"
      ]
     },
     "execution_count": 32,
     "metadata": {},
     "output_type": "execute_result"
    }
   ],
   "source": [
    "# using linear regression model\n",
    "from sklearn.linear_model import LinearRegression\n",
    "from sklearn.metrics import mean_squared_error, accuracy_score\n",
    "\n",
    "regresssion_model_sklearn = LinearRegression(fit_intercept = True)\n",
    "regresssion_model_sklearn.fit(X_train, y_train)\n"
   ]
  },
  {
   "cell_type": "code",
   "execution_count": 33,
   "metadata": {
    "colab": {
     "base_uri": "https://localhost:8080/",
     "height": 34
    },
    "colab_type": "code",
    "id": "elD8m5N0BgEY",
    "outputId": "16a1813d-a0f1-4d1f-dc02-d7ad5a445417"
   },
   "outputs": [
    {
     "data": {
      "text/plain": [
       "0.9608727489074884"
      ]
     },
     "execution_count": 33,
     "metadata": {},
     "output_type": "execute_result"
    }
   ],
   "source": [
    "regresssion_model_sklearn_accuracy = regresssion_model_sklearn.score(X_test, y_test)\n",
    "regresssion_model_sklearn_accuracy"
   ]
  },
  {
   "cell_type": "code",
   "execution_count": 34,
   "metadata": {},
   "outputs": [
    {
     "name": "stdout",
     "output_type": "stream",
     "text": [
      "Linear Model Coefficient (m):  [[8790.033]]\n",
      "Linear Model Coefficient (b):  [28572.434]\n"
     ]
    }
   ],
   "source": [
    "print('Linear Model Coefficient (m): ', regresssion_model_sklearn.coef_)\n",
    "print('Linear Model Coefficient (b): ', regresssion_model_sklearn.intercept_)"
   ]
  },
  {
   "cell_type": "markdown",
   "metadata": {},
   "source": [
    "MINI CHALLENGE\n",
    "- Retrain the model while setting the fit_intercept = False, what do you notice?"
   ]
  },
  {
   "cell_type": "code",
   "execution_count": 35,
   "metadata": {},
   "outputs": [
    {
     "data": {
      "text/plain": [
       "LinearRegression(fit_intercept=False)"
      ]
     },
     "execution_count": 35,
     "metadata": {},
     "output_type": "execute_result"
    }
   ],
   "source": [
    "reg_model_sk = LinearRegression(fit_intercept=False)\n",
    "reg_model_sk.fit(X_train, y_train)"
   ]
  },
  {
   "cell_type": "code",
   "execution_count": 36,
   "metadata": {},
   "outputs": [
    {
     "data": {
      "text/plain": [
       "0.6331763274374673"
      ]
     },
     "execution_count": 36,
     "metadata": {},
     "output_type": "execute_result"
    }
   ],
   "source": [
    "reg_model_sk_accuracy = reg_model_sk.score(X_test, y_test)\n",
    "reg_model_sk_accuracy"
   ]
  },
  {
   "cell_type": "code",
   "execution_count": 37,
   "metadata": {},
   "outputs": [
    {
     "name": "stdout",
     "output_type": "stream",
     "text": [
      "Linear Model Coefficient (m):  [[12106.258]]\n",
      "Linear Model Coefficient (b):  0.0\n"
     ]
    }
   ],
   "source": [
    "print('Linear Model Coefficient (m): ', reg_model_sk.coef_)\n",
    "print('Linear Model Coefficient (b): ', reg_model_sk.intercept_)"
   ]
  },
  {
   "cell_type": "markdown",
   "metadata": {},
   "source": [
    "# TASK #6: EVALUATE TRAINED MODEL PERFORMANCE (NOTE THAT SAGEMAKER BUILT-IN ALGORITHMS ARE NOT USED HERE)"
   ]
  },
  {
   "cell_type": "code",
   "execution_count": 38,
   "metadata": {},
   "outputs": [],
   "source": [
    "y_predict = regresssion_model_sklearn.predict(X_test)"
   ]
  },
  {
   "cell_type": "code",
   "execution_count": 39,
   "metadata": {
    "scrolled": true
   },
   "outputs": [
    {
     "data": {
      "text/plain": [
       "array([[ 56700.54 ],\n",
       "       [ 54063.53 ],\n",
       "       [ 61095.555],\n",
       "       [ 54942.53 ],\n",
       "       [141963.86 ],\n",
       "       [ 88344.66 ],\n",
       "       [ 98013.7  ],\n",
       "       [ 47910.508],\n",
       "       [ 63732.566]], dtype=float32)"
      ]
     },
     "execution_count": 39,
     "metadata": {},
     "output_type": "execute_result"
    }
   ],
   "source": [
    "y_predict"
   ]
  },
  {
   "cell_type": "code",
   "execution_count": 40,
   "metadata": {},
   "outputs": [
    {
     "data": {
      "text/plain": [
       "Text(0.5, 1.0, 'Salary vs. Years of Experience')"
      ]
     },
     "execution_count": 40,
     "metadata": {},
     "output_type": "execute_result"
    },
    {
     "data": {
      "image/png": "[encoded data removed]",
      "text/plain": [
       "<Figure size 432x288 with 1 Axes>"
      ]
     },
     "metadata": {
      "needs_background": "light"
     },
     "output_type": "display_data"
    }
   ],
   "source": [
    "plt.scatter(X_train, y_train, color = 'gray')\n",
    "plt.plot(X_train, regresssion_model_sklearn.predict(X_train), color = 'red')\n",
    "plt.ylabel('Salary')\n",
    "plt.xlabel('Number of Years of Experience')\n",
    "plt.title('Salary vs. Years of Experience')"
   ]
  },
  {
   "cell_type": "markdown",
   "metadata": {},
   "source": [
    "MINI CHALLENGE\n",
    " - Use the trained model, obtain the salary corresponding to eployees who have years of experience = 5"
   ]
  },
  {
   "cell_type": "code",
   "execution_count": 46,
   "metadata": {},
   "outputs": [
    {
     "name": "stdout",
     "output_type": "stream",
     "text": [
      "[[73401.60292969]]\n",
      "16    66029\n",
      "Name: Salary, dtype: int64\n"
     ]
    }
   ],
   "source": [
    "print(regresssion_model_sklearn.predict([[5.1]]))\n",
    "actual = salary_df['Salary'][salary_df['YearsExperience']==5.1]\n",
    "print(actual)"
   ]
  },
  {
   "cell_type": "markdown",
   "metadata": {},
   "source": [
    "# TASK #7: TRAIN A LINEAR LEARNER MODEL USING SAGEMAKER"
   ]
  },
  {
   "cell_type": "code",
   "execution_count": 47,
   "metadata": {},
   "outputs": [
    {
     "name": "stdout",
     "output_type": "stream",
     "text": [
      "arn:aws:iam::061476194899:role/service-role/AmazonSageMaker-ExecutionRole-20220911T144092\n"
     ]
    }
   ],
   "source": [
    "# Boto3 is the Amazon Web Services (AWS) Software Development Kit (SDK) for Python\n",
    "# Boto3 allows Python developer to write software that makes use of services like Amazon S3 and Amazon EC2\n",
    "\n",
    "import sagemaker\n",
    "import boto3\n",
    "from sagemaker import Session\n",
    "\n",
    "# Let's create a Sagemaker session\n",
    "sagemaker_session = sagemaker.Session()\n",
    "bucket = Session().default_bucket()\n",
    "# Let's define the S3 bucket and prefix that we want to use in this session\n",
    "bucket = 'sagemaker-udemy-case1' # bucket named 'sagemaker-udemy-case1' was created beforehand\n",
    "prefix = 'linear_learner' # prefix is the subfolder within the bucket.\n",
    "\n",
    "# Let's get the execution role for the notebook instance. \n",
    "# This is the IAM role that you created when you created your notebook instance. You pass the role to the training job.\n",
    "# Note that AWS Identity and Access Management (IAM) role that Amazon SageMaker can assume to perform tasks on your behalf (for example, reading training results, called model artifacts, from the S3 bucket and writing training results to Amazon S3). \n",
    "role = sagemaker.get_execution_role()\n",
    "print(role)"
   ]
  },
  {
   "cell_type": "code",
   "execution_count": 48,
   "metadata": {},
   "outputs": [
    {
     "data": {
      "text/plain": [
       "(26, 1)"
      ]
     },
     "execution_count": 48,
     "metadata": {},
     "output_type": "execute_result"
    }
   ],
   "source": [
    "X_train.shape"
   ]
  },
  {
   "cell_type": "code",
   "execution_count": 49,
   "metadata": {},
   "outputs": [],
   "source": [
    "y_train = y_train[:,0]"
   ]
  },
  {
   "cell_type": "code",
   "execution_count": 50,
   "metadata": {},
   "outputs": [
    {
     "data": {
      "text/plain": [
       "(26,)"
      ]
     },
     "execution_count": 50,
     "metadata": {},
     "output_type": "execute_result"
    }
   ],
   "source": [
    "y_train.shape"
   ]
  },
  {
   "cell_type": "code",
   "execution_count": 51,
   "metadata": {},
   "outputs": [
    {
     "data": {
      "text/plain": [
       "0"
      ]
     },
     "execution_count": 51,
     "metadata": {},
     "output_type": "execute_result"
    }
   ],
   "source": [
    "import io # The io module allows for dealing with various types of I/O (text I/O, binary I/O and raw I/O). \n",
    "import numpy as np\n",
    "import sagemaker.amazon.common as smac # sagemaker common libary\n",
    "\n",
    "# Code below converts the data in numpy array format to RecordIO format\n",
    "# This is the format required by Sagemaker Linear Learner \n",
    "\n",
    "buf = io.BytesIO() # create an in-memory byte array (buf is a buffer I will be writing to)\n",
    "smac.write_numpy_to_dense_tensor(buf, X_train, y_train)\n",
    "buf.seek(0) \n",
    "# When you write to in-memory byte arrays, it increments 1 every time you write to it\n",
    "# Let's reset that back to zero \n"
   ]
  },
  {
   "cell_type": "code",
   "execution_count": 52,
   "metadata": {},
   "outputs": [
    {
     "data": {
      "text/plain": [
       "<_io.BytesIO at 0x7f5825ac3f90>"
      ]
     },
     "execution_count": 52,
     "metadata": {},
     "output_type": "execute_result"
    }
   ],
   "source": [
    "buf"
   ]
  },
  {
   "cell_type": "code",
   "execution_count": 53,
   "metadata": {},
   "outputs": [
    {
     "name": "stdout",
     "output_type": "stream",
     "text": [
      "uploaded training data location: s3://sagemaker-udemy-case1/linear_learner/train/linear-train-data\n"
     ]
    }
   ],
   "source": [
    "import os\n",
    "\n",
    "# Code to upload RecordIO data to S3\n",
    " \n",
    "# Key refers to the name of the file    \n",
    "key = 'linear-train-data'\n",
    "\n",
    "# The following code uploads the data in record-io format to S3 bucket to be accessed later for training\n",
    "boto3.resource('s3').Bucket(bucket).Object(os.path.join(prefix, 'train', key)).upload_fileobj(buf)\n",
    "\n",
    "# Let's print out the training data location in s3\n",
    "s3_train_data = 's3://{}/{}/train/{}'.format(bucket, prefix, key)\n",
    "print('uploaded training data location: {}'.format(s3_train_data))"
   ]
  },
  {
   "cell_type": "code",
   "execution_count": 54,
   "metadata": {},
   "outputs": [
    {
     "data": {
      "text/plain": [
       "(9, 1)"
      ]
     },
     "execution_count": 54,
     "metadata": {},
     "output_type": "execute_result"
    }
   ],
   "source": [
    "X_test.shape"
   ]
  },
  {
   "cell_type": "code",
   "execution_count": 55,
   "metadata": {},
   "outputs": [
    {
     "data": {
      "text/plain": [
       "(9, 1)"
      ]
     },
     "execution_count": 55,
     "metadata": {},
     "output_type": "execute_result"
    }
   ],
   "source": [
    "y_test.shape"
   ]
  },
  {
   "cell_type": "code",
   "execution_count": 56,
   "metadata": {},
   "outputs": [],
   "source": [
    "# Make sure that the target label is a vector\n",
    "y_test = y_test[:,0]\n"
   ]
  },
  {
   "cell_type": "code",
   "execution_count": 57,
   "metadata": {},
   "outputs": [
    {
     "data": {
      "text/plain": [
       "0"
      ]
     },
     "execution_count": 57,
     "metadata": {},
     "output_type": "execute_result"
    }
   ],
   "source": [
    "# Code to upload RecordIO data to S3\n",
    "\n",
    "buf = io.BytesIO() # create an in-memory byte array (buf is a buffer I will be writing to)\n",
    "smac.write_numpy_to_dense_tensor(buf, X_test, y_test)\n",
    "buf.seek(0) \n",
    "# When you write to in-memory byte arrays, it increments 1 every time you write to it\n",
    "# Let's reset that back to zero \n"
   ]
  },
  {
   "cell_type": "code",
   "execution_count": 58,
   "metadata": {},
   "outputs": [
    {
     "name": "stdout",
     "output_type": "stream",
     "text": [
      "uploaded training data location: s3://sagemaker-udemy-case1/linear_learner/test/linear-test-data\n"
     ]
    }
   ],
   "source": [
    "# Key refers to the name of the file    \n",
    "key = 'linear-test-data'\n",
    "\n",
    "# The following code uploads the data in record-io format to S3 bucket to be accessed later for training\n",
    "boto3.resource('s3').Bucket(bucket).Object(os.path.join(prefix, 'test', key)).upload_fileobj(buf)\n",
    "\n",
    "# Let's print out the testing data location in s3\n",
    "s3_test_data = 's3://{}/{}/test/{}'.format(bucket, prefix, key)\n",
    "print('uploaded training data location: {}'.format(s3_test_data))"
   ]
  },
  {
   "cell_type": "code",
   "execution_count": 59,
   "metadata": {},
   "outputs": [
    {
     "name": "stdout",
     "output_type": "stream",
     "text": [
      "Training artifacts will be uploaded to: s3://sagemaker-udemy-case1/linear_learner/output\n"
     ]
    }
   ],
   "source": [
    "# create an output placeholder in S3 bucket to store the linear learner output\n",
    "\n",
    "output_location = 's3://{}/{}/output'.format(bucket, prefix)\n",
    "print('Training artifacts will be uploaded to: {}'.format(output_location))"
   ]
  },
  {
   "cell_type": "code",
   "execution_count": 60,
   "metadata": {},
   "outputs": [
    {
     "name": "stderr",
     "output_type": "stream",
     "text": [
      "The method get_image_uri has been renamed in sagemaker>=2.\n",
      "See: https://sagemaker.readthedocs.io/en/stable/v2.html for details.\n",
      "Defaulting to the only supported framework/algorithm version: 1. Ignoring framework/algorithm version: 1.\n"
     ]
    }
   ],
   "source": [
    "# This code is used to get the training container of sagemaker built-in algorithms\n",
    "# all we have to do is to specify the name of the algorithm, that we want to use\n",
    "\n",
    "# Let's obtain a reference to the linearLearner container image\n",
    "# Note that all regression models are named estimators\n",
    "# You don't have to specify (hardcode) the region, get_image_uri will get the current region name using boto3.Session\n",
    "\n",
    "from sagemaker.amazon.amazon_estimator import get_image_uri\n",
    "\n",
    "container = get_image_uri(boto3.Session().region_name, 'linear-learner')"
   ]
  },
  {
   "cell_type": "code",
   "execution_count": 63,
   "metadata": {},
   "outputs": [
    {
     "name": "stderr",
     "output_type": "stream",
     "text": [
      "train_instance_count has been renamed in sagemaker>=2.\n",
      "See: https://sagemaker.readthedocs.io/en/stable/v2.html for details.\n",
      "train_instance_type has been renamed in sagemaker>=2.\n",
      "See: https://sagemaker.readthedocs.io/en/stable/v2.html for details.\n",
      "train_max_run has been renamed in sagemaker>=2.\n",
      "See: https://sagemaker.readthedocs.io/en/stable/v2.html for details.\n",
      "train_use_spot_instances has been renamed in sagemaker>=2.\n",
      "See: https://sagemaker.readthedocs.io/en/stable/v2.html for details.\n",
      "train_max_wait has been renamed in sagemaker>=2.\n",
      "See: https://sagemaker.readthedocs.io/en/stable/v2.html for details.\n"
     ]
    },
    {
     "name": "stdout",
     "output_type": "stream",
     "text": [
      "2022-09-11 15:18:42 Starting - Starting the training job...\n",
      "2022-09-11 15:19:01 Starting - Preparing the instances for trainingProfilerReport-1662909522: InProgress\n",
      ".........\n",
      "2022-09-11 15:20:43 Downloading - Downloading input data\n",
      "2022-09-11 15:20:43 Training - Downloading the training image...........\u001b[34mDocker entrypoint called with argument(s): train\u001b[0m\n",
      "\u001b[34mRunning default environment configuration script\u001b[0m\n",
      "\u001b[34m[09/11/2022 15:22:18 INFO 140682820122432] Reading default configuration from /opt/amazon/lib/python3.7/site-packages/algorithm/resources/default-input.json: {'mini_batch_size': '1000', 'epochs': '15', 'feature_dim': 'auto', 'use_bias': 'true', 'binary_classifier_model_selection_criteria': 'accuracy', 'f_beta': '1.0', 'target_recall': '0.8', 'target_precision': '0.8', 'num_models': 'auto', 'num_calibration_samples': '10000000', 'init_method': 'uniform', 'init_scale': '0.07', 'init_sigma': '0.01', 'init_bias': '0.0', 'optimizer': 'auto', 'loss': 'auto', 'margin': '1.0', 'quantile': '0.5', 'loss_insensitivity': '0.01', 'huber_delta': '1.0', 'num_classes': '1', 'accuracy_top_k': '3', 'wd': 'auto', 'l1': 'auto', 'momentum': 'auto', 'learning_rate': 'auto', 'beta_1': 'auto', 'beta_2': 'auto', 'bias_lr_mult': 'auto', 'bias_wd_mult': 'auto', 'use_lr_scheduler': 'true', 'lr_scheduler_step': 'auto', 'lr_scheduler_factor': 'auto', 'lr_scheduler_minimum_lr': 'auto', 'positive_example_weight_mult': '1.0', 'balance_multiclass_weights': 'false', 'normalize_data': 'true', 'normalize_label': 'auto', 'unbias_data': 'auto', 'unbias_label': 'auto', 'num_point_for_scaler': '10000', '_kvstore': 'auto', '_num_gpus': 'auto', '_num_kv_servers': 'auto', '_log_level': 'info', '_tuning_objective_metric': '', 'early_stopping_patience': '3', 'early_stopping_tolerance': '0.001', '_enable_profiler': 'false'}\u001b[0m\n",
      "\u001b[34m[09/11/2022 15:22:18 INFO 140682820122432] Merging with provided configuration from /opt/ml/input/config/hyperparameters.json: {'epochs': '50', 'feature_dim': '1', 'loss': 'absolute_loss', 'mini_batch_size': '5', 'num_models': '32', 'predictor_type': 'regressor'}\u001b[0m\n",
      "\u001b[34m[09/11/2022 15:22:18 INFO 140682820122432] Final configuration: {'mini_batch_size': '5', 'epochs': '50', 'feature_dim': '1', 'use_bias': 'true', 'binary_classifier_model_selection_criteria': 'accuracy', 'f_beta': '1.0', 'target_recall': '0.8', 'target_precision': '0.8', 'num_models': '32', 'num_calibration_samples': '10000000', 'init_method': 'uniform', 'init_scale': '0.07', 'init_sigma': '0.01', 'init_bias': '0.0', 'optimizer': 'auto', 'loss': 'absolute_loss', 'margin': '1.0', 'quantile': '0.5', 'loss_insensitivity': '0.01', 'huber_delta': '1.0', 'num_classes': '1', 'accuracy_top_k': '3', 'wd': 'auto', 'l1': 'auto', 'momentum': 'auto', 'learning_rate': 'auto', 'beta_1': 'auto', 'beta_2': 'auto', 'bias_lr_mult': 'auto', 'bias_wd_mult': 'auto', 'use_lr_scheduler': 'true', 'lr_scheduler_step': 'auto', 'lr_scheduler_factor': 'auto', 'lr_scheduler_minimum_lr': 'auto', 'positive_example_weight_mult': '1.0', 'balance_multiclass_weights': 'false', 'normalize_data': 'true', 'normalize_label': 'auto', 'unbias_data': 'auto', 'unbias_label': 'auto', 'num_point_for_scaler': '10000', '_kvstore': 'auto', '_num_gpus': 'auto', '_num_kv_servers': 'auto', '_log_level': 'info', '_tuning_objective_metric': '', 'early_stopping_patience': '3', 'early_stopping_tolerance': '0.001', '_enable_profiler': 'false', 'predictor_type': 'regressor'}\u001b[0m\n",
      "\u001b[34m[09/11/2022 15:22:22 WARNING 140682820122432] Loggers have already been setup.\u001b[0m\n",
      "\u001b[34m[09/11/2022 15:22:22 INFO 140682820122432] Final configuration: {'mini_batch_size': '5', 'epochs': '50', 'feature_dim': '1', 'use_bias': 'true', 'binary_classifier_model_selection_criteria': 'accuracy', 'f_beta': '1.0', 'target_recall': '0.8', 'target_precision': '0.8', 'num_models': '32', 'num_calibration_samples': '10000000', 'init_method': 'uniform', 'init_scale': '0.07', 'init_sigma': '0.01', 'init_bias': '0.0', 'optimizer': 'auto', 'loss': 'absolute_loss', 'margin': '1.0', 'quantile': '0.5', 'loss_insensitivity': '0.01', 'huber_delta': '1.0', 'num_classes': '1', 'accuracy_top_k': '3', 'wd': 'auto', 'l1': 'auto', 'momentum': 'auto', 'learning_rate': 'auto', 'beta_1': 'auto', 'beta_2': 'auto', 'bias_lr_mult': 'auto', 'bias_wd_mult': 'auto', 'use_lr_scheduler': 'true', 'lr_scheduler_step': 'auto', 'lr_scheduler_factor': 'auto', 'lr_scheduler_minimum_lr': 'auto', 'positive_example_weight_mult': '1.0', 'balance_multiclass_weights': 'false', 'normalize_data': 'true', 'normalize_label': 'auto', 'unbias_data': 'auto', 'unbias_label': 'auto', 'num_point_for_scaler': '10000', '_kvstore': 'auto', '_num_gpus': 'auto', '_num_kv_servers': 'auto', '_log_level': 'info', '_tuning_objective_metric': '', 'early_stopping_patience': '3', 'early_stopping_tolerance': '0.001', '_enable_profiler': 'false', 'predictor_type': 'regressor'}\u001b[0m\n",
      "\u001b[34m[09/11/2022 15:22:22 WARNING 140682820122432] Loggers have already been setup.\u001b[0m\n",
      "\u001b[34mProcess 1 is a worker.\u001b[0m\n",
      "\u001b[34m[09/11/2022 15:22:22 INFO 140682820122432] Using default worker.\u001b[0m\n",
      "\u001b[34m[09/11/2022 15:22:22 INFO 140682820122432] Checkpoint loading and saving are disabled.\u001b[0m\n",
      "\u001b[34m[2022-09-11 15:22:22.729] [tensorio] [info] epoch_stats={\"data_pipeline\": \"/opt/ml/input/data/train\", \"epoch\": 0, \"duration\": 19, \"num_examples\": 1, \"num_bytes\": 240}\u001b[0m\n",
      "\u001b[34m[09/11/2022 15:22:22 INFO 140682820122432] Create Store: local\u001b[0m\n",
      "\u001b[34m[2022-09-11 15:22:22.792] [tensorio] [info] epoch_stats={\"data_pipeline\": \"/opt/ml/input/data/train\", \"epoch\": 1, \"duration\": 62, \"num_examples\": 6, \"num_bytes\": 1248}\u001b[0m\n",
      "\u001b[34m[09/11/2022 15:22:22 INFO 140682820122432] Scaler algorithm parameters\n",
      " <algorithm.scaler.ScalerAlgorithmStable object at 0x7ff2bbaad350>\u001b[0m\n",
      "\u001b[34m[09/11/2022 15:22:22 INFO 140682820122432] Scaling model computed with parameters:\n",
      " {'stdev_label': \u001b[0m\n",
      "\u001b[34m[31939.05]\u001b[0m\n",
      "\u001b[34m<NDArray 1 @cpu(0)>, 'stdev_weight': \u001b[0m\n",
      "\u001b[34m[3.5706718]\u001b[0m\n",
      "\u001b[34m<NDArray 1 @cpu(0)>, 'mean_label': \u001b[0m\n",
      "\u001b[34m[86089.41]\u001b[0m\n",
      "\u001b[34m<NDArray 1 @cpu(0)>, 'mean_weight': \u001b[0m\n",
      "\u001b[34m[6.548]\u001b[0m\n",
      "\u001b[34m<NDArray 1 @cpu(0)>}\u001b[0m\n",
      "\u001b[34m[09/11/2022 15:22:22 INFO 140682820122432] nvidia-smi: took 0.033 seconds to run.\u001b[0m\n",
      "\u001b[34m[09/11/2022 15:22:22 INFO 140682820122432] nvidia-smi identified 0 GPUs.\u001b[0m\n",
      "\u001b[34m[09/11/2022 15:22:22 INFO 140682820122432] Number of GPUs being used: 0\u001b[0m\n",
      "\u001b[34m#metrics {\"StartTime\": 1662909742.9295242, \"EndTime\": 1662909742.929562, \"Dimensions\": {\"Algorithm\": \"Linear Learner\", \"Host\": \"algo-1\", \"Operation\": \"training\", \"Meta\": \"init_train_data_iter\"}, \"Metrics\": {\"Total Records Seen\": {\"sum\": 31.0, \"count\": 1, \"min\": 31, \"max\": 31}, \"Total Batches Seen\": {\"sum\": 7.0, \"count\": 1, \"min\": 7, \"max\": 7}, \"Max Records Seen Between Resets\": {\"sum\": 26.0, \"count\": 1, \"min\": 26, \"max\": 26}, \"Max Batches Seen Between Resets\": {\"sum\": 6.0, \"count\": 1, \"min\": 6, \"max\": 6}, \"Reset Count\": {\"sum\": 2.0, \"count\": 1, \"min\": 2, \"max\": 2}, \"Number of Records Since Last Reset\": {\"sum\": 0.0, \"count\": 1, \"min\": 0, \"max\": 0}, \"Number of Batches Since Last Reset\": {\"sum\": 0.0, \"count\": 1, \"min\": 0, \"max\": 0}}}\u001b[0m\n",
      "\u001b[34m[2022-09-11 15:22:23.077] [tensorio] [info] epoch_stats={\"data_pipeline\": \"/opt/ml/input/data/train\", \"epoch\": 4, \"duration\": 147, \"num_examples\": 6, \"num_bytes\": 1248}\u001b[0m\n",
      "\u001b[34m#metrics {\"StartTime\": 1662909743.0771978, \"EndTime\": 1662909743.0772862, \"Dimensions\": {\"Algorithm\": \"Linear Learner\", \"Host\": \"algo-1\", \"Operation\": \"training\", \"epoch\": 0, \"model\": 0}, \"Metrics\": {\"train_absolute_loss_objective\": {\"sum\": 0.9001275730133057, \"count\": 1, \"min\": 0.9001275730133057, \"max\": 0.9001275730133057}}}\u001b[0m\n",
      "\u001b[34m#metrics {\"StartTime\": 1662909743.0773768, \"EndTime\": 1662909743.0773914, \"Dimensions\": {\"Algorithm\": \"Linear Learner\", \"Host\": \"algo-1\", \"Operation\": \"training\", \"epoch\": 0, \"model\": 1}, \"Metrics\": {\"train_absolute_loss_objective\": {\"sum\": 0.919893856048584, \"count\": 1, \"min\": 0.919893856048584, \"max\": 0.919893856048584}}}\u001b[0m\n",
      "\u001b[34m#metrics {\"StartTime\": 1662909743.0774307, \"EndTime\": 1662909743.0774415, \"Dimensions\": {\"Algorithm\": \"Linear Learner\", \"Host\": \"algo-1\", \"Operation\": \"training\", \"epoch\": 0, \"model\": 2}, \"Metrics\": {\"train_absolute_loss_objective\": {\"sum\": 0.90252197265625, \"count\": 1, \"min\": 0.90252197265625, \"max\": 0.90252197265625}}}\u001b[0m\n",
      "\u001b[34m#metrics {\"StartTime\": 1662909743.0774755, \"EndTime\": 1662909743.0774853, \"Dimensions\": {\"Algorithm\": \"Linear Learner\", \"Host\": \"algo-1\", \"Operation\": \"training\", \"epoch\": 0, \"model\": 3}, \"Metrics\": {\"train_absolute_loss_objective\": {\"sum\": 0.9188837146759034, \"count\": 1, \"min\": 0.9188837146759034, \"max\": 0.9188837146759034}}}\u001b[0m\n",
      "\u001b[34m#metrics {\"StartTime\": 1662909743.077518, \"EndTime\": 1662909743.0775275, \"Dimensions\": {\"Algorithm\": \"Linear Learner\", \"Host\": \"algo-1\", \"Operation\": \"training\", \"epoch\": 0, \"model\": 4}, \"Metrics\": {\"train_absolute_loss_objective\": {\"sum\": 1.0441027069091797, \"count\": 1, \"min\": 1.0441027069091797, \"max\": 1.0441027069091797}}}\u001b[0m\n",
      "\u001b[34m#metrics {\"StartTime\": 1662909743.0775595, \"EndTime\": 1662909743.0775688, \"Dimensions\": {\"Algorithm\": \"Linear Learner\", \"Host\": \"algo-1\", \"Operation\": \"training\", \"epoch\": 0, \"model\": 5}, \"Metrics\": {\"train_absolute_loss_objective\": {\"sum\": 1.0518052101135253, \"count\": 1, \"min\": 1.0518052101135253, \"max\": 1.0518052101135253}}}\u001b[0m\n",
      "\u001b[34m#metrics {\"StartTime\": 1662909743.0776007, \"EndTime\": 1662909743.07761, \"Dimensions\": {\"Algorithm\": \"Linear Learner\", \"Host\": \"algo-1\", \"Operation\": \"training\", \"epoch\": 0, \"model\": 6}, \"Metrics\": {\"train_absolute_loss_objective\": {\"sum\": 1.1176332664489745, \"count\": 1, \"min\": 1.1176332664489745, \"max\": 1.1176332664489745}}}\u001b[0m\n",
      "\u001b[34m#metrics {\"StartTime\": 1662909743.0776422, \"EndTime\": 1662909743.0776513, \"Dimensions\": {\"Algorithm\": \"Linear Learner\", \"Host\": \"algo-1\", \"Operation\": \"training\", \"epoch\": 0, \"model\": 7}, \"Metrics\": {\"train_absolute_loss_objective\": {\"sum\": 1.0947143459320068, \"count\": 1, \"min\": 1.0947143459320068, \"max\": 1.0947143459320068}}}\u001b[0m\n",
      "\u001b[34m#metrics {\"StartTime\": 1662909743.0776832, \"EndTime\": 1662909743.0776923, \"Dimensions\": {\"Algorithm\": \"Linear Learner\", \"Host\": \"algo-1\", \"Operation\": \"training\", \"epoch\": 0, \"model\": 8}, \"Metrics\": {\"train_absolute_loss_objective\": {\"sum\": 0.9556263828277588, \"count\": 1, \"min\": 0.9556263828277588, \"max\": 0.9556263828277588}}}\u001b[0m\n",
      "\u001b[34m#metrics {\"StartTime\": 1662909743.0777237, \"EndTime\": 1662909743.0777328, \"Dimensions\": {\"Algorithm\": \"Linear Learner\", \"Host\": \"algo-1\", \"Operation\": \"training\", \"epoch\": 0, \"model\": 9}, \"Metrics\": {\"train_absolute_loss_objective\": {\"sum\": 0.8881837368011475, \"count\": 1, \"min\": 0.8881837368011475, \"max\": 0.8881837368011475}}}\u001b[0m\n",
      "\u001b[34m#metrics {\"StartTime\": 1662909743.077764, \"EndTime\": 1662909743.077773, \"Dimensions\": {\"Algorithm\": \"Linear Learner\", \"Host\": \"algo-1\", \"Operation\": \"training\", \"epoch\": 0, \"model\": 10}, \"Metrics\": {\"train_absolute_loss_objective\": {\"sum\": 0.8948346042633056, \"count\": 1, \"min\": 0.8948346042633056, \"max\": 0.8948346042633056}}}\u001b[0m\n",
      "\u001b[34m#metrics {\"StartTime\": 1662909743.0778043, \"EndTime\": 1662909743.0778131, \"Dimensions\": {\"Algorithm\": \"Linear Learner\", \"Host\": \"algo-1\", \"Operation\": \"training\", \"epoch\": 0, \"model\": 11}, \"Metrics\": {\"train_absolute_loss_objective\": {\"sum\": 0.8801276016235352, \"count\": 1, \"min\": 0.8801276016235352, \"max\": 0.8801276016235352}}}\u001b[0m\n",
      "\u001b[34m#metrics {\"StartTime\": 1662909743.0778472, \"EndTime\": 1662909743.0778568, \"Dimensions\": {\"Algorithm\": \"Linear Learner\", \"Host\": \"algo-1\", \"Operation\": \"training\", \"epoch\": 0, \"model\": 12}, \"Metrics\": {\"train_absolute_loss_objective\": {\"sum\": 1.0511223602294921, \"count\": 1, \"min\": 1.0511223602294921, \"max\": 1.0511223602294921}}}\u001b[0m\n",
      "\u001b[34m#metrics {\"StartTime\": 1662909743.0778887, \"EndTime\": 1662909743.077898, \"Dimensions\": {\"Algorithm\": \"Linear Learner\", \"Host\": \"algo-1\", \"Operation\": \"training\", \"epoch\": 0, \"model\": 13}, \"Metrics\": {\"train_absolute_loss_objective\": {\"sum\": 1.0719003295898437, \"count\": 1, \"min\": 1.0719003295898437, \"max\": 1.0719003295898437}}}\u001b[0m\n",
      "\u001b[34m#metrics {\"StartTime\": 1662909743.077933, \"EndTime\": 1662909743.0779428, \"Dimensions\": {\"Algorithm\": \"Linear Learner\", \"Host\": \"algo-1\", \"Operation\": \"training\", \"epoch\": 0, \"model\": 14}, \"Metrics\": {\"train_absolute_loss_objective\": {\"sum\": 1.0499454212188721, \"count\": 1, \"min\": 1.0499454212188721, \"max\": 1.0499454212188721}}}\u001b[0m\n",
      "\u001b[34m#metrics {\"StartTime\": 1662909743.0779765, \"EndTime\": 1662909743.077986, \"Dimensions\": {\"Algorithm\": \"Linear Learner\", \"Host\": \"algo-1\", \"Operation\": \"training\", \"epoch\": 0, \"model\": 15}, \"Metrics\": {\"train_absolute_loss_objective\": {\"sum\": 1.0768801498413085, \"count\": 1, \"min\": 1.0768801498413085, \"max\": 1.0768801498413085}}}\u001b[0m\n",
      "\u001b[34m#metrics {\"StartTime\": 1662909743.0780177, \"EndTime\": 1662909743.078027, \"Dimensions\": {\"Algorithm\": \"Linear Learner\", \"Host\": \"algo-1\", \"Operation\": \"training\", \"epoch\": 0, \"model\": 16}, \"Metrics\": {\"train_absolute_loss_objective\": {\"sum\": 0.8642553520202637, \"count\": 1, \"min\": 0.8642553520202637, \"max\": 0.8642553520202637}}}\u001b[0m\n",
      "\u001b[34m#metrics {\"StartTime\": 1662909743.0780585, \"EndTime\": 1662909743.0780675, \"Dimensions\": {\"Algorithm\": \"Linear Learner\", \"Host\": \"algo-1\", \"Operation\": \"training\", \"epoch\": 0, \"model\": 17}, \"Metrics\": {\"train_absolute_loss_objective\": {\"sum\": 0.9151720333099366, \"count\": 1, \"min\": 0.9151720333099366, \"max\": 0.9151720333099366}}}\u001b[0m\n",
      "\u001b[34m#metrics {\"StartTime\": 1662909743.0781028, \"EndTime\": 1662909743.0781126, \"Dimensions\": {\"Algorithm\": \"Linear Learner\", \"Host\": \"algo-1\", \"Operation\": \"training\", \"epoch\": 0, \"model\": 18}, \"Metrics\": {\"train_absolute_loss_objective\": {\"sum\": 0.8911427307128906, \"count\": 1, \"min\": 0.8911427307128906, \"max\": 0.8911427307128906}}}\u001b[0m\n",
      "\u001b[34m#metrics {\"StartTime\": 1662909743.0781446, \"EndTime\": 1662909743.0781546, \"Dimensions\": {\"Algorithm\": \"Linear Learner\", \"Host\": \"algo-1\", \"Operation\": \"training\", \"epoch\": 0, \"model\": 19}, \"Metrics\": {\"train_absolute_loss_objective\": {\"sum\": 0.8884585952758789, \"count\": 1, \"min\": 0.8884585952758789, \"max\": 0.8884585952758789}}}\u001b[0m\n",
      "\u001b[34m#metrics {\"StartTime\": 1662909743.078187, \"EndTime\": 1662909743.0781963, \"Dimensions\": {\"Algorithm\": \"Linear Learner\", \"Host\": \"algo-1\", \"Operation\": \"training\", \"epoch\": 0, \"model\": 20}, \"Metrics\": {\"train_absolute_loss_objective\": {\"sum\": 1.0886154174804688, \"count\": 1, \"min\": 1.0886154174804688, \"max\": 1.0886154174804688}}}\u001b[0m\n",
      "\u001b[34m#metrics {\"StartTime\": 1662909743.0782278, \"EndTime\": 1662909743.0782368, \"Dimensions\": {\"Algorithm\": \"Linear Learner\", \"Host\": \"algo-1\", \"Operation\": \"training\", \"epoch\": 0, \"model\": 21}, \"Metrics\": {\"train_absolute_loss_objective\": {\"sum\": 1.1004289817810058, \"count\": 1, \"min\": 1.1004289817810058, \"max\": 1.1004289817810058}}}\u001b[0m\n",
      "\u001b[34m#metrics {\"StartTime\": 1662909743.0782712, \"EndTime\": 1662909743.078281, \"Dimensions\": {\"Algorithm\": \"Linear Learner\", \"Host\": \"algo-1\", \"Operation\": \"training\", \"epoch\": 0, \"model\": 22}, \"Metrics\": {\"train_absolute_loss_objective\": {\"sum\": 1.050429573059082, \"count\": 1, \"min\": 1.050429573059082, \"max\": 1.050429573059082}}}\u001b[0m\n",
      "\u001b[34m#metrics {\"StartTime\": 1662909743.0783145, \"EndTime\": 1662909743.0783236, \"Dimensions\": {\"Algorithm\": \"Linear Learner\", \"Host\": \"algo-1\", \"Operation\": \"training\", \"epoch\": 0, \"model\": 23}, \"Metrics\": {\"train_absolute_loss_objective\": {\"sum\": 1.1207786750793458, \"count\": 1, \"min\": 1.1207786750793458, \"max\": 1.1207786750793458}}}\u001b[0m\n",
      "\u001b[34m#metrics {\"StartTime\": 1662909743.0783553, \"EndTime\": 1662909743.0783641, \"Dimensions\": {\"Algorithm\": \"Linear Learner\", \"Host\": \"algo-1\", \"Operation\": \"training\", \"epoch\": 0, \"model\": 24}, \"Metrics\": {\"train_absolute_loss_objective\": {\"sum\": 0.8666775321960449, \"count\": 1, \"min\": 0.8666775321960449, \"max\": 0.8666775321960449}}}\u001b[0m\n",
      "\u001b[34m#metrics {\"StartTime\": 1662909743.0783956, \"EndTime\": 1662909743.0784047, \"Dimensions\": {\"Algorithm\": \"Linear Learner\", \"Host\": \"algo-1\", \"Operation\": \"training\", \"epoch\": 0, \"model\": 25}, \"Metrics\": {\"train_absolute_loss_objective\": {\"sum\": 0.9333577823638916, \"count\": 1, \"min\": 0.9333577823638916, \"max\": 0.9333577823638916}}}\u001b[0m\n",
      "\u001b[34m#metrics {\"StartTime\": 1662909743.0784361, \"EndTime\": 1662909743.0784552, \"Dimensions\": {\"Algorithm\": \"Linear Learner\", \"Host\": \"algo-1\", \"Operation\": \"training\", \"epoch\": 0, \"model\": 26}, \"Metrics\": {\"train_absolute_loss_objective\": {\"sum\": 0.920094633102417, \"count\": 1, \"min\": 0.920094633102417, \"max\": 0.920094633102417}}}\u001b[0m\n",
      "\u001b[34m#metrics {\"StartTime\": 1662909743.0784853, \"EndTime\": 1662909743.0784938, \"Dimensions\": {\"Algorithm\": \"Linear Learner\", \"Host\": \"algo-1\", \"Operation\": \"training\", \"epoch\": 0, \"model\": 27}, \"Metrics\": {\"train_absolute_loss_objective\": {\"sum\": 0.909141206741333, \"count\": 1, \"min\": 0.909141206741333, \"max\": 0.909141206741333}}}\u001b[0m\n",
      "\u001b[34m#metrics {\"StartTime\": 1662909743.0785239, \"EndTime\": 1662909743.0785327, \"Dimensions\": {\"Algorithm\": \"Linear Learner\", \"Host\": \"algo-1\", \"Operation\": \"training\", \"epoch\": 0, \"model\": 28}, \"Metrics\": {\"train_absolute_loss_objective\": {\"sum\": 1.1914062118530273, \"count\": 1, \"min\": 1.1914062118530273, \"max\": 1.1914062118530273}}}\u001b[0m\n",
      "\u001b[34m#metrics {\"StartTime\": 1662909743.0785625, \"EndTime\": 1662909743.0785716, \"Dimensions\": {\"Algorithm\": \"Linear Learner\", \"Host\": \"algo-1\", \"Operation\": \"training\", \"epoch\": 0, \"model\": 29}, \"Metrics\": {\"train_absolute_loss_objective\": {\"sum\": 1.1915393257141114, \"count\": 1, \"min\": 1.1915393257141114, \"max\": 1.1915393257141114}}}\u001b[0m\n",
      "\u001b[34m#metrics {\"StartTime\": 1662909743.0786023, \"EndTime\": 1662909743.0786135, \"Dimensions\": {\"Algorithm\": \"Linear Learner\", \"Host\": \"algo-1\", \"Operation\": \"training\", \"epoch\": 0, \"model\": 30}, \"Metrics\": {\"train_absolute_loss_objective\": {\"sum\": 1.1854628753662109, \"count\": 1, \"min\": 1.1854628753662109, \"max\": 1.1854628753662109}}}\u001b[0m\n",
      "\u001b[34m#metrics {\"StartTime\": 1662909743.0786767, \"EndTime\": 1662909743.0786958, \"Dimensions\": {\"Algorithm\": \"Linear Learner\", \"Host\": \"algo-1\", \"Operation\": \"training\", \"epoch\": 0, \"model\": 31}, \"Metrics\": {\"train_absolute_loss_objective\": {\"sum\": 1.194647150039673, \"count\": 1, \"min\": 1.194647150039673, \"max\": 1.194647150039673}}}\u001b[0m\n",
      "\u001b[34m[09/11/2022 15:22:23 INFO 140682820122432] #quality_metric: host=algo-1, epoch=0, train absolute_loss_objective <loss>=0.9001275730133057\u001b[0m\n",
      "\u001b[34m[09/11/2022 15:22:23 INFO 140682820122432] #early_stopping_criteria_metric: host=algo-1, epoch=0, criteria=absolute_loss_objective, value=0.8642553520202637\u001b[0m\n",
      "\u001b[34m[09/11/2022 15:22:23 INFO 140682820122432] Epoch 0: Loss improved. Updating best model\u001b[0m\n",
      "\u001b[34m[09/11/2022 15:22:23 INFO 140682820122432] Saving model for epoch: 0\u001b[0m\n",
      "\u001b[34m[09/11/2022 15:22:23 INFO 140682820122432] Saved checkpoint to \"/tmp/tmpmpyppkqg/mx-mod-0000.params\"\u001b[0m\n",
      "\u001b[34m[09/11/2022 15:22:23 INFO 140682820122432] #progress_metric: host=algo-1, completed 2.0 % of epochs\u001b[0m\n",
      "\u001b[34m#metrics {\"StartTime\": 1662909742.9298735, \"EndTime\": 1662909743.0919716, \"Dimensions\": {\"Algorithm\": \"Linear Learner\", \"Host\": \"algo-1\", \"Operation\": \"training\", \"epoch\": 0, \"Meta\": \"training_data_iter\"}, \"Metrics\": {\"Total Records Seen\": {\"sum\": 57.0, \"count\": 1, \"min\": 57, \"max\": 57}, \"Total Batches Seen\": {\"sum\": 13.0, \"count\": 1, \"min\": 13, \"max\": 13}, \"Max Records Seen Between Resets\": {\"sum\": 26.0, \"count\": 1, \"min\": 26, \"max\": 26}, \"Max Batches Seen Between Resets\": {\"sum\": 6.0, \"count\": 1, \"min\": 6, \"max\": 6}, \"Reset Count\": {\"sum\": 3.0, \"count\": 1, \"min\": 3, \"max\": 3}, \"Number of Records Since Last Reset\": {\"sum\": 26.0, \"count\": 1, \"min\": 26, \"max\": 26}, \"Number of Batches Since Last Reset\": {\"sum\": 6.0, \"count\": 1, \"min\": 6, \"max\": 6}}}\u001b[0m\n",
      "\u001b[34m[09/11/2022 15:22:23 INFO 140682820122432] #throughput_metric: host=algo-1, train throughput=160.26203450606943 records/second\u001b[0m\n",
      "\u001b[34m[2022-09-11 15:22:23.210] [tensorio] [info] epoch_stats={\"data_pipeline\": \"/opt/ml/input/data/train\", \"epoch\": 6, \"duration\": 118, \"num_examples\": 6, \"num_bytes\": 1248}\u001b[0m\n",
      "\u001b[34m#metrics {\"StartTime\": 1662909743.2106419, \"EndTime\": 1662909743.2107642, \"Dimensions\": {\"Algorithm\": \"Linear Learner\", \"Host\": \"algo-1\", \"Operation\": \"training\", \"epoch\": 1, \"model\": 0}, \"Metrics\": {\"train_absolute_loss_objective\": {\"sum\": 0.8721427631378174, \"count\": 1, \"min\": 0.8721427631378174, \"max\": 0.8721427631378174}}}\u001b[0m\n",
      "\u001b[34m#metrics {\"StartTime\": 1662909743.2108698, \"EndTime\": 1662909743.2108884, \"Dimensions\": {\"Algorithm\": \"Linear Learner\", \"Host\": \"algo-1\", \"Operation\": \"training\", \"epoch\": 1, \"model\": 1}, \"Metrics\": {\"train_absolute_loss_objective\": {\"sum\": 0.8919090557098389, \"count\": 1, \"min\": 0.8919090557098389, \"max\": 0.8919090557098389}}}\u001b[0m\n",
      "\u001b[34m#metrics {\"StartTime\": 1662909743.2110388, \"EndTime\": 1662909743.211059, \"Dimensions\": {\"Algorithm\": \"Linear Learner\", \"Host\": \"algo-1\", \"Operation\": \"training\", \"epoch\": 1, \"model\": 2}, \"Metrics\": {\"train_absolute_loss_objective\": {\"sum\": 0.874537181854248, \"count\": 1, \"min\": 0.874537181854248, \"max\": 0.874537181854248}}}\u001b[0m\n",
      "\u001b[34m#metrics {\"StartTime\": 1662909743.211111, \"EndTime\": 1662909743.211126, \"Dimensions\": {\"Algorithm\": \"Linear Learner\", \"Host\": \"algo-1\", \"Operation\": \"training\", \"epoch\": 1, \"model\": 3}, \"Metrics\": {\"train_absolute_loss_objective\": {\"sum\": 0.8908989334106445, \"count\": 1, \"min\": 0.8908989334106445, \"max\": 0.8908989334106445}}}\u001b[0m\n",
      "\u001b[34m#metrics {\"StartTime\": 1662909743.2111762, \"EndTime\": 1662909743.211192, \"Dimensions\": {\"Algorithm\": \"Linear Learner\", \"Host\": \"algo-1\", \"Operation\": \"training\", \"epoch\": 1, \"model\": 4}, \"Metrics\": {\"train_absolute_loss_objective\": {\"sum\": 0.48094467163085936, \"count\": 1, \"min\": 0.48094467163085936, \"max\": 0.48094467163085936}}}\u001b[0m\n",
      "\u001b[34m#metrics {\"StartTime\": 1662909743.2112422, \"EndTime\": 1662909743.2112586, \"Dimensions\": {\"Algorithm\": \"Linear Learner\", \"Host\": \"algo-1\", \"Operation\": \"training\", \"epoch\": 1, \"model\": 5}, \"Metrics\": {\"train_absolute_loss_objective\": {\"sum\": 0.4849632549285889, \"count\": 1, \"min\": 0.4849632549285889, \"max\": 0.4849632549285889}}}\u001b[0m\n",
      "\u001b[34m#metrics {\"StartTime\": 1662909743.2113373, \"EndTime\": 1662909743.211357, \"Dimensions\": {\"Algorithm\": \"Linear Learner\", \"Host\": \"algo-1\", \"Operation\": \"training\", \"epoch\": 1, \"model\": 6}, \"Metrics\": {\"train_absolute_loss_objective\": {\"sum\": 0.41439826011657716, \"count\": 1, \"min\": 0.41439826011657716, \"max\": 0.41439826011657716}}}\u001b[0m\n",
      "\u001b[34m#metrics {\"StartTime\": 1662909743.211413, \"EndTime\": 1662909743.211429, \"Dimensions\": {\"Algorithm\": \"Linear Learner\", \"Host\": \"algo-1\", \"Operation\": \"training\", \"epoch\": 1, \"model\": 7}, \"Metrics\": {\"train_absolute_loss_objective\": {\"sum\": 0.4019831705093384, \"count\": 1, \"min\": 0.4019831705093384, \"max\": 0.4019831705093384}}}\u001b[0m\n",
      "\u001b[34m#metrics {\"StartTime\": 1662909743.211481, \"EndTime\": 1662909743.2114983, \"Dimensions\": {\"Algorithm\": \"Linear Learner\", \"Host\": \"algo-1\", \"Operation\": \"training\", \"epoch\": 1, \"model\": 8}, \"Metrics\": {\"train_absolute_loss_objective\": {\"sum\": 0.9276416015625, \"count\": 1, \"min\": 0.9276416015625, \"max\": 0.9276416015625}}}\u001b[0m\n",
      "\u001b[34m#metrics {\"StartTime\": 1662909743.2115505, \"EndTime\": 1662909743.2115674, \"Dimensions\": {\"Algorithm\": \"Linear Learner\", \"Host\": \"algo-1\", \"Operation\": \"training\", \"epoch\": 1, \"model\": 9}, \"Metrics\": {\"train_absolute_loss_objective\": {\"sum\": 0.8601994609832764, \"count\": 1, \"min\": 0.8601994609832764, \"max\": 0.8601994609832764}}}\u001b[0m\n",
      "\u001b[34m#metrics {\"StartTime\": 1662909743.2116158, \"EndTime\": 1662909743.2116303, \"Dimensions\": {\"Algorithm\": \"Linear Learner\", \"Host\": \"algo-1\", \"Operation\": \"training\", \"epoch\": 1, \"model\": 10}, \"Metrics\": {\"train_absolute_loss_objective\": {\"sum\": 0.8668502998352051, \"count\": 1, \"min\": 0.8668502998352051, \"max\": 0.8668502998352051}}}\u001b[0m\n",
      "\u001b[34m#metrics {\"StartTime\": 1662909743.211678, \"EndTime\": 1662909743.2116935, \"Dimensions\": {\"Algorithm\": \"Linear Learner\", \"Host\": \"algo-1\", \"Operation\": \"training\", \"epoch\": 1, \"model\": 11}, \"Metrics\": {\"train_absolute_loss_objective\": {\"sum\": 0.852143383026123, \"count\": 1, \"min\": 0.852143383026123, \"max\": 0.852143383026123}}}\u001b[0m\n",
      "\u001b[34m#metrics {\"StartTime\": 1662909743.2117522, \"EndTime\": 1662909743.2117684, \"Dimensions\": {\"Algorithm\": \"Linear Learner\", \"Host\": \"algo-1\", \"Operation\": \"training\", \"epoch\": 1, \"model\": 12}, \"Metrics\": {\"train_absolute_loss_objective\": {\"sum\": 0.48484440326690675, \"count\": 1, \"min\": 0.48484440326690675, \"max\": 0.48484440326690675}}}\u001b[0m\n",
      "\u001b[34m#metrics {\"StartTime\": 1662909743.2118168, \"EndTime\": 1662909743.2118328, \"Dimensions\": {\"Algorithm\": \"Linear Learner\", \"Host\": \"algo-1\", \"Operation\": \"training\", \"epoch\": 1, \"model\": 13}, \"Metrics\": {\"train_absolute_loss_objective\": {\"sum\": 0.3898491621017456, \"count\": 1, \"min\": 0.3898491621017456, \"max\": 0.3898491621017456}}}\u001b[0m\n",
      "\u001b[34m#metrics {\"StartTime\": 1662909743.2118876, \"EndTime\": 1662909743.2119043, \"Dimensions\": {\"Algorithm\": \"Linear Learner\", \"Host\": \"algo-1\", \"Operation\": \"training\", \"epoch\": 1, \"model\": 14}, \"Metrics\": {\"train_absolute_loss_objective\": {\"sum\": 0.48423120498657224, \"count\": 1, \"min\": 0.48423120498657224, \"max\": 0.48423120498657224}}}\u001b[0m\n",
      "\u001b[34m#metrics {\"StartTime\": 1662909743.211967, \"EndTime\": 1662909743.2119842, \"Dimensions\": {\"Algorithm\": \"Linear Learner\", \"Host\": \"algo-1\", \"Operation\": \"training\", \"epoch\": 1, \"model\": 15}, \"Metrics\": {\"train_absolute_loss_objective\": {\"sum\": 0.39254295349121093, \"count\": 1, \"min\": 0.39254295349121093, \"max\": 0.39254295349121093}}}\u001b[0m\n",
      "\u001b[34m#metrics {\"StartTime\": 1662909743.212037, \"EndTime\": 1662909743.2120538, \"Dimensions\": {\"Algorithm\": \"Linear Learner\", \"Host\": \"algo-1\", \"Operation\": \"training\", \"epoch\": 1, \"model\": 16}, \"Metrics\": {\"train_absolute_loss_objective\": {\"sum\": 0.8363424873352051, \"count\": 1, \"min\": 0.8363424873352051, \"max\": 0.8363424873352051}}}\u001b[0m\n",
      "\u001b[34m#metrics {\"StartTime\": 1662909743.2121038, \"EndTime\": 1662909743.2121205, \"Dimensions\": {\"Algorithm\": \"Linear Learner\", \"Host\": \"algo-1\", \"Operation\": \"training\", \"epoch\": 1, \"model\": 17}, \"Metrics\": {\"train_absolute_loss_objective\": {\"sum\": 0.8872177982330323, \"count\": 1, \"min\": 0.8872177982330323, \"max\": 0.8872177982330323}}}\u001b[0m\n",
      "\u001b[34m#metrics {\"StartTime\": 1662909743.2121794, \"EndTime\": 1662909743.2121966, \"Dimensions\": {\"Algorithm\": \"Linear Learner\", \"Host\": \"algo-1\", \"Operation\": \"training\", \"epoch\": 1, \"model\": 18}, \"Metrics\": {\"train_absolute_loss_objective\": {\"sum\": 0.8632069969177246, \"count\": 1, \"min\": 0.8632069969177246, \"max\": 0.8632069969177246}}}\u001b[0m\n",
      "\u001b[34m#metrics {\"StartTime\": 1662909743.2122438, \"EndTime\": 1662909743.2122579, \"Dimensions\": {\"Algorithm\": \"Linear Learner\", \"Host\": \"algo-1\", \"Operation\": \"training\", \"epoch\": 1, \"model\": 19}, \"Metrics\": {\"train_absolute_loss_objective\": {\"sum\": 0.8605250549316407, \"count\": 1, \"min\": 0.8605250549316407, \"max\": 0.8605250549316407}}}\u001b[0m\n",
      "\u001b[34m#metrics {\"StartTime\": 1662909743.2123034, \"EndTime\": 1662909743.212318, \"Dimensions\": {\"Algorithm\": \"Linear Learner\", \"Host\": \"algo-1\", \"Operation\": \"training\", \"epoch\": 1, \"model\": 20}, \"Metrics\": {\"train_absolute_loss_objective\": {\"sum\": 0.5122173976898193, \"count\": 1, \"min\": 0.5122173976898193, \"max\": 0.5122173976898193}}}\u001b[0m\n",
      "\u001b[34m#metrics {\"StartTime\": 1662909743.212362, \"EndTime\": 1662909743.2123756, \"Dimensions\": {\"Algorithm\": \"Linear Learner\", \"Host\": \"algo-1\", \"Operation\": \"training\", \"epoch\": 1, \"model\": 21}, \"Metrics\": {\"train_absolute_loss_objective\": {\"sum\": 0.5203515243530273, \"count\": 1, \"min\": 0.5203515243530273, \"max\": 0.5203515243530273}}}\u001b[0m\n",
      "\u001b[34m#metrics {\"StartTime\": 1662909743.2124224, \"EndTime\": 1662909743.212439, \"Dimensions\": {\"Algorithm\": \"Linear Learner\", \"Host\": \"algo-1\", \"Operation\": \"training\", \"epoch\": 1, \"model\": 22}, \"Metrics\": {\"train_absolute_loss_objective\": {\"sum\": 0.4232347059249878, \"count\": 1, \"min\": 0.4232347059249878, \"max\": 0.4232347059249878}}}\u001b[0m\n",
      "\u001b[34m#metrics {\"StartTime\": 1662909743.2124872, \"EndTime\": 1662909743.2125015, \"Dimensions\": {\"Algorithm\": \"Linear Learner\", \"Host\": \"algo-1\", \"Operation\": \"training\", \"epoch\": 1, \"model\": 23}, \"Metrics\": {\"train_absolute_loss_objective\": {\"sum\": 0.534841594696045, \"count\": 1, \"min\": 0.534841594696045, \"max\": 0.534841594696045}}}\u001b[0m\n",
      "\u001b[34m#metrics {\"StartTime\": 1662909743.2125475, \"EndTime\": 1662909743.212562, \"Dimensions\": {\"Algorithm\": \"Linear Learner\", \"Host\": \"algo-1\", \"Operation\": \"training\", \"epoch\": 1, \"model\": 24}, \"Metrics\": {\"train_absolute_loss_objective\": {\"sum\": 0.880482063293457, \"count\": 1, \"min\": 0.880482063293457, \"max\": 0.880482063293457}}}\u001b[0m\n",
      "\u001b[34m#metrics {\"StartTime\": 1662909743.2126093, \"EndTime\": 1662909743.2126243, \"Dimensions\": {\"Algorithm\": \"Linear Learner\", \"Host\": \"algo-1\", \"Operation\": \"training\", \"epoch\": 1, \"model\": 25}, \"Metrics\": {\"train_absolute_loss_objective\": {\"sum\": 0.9066973400115966, \"count\": 1, \"min\": 0.9066973400115966, \"max\": 0.9066973400115966}}}\u001b[0m\n",
      "\u001b[34m#metrics {\"StartTime\": 1662909743.2126765, \"EndTime\": 1662909743.2126923, \"Dimensions\": {\"Algorithm\": \"Linear Learner\", \"Host\": \"algo-1\", \"Operation\": \"training\", \"epoch\": 1, \"model\": 26}, \"Metrics\": {\"train_absolute_loss_objective\": {\"sum\": 0.8961037158966064, \"count\": 1, \"min\": 0.8961037158966064, \"max\": 0.8961037158966064}}}\u001b[0m\n",
      "\u001b[34m#metrics {\"StartTime\": 1662909743.212738, \"EndTime\": 1662909743.2127512, \"Dimensions\": {\"Algorithm\": \"Linear Learner\", \"Host\": \"algo-1\", \"Operation\": \"training\", \"epoch\": 1, \"model\": 27}, \"Metrics\": {\"train_absolute_loss_objective\": {\"sum\": 0.8957764339447022, \"count\": 1, \"min\": 0.8957764339447022, \"max\": 0.8957764339447022}}}\u001b[0m\n",
      "\u001b[34m#metrics {\"StartTime\": 1662909743.2127943, \"EndTime\": 1662909743.2128081, \"Dimensions\": {\"Algorithm\": \"Linear Learner\", \"Host\": \"algo-1\", \"Operation\": \"training\", \"epoch\": 1, \"model\": 28}, \"Metrics\": {\"train_absolute_loss_objective\": {\"sum\": 0.9549936485290528, \"count\": 1, \"min\": 0.9549936485290528, \"max\": 0.9549936485290528}}}\u001b[0m\n",
      "\u001b[34m#metrics {\"StartTime\": 1662909743.212863, \"EndTime\": 1662909743.2128792, \"Dimensions\": {\"Algorithm\": \"Linear Learner\", \"Host\": \"algo-1\", \"Operation\": \"training\", \"epoch\": 1, \"model\": 29}, \"Metrics\": {\"train_absolute_loss_objective\": {\"sum\": 0.9541991806030273, \"count\": 1, \"min\": 0.9541991806030273, \"max\": 0.9541991806030273}}}\u001b[0m\n",
      "\u001b[34m#metrics {\"StartTime\": 1662909743.212929, \"EndTime\": 1662909743.212943, \"Dimensions\": {\"Algorithm\": \"Linear Learner\", \"Host\": \"algo-1\", \"Operation\": \"training\", \"epoch\": 1, \"model\": 30}, \"Metrics\": {\"train_absolute_loss_objective\": {\"sum\": 0.9215274620056152, \"count\": 1, \"min\": 0.9215274620056152, \"max\": 0.9215274620056152}}}\u001b[0m\n",
      "\u001b[34m#metrics {\"StartTime\": 1662909743.2129903, \"EndTime\": 1662909743.2130063, \"Dimensions\": {\"Algorithm\": \"Linear Learner\", \"Host\": \"algo-1\", \"Operation\": \"training\", \"epoch\": 1, \"model\": 31}, \"Metrics\": {\"train_absolute_loss_objective\": {\"sum\": 0.9469545650482177, \"count\": 1, \"min\": 0.9469545650482177, \"max\": 0.9469545650482177}}}\u001b[0m\n",
      "\u001b[34m[09/11/2022 15:22:23 INFO 140682820122432] #quality_metric: host=algo-1, epoch=1, train absolute_loss_objective <loss>=0.8721427631378174\u001b[0m\n",
      "\u001b[34m[09/11/2022 15:22:23 INFO 140682820122432] #early_stopping_criteria_metric: host=algo-1, epoch=1, criteria=absolute_loss_objective, value=0.3898491621017456\u001b[0m\n",
      "\u001b[34m[09/11/2022 15:22:23 INFO 140682820122432] Epoch 1: Loss improved. Updating best model\u001b[0m\n",
      "\u001b[34m[09/11/2022 15:22:23 INFO 140682820122432] Saving model for epoch: 1\u001b[0m\n",
      "\u001b[34m[09/11/2022 15:22:23 INFO 140682820122432] Saved checkpoint to \"/tmp/tmp7g5v5ggc/mx-mod-0000.params\"\u001b[0m\n",
      "\u001b[34m[09/11/2022 15:22:23 INFO 140682820122432] #progress_metric: host=algo-1, completed 4.0 % of epochs\u001b[0m\n",
      "\u001b[34m#metrics {\"StartTime\": 1662909743.0923715, \"EndTime\": 1662909743.2252843, \"Dimensions\": {\"Algorithm\": \"Linear Learner\", \"Host\": \"algo-1\", \"Operation\": \"training\", \"epoch\": 1, \"Meta\": \"training_data_iter\"}, \"Metrics\": {\"Total Records Seen\": {\"sum\": 83.0, \"count\": 1, \"min\": 83, \"max\": 83}, \"Total Batches Seen\": {\"sum\": 19.0, \"count\": 1, \"min\": 19, \"max\": 19}, \"Max Records Seen Between Resets\": {\"sum\": 26.0, \"count\": 1, \"min\": 26, \"max\": 26}, \"Max Batches Seen Between Resets\": {\"sum\": 6.0, \"count\": 1, \"min\": 6, \"max\": 6}, \"Reset Count\": {\"sum\": 4.0, \"count\": 1, \"min\": 4, \"max\": 4}, \"Number of Records Since Last Reset\": {\"sum\": 26.0, \"count\": 1, \"min\": 26, \"max\": 26}, \"Number of Batches Since Last Reset\": {\"sum\": 6.0, \"count\": 1, \"min\": 6, \"max\": 6}}}\u001b[0m\n",
      "\u001b[34m[09/11/2022 15:22:23 INFO 140682820122432] #throughput_metric: host=algo-1, train throughput=195.3939506874056 records/second\u001b[0m\n",
      "\u001b[34m[2022-09-11 15:22:23.380] [tensorio] [info] epoch_stats={\"data_pipeline\": \"/opt/ml/input/data/train\", \"epoch\": 8, \"duration\": 154, \"num_examples\": 6, \"num_bytes\": 1248}\u001b[0m\n",
      "\u001b[34m#metrics {\"StartTime\": 1662909743.3801434, \"EndTime\": 1662909743.3802269, \"Dimensions\": {\"Algorithm\": \"Linear Learner\", \"Host\": \"algo-1\", \"Operation\": \"training\", \"epoch\": 2, \"model\": 0}, \"Metrics\": {\"train_absolute_loss_objective\": {\"sum\": 0.850509033203125, \"count\": 1, \"min\": 0.850509033203125, \"max\": 0.850509033203125}}}\u001b[0m\n",
      "\u001b[34m#metrics {\"StartTime\": 1662909743.3803184, \"EndTime\": 1662909743.3803382, \"Dimensions\": {\"Algorithm\": \"Linear Learner\", \"Host\": \"algo-1\", \"Operation\": \"training\", \"epoch\": 2, \"model\": 1}, \"Metrics\": {\"train_absolute_loss_objective\": {\"sum\": 0.8695689868927002, \"count\": 1, \"min\": 0.8695689868927002, \"max\": 0.8695689868927002}}}\u001b[0m\n",
      "\u001b[34m#metrics {\"StartTime\": 1662909743.3803918, \"EndTime\": 1662909743.3804092, \"Dimensions\": {\"Algorithm\": \"Linear Learner\", \"Host\": \"algo-1\", \"Operation\": \"training\", \"epoch\": 2, \"model\": 2}, \"Metrics\": {\"train_absolute_loss_objective\": {\"sum\": 0.8528254508972168, \"count\": 1, \"min\": 0.8528254508972168, \"max\": 0.8528254508972168}}}\u001b[0m\n",
      "\u001b[34m#metrics {\"StartTime\": 1662909743.3804605, \"EndTime\": 1662909743.380478, \"Dimensions\": {\"Algorithm\": \"Linear Learner\", \"Host\": \"algo-1\", \"Operation\": \"training\", \"epoch\": 2, \"model\": 3}, \"Metrics\": {\"train_absolute_loss_objective\": {\"sum\": 0.8685917663574219, \"count\": 1, \"min\": 0.8685917663574219, \"max\": 0.8685917663574219}}}\u001b[0m\n",
      "\u001b[34m#metrics {\"StartTime\": 1662909743.3805287, \"EndTime\": 1662909743.3805454, \"Dimensions\": {\"Algorithm\": \"Linear Learner\", \"Host\": \"algo-1\", \"Operation\": \"training\", \"epoch\": 2, \"model\": 4}, \"Metrics\": {\"train_absolute_loss_objective\": {\"sum\": 0.37849467754364013, \"count\": 1, \"min\": 0.37849467754364013, \"max\": 0.37849467754364013}}}\u001b[0m\n",
      "\u001b[34m#metrics {\"StartTime\": 1662909743.3805962, \"EndTime\": 1662909743.3806121, \"Dimensions\": {\"Algorithm\": \"Linear Learner\", \"Host\": \"algo-1\", \"Operation\": \"training\", \"epoch\": 2, \"model\": 5}, \"Metrics\": {\"train_absolute_loss_objective\": {\"sum\": 0.3824356174468994, \"count\": 1, \"min\": 0.3824356174468994, \"max\": 0.3824356174468994}}}\u001b[0m\n",
      "\u001b[34m#metrics {\"StartTime\": 1662909743.3806615, \"EndTime\": 1662909743.380678, \"Dimensions\": {\"Algorithm\": \"Linear Learner\", \"Host\": \"algo-1\", \"Operation\": \"training\", \"epoch\": 2, \"model\": 6}, \"Metrics\": {\"train_absolute_loss_objective\": {\"sum\": 0.4864231252670288, \"count\": 1, \"min\": 0.4864231252670288, \"max\": 0.4864231252670288}}}\u001b[0m\n",
      "\u001b[34m#metrics {\"StartTime\": 1662909743.3807302, \"EndTime\": 1662909743.380747, \"Dimensions\": {\"Algorithm\": \"Linear Learner\", \"Host\": \"algo-1\", \"Operation\": \"training\", \"epoch\": 2, \"model\": 7}, \"Metrics\": {\"train_absolute_loss_objective\": {\"sum\": 0.48504302978515623, \"count\": 1, \"min\": 0.48504302978515623, \"max\": 0.48504302978515623}}}\u001b[0m\n",
      "\u001b[34m#metrics {\"StartTime\": 1662909743.3807976, \"EndTime\": 1662909743.3808136, \"Dimensions\": {\"Algorithm\": \"Linear Learner\", \"Host\": \"algo-1\", \"Operation\": \"training\", \"epoch\": 2, \"model\": 8}, \"Metrics\": {\"train_absolute_loss_objective\": {\"sum\": 0.9049400234222412, \"count\": 1, \"min\": 0.9049400234222412, \"max\": 0.9049400234222412}}}\u001b[0m\n",
      "\u001b[34m#metrics {\"StartTime\": 1662909743.3808653, \"EndTime\": 1662909743.3808808, \"Dimensions\": {\"Algorithm\": \"Linear Learner\", \"Host\": \"algo-1\", \"Operation\": \"training\", \"epoch\": 2, \"model\": 9}, \"Metrics\": {\"train_absolute_loss_objective\": {\"sum\": 0.8388934707641602, \"count\": 1, \"min\": 0.8388934707641602, \"max\": 0.8388934707641602}}}\u001b[0m\n",
      "\u001b[34m#metrics {\"StartTime\": 1662909743.3809292, \"EndTime\": 1662909743.3809447, \"Dimensions\": {\"Algorithm\": \"Linear Learner\", \"Host\": \"algo-1\", \"Operation\": \"training\", \"epoch\": 2, \"model\": 10}, \"Metrics\": {\"train_absolute_loss_objective\": {\"sum\": 0.8453902435302735, \"count\": 1, \"min\": 0.8453902435302735, \"max\": 0.8453902435302735}}}\u001b[0m\n",
      "\u001b[34m#metrics {\"StartTime\": 1662909743.3809943, \"EndTime\": 1662909743.381009, \"Dimensions\": {\"Algorithm\": \"Linear Learner\", \"Host\": \"algo-1\", \"Operation\": \"training\", \"epoch\": 2, \"model\": 11}, \"Metrics\": {\"train_absolute_loss_objective\": {\"sum\": 0.8310998249053955, \"count\": 1, \"min\": 0.8310998249053955, \"max\": 0.8310998249053955}}}\u001b[0m\n",
      "\u001b[34m#metrics {\"StartTime\": 1662909743.3810573, \"EndTime\": 1662909743.381074, \"Dimensions\": {\"Algorithm\": \"Linear Learner\", \"Host\": \"algo-1\", \"Operation\": \"training\", \"epoch\": 2, \"model\": 12}, \"Metrics\": {\"train_absolute_loss_objective\": {\"sum\": 0.3786277770996094, \"count\": 1, \"min\": 0.3786277770996094, \"max\": 0.3786277770996094}}}\u001b[0m\n",
      "\u001b[34m#metrics {\"StartTime\": 1662909743.3811216, \"EndTime\": 1662909743.3811362, \"Dimensions\": {\"Algorithm\": \"Linear Learner\", \"Host\": \"algo-1\", \"Operation\": \"training\", \"epoch\": 2, \"model\": 13}, \"Metrics\": {\"train_absolute_loss_objective\": {\"sum\": 0.3631812357902527, \"count\": 1, \"min\": 0.3631812357902527, \"max\": 0.3631812357902527}}}\u001b[0m\n",
      "\u001b[34m#metrics {\"StartTime\": 1662909743.3811858, \"EndTime\": 1662909743.3812015, \"Dimensions\": {\"Algorithm\": \"Linear Learner\", \"Host\": \"algo-1\", \"Operation\": \"training\", \"epoch\": 2, \"model\": 14}, \"Metrics\": {\"train_absolute_loss_objective\": {\"sum\": 0.3785937070846558, \"count\": 1, \"min\": 0.3785937070846558, \"max\": 0.3785937070846558}}}\u001b[0m\n",
      "\u001b[34m#metrics {\"StartTime\": 1662909743.3812506, \"EndTime\": 1662909743.3812654, \"Dimensions\": {\"Algorithm\": \"Linear Learner\", \"Host\": \"algo-1\", \"Operation\": \"training\", \"epoch\": 2, \"model\": 15}, \"Metrics\": {\"train_absolute_loss_objective\": {\"sum\": 0.36445281505584715, \"count\": 1, \"min\": 0.36445281505584715, \"max\": 0.36445281505584715}}}\u001b[0m\n",
      "\u001b[34m#metrics {\"StartTime\": 1662909743.3813145, \"EndTime\": 1662909743.38133, \"Dimensions\": {\"Algorithm\": \"Linear Learner\", \"Host\": \"algo-1\", \"Operation\": \"training\", \"epoch\": 2, \"model\": 16}, \"Metrics\": {\"train_absolute_loss_objective\": {\"sum\": 0.8160634231567383, \"count\": 1, \"min\": 0.8160634231567383, \"max\": 0.8160634231567383}}}\u001b[0m\n",
      "\u001b[34m#metrics {\"StartTime\": 1662909743.381379, \"EndTime\": 1662909743.3813944, \"Dimensions\": {\"Algorithm\": \"Linear Learner\", \"Host\": \"algo-1\", \"Operation\": \"training\", \"epoch\": 2, \"model\": 17}, \"Metrics\": {\"train_absolute_loss_objective\": {\"sum\": 0.8651548862457276, \"count\": 1, \"min\": 0.8651548862457276, \"max\": 0.8651548862457276}}}\u001b[0m\n",
      "\u001b[34m#metrics {\"StartTime\": 1662909743.3814416, \"EndTime\": 1662909743.3814588, \"Dimensions\": {\"Algorithm\": \"Linear Learner\", \"Host\": \"algo-1\", \"Operation\": \"training\", \"epoch\": 2, \"model\": 18}, \"Metrics\": {\"train_absolute_loss_objective\": {\"sum\": 0.8420170783996582, \"count\": 1, \"min\": 0.8420170783996582, \"max\": 0.8420170783996582}}}\u001b[0m\n",
      "\u001b[34m#metrics {\"StartTime\": 1662909743.3815074, \"EndTime\": 1662909743.3815234, \"Dimensions\": {\"Algorithm\": \"Linear Learner\", \"Host\": \"algo-1\", \"Operation\": \"training\", \"epoch\": 2, \"model\": 19}, \"Metrics\": {\"train_absolute_loss_objective\": {\"sum\": 0.8393641948699951, \"count\": 1, \"min\": 0.8393641948699951, \"max\": 0.8393641948699951}}}\u001b[0m\n",
      "\u001b[34m#metrics {\"StartTime\": 1662909743.3815749, \"EndTime\": 1662909743.3815916, \"Dimensions\": {\"Algorithm\": \"Linear Learner\", \"Host\": \"algo-1\", \"Operation\": \"training\", \"epoch\": 2, \"model\": 20}, \"Metrics\": {\"train_absolute_loss_objective\": {\"sum\": 0.44967007637023926, \"count\": 1, \"min\": 0.44967007637023926, \"max\": 0.44967007637023926}}}\u001b[0m\n",
      "\u001b[34m#metrics {\"StartTime\": 1662909743.3816407, \"EndTime\": 1662909743.3816566, \"Dimensions\": {\"Algorithm\": \"Linear Learner\", \"Host\": \"algo-1\", \"Operation\": \"training\", \"epoch\": 2, \"model\": 21}, \"Metrics\": {\"train_absolute_loss_objective\": {\"sum\": 0.45575796127319335, \"count\": 1, \"min\": 0.45575796127319335, \"max\": 0.45575796127319335}}}\u001b[0m\n",
      "\u001b[34m#metrics {\"StartTime\": 1662909743.3817072, \"EndTime\": 1662909743.3817225, \"Dimensions\": {\"Algorithm\": \"Linear Learner\", \"Host\": \"algo-1\", \"Operation\": \"training\", \"epoch\": 2, \"model\": 22}, \"Metrics\": {\"train_absolute_loss_objective\": {\"sum\": 0.6412307357788086, \"count\": 1, \"min\": 0.6412307357788086, \"max\": 0.6412307357788086}}}\u001b[0m\n",
      "\u001b[34m#metrics {\"StartTime\": 1662909743.3817713, \"EndTime\": 1662909743.3817868, \"Dimensions\": {\"Algorithm\": \"Linear Learner\", \"Host\": \"algo-1\", \"Operation\": \"training\", \"epoch\": 2, \"model\": 23}, \"Metrics\": {\"train_absolute_loss_objective\": {\"sum\": 0.4607272720336914, \"count\": 1, \"min\": 0.4607272720336914, \"max\": 0.4607272720336914}}}\u001b[0m\n",
      "\u001b[34m#metrics {\"StartTime\": 1662909743.38184, \"EndTime\": 1662909743.381856, \"Dimensions\": {\"Algorithm\": \"Linear Learner\", \"Host\": \"algo-1\", \"Operation\": \"training\", \"epoch\": 2, \"model\": 24}, \"Metrics\": {\"train_absolute_loss_objective\": {\"sum\": 0.8961219215393066, \"count\": 1, \"min\": 0.8961219215393066, \"max\": 0.8961219215393066}}}\u001b[0m\n",
      "\u001b[34m#metrics {\"StartTime\": 1662909743.381906, \"EndTime\": 1662909743.3819213, \"Dimensions\": {\"Algorithm\": \"Linear Learner\", \"Host\": \"algo-1\", \"Operation\": \"training\", \"epoch\": 2, \"model\": 25}, \"Metrics\": {\"train_absolute_loss_objective\": {\"sum\": 0.8913513278961182, \"count\": 1, \"min\": 0.8913513278961182, \"max\": 0.8913513278961182}}}\u001b[0m\n",
      "\u001b[34m#metrics {\"StartTime\": 1662909743.381971, \"EndTime\": 1662909743.3819861, \"Dimensions\": {\"Algorithm\": \"Linear Learner\", \"Host\": \"algo-1\", \"Operation\": \"training\", \"epoch\": 2, \"model\": 26}, \"Metrics\": {\"train_absolute_loss_objective\": {\"sum\": 0.8904420280456543, \"count\": 1, \"min\": 0.8904420280456543, \"max\": 0.8904420280456543}}}\u001b[0m\n",
      "\u001b[34m#metrics {\"StartTime\": 1662909743.3820379, \"EndTime\": 1662909743.3820543, \"Dimensions\": {\"Algorithm\": \"Linear Learner\", \"Host\": \"algo-1\", \"Operation\": \"training\", \"epoch\": 2, \"model\": 27}, \"Metrics\": {\"train_absolute_loss_objective\": {\"sum\": 0.900386438369751, \"count\": 1, \"min\": 0.900386438369751, \"max\": 0.900386438369751}}}\u001b[0m\n",
      "\u001b[34m#metrics {\"StartTime\": 1662909743.3821044, \"EndTime\": 1662909743.3821201, \"Dimensions\": {\"Algorithm\": \"Linear Learner\", \"Host\": \"algo-1\", \"Operation\": \"training\", \"epoch\": 2, \"model\": 28}, \"Metrics\": {\"train_absolute_loss_objective\": {\"sum\": 0.9984432983398438, \"count\": 1, \"min\": 0.9984432983398438, \"max\": 0.9984432983398438}}}\u001b[0m\n",
      "\u001b[34m#metrics {\"StartTime\": 1662909743.3821707, \"EndTime\": 1662909743.3821857, \"Dimensions\": {\"Algorithm\": \"Linear Learner\", \"Host\": \"algo-1\", \"Operation\": \"training\", \"epoch\": 2, \"model\": 29}, \"Metrics\": {\"train_absolute_loss_objective\": {\"sum\": 0.9983129024505615, \"count\": 1, \"min\": 0.9983129024505615, \"max\": 0.9983129024505615}}}\u001b[0m\n",
      "\u001b[34m#metrics {\"StartTime\": 1662909743.382234, \"EndTime\": 1662909743.38225, \"Dimensions\": {\"Algorithm\": \"Linear Learner\", \"Host\": \"algo-1\", \"Operation\": \"training\", \"epoch\": 2, \"model\": 30}, \"Metrics\": {\"train_absolute_loss_objective\": {\"sum\": 0.9804678535461426, \"count\": 1, \"min\": 0.9804678535461426, \"max\": 0.9804678535461426}}}\u001b[0m\n",
      "\u001b[34m#metrics {\"StartTime\": 1662909743.382302, \"EndTime\": 1662909743.3823185, \"Dimensions\": {\"Algorithm\": \"Linear Learner\", \"Host\": \"algo-1\", \"Operation\": \"training\", \"epoch\": 2, \"model\": 31}, \"Metrics\": {\"train_absolute_loss_objective\": {\"sum\": 1.016228542327881, \"count\": 1, \"min\": 1.016228542327881, \"max\": 1.016228542327881}}}\u001b[0m\n",
      "\u001b[34m[09/11/2022 15:22:23 INFO 140682820122432] #quality_metric: host=algo-1, epoch=2, train absolute_loss_objective <loss>=0.850509033203125\u001b[0m\n",
      "\u001b[34m[09/11/2022 15:22:23 INFO 140682820122432] #early_stopping_criteria_metric: host=algo-1, epoch=2, criteria=absolute_loss_objective, value=0.3631812357902527\u001b[0m\n",
      "\u001b[34m[09/11/2022 15:22:23 INFO 140682820122432] Epoch 2: Loss improved. Updating best model\u001b[0m\n",
      "\u001b[34m[09/11/2022 15:22:23 INFO 140682820122432] Saving model for epoch: 2\u001b[0m\n",
      "\u001b[34m[09/11/2022 15:22:23 INFO 140682820122432] Saved checkpoint to \"/tmp/tmpqidyosl5/mx-mod-0000.params\"\u001b[0m\n",
      "\u001b[34m[09/11/2022 15:22:23 INFO 140682820122432] #progress_metric: host=algo-1, completed 6.0 % of epochs\u001b[0m\n",
      "\u001b[34m#metrics {\"StartTime\": 1662909743.22559, \"EndTime\": 1662909743.3934171, \"Dimensions\": {\"Algorithm\": \"Linear Learner\", \"Host\": \"algo-1\", \"Operation\": \"training\", \"epoch\": 2, \"Meta\": \"training_data_iter\"}, \"Metrics\": {\"Total Records Seen\": {\"sum\": 109.0, \"count\": 1, \"min\": 109, \"max\": 109}, \"Total Batches Seen\": {\"sum\": 25.0, \"count\": 1, \"min\": 25, \"max\": 25}, \"Max Records Seen Between Resets\": {\"sum\": 26.0, \"count\": 1, \"min\": 26, \"max\": 26}, \"Max Batches Seen Between Resets\": {\"sum\": 6.0, \"count\": 1, \"min\": 6, \"max\": 6}, \"Reset Count\": {\"sum\": 5.0, \"count\": 1, \"min\": 5, \"max\": 5}, \"Number of Records Since Last Reset\": {\"sum\": 26.0, \"count\": 1, \"min\": 26, \"max\": 26}, \"Number of Batches Since Last Reset\": {\"sum\": 6.0, \"count\": 1, \"min\": 6, \"max\": 6}}}\u001b[0m\n",
      "\u001b[34m[09/11/2022 15:22:23 INFO 140682820122432] #throughput_metric: host=algo-1, train throughput=154.78806115902367 records/second\u001b[0m\n",
      "\u001b[34m[2022-09-11 15:22:23.636] [tensorio] [info] epoch_stats={\"data_pipeline\": \"/opt/ml/input/data/train\", \"epoch\": 10, \"duration\": 243, \"num_examples\": 6, \"num_bytes\": 1248}\u001b[0m\n",
      "\u001b[34m#metrics {\"StartTime\": 1662909743.6372602, \"EndTime\": 1662909743.6373763, \"Dimensions\": {\"Algorithm\": \"Linear Learner\", \"Host\": \"algo-1\", \"Operation\": \"training\", \"epoch\": 3, \"model\": 0}, \"Metrics\": {\"train_absolute_loss_objective\": {\"sum\": 0.8301948070526123, \"count\": 1, \"min\": 0.8301948070526123, \"max\": 0.8301948070526123}}}\u001b[0m\n",
      "\u001b[34m#metrics {\"StartTime\": 1662909743.6377223, \"EndTime\": 1662909743.6377466, \"Dimensions\": {\"Algorithm\": \"Linear Learner\", \"Host\": \"algo-1\", \"Operation\": \"training\", \"epoch\": 3, \"model\": 1}, \"Metrics\": {\"train_absolute_loss_objective\": {\"sum\": 0.8490495586395264, \"count\": 1, \"min\": 0.8490495586395264, \"max\": 0.8490495586395264}}}\u001b[0m\n",
      "\u001b[34m#metrics {\"StartTime\": 1662909743.6380498, \"EndTime\": 1662909743.6380742, \"Dimensions\": {\"Algorithm\": \"Linear Learner\", \"Host\": \"algo-1\", \"Operation\": \"training\", \"epoch\": 3, \"model\": 2}, \"Metrics\": {\"train_absolute_loss_objective\": {\"sum\": 0.8325112438201905, \"count\": 1, \"min\": 0.8325112438201905, \"max\": 0.8325112438201905}}}\u001b[0m\n",
      "\u001b[34m#metrics {\"StartTime\": 1662909743.6383705, \"EndTime\": 1662909743.6383986, \"Dimensions\": {\"Algorithm\": \"Linear Learner\", \"Host\": \"algo-1\", \"Operation\": \"training\", \"epoch\": 3, \"model\": 3}, \"Metrics\": {\"train_absolute_loss_objective\": {\"sum\": 0.8480723381042481, \"count\": 1, \"min\": 0.8480723381042481, \"max\": 0.8480723381042481}}}\u001b[0m\n",
      "\u001b[34m#metrics {\"StartTime\": 1662909743.6386983, \"EndTime\": 1662909743.6387231, \"Dimensions\": {\"Algorithm\": \"Linear Learner\", \"Host\": \"algo-1\", \"Operation\": \"training\", \"epoch\": 3, \"model\": 4}, \"Metrics\": {\"train_absolute_loss_objective\": {\"sum\": 0.40062077045440675, \"count\": 1, \"min\": 0.40062077045440675, \"max\": 0.40062077045440675}}}\u001b[0m\n",
      "\u001b[34m#metrics {\"StartTime\": 1662909743.6387904, \"EndTime\": 1662909743.6388085, \"Dimensions\": {\"Algorithm\": \"Linear Learner\", \"Host\": \"algo-1\", \"Operation\": \"training\", \"epoch\": 3, \"model\": 5}, \"Metrics\": {\"train_absolute_loss_objective\": {\"sum\": 0.3904772853851318, \"count\": 1, \"min\": 0.3904772853851318, \"max\": 0.3904772853851318}}}\u001b[0m\n",
      "\u001b[34m#metrics {\"StartTime\": 1662909743.6389022, \"EndTime\": 1662909743.638922, \"Dimensions\": {\"Algorithm\": \"Linear Learner\", \"Host\": \"algo-1\", \"Operation\": \"training\", \"epoch\": 3, \"model\": 6}, \"Metrics\": {\"train_absolute_loss_objective\": {\"sum\": 0.3983148956298828, \"count\": 1, \"min\": 0.3983148956298828, \"max\": 0.3983148956298828}}}\u001b[0m\n",
      "\u001b[34m#metrics {\"StartTime\": 1662909743.6389751, \"EndTime\": 1662909743.6389887, \"Dimensions\": {\"Algorithm\": \"Linear Learner\", \"Host\": \"algo-1\", \"Operation\": \"training\", \"epoch\": 3, \"model\": 7}, \"Metrics\": {\"train_absolute_loss_objective\": {\"sum\": 0.40559447288513184, \"count\": 1, \"min\": 0.40559447288513184, \"max\": 0.40559447288513184}}}\u001b[0m\n",
      "\u001b[34m#metrics {\"StartTime\": 1662909743.6390638, \"EndTime\": 1662909743.6390796, \"Dimensions\": {\"Algorithm\": \"Linear Learner\", \"Host\": \"algo-1\", \"Operation\": \"training\", \"epoch\": 3, \"model\": 8}, \"Metrics\": {\"train_absolute_loss_objective\": {\"sum\": 0.8846526050567627, \"count\": 1, \"min\": 0.8846526050567627, \"max\": 0.8846526050567627}}}\u001b[0m\n",
      "\u001b[34m#metrics {\"StartTime\": 1662909743.6391573, \"EndTime\": 1662909743.6391737, \"Dimensions\": {\"Algorithm\": \"Linear Learner\", \"Host\": \"algo-1\", \"Operation\": \"training\", \"epoch\": 3, \"model\": 9}, \"Metrics\": {\"train_absolute_loss_objective\": {\"sum\": 0.8183768844604492, \"count\": 1, \"min\": 0.8183768844604492, \"max\": 0.8183768844604492}}}\u001b[0m\n",
      "\u001b[34m#metrics {\"StartTime\": 1662909743.6392207, \"EndTime\": 1662909743.639237, \"Dimensions\": {\"Algorithm\": \"Linear Learner\", \"Host\": \"algo-1\", \"Operation\": \"training\", \"epoch\": 3, \"model\": 10}, \"Metrics\": {\"train_absolute_loss_objective\": {\"sum\": 0.825078763961792, \"count\": 1, \"min\": 0.825078763961792, \"max\": 0.825078763961792}}}\u001b[0m\n",
      "\u001b[34m#metrics {\"StartTime\": 1662909743.639351, \"EndTime\": 1662909743.63937, \"Dimensions\": {\"Algorithm\": \"Linear Learner\", \"Host\": \"algo-1\", \"Operation\": \"training\", \"epoch\": 3, \"model\": 11}, \"Metrics\": {\"train_absolute_loss_objective\": {\"sum\": 0.8105833530426025, \"count\": 1, \"min\": 0.8105833530426025, \"max\": 0.8105833530426025}}}\u001b[0m\n",
      "\u001b[34m#metrics {\"StartTime\": 1662909743.639421, \"EndTime\": 1662909743.6394684, \"Dimensions\": {\"Algorithm\": \"Linear Learner\", \"Host\": \"algo-1\", \"Operation\": \"training\", \"epoch\": 3, \"model\": 12}, \"Metrics\": {\"train_absolute_loss_objective\": {\"sum\": 0.38645747661590574, \"count\": 1, \"min\": 0.38645747661590574, \"max\": 0.38645747661590574}}}\u001b[0m\n",
      "\u001b[34m#metrics {\"StartTime\": 1662909743.6395175, \"EndTime\": 1662909743.6395307, \"Dimensions\": {\"Algorithm\": \"Linear Learner\", \"Host\": \"algo-1\", \"Operation\": \"training\", \"epoch\": 3, \"model\": 13}, \"Metrics\": {\"train_absolute_loss_objective\": {\"sum\": 0.3785241222381592, \"count\": 1, \"min\": 0.3785241222381592, \"max\": 0.3785241222381592}}}\u001b[0m\n",
      "\u001b[34m#metrics {\"StartTime\": 1662909743.639571, \"EndTime\": 1662909743.6395857, \"Dimensions\": {\"Algorithm\": \"Linear Learner\", \"Host\": \"algo-1\", \"Operation\": \"training\", \"epoch\": 3, \"model\": 14}, \"Metrics\": {\"train_absolute_loss_objective\": {\"sum\": 0.38664668560028076, \"count\": 1, \"min\": 0.38664668560028076, \"max\": 0.38664668560028076}}}\u001b[0m\n",
      "\u001b[34m#metrics {\"StartTime\": 1662909743.639669, \"EndTime\": 1662909743.6396856, \"Dimensions\": {\"Algorithm\": \"Linear Learner\", \"Host\": \"algo-1\", \"Operation\": \"training\", \"epoch\": 3, \"model\": 15}, \"Metrics\": {\"train_absolute_loss_objective\": {\"sum\": 0.3767878103256226, \"count\": 1, \"min\": 0.3767878103256226, \"max\": 0.3767878103256226}}}\u001b[0m\n",
      "\u001b[34m#metrics {\"StartTime\": 1662909743.6397314, \"EndTime\": 1662909743.6397462, \"Dimensions\": {\"Algorithm\": \"Linear Learner\", \"Host\": \"algo-1\", \"Operation\": \"training\", \"epoch\": 3, \"model\": 16}, \"Metrics\": {\"train_absolute_loss_objective\": {\"sum\": 0.7961083316802978, \"count\": 1, \"min\": 0.7961083316802978, \"max\": 0.7961083316802978}}}\u001b[0m\n",
      "\u001b[34m#metrics {\"StartTime\": 1662909743.6400247, \"EndTime\": 1662909743.6400464, \"Dimensions\": {\"Algorithm\": \"Linear Learner\", \"Host\": \"algo-1\", \"Operation\": \"training\", \"epoch\": 3, \"model\": 17}, \"Metrics\": {\"train_absolute_loss_objective\": {\"sum\": 0.8449078178405762, \"count\": 1, \"min\": 0.8449078178405762, \"max\": 0.8449078178405762}}}\u001b[0m\n",
      "\u001b[34m#metrics {\"StartTime\": 1662909743.6401114, \"EndTime\": 1662909743.6401272, \"Dimensions\": {\"Algorithm\": \"Linear Learner\", \"Host\": \"algo-1\", \"Operation\": \"training\", \"epoch\": 3, \"model\": 18}, \"Metrics\": {\"train_absolute_loss_objective\": {\"sum\": 0.8220122528076171, \"count\": 1, \"min\": 0.8220122528076171, \"max\": 0.8220122528076171}}}\u001b[0m\n",
      "\u001b[34m#metrics {\"StartTime\": 1662909743.641409, \"EndTime\": 1662909743.6414323, \"Dimensions\": {\"Algorithm\": \"Linear Learner\", \"Host\": \"algo-1\", \"Operation\": \"training\", \"epoch\": 3, \"model\": 19}, \"Metrics\": {\"train_absolute_loss_objective\": {\"sum\": 0.8191628074645996, \"count\": 1, \"min\": 0.8191628074645996, \"max\": 0.8191628074645996}}}\u001b[0m\n",
      "\u001b[34m#metrics {\"StartTime\": 1662909743.6414886, \"EndTime\": 1662909743.6415033, \"Dimensions\": {\"Algorithm\": \"Linear Learner\", \"Host\": \"algo-1\", \"Operation\": \"training\", \"epoch\": 3, \"model\": 20}, \"Metrics\": {\"train_absolute_loss_objective\": {\"sum\": 0.32026244163513184, \"count\": 1, \"min\": 0.32026244163513184, \"max\": 0.32026244163513184}}}\u001b[0m\n",
      "\u001b[34m#metrics {\"StartTime\": 1662909743.6415489, \"EndTime\": 1662909743.6415617, \"Dimensions\": {\"Algorithm\": \"Linear Learner\", \"Host\": \"algo-1\", \"Operation\": \"training\", \"epoch\": 3, \"model\": 21}, \"Metrics\": {\"train_absolute_loss_objective\": {\"sum\": 0.31798730373382567, \"count\": 1, \"min\": 0.31798730373382567, \"max\": 0.31798730373382567}}}\u001b[0m\n",
      "\u001b[34m#metrics {\"StartTime\": 1662909743.6416075, \"EndTime\": 1662909743.6416206, \"Dimensions\": {\"Algorithm\": \"Linear Learner\", \"Host\": \"algo-1\", \"Operation\": \"training\", \"epoch\": 3, \"model\": 22}, \"Metrics\": {\"train_absolute_loss_objective\": {\"sum\": 0.520672264099121, \"count\": 1, \"min\": 0.520672264099121, \"max\": 0.520672264099121}}}\u001b[0m\n",
      "\u001b[34m#metrics {\"StartTime\": 1662909743.641664, \"EndTime\": 1662909743.6416774, \"Dimensions\": {\"Algorithm\": \"Linear Learner\", \"Host\": \"algo-1\", \"Operation\": \"training\", \"epoch\": 3, \"model\": 23}, \"Metrics\": {\"train_absolute_loss_objective\": {\"sum\": 0.313951780796051, \"count\": 1, \"min\": 0.313951780796051, \"max\": 0.313951780796051}}}\u001b[0m\n",
      "\u001b[34m#metrics {\"StartTime\": 1662909743.6417248, \"EndTime\": 1662909743.6417403, \"Dimensions\": {\"Algorithm\": \"Linear Learner\", \"Host\": \"algo-1\", \"Operation\": \"training\", \"epoch\": 3, \"model\": 24}, \"Metrics\": {\"train_absolute_loss_objective\": {\"sum\": 0.9069103622436523, \"count\": 1, \"min\": 0.9069103622436523, \"max\": 0.9069103622436523}}}\u001b[0m\n",
      "\u001b[34m#metrics {\"StartTime\": 1662909743.6417894, \"EndTime\": 1662909743.641806, \"Dimensions\": {\"Algorithm\": \"Linear Learner\", \"Host\": \"algo-1\", \"Operation\": \"training\", \"epoch\": 3, \"model\": 25}, \"Metrics\": {\"train_absolute_loss_objective\": {\"sum\": 0.8886055564880371, \"count\": 1, \"min\": 0.8886055564880371, \"max\": 0.8886055564880371}}}\u001b[0m\n",
      "\u001b[34m#metrics {\"StartTime\": 1662909743.641861, \"EndTime\": 1662909743.6418755, \"Dimensions\": {\"Algorithm\": \"Linear Learner\", \"Host\": \"algo-1\", \"Operation\": \"training\", \"epoch\": 3, \"model\": 26}, \"Metrics\": {\"train_absolute_loss_objective\": {\"sum\": 0.896255168914795, \"count\": 1, \"min\": 0.896255168914795, \"max\": 0.896255168914795}}}\u001b[0m\n",
      "\u001b[34m#metrics {\"StartTime\": 1662909743.6419232, \"EndTime\": 1662909743.6419377, \"Dimensions\": {\"Algorithm\": \"Linear Learner\", \"Host\": \"algo-1\", \"Operation\": \"training\", \"epoch\": 3, \"model\": 27}, \"Metrics\": {\"train_absolute_loss_objective\": {\"sum\": 0.9007539463043213, \"count\": 1, \"min\": 0.9007539463043213, \"max\": 0.9007539463043213}}}\u001b[0m\n",
      "\u001b[34m#metrics {\"StartTime\": 1662909743.641984, \"EndTime\": 1662909743.6419992, \"Dimensions\": {\"Algorithm\": \"Linear Learner\", \"Host\": \"algo-1\", \"Operation\": \"training\", \"epoch\": 3, \"model\": 28}, \"Metrics\": {\"train_absolute_loss_objective\": {\"sum\": 0.9820259857177734, \"count\": 1, \"min\": 0.9820259857177734, \"max\": 0.9820259857177734}}}\u001b[0m\n",
      "\u001b[34m#metrics {\"StartTime\": 1662909743.6420448, \"EndTime\": 1662909743.6420586, \"Dimensions\": {\"Algorithm\": \"Linear Learner\", \"Host\": \"algo-1\", \"Operation\": \"training\", \"epoch\": 3, \"model\": 29}, \"Metrics\": {\"train_absolute_loss_objective\": {\"sum\": 0.9835414028167725, \"count\": 1, \"min\": 0.9835414028167725, \"max\": 0.9835414028167725}}}\u001b[0m\n",
      "\u001b[34m#metrics {\"StartTime\": 1662909743.642102, \"EndTime\": 1662909743.6421156, \"Dimensions\": {\"Algorithm\": \"Linear Learner\", \"Host\": \"algo-1\", \"Operation\": \"training\", \"epoch\": 3, \"model\": 30}, \"Metrics\": {\"train_absolute_loss_objective\": {\"sum\": 0.9685052013397217, \"count\": 1, \"min\": 0.9685052013397217, \"max\": 0.9685052013397217}}}\u001b[0m\n",
      "\u001b[34m#metrics {\"StartTime\": 1662909743.642157, \"EndTime\": 1662909743.6421716, \"Dimensions\": {\"Algorithm\": \"Linear Learner\", \"Host\": \"algo-1\", \"Operation\": \"training\", \"epoch\": 3, \"model\": 31}, \"Metrics\": {\"train_absolute_loss_objective\": {\"sum\": 0.9586565017700195, \"count\": 1, \"min\": 0.9586565017700195, \"max\": 0.9586565017700195}}}\u001b[0m\n",
      "\u001b[34m[09/11/2022 15:22:23 INFO 140682820122432] #quality_metric: host=algo-1, epoch=3, train absolute_loss_objective <loss>=0.8301948070526123\u001b[0m\n",
      "\u001b[34m[09/11/2022 15:22:23 INFO 140682820122432] #early_stopping_criteria_metric: host=algo-1, epoch=3, criteria=absolute_loss_objective, value=0.313951780796051\u001b[0m\n",
      "\u001b[34m[09/11/2022 15:22:23 INFO 140682820122432] Epoch 3: Loss improved. Updating best model\u001b[0m\n",
      "\u001b[34m[09/11/2022 15:22:23 INFO 140682820122432] Saving model for epoch: 3\u001b[0m\n",
      "\u001b[34m[09/11/2022 15:22:23 INFO 140682820122432] Saved checkpoint to \"/tmp/tmptab8c91v/mx-mod-0000.params\"\u001b[0m\n",
      "\u001b[34m[09/11/2022 15:22:23 INFO 140682820122432] #progress_metric: host=algo-1, completed 8.0 % of epochs\u001b[0m\n",
      "\u001b[34m#metrics {\"StartTime\": 1662909743.3937135, \"EndTime\": 1662909743.657783, \"Dimensions\": {\"Algorithm\": \"Linear Learner\", \"Host\": \"algo-1\", \"Operation\": \"training\", \"epoch\": 3, \"Meta\": \"training_data_iter\"}, \"Metrics\": {\"Total Records Seen\": {\"sum\": 135.0, \"count\": 1, \"min\": 135, \"max\": 135}, \"Total Batches Seen\": {\"sum\": 31.0, \"count\": 1, \"min\": 31, \"max\": 31}, \"Max Records Seen Between Resets\": {\"sum\": 26.0, \"count\": 1, \"min\": 26, \"max\": 26}, \"Max Batches Seen Between Resets\": {\"sum\": 6.0, \"count\": 1, \"min\": 6, \"max\": 6}, \"Reset Count\": {\"sum\": 6.0, \"count\": 1, \"min\": 6, \"max\": 6}, \"Number of Records Since Last Reset\": {\"sum\": 26.0, \"count\": 1, \"min\": 26, \"max\": 26}, \"Number of Batches Since Last Reset\": {\"sum\": 6.0, \"count\": 1, \"min\": 6, \"max\": 6}}}\u001b[0m\n",
      "\u001b[34m[09/11/2022 15:22:23 INFO 140682820122432] #throughput_metric: host=algo-1, train throughput=98.40453347771161 records/second\u001b[0m\n",
      "\u001b[34m[2022-09-11 15:22:23.817] [tensorio] [info] epoch_stats={\"data_pipeline\": \"/opt/ml/input/data/train\", \"epoch\": 12, \"duration\": 159, \"num_examples\": 6, \"num_bytes\": 1248}\u001b[0m\n",
      "\u001b[34m#metrics {\"StartTime\": 1662909743.8178682, \"EndTime\": 1662909743.817953, \"Dimensions\": {\"Algorithm\": \"Linear Learner\", \"Host\": \"algo-1\", \"Operation\": \"training\", \"epoch\": 4, \"model\": 0}, \"Metrics\": {\"train_absolute_loss_objective\": {\"sum\": 0.8096971988677979, \"count\": 1, \"min\": 0.8096971988677979, \"max\": 0.8096971988677979}}}\u001b[0m\n",
      "\u001b[34m#metrics {\"StartTime\": 1662909743.8180447, \"EndTime\": 1662909743.8180645, \"Dimensions\": {\"Algorithm\": \"Linear Learner\", \"Host\": \"algo-1\", \"Operation\": \"training\", \"epoch\": 4, \"model\": 1}, \"Metrics\": {\"train_absolute_loss_objective\": {\"sum\": 0.8282788944244385, \"count\": 1, \"min\": 0.8282788944244385, \"max\": 0.8282788944244385}}}\u001b[0m\n",
      "\u001b[34m#metrics {\"StartTime\": 1662909743.8181229, \"EndTime\": 1662909743.8181388, \"Dimensions\": {\"Algorithm\": \"Linear Learner\", \"Host\": \"algo-1\", \"Operation\": \"training\", \"epoch\": 4, \"model\": 2}, \"Metrics\": {\"train_absolute_loss_objective\": {\"sum\": 0.8120136451721192, \"count\": 1, \"min\": 0.8120136451721192, \"max\": 0.8120136451721192}}}\u001b[0m\n",
      "\u001b[34m#metrics {\"StartTime\": 1662909743.8181858, \"EndTime\": 1662909743.8182, \"Dimensions\": {\"Algorithm\": \"Linear Learner\", \"Host\": \"algo-1\", \"Operation\": \"training\", \"epoch\": 4, \"model\": 3}, \"Metrics\": {\"train_absolute_loss_objective\": {\"sum\": 0.8273016738891602, \"count\": 1, \"min\": 0.8273016738891602, \"max\": 0.8273016738891602}}}\u001b[0m\n",
      "\u001b[34m#metrics {\"StartTime\": 1662909743.8182445, \"EndTime\": 1662909743.8182578, \"Dimensions\": {\"Algorithm\": \"Linear Learner\", \"Host\": \"algo-1\", \"Operation\": \"training\", \"epoch\": 4, \"model\": 4}, \"Metrics\": {\"train_absolute_loss_objective\": {\"sum\": 0.33058265209197996, \"count\": 1, \"min\": 0.33058265209197996, \"max\": 0.33058265209197996}}}\u001b[0m\n",
      "\u001b[34m#metrics {\"StartTime\": 1662909743.8183024, \"EndTime\": 1662909743.818316, \"Dimensions\": {\"Algorithm\": \"Linear Learner\", \"Host\": \"algo-1\", \"Operation\": \"training\", \"epoch\": 4, \"model\": 5}, \"Metrics\": {\"train_absolute_loss_objective\": {\"sum\": 0.29510262966156003, \"count\": 1, \"min\": 0.29510262966156003, \"max\": 0.29510262966156003}}}\u001b[0m\n",
      "\u001b[34m#metrics {\"StartTime\": 1662909743.818359, \"EndTime\": 1662909743.8183713, \"Dimensions\": {\"Algorithm\": \"Linear Learner\", \"Host\": \"algo-1\", \"Operation\": \"training\", \"epoch\": 4, \"model\": 6}, \"Metrics\": {\"train_absolute_loss_objective\": {\"sum\": 0.3100565242767334, \"count\": 1, \"min\": 0.3100565242767334, \"max\": 0.3100565242767334}}}\u001b[0m\n",
      "\u001b[34m#metrics {\"StartTime\": 1662909743.8184123, \"EndTime\": 1662909743.8184254, \"Dimensions\": {\"Algorithm\": \"Linear Learner\", \"Host\": \"algo-1\", \"Operation\": \"training\", \"epoch\": 4, \"model\": 7}, \"Metrics\": {\"train_absolute_loss_objective\": {\"sum\": 0.3127982378005981, \"count\": 1, \"min\": 0.3127982378005981, \"max\": 0.3127982378005981}}}\u001b[0m\n",
      "\u001b[34m#metrics {\"StartTime\": 1662909743.818471, \"EndTime\": 1662909743.818484, \"Dimensions\": {\"Algorithm\": \"Linear Learner\", \"Host\": \"algo-1\", \"Operation\": \"training\", \"epoch\": 4, \"model\": 8}, \"Metrics\": {\"train_absolute_loss_objective\": {\"sum\": 0.8646210670471192, \"count\": 1, \"min\": 0.8646210670471192, \"max\": 0.8646210670471192}}}\u001b[0m\n",
      "\u001b[34m#metrics {\"StartTime\": 1662909743.8185267, \"EndTime\": 1662909743.8185394, \"Dimensions\": {\"Algorithm\": \"Linear Learner\", \"Host\": \"algo-1\", \"Operation\": \"training\", \"epoch\": 4, \"model\": 9}, \"Metrics\": {\"train_absolute_loss_objective\": {\"sum\": 0.7976109409332275, \"count\": 1, \"min\": 0.7976109409332275, \"max\": 0.7976109409332275}}}\u001b[0m\n",
      "\u001b[34m#metrics {\"StartTime\": 1662909743.8185797, \"EndTime\": 1662909743.8185918, \"Dimensions\": {\"Algorithm\": \"Linear Learner\", \"Host\": \"algo-1\", \"Operation\": \"training\", \"epoch\": 4, \"model\": 10}, \"Metrics\": {\"train_absolute_loss_objective\": {\"sum\": 0.8045856952667236, \"count\": 1, \"min\": 0.8045856952667236, \"max\": 0.8045856952667236}}}\u001b[0m\n",
      "\u001b[34m#metrics {\"StartTime\": 1662909743.8186336, \"EndTime\": 1662909743.8186703, \"Dimensions\": {\"Algorithm\": \"Linear Learner\", \"Host\": \"algo-1\", \"Operation\": \"training\", \"epoch\": 4, \"model\": 11}, \"Metrics\": {\"train_absolute_loss_objective\": {\"sum\": 0.7898174858093262, \"count\": 1, \"min\": 0.7898174858093262, \"max\": 0.7898174858093262}}}\u001b[0m\n",
      "\u001b[34m#metrics {\"StartTime\": 1662909743.818723, \"EndTime\": 1662909743.8187401, \"Dimensions\": {\"Algorithm\": \"Linear Learner\", \"Host\": \"algo-1\", \"Operation\": \"training\", \"epoch\": 4, \"model\": 12}, \"Metrics\": {\"train_absolute_loss_objective\": {\"sum\": 0.39960004806518556, \"count\": 1, \"min\": 0.39960004806518556, \"max\": 0.39960004806518556}}}\u001b[0m\n",
      "\u001b[34m#metrics {\"StartTime\": 1662909743.8187935, \"EndTime\": 1662909743.8188074, \"Dimensions\": {\"Algorithm\": \"Linear Learner\", \"Host\": \"algo-1\", \"Operation\": \"training\", \"epoch\": 4, \"model\": 13}, \"Metrics\": {\"train_absolute_loss_objective\": {\"sum\": 0.32444325447082517, \"count\": 1, \"min\": 0.32444325447082517, \"max\": 0.32444325447082517}}}\u001b[0m\n",
      "\u001b[34m#metrics {\"StartTime\": 1662909743.8188534, \"EndTime\": 1662909743.8188689, \"Dimensions\": {\"Algorithm\": \"Linear Learner\", \"Host\": \"algo-1\", \"Operation\": \"training\", \"epoch\": 4, \"model\": 14}, \"Metrics\": {\"train_absolute_loss_objective\": {\"sum\": 0.4001779651641846, \"count\": 1, \"min\": 0.4001779651641846, \"max\": 0.4001779651641846}}}\u001b[0m\n",
      "\u001b[34m#metrics {\"StartTime\": 1662909743.8189156, \"EndTime\": 1662909743.8189294, \"Dimensions\": {\"Algorithm\": \"Linear Learner\", \"Host\": \"algo-1\", \"Operation\": \"training\", \"epoch\": 4, \"model\": 15}, \"Metrics\": {\"train_absolute_loss_objective\": {\"sum\": 0.32211401462554934, \"count\": 1, \"min\": 0.32211401462554934, \"max\": 0.32211401462554934}}}\u001b[0m\n",
      "\u001b[34m#metrics {\"StartTime\": 1662909743.8189774, \"EndTime\": 1662909743.8189933, \"Dimensions\": {\"Algorithm\": \"Linear Learner\", \"Host\": \"algo-1\", \"Operation\": \"training\", \"epoch\": 4, \"model\": 16}, \"Metrics\": {\"train_absolute_loss_objective\": {\"sum\": 0.7761778831481934, \"count\": 1, \"min\": 0.7761778831481934, \"max\": 0.7761778831481934}}}\u001b[0m\n",
      "\u001b[34m#metrics {\"StartTime\": 1662909743.8190463, \"EndTime\": 1662909743.8190625, \"Dimensions\": {\"Algorithm\": \"Linear Learner\", \"Host\": \"algo-1\", \"Operation\": \"training\", \"epoch\": 4, \"model\": 17}, \"Metrics\": {\"train_absolute_loss_objective\": {\"sum\": 0.8246024990081787, \"count\": 1, \"min\": 0.8246024990081787, \"max\": 0.8246024990081787}}}\u001b[0m\n",
      "\u001b[34m#metrics {\"StartTime\": 1662909743.8191063, \"EndTime\": 1662909743.8191195, \"Dimensions\": {\"Algorithm\": \"Linear Learner\", \"Host\": \"algo-1\", \"Operation\": \"training\", \"epoch\": 4, \"model\": 18}, \"Metrics\": {\"train_absolute_loss_objective\": {\"sum\": 0.8020205974578858, \"count\": 1, \"min\": 0.8020205974578858, \"max\": 0.8020205974578858}}}\u001b[0m\n",
      "\u001b[34m#metrics {\"StartTime\": 1662909743.8191628, \"EndTime\": 1662909743.8191772, \"Dimensions\": {\"Algorithm\": \"Linear Learner\", \"Host\": \"algo-1\", \"Operation\": \"training\", \"epoch\": 4, \"model\": 19}, \"Metrics\": {\"train_absolute_loss_objective\": {\"sum\": 0.7989141368865966, \"count\": 1, \"min\": 0.7989141368865966, \"max\": 0.7989141368865966}}}\u001b[0m\n",
      "\u001b[34m#metrics {\"StartTime\": 1662909743.8192244, \"EndTime\": 1662909743.8192377, \"Dimensions\": {\"Algorithm\": \"Linear Learner\", \"Host\": \"algo-1\", \"Operation\": \"training\", \"epoch\": 4, \"model\": 20}, \"Metrics\": {\"train_absolute_loss_objective\": {\"sum\": 0.46036882400512696, \"count\": 1, \"min\": 0.46036882400512696, \"max\": 0.46036882400512696}}}\u001b[0m\n",
      "\u001b[34m#metrics {\"StartTime\": 1662909743.8192766, \"EndTime\": 1662909743.819288, \"Dimensions\": {\"Algorithm\": \"Linear Learner\", \"Host\": \"algo-1\", \"Operation\": \"training\", \"epoch\": 4, \"model\": 21}, \"Metrics\": {\"train_absolute_loss_objective\": {\"sum\": 0.4554093790054321, \"count\": 1, \"min\": 0.4554093790054321, \"max\": 0.4554093790054321}}}\u001b[0m\n",
      "\u001b[34m#metrics {\"StartTime\": 1662909743.8193269, \"EndTime\": 1662909743.819339, \"Dimensions\": {\"Algorithm\": \"Linear Learner\", \"Host\": \"algo-1\", \"Operation\": \"training\", \"epoch\": 4, \"model\": 22}, \"Metrics\": {\"train_absolute_loss_objective\": {\"sum\": 0.5793769359588623, \"count\": 1, \"min\": 0.5793769359588623, \"max\": 0.5793769359588623}}}\u001b[0m\n",
      "\u001b[34m#metrics {\"StartTime\": 1662909743.8193858, \"EndTime\": 1662909743.8193996, \"Dimensions\": {\"Algorithm\": \"Linear Learner\", \"Host\": \"algo-1\", \"Operation\": \"training\", \"epoch\": 4, \"model\": 23}, \"Metrics\": {\"train_absolute_loss_objective\": {\"sum\": 0.44704349994659426, \"count\": 1, \"min\": 0.44704349994659426, \"max\": 0.44704349994659426}}}\u001b[0m\n",
      "\u001b[34m#metrics {\"StartTime\": 1662909743.8194423, \"EndTime\": 1662909743.819456, \"Dimensions\": {\"Algorithm\": \"Linear Learner\", \"Host\": \"algo-1\", \"Operation\": \"training\", \"epoch\": 4, \"model\": 24}, \"Metrics\": {\"train_absolute_loss_objective\": {\"sum\": 0.9094587993621827, \"count\": 1, \"min\": 0.9094587993621827, \"max\": 0.9094587993621827}}}\u001b[0m\n",
      "\u001b[34m#metrics {\"StartTime\": 1662909743.8195026, \"EndTime\": 1662909743.8195174, \"Dimensions\": {\"Algorithm\": \"Linear Learner\", \"Host\": \"algo-1\", \"Operation\": \"training\", \"epoch\": 4, \"model\": 25}, \"Metrics\": {\"train_absolute_loss_objective\": {\"sum\": 0.8929617118835449, \"count\": 1, \"min\": 0.8929617118835449, \"max\": 0.8929617118835449}}}\u001b[0m\n",
      "\u001b[34m#metrics {\"StartTime\": 1662909743.819561, \"EndTime\": 1662909743.8195736, \"Dimensions\": {\"Algorithm\": \"Linear Learner\", \"Host\": \"algo-1\", \"Operation\": \"training\", \"epoch\": 4, \"model\": 26}, \"Metrics\": {\"train_absolute_loss_objective\": {\"sum\": 0.9016598033905029, \"count\": 1, \"min\": 0.9016598033905029, \"max\": 0.9016598033905029}}}\u001b[0m\n",
      "\u001b[34m#metrics {\"StartTime\": 1662909743.8196166, \"EndTime\": 1662909743.8196323, \"Dimensions\": {\"Algorithm\": \"Linear Learner\", \"Host\": \"algo-1\", \"Operation\": \"training\", \"epoch\": 4, \"model\": 27}, \"Metrics\": {\"train_absolute_loss_objective\": {\"sum\": 0.8974296855926513, \"count\": 1, \"min\": 0.8974296855926513, \"max\": 0.8974296855926513}}}\u001b[0m\n",
      "\u001b[34m#metrics {\"StartTime\": 1662909743.81968, \"EndTime\": 1662909743.8196971, \"Dimensions\": {\"Algorithm\": \"Linear Learner\", \"Host\": \"algo-1\", \"Operation\": \"training\", \"epoch\": 4, \"model\": 28}, \"Metrics\": {\"train_absolute_loss_objective\": {\"sum\": 0.952326545715332, \"count\": 1, \"min\": 0.952326545715332, \"max\": 0.952326545715332}}}\u001b[0m\n",
      "\u001b[34m#metrics {\"StartTime\": 1662909743.8197453, \"EndTime\": 1662909743.81976, \"Dimensions\": {\"Algorithm\": \"Linear Learner\", \"Host\": \"algo-1\", \"Operation\": \"training\", \"epoch\": 4, \"model\": 29}, \"Metrics\": {\"train_absolute_loss_objective\": {\"sum\": 0.9567880821228028, \"count\": 1, \"min\": 0.9567880821228028, \"max\": 0.9567880821228028}}}\u001b[0m\n",
      "\u001b[34m#metrics {\"StartTime\": 1662909743.8198075, \"EndTime\": 1662909743.819822, \"Dimensions\": {\"Algorithm\": \"Linear Learner\", \"Host\": \"algo-1\", \"Operation\": \"training\", \"epoch\": 4, \"model\": 30}, \"Metrics\": {\"train_absolute_loss_objective\": {\"sum\": 0.9365608119964599, \"count\": 1, \"min\": 0.9365608119964599, \"max\": 0.9365608119964599}}}\u001b[0m\n",
      "\u001b[34m#metrics {\"StartTime\": 1662909743.8198647, \"EndTime\": 1662909743.819878, \"Dimensions\": {\"Algorithm\": \"Linear Learner\", \"Host\": \"algo-1\", \"Operation\": \"training\", \"epoch\": 4, \"model\": 31}, \"Metrics\": {\"train_absolute_loss_objective\": {\"sum\": 0.9776425457000733, \"count\": 1, \"min\": 0.9776425457000733, \"max\": 0.9776425457000733}}}\u001b[0m\n",
      "\u001b[34m[09/11/2022 15:22:23 INFO 140682820122432] #quality_metric: host=algo-1, epoch=4, train absolute_loss_objective <loss>=0.8096971988677979\u001b[0m\n",
      "\u001b[34m[09/11/2022 15:22:23 INFO 140682820122432] #early_stopping_criteria_metric: host=algo-1, epoch=4, criteria=absolute_loss_objective, value=0.29510262966156003\u001b[0m\n",
      "\u001b[34m[09/11/2022 15:22:23 INFO 140682820122432] Epoch 4: Loss improved. Updating best model\u001b[0m\n",
      "\u001b[34m[09/11/2022 15:22:23 INFO 140682820122432] Saving model for epoch: 4\u001b[0m\n",
      "\u001b[34m[09/11/2022 15:22:23 INFO 140682820122432] Saved checkpoint to \"/tmp/tmpwrjuvh86/mx-mod-0000.params\"\u001b[0m\n",
      "\u001b[34m[09/11/2022 15:22:23 INFO 140682820122432] #progress_metric: host=algo-1, completed 10.0 % of epochs\u001b[0m\n",
      "\u001b[34m#metrics {\"StartTime\": 1662909743.6580915, \"EndTime\": 1662909743.8333938, \"Dimensions\": {\"Algorithm\": \"Linear Learner\", \"Host\": \"algo-1\", \"Operation\": \"training\", \"epoch\": 4, \"Meta\": \"training_data_iter\"}, \"Metrics\": {\"Total Records Seen\": {\"sum\": 161.0, \"count\": 1, \"min\": 161, \"max\": 161}, \"Total Batches Seen\": {\"sum\": 37.0, \"count\": 1, \"min\": 37, \"max\": 37}, \"Max Records Seen Between Resets\": {\"sum\": 26.0, \"count\": 1, \"min\": 26, \"max\": 26}, \"Max Batches Seen Between Resets\": {\"sum\": 6.0, \"count\": 1, \"min\": 6, \"max\": 6}, \"Reset Count\": {\"sum\": 7.0, \"count\": 1, \"min\": 7, \"max\": 7}, \"Number of Records Since Last Reset\": {\"sum\": 26.0, \"count\": 1, \"min\": 26, \"max\": 26}, \"Number of Batches Since Last Reset\": {\"sum\": 6.0, \"count\": 1, \"min\": 6, \"max\": 6}}}\u001b[0m\n",
      "\u001b[34m[09/11/2022 15:22:23 INFO 140682820122432] #throughput_metric: host=algo-1, train throughput=148.18928761672845 records/second\u001b[0m\n",
      "\u001b[34m[2022-09-11 15:22:24.001] [tensorio] [info] epoch_stats={\"data_pipeline\": \"/opt/ml/input/data/train\", \"epoch\": 14, \"duration\": 167, \"num_examples\": 6, \"num_bytes\": 1248}\u001b[0m\n",
      "\u001b[34m#metrics {\"StartTime\": 1662909744.0011587, \"EndTime\": 1662909744.0012453, \"Dimensions\": {\"Algorithm\": \"Linear Learner\", \"Host\": \"algo-1\", \"Operation\": \"training\", \"epoch\": 5, \"model\": 0}, \"Metrics\": {\"train_absolute_loss_objective\": {\"sum\": 0.789196891784668, \"count\": 1, \"min\": 0.789196891784668, \"max\": 0.789196891784668}}}\u001b[0m\n",
      "\u001b[34m#metrics {\"StartTime\": 1662909744.001337, \"EndTime\": 1662909744.001358, \"Dimensions\": {\"Algorithm\": \"Linear Learner\", \"Host\": \"algo-1\", \"Operation\": \"training\", \"epoch\": 5, \"model\": 1}, \"Metrics\": {\"train_absolute_loss_objective\": {\"sum\": 0.8073623752593995, \"count\": 1, \"min\": 0.8073623752593995, \"max\": 0.8073623752593995}}}\u001b[0m\n",
      "\u001b[34m#metrics {\"StartTime\": 1662909744.0014184, \"EndTime\": 1662909744.001437, \"Dimensions\": {\"Algorithm\": \"Linear Learner\", \"Host\": \"algo-1\", \"Operation\": \"training\", \"epoch\": 5, \"model\": 2}, \"Metrics\": {\"train_absolute_loss_objective\": {\"sum\": 0.7915133476257324, \"count\": 1, \"min\": 0.7915133476257324, \"max\": 0.7915133476257324}}}\u001b[0m\n",
      "\u001b[34m#metrics {\"StartTime\": 1662909744.0014908, \"EndTime\": 1662909744.0015078, \"Dimensions\": {\"Algorithm\": \"Linear Learner\", \"Host\": \"algo-1\", \"Operation\": \"training\", \"epoch\": 5, \"model\": 3}, \"Metrics\": {\"train_absolute_loss_objective\": {\"sum\": 0.8063851547241211, \"count\": 1, \"min\": 0.8063851547241211, \"max\": 0.8063851547241211}}}\u001b[0m\n",
      "\u001b[34m#metrics {\"StartTime\": 1662909744.0015595, \"EndTime\": 1662909744.0015764, \"Dimensions\": {\"Algorithm\": \"Linear Learner\", \"Host\": \"algo-1\", \"Operation\": \"training\", \"epoch\": 5, \"model\": 4}, \"Metrics\": {\"train_absolute_loss_objective\": {\"sum\": 0.17687476873397828, \"count\": 1, \"min\": 0.17687476873397828, \"max\": 0.17687476873397828}}}\u001b[0m\n",
      "\u001b[34m#metrics {\"StartTime\": 1662909744.001628, \"EndTime\": 1662909744.0016448, \"Dimensions\": {\"Algorithm\": \"Linear Learner\", \"Host\": \"algo-1\", \"Operation\": \"training\", \"epoch\": 5, \"model\": 5}, \"Metrics\": {\"train_absolute_loss_objective\": {\"sum\": 0.2627729511260986, \"count\": 1, \"min\": 0.2627729511260986, \"max\": 0.2627729511260986}}}\u001b[0m\n",
      "\u001b[34m#metrics {\"StartTime\": 1662909744.001695, \"EndTime\": 1662909744.0017114, \"Dimensions\": {\"Algorithm\": \"Linear Learner\", \"Host\": \"algo-1\", \"Operation\": \"training\", \"epoch\": 5, \"model\": 6}, \"Metrics\": {\"train_absolute_loss_objective\": {\"sum\": 0.26193532943725584, \"count\": 1, \"min\": 0.26193532943725584, \"max\": 0.26193532943725584}}}\u001b[0m\n",
      "\u001b[34m#metrics {\"StartTime\": 1662909744.0017614, \"EndTime\": 1662909744.001778, \"Dimensions\": {\"Algorithm\": \"Linear Learner\", \"Host\": \"algo-1\", \"Operation\": \"training\", \"epoch\": 5, \"model\": 7}, \"Metrics\": {\"train_absolute_loss_objective\": {\"sum\": 0.2497427225112915, \"count\": 1, \"min\": 0.2497427225112915, \"max\": 0.2497427225112915}}}\u001b[0m\n",
      "\u001b[34m#metrics {\"StartTime\": 1662909744.001828, \"EndTime\": 1662909744.0018444, \"Dimensions\": {\"Algorithm\": \"Linear Learner\", \"Host\": \"algo-1\", \"Operation\": \"training\", \"epoch\": 5, \"model\": 8}, \"Metrics\": {\"train_absolute_loss_objective\": {\"sum\": 0.8444299983978272, \"count\": 1, \"min\": 0.8444299983978272, \"max\": 0.8444299983978272}}}\u001b[0m\n",
      "\u001b[34m#metrics {\"StartTime\": 1662909744.0018935, \"EndTime\": 1662909744.0019097, \"Dimensions\": {\"Algorithm\": \"Linear Learner\", \"Host\": \"algo-1\", \"Operation\": \"training\", \"epoch\": 5, \"model\": 9}, \"Metrics\": {\"train_absolute_loss_objective\": {\"sum\": 0.7767011928558349, \"count\": 1, \"min\": 0.7767011928558349, \"max\": 0.7767011928558349}}}\u001b[0m\n",
      "\u001b[34m#metrics {\"StartTime\": 1662909744.001959, \"EndTime\": 1662909744.0019758, \"Dimensions\": {\"Algorithm\": \"Linear Learner\", \"Host\": \"algo-1\", \"Operation\": \"training\", \"epoch\": 5, \"model\": 10}, \"Metrics\": {\"train_absolute_loss_objective\": {\"sum\": 0.7840918827056885, \"count\": 1, \"min\": 0.7840918827056885, \"max\": 0.7840918827056885}}}\u001b[0m\n",
      "\u001b[34m#metrics {\"StartTime\": 1662909744.002025, \"EndTime\": 1662909744.0020409, \"Dimensions\": {\"Algorithm\": \"Linear Learner\", \"Host\": \"algo-1\", \"Operation\": \"training\", \"epoch\": 5, \"model\": 11}, \"Metrics\": {\"train_absolute_loss_objective\": {\"sum\": 0.7689077949523926, \"count\": 1, \"min\": 0.7689077949523926, \"max\": 0.7689077949523926}}}\u001b[0m\n",
      "\u001b[34m#metrics {\"StartTime\": 1662909744.0020902, \"EndTime\": 1662909744.0021064, \"Dimensions\": {\"Algorithm\": \"Linear Learner\", \"Host\": \"algo-1\", \"Operation\": \"training\", \"epoch\": 5, \"model\": 12}, \"Metrics\": {\"train_absolute_loss_objective\": {\"sum\": 0.2616178703308105, \"count\": 1, \"min\": 0.2616178703308105, \"max\": 0.2616178703308105}}}\u001b[0m\n",
      "\u001b[34m#metrics {\"StartTime\": 1662909744.0021558, \"EndTime\": 1662909744.0021722, \"Dimensions\": {\"Algorithm\": \"Linear Learner\", \"Host\": \"algo-1\", \"Operation\": \"training\", \"epoch\": 5, \"model\": 13}, \"Metrics\": {\"train_absolute_loss_objective\": {\"sum\": 0.293988618850708, \"count\": 1, \"min\": 0.293988618850708, \"max\": 0.293988618850708}}}\u001b[0m\n",
      "\u001b[34m#metrics {\"StartTime\": 1662909744.0022209, \"EndTime\": 1662909744.0022376, \"Dimensions\": {\"Algorithm\": \"Linear Learner\", \"Host\": \"algo-1\", \"Operation\": \"training\", \"epoch\": 5, \"model\": 14}, \"Metrics\": {\"train_absolute_loss_objective\": {\"sum\": 0.26208718299865724, \"count\": 1, \"min\": 0.26208718299865724, \"max\": 0.26208718299865724}}}\u001b[0m\n",
      "\u001b[34m#metrics {\"StartTime\": 1662909744.0022876, \"EndTime\": 1662909744.002304, \"Dimensions\": {\"Algorithm\": \"Linear Learner\", \"Host\": \"algo-1\", \"Operation\": \"training\", \"epoch\": 5, \"model\": 15}, \"Metrics\": {\"train_absolute_loss_objective\": {\"sum\": 0.291969051361084, \"count\": 1, \"min\": 0.291969051361084, \"max\": 0.291969051361084}}}\u001b[0m\n",
      "\u001b[34m#metrics {\"StartTime\": 1662909744.0023527, \"EndTime\": 1662909744.002369, \"Dimensions\": {\"Algorithm\": \"Linear Learner\", \"Host\": \"algo-1\", \"Operation\": \"training\", \"epoch\": 5, \"model\": 16}, \"Metrics\": {\"train_absolute_loss_objective\": {\"sum\": 0.7564870643615723, \"count\": 1, \"min\": 0.7564870643615723, \"max\": 0.7564870643615723}}}\u001b[0m\n",
      "\u001b[34m#metrics {\"StartTime\": 1662909744.0024173, \"EndTime\": 1662909744.0024338, \"Dimensions\": {\"Algorithm\": \"Linear Learner\", \"Host\": \"algo-1\", \"Operation\": \"training\", \"epoch\": 5, \"model\": 17}, \"Metrics\": {\"train_absolute_loss_objective\": {\"sum\": 0.8043831348419189, \"count\": 1, \"min\": 0.8043831348419189, \"max\": 0.8043831348419189}}}\u001b[0m\n",
      "\u001b[34m#metrics {\"StartTime\": 1662909744.0024824, \"EndTime\": 1662909744.0024981, \"Dimensions\": {\"Algorithm\": \"Linear Learner\", \"Host\": \"algo-1\", \"Operation\": \"training\", \"epoch\": 5, \"model\": 18}, \"Metrics\": {\"train_absolute_loss_objective\": {\"sum\": 0.782257194519043, \"count\": 1, \"min\": 0.782257194519043, \"max\": 0.782257194519043}}}\u001b[0m\n",
      "\u001b[34m#metrics {\"StartTime\": 1662909744.0025482, \"EndTime\": 1662909744.0025628, \"Dimensions\": {\"Algorithm\": \"Linear Learner\", \"Host\": \"algo-1\", \"Operation\": \"training\", \"epoch\": 5, \"model\": 19}, \"Metrics\": {\"train_absolute_loss_objective\": {\"sum\": 0.7787624835968018, \"count\": 1, \"min\": 0.7787624835968018, \"max\": 0.7787624835968018}}}\u001b[0m\n",
      "\u001b[34m#metrics {\"StartTime\": 1662909744.0026057, \"EndTime\": 1662909744.0026188, \"Dimensions\": {\"Algorithm\": \"Linear Learner\", \"Host\": \"algo-1\", \"Operation\": \"training\", \"epoch\": 5, \"model\": 20}, \"Metrics\": {\"train_absolute_loss_objective\": {\"sum\": 0.4580098247528076, \"count\": 1, \"min\": 0.4580098247528076, \"max\": 0.4580098247528076}}}\u001b[0m\n",
      "\u001b[34m#metrics {\"StartTime\": 1662909744.0026896, \"EndTime\": 1662909744.002705, \"Dimensions\": {\"Algorithm\": \"Linear Learner\", \"Host\": \"algo-1\", \"Operation\": \"training\", \"epoch\": 5, \"model\": 21}, \"Metrics\": {\"train_absolute_loss_objective\": {\"sum\": 0.4569601583480835, \"count\": 1, \"min\": 0.4569601583480835, \"max\": 0.4569601583480835}}}\u001b[0m\n",
      "\u001b[34m#metrics {\"StartTime\": 1662909744.0027514, \"EndTime\": 1662909744.0027657, \"Dimensions\": {\"Algorithm\": \"Linear Learner\", \"Host\": \"algo-1\", \"Operation\": \"training\", \"epoch\": 5, \"model\": 22}, \"Metrics\": {\"train_absolute_loss_objective\": {\"sum\": 0.5750105476379395, \"count\": 1, \"min\": 0.5750105476379395, \"max\": 0.5750105476379395}}}\u001b[0m\n",
      "\u001b[34m#metrics {\"StartTime\": 1662909744.0028145, \"EndTime\": 1662909744.0028305, \"Dimensions\": {\"Algorithm\": \"Linear Learner\", \"Host\": \"algo-1\", \"Operation\": \"training\", \"epoch\": 5, \"model\": 23}, \"Metrics\": {\"train_absolute_loss_objective\": {\"sum\": 0.45101850032806395, \"count\": 1, \"min\": 0.45101850032806395, \"max\": 0.45101850032806395}}}\u001b[0m\n",
      "\u001b[34m#metrics {\"StartTime\": 1662909744.002879, \"EndTime\": 1662909744.0028932, \"Dimensions\": {\"Algorithm\": \"Linear Learner\", \"Host\": \"algo-1\", \"Operation\": \"training\", \"epoch\": 5, \"model\": 24}, \"Metrics\": {\"train_absolute_loss_objective\": {\"sum\": 0.9064647006988525, \"count\": 1, \"min\": 0.9064647006988525, \"max\": 0.9064647006988525}}}\u001b[0m\n",
      "\u001b[34m#metrics {\"StartTime\": 1662909744.002941, \"EndTime\": 1662909744.0029554, \"Dimensions\": {\"Algorithm\": \"Linear Learner\", \"Host\": \"algo-1\", \"Operation\": \"training\", \"epoch\": 5, \"model\": 25}, \"Metrics\": {\"train_absolute_loss_objective\": {\"sum\": 0.8989042186737061, \"count\": 1, \"min\": 0.8989042186737061, \"max\": 0.8989042186737061}}}\u001b[0m\n",
      "\u001b[34m#metrics {\"StartTime\": 1662909744.0030017, \"EndTime\": 1662909744.003017, \"Dimensions\": {\"Algorithm\": \"Linear Learner\", \"Host\": \"algo-1\", \"Operation\": \"training\", \"epoch\": 5, \"model\": 26}, \"Metrics\": {\"train_absolute_loss_objective\": {\"sum\": 0.9012096214294434, \"count\": 1, \"min\": 0.9012096214294434, \"max\": 0.9012096214294434}}}\u001b[0m\n",
      "\u001b[34m#metrics {\"StartTime\": 1662909744.0030646, \"EndTime\": 1662909744.00308, \"Dimensions\": {\"Algorithm\": \"Linear Learner\", \"Host\": \"algo-1\", \"Operation\": \"training\", \"epoch\": 5, \"model\": 27}, \"Metrics\": {\"train_absolute_loss_objective\": {\"sum\": 0.8978090190887451, \"count\": 1, \"min\": 0.8978090190887451, \"max\": 0.8978090190887451}}}\u001b[0m\n",
      "\u001b[34m#metrics {\"StartTime\": 1662909744.0031252, \"EndTime\": 1662909744.0031383, \"Dimensions\": {\"Algorithm\": \"Linear Learner\", \"Host\": \"algo-1\", \"Operation\": \"training\", \"epoch\": 5, \"model\": 28}, \"Metrics\": {\"train_absolute_loss_objective\": {\"sum\": 0.9288479804992675, \"count\": 1, \"min\": 0.9288479804992675, \"max\": 0.9288479804992675}}}\u001b[0m\n",
      "\u001b[34m#metrics {\"StartTime\": 1662909744.0031855, \"EndTime\": 1662909744.0031993, \"Dimensions\": {\"Algorithm\": \"Linear Learner\", \"Host\": \"algo-1\", \"Operation\": \"training\", \"epoch\": 5, \"model\": 29}, \"Metrics\": {\"train_absolute_loss_objective\": {\"sum\": 0.9290063667297364, \"count\": 1, \"min\": 0.9290063667297364, \"max\": 0.9290063667297364}}}\u001b[0m\n",
      "\u001b[34m#metrics {\"StartTime\": 1662909744.003245, \"EndTime\": 1662909744.0032594, \"Dimensions\": {\"Algorithm\": \"Linear Learner\", \"Host\": \"algo-1\", \"Operation\": \"training\", \"epoch\": 5, \"model\": 30}, \"Metrics\": {\"train_absolute_loss_objective\": {\"sum\": 0.929577693939209, \"count\": 1, \"min\": 0.929577693939209, \"max\": 0.929577693939209}}}\u001b[0m\n",
      "\u001b[34m#metrics {\"StartTime\": 1662909744.003303, \"EndTime\": 1662909744.0033174, \"Dimensions\": {\"Algorithm\": \"Linear Learner\", \"Host\": \"algo-1\", \"Operation\": \"training\", \"epoch\": 5, \"model\": 31}, \"Metrics\": {\"train_absolute_loss_objective\": {\"sum\": 0.910256290435791, \"count\": 1, \"min\": 0.910256290435791, \"max\": 0.910256290435791}}}\u001b[0m\n",
      "\u001b[34m[09/11/2022 15:22:24 INFO 140682820122432] #quality_metric: host=algo-1, epoch=5, train absolute_loss_objective <loss>=0.789196891784668\u001b[0m\n",
      "\u001b[34m[09/11/2022 15:22:24 INFO 140682820122432] #early_stopping_criteria_metric: host=algo-1, epoch=5, criteria=absolute_loss_objective, value=0.17687476873397828\u001b[0m\n",
      "\u001b[34m[09/11/2022 15:22:24 INFO 140682820122432] Epoch 5: Loss improved. Updating best model\u001b[0m\n",
      "\u001b[34m[09/11/2022 15:22:24 INFO 140682820122432] Saving model for epoch: 5\u001b[0m\n",
      "\u001b[34m[09/11/2022 15:22:24 INFO 140682820122432] Saved checkpoint to \"/tmp/tmpiez42gya/mx-mod-0000.params\"\u001b[0m\n",
      "\u001b[34m[09/11/2022 15:22:24 INFO 140682820122432] #progress_metric: host=algo-1, completed 12.0 % of epochs\u001b[0m\n",
      "\u001b[34m#metrics {\"StartTime\": 1662909743.8337104, \"EndTime\": 1662909744.0179834, \"Dimensions\": {\"Algorithm\": \"Linear Learner\", \"Host\": \"algo-1\", \"Operation\": \"training\", \"epoch\": 5, \"Meta\": \"training_data_iter\"}, \"Metrics\": {\"Total Records Seen\": {\"sum\": 187.0, \"count\": 1, \"min\": 187, \"max\": 187}, \"Total Batches Seen\": {\"sum\": 43.0, \"count\": 1, \"min\": 43, \"max\": 43}, \"Max Records Seen Between Resets\": {\"sum\": 26.0, \"count\": 1, \"min\": 26, \"max\": 26}, \"Max Batches Seen Between Resets\": {\"sum\": 6.0, \"count\": 1, \"min\": 6, \"max\": 6}, \"Reset Count\": {\"sum\": 8.0, \"count\": 1, \"min\": 8, \"max\": 8}, \"Number of Records Since Last Reset\": {\"sum\": 26.0, \"count\": 1, \"min\": 26, \"max\": 26}, \"Number of Batches Since Last Reset\": {\"sum\": 6.0, \"count\": 1, \"min\": 6, \"max\": 6}}}\u001b[0m\n",
      "\u001b[34m[09/11/2022 15:22:24 INFO 140682820122432] #throughput_metric: host=algo-1, train throughput=140.98646656979 records/second\u001b[0m\n",
      "\u001b[34m[2022-09-11 15:22:24.194] [tensorio] [info] epoch_stats={\"data_pipeline\": \"/opt/ml/input/data/train\", \"epoch\": 16, \"duration\": 176, \"num_examples\": 6, \"num_bytes\": 1248}\u001b[0m\n",
      "\u001b[34m#metrics {\"StartTime\": 1662909744.1947424, \"EndTime\": 1662909744.1948261, \"Dimensions\": {\"Algorithm\": \"Linear Learner\", \"Host\": \"algo-1\", \"Operation\": \"training\", \"epoch\": 6, \"model\": 0}, \"Metrics\": {\"train_absolute_loss_objective\": {\"sum\": 0.7687600040435791, \"count\": 1, \"min\": 0.7687600040435791, \"max\": 0.7687600040435791}}}\u001b[0m\n",
      "\u001b[34m#metrics {\"StartTime\": 1662909744.1950521, \"EndTime\": 1662909744.1951544, \"Dimensions\": {\"Algorithm\": \"Linear Learner\", \"Host\": \"algo-1\", \"Operation\": \"training\", \"epoch\": 6, \"model\": 1}, \"Metrics\": {\"train_absolute_loss_objective\": {\"sum\": 0.7871133708953857, \"count\": 1, \"min\": 0.7871133708953857, \"max\": 0.7871133708953857}}}\u001b[0m\n",
      "\u001b[34m#metrics {\"StartTime\": 1662909744.195452, \"EndTime\": 1662909744.1954718, \"Dimensions\": {\"Algorithm\": \"Linear Learner\", \"Host\": \"algo-1\", \"Operation\": \"training\", \"epoch\": 6, \"model\": 2}, \"Metrics\": {\"train_absolute_loss_objective\": {\"sum\": 0.771154432296753, \"count\": 1, \"min\": 0.771154432296753, \"max\": 0.771154432296753}}}\u001b[0m\n",
      "\u001b[34m#metrics {\"StartTime\": 1662909744.195794, \"EndTime\": 1662909744.1958134, \"Dimensions\": {\"Algorithm\": \"Linear Learner\", \"Host\": \"algo-1\", \"Operation\": \"training\", \"epoch\": 6, \"model\": 3}, \"Metrics\": {\"train_absolute_loss_objective\": {\"sum\": 0.7861032772064209, \"count\": 1, \"min\": 0.7861032772064209, \"max\": 0.7861032772064209}}}\u001b[0m\n",
      "\u001b[34m#metrics {\"StartTime\": 1662909744.196114, \"EndTime\": 1662909744.1961336, \"Dimensions\": {\"Algorithm\": \"Linear Learner\", \"Host\": \"algo-1\", \"Operation\": \"training\", \"epoch\": 6, \"model\": 4}, \"Metrics\": {\"train_absolute_loss_objective\": {\"sum\": 0.18533342838287353, \"count\": 1, \"min\": 0.18533342838287353, \"max\": 0.18533342838287353}}}\u001b[0m\n",
      "\u001b[34m#metrics {\"StartTime\": 1662909744.1964178, \"EndTime\": 1662909744.196437, \"Dimensions\": {\"Algorithm\": \"Linear Learner\", \"Host\": \"algo-1\", \"Operation\": \"training\", \"epoch\": 6, \"model\": 5}, \"Metrics\": {\"train_absolute_loss_objective\": {\"sum\": 0.3941904449462891, \"count\": 1, \"min\": 0.3941904449462891, \"max\": 0.3941904449462891}}}\u001b[0m\n",
      "\u001b[34m#metrics {\"StartTime\": 1662909744.1967318, \"EndTime\": 1662909744.196751, \"Dimensions\": {\"Algorithm\": \"Linear Learner\", \"Host\": \"algo-1\", \"Operation\": \"training\", \"epoch\": 6, \"model\": 6}, \"Metrics\": {\"train_absolute_loss_objective\": {\"sum\": 0.2317001986503601, \"count\": 1, \"min\": 0.2317001986503601, \"max\": 0.2317001986503601}}}\u001b[0m\n",
      "\u001b[34m#metrics {\"StartTime\": 1662909744.1970232, \"EndTime\": 1662909744.1970468, \"Dimensions\": {\"Algorithm\": \"Linear Learner\", \"Host\": \"algo-1\", \"Operation\": \"training\", \"epoch\": 6, \"model\": 7}, \"Metrics\": {\"train_absolute_loss_objective\": {\"sum\": 0.31246272325515745, \"count\": 1, \"min\": 0.31246272325515745, \"max\": 0.31246272325515745}}}\u001b[0m\n",
      "\u001b[34m#metrics {\"StartTime\": 1662909744.1971004, \"EndTime\": 1662909744.197117, \"Dimensions\": {\"Algorithm\": \"Linear Learner\", \"Host\": \"algo-1\", \"Operation\": \"training\", \"epoch\": 6, \"model\": 8}, \"Metrics\": {\"train_absolute_loss_objective\": {\"sum\": 0.8241271495819091, \"count\": 1, \"min\": 0.8241271495819091, \"max\": 0.8241271495819091}}}\u001b[0m\n",
      "\u001b[34m#metrics {\"StartTime\": 1662909744.1971707, \"EndTime\": 1662909744.1971872, \"Dimensions\": {\"Algorithm\": \"Linear Learner\", \"Host\": \"algo-1\", \"Operation\": \"training\", \"epoch\": 6, \"model\": 9}, \"Metrics\": {\"train_absolute_loss_objective\": {\"sum\": 0.7557033729553223, \"count\": 1, \"min\": 0.7557033729553223, \"max\": 0.7557033729553223}}}\u001b[0m\n",
      "\u001b[34m#metrics {\"StartTime\": 1662909744.1972964, \"EndTime\": 1662909744.1973157, \"Dimensions\": {\"Algorithm\": \"Linear Learner\", \"Host\": \"algo-1\", \"Operation\": \"training\", \"epoch\": 6, \"model\": 10}, \"Metrics\": {\"train_absolute_loss_objective\": {\"sum\": 0.7635772514343262, \"count\": 1, \"min\": 0.7635772514343262, \"max\": 0.7635772514343262}}}\u001b[0m\n",
      "\u001b[34m#metrics {\"StartTime\": 1662909744.197369, \"EndTime\": 1662909744.1973853, \"Dimensions\": {\"Algorithm\": \"Linear Learner\", \"Host\": \"algo-1\", \"Operation\": \"training\", \"epoch\": 6, \"model\": 11}, \"Metrics\": {\"train_absolute_loss_objective\": {\"sum\": 0.7479100513458252, \"count\": 1, \"min\": 0.7479100513458252, \"max\": 0.7479100513458252}}}\u001b[0m\n",
      "\u001b[34m#metrics {\"StartTime\": 1662909744.1975021, \"EndTime\": 1662909744.1975198, \"Dimensions\": {\"Algorithm\": \"Linear Learner\", \"Host\": \"algo-1\", \"Operation\": \"training\", \"epoch\": 6, \"model\": 12}, \"Metrics\": {\"train_absolute_loss_objective\": {\"sum\": 0.28024417877197266, \"count\": 1, \"min\": 0.28024417877197266, \"max\": 0.28024417877197266}}}\u001b[0m\n",
      "\u001b[34m#metrics {\"StartTime\": 1662909744.1975718, \"EndTime\": 1662909744.1975887, \"Dimensions\": {\"Algorithm\": \"Linear Learner\", \"Host\": \"algo-1\", \"Operation\": \"training\", \"epoch\": 6, \"model\": 13}, \"Metrics\": {\"train_absolute_loss_objective\": {\"sum\": 0.26098124027252195, \"count\": 1, \"min\": 0.26098124027252195, \"max\": 0.26098124027252195}}}\u001b[0m\n",
      "\u001b[34m#metrics {\"StartTime\": 1662909744.197701, \"EndTime\": 1662909744.1977203, \"Dimensions\": {\"Algorithm\": \"Linear Learner\", \"Host\": \"algo-1\", \"Operation\": \"training\", \"epoch\": 6, \"model\": 14}, \"Metrics\": {\"train_absolute_loss_objective\": {\"sum\": 0.2796269416809082, \"count\": 1, \"min\": 0.2796269416809082, \"max\": 0.2796269416809082}}}\u001b[0m\n",
      "\u001b[34m#metrics {\"StartTime\": 1662909744.1977742, \"EndTime\": 1662909744.1977916, \"Dimensions\": {\"Algorithm\": \"Linear Learner\", \"Host\": \"algo-1\", \"Operation\": \"training\", \"epoch\": 6, \"model\": 15}, \"Metrics\": {\"train_absolute_loss_objective\": {\"sum\": 0.26251288890838625, \"count\": 1, \"min\": 0.26251288890838625, \"max\": 0.26251288890838625}}}\u001b[0m\n",
      "\u001b[34m#metrics {\"StartTime\": 1662909744.1979008, \"EndTime\": 1662909744.197958, \"Dimensions\": {\"Algorithm\": \"Linear Learner\", \"Host\": \"algo-1\", \"Operation\": \"training\", \"epoch\": 6, \"model\": 16}, \"Metrics\": {\"train_absolute_loss_objective\": {\"sum\": 0.7370452880859375, \"count\": 1, \"min\": 0.7370452880859375, \"max\": 0.7370452880859375}}}\u001b[0m\n",
      "\u001b[34m#metrics {\"StartTime\": 1662909744.1980188, \"EndTime\": 1662909744.1980352, \"Dimensions\": {\"Algorithm\": \"Linear Learner\", \"Host\": \"algo-1\", \"Operation\": \"training\", \"epoch\": 6, \"model\": 17}, \"Metrics\": {\"train_absolute_loss_objective\": {\"sum\": 0.7849999523162842, \"count\": 1, \"min\": 0.7849999523162842, \"max\": 0.7849999523162842}}}\u001b[0m\n",
      "\u001b[34m#metrics {\"StartTime\": 1662909744.1980855, \"EndTime\": 1662909744.1981018, \"Dimensions\": {\"Algorithm\": \"Linear Learner\", \"Host\": \"algo-1\", \"Operation\": \"training\", \"epoch\": 6, \"model\": 18}, \"Metrics\": {\"train_absolute_loss_objective\": {\"sum\": 0.762730884552002, \"count\": 1, \"min\": 0.762730884552002, \"max\": 0.762730884552002}}}\u001b[0m\n",
      "\u001b[34m#metrics {\"StartTime\": 1662909744.1982143, \"EndTime\": 1662909744.1982338, \"Dimensions\": {\"Algorithm\": \"Linear Learner\", \"Host\": \"algo-1\", \"Operation\": \"training\", \"epoch\": 6, \"model\": 19}, \"Metrics\": {\"train_absolute_loss_objective\": {\"sum\": 0.7587968158721924, \"count\": 1, \"min\": 0.7587968158721924, \"max\": 0.7587968158721924}}}\u001b[0m\n",
      "\u001b[34m#metrics {\"StartTime\": 1662909744.1982858, \"EndTime\": 1662909744.198303, \"Dimensions\": {\"Algorithm\": \"Linear Learner\", \"Host\": \"algo-1\", \"Operation\": \"training\", \"epoch\": 6, \"model\": 20}, \"Metrics\": {\"train_absolute_loss_objective\": {\"sum\": 0.35696059703826905, \"count\": 1, \"min\": 0.35696059703826905, \"max\": 0.35696059703826905}}}\u001b[0m\n",
      "\u001b[34m#metrics {\"StartTime\": 1662909744.198434, \"EndTime\": 1662909744.1984525, \"Dimensions\": {\"Algorithm\": \"Linear Learner\", \"Host\": \"algo-1\", \"Operation\": \"training\", \"epoch\": 6, \"model\": 21}, \"Metrics\": {\"train_absolute_loss_objective\": {\"sum\": 0.3548516845703125, \"count\": 1, \"min\": 0.3548516845703125, \"max\": 0.3548516845703125}}}\u001b[0m\n",
      "\u001b[34m#metrics {\"StartTime\": 1662909744.1985064, \"EndTime\": 1662909744.198524, \"Dimensions\": {\"Algorithm\": \"Linear Learner\", \"Host\": \"algo-1\", \"Operation\": \"training\", \"epoch\": 6, \"model\": 22}, \"Metrics\": {\"train_absolute_loss_objective\": {\"sum\": 0.4076370191574097, \"count\": 1, \"min\": 0.4076370191574097, \"max\": 0.4076370191574097}}}\u001b[0m\n",
      "\u001b[34m#metrics {\"StartTime\": 1662909744.1986773, \"EndTime\": 1662909744.1986961, \"Dimensions\": {\"Algorithm\": \"Linear Learner\", \"Host\": \"algo-1\", \"Operation\": \"training\", \"epoch\": 6, \"model\": 23}, \"Metrics\": {\"train_absolute_loss_objective\": {\"sum\": 0.36155561208724973, \"count\": 1, \"min\": 0.36155561208724973, \"max\": 0.36155561208724973}}}\u001b[0m\n",
      "\u001b[34m#metrics {\"StartTime\": 1662909744.1987486, \"EndTime\": 1662909744.1987648, \"Dimensions\": {\"Algorithm\": \"Linear Learner\", \"Host\": \"algo-1\", \"Operation\": \"training\", \"epoch\": 6, \"model\": 24}, \"Metrics\": {\"train_absolute_loss_objective\": {\"sum\": 0.9009927654266358, \"count\": 1, \"min\": 0.9009927654266358, \"max\": 0.9009927654266358}}}\u001b[0m\n",
      "\u001b[34m#metrics {\"StartTime\": 1662909744.1988997, \"EndTime\": 1662909744.1989222, \"Dimensions\": {\"Algorithm\": \"Linear Learner\", \"Host\": \"algo-1\", \"Operation\": \"training\", \"epoch\": 6, \"model\": 25}, \"Metrics\": {\"train_absolute_loss_objective\": {\"sum\": 0.9023331356048584, \"count\": 1, \"min\": 0.9023331356048584, \"max\": 0.9023331356048584}}}\u001b[0m\n",
      "\u001b[34m#metrics {\"StartTime\": 1662909744.1989799, \"EndTime\": 1662909744.1989958, \"Dimensions\": {\"Algorithm\": \"Linear Learner\", \"Host\": \"algo-1\", \"Operation\": \"training\", \"epoch\": 6, \"model\": 26}, \"Metrics\": {\"train_absolute_loss_objective\": {\"sum\": 0.8980885219573974, \"count\": 1, \"min\": 0.8980885219573974, \"max\": 0.8980885219573974}}}\u001b[0m\n",
      "\u001b[34m#metrics {\"StartTime\": 1662909744.1990473, \"EndTime\": 1662909744.1991343, \"Dimensions\": {\"Algorithm\": \"Linear Learner\", \"Host\": \"algo-1\", \"Operation\": \"training\", \"epoch\": 6, \"model\": 27}, \"Metrics\": {\"train_absolute_loss_objective\": {\"sum\": 0.8990999794006348, \"count\": 1, \"min\": 0.8990999794006348, \"max\": 0.8990999794006348}}}\u001b[0m\n",
      "\u001b[34m#metrics {\"StartTime\": 1662909744.1991975, \"EndTime\": 1662909744.1992147, \"Dimensions\": {\"Algorithm\": \"Linear Learner\", \"Host\": \"algo-1\", \"Operation\": \"training\", \"epoch\": 6, \"model\": 28}, \"Metrics\": {\"train_absolute_loss_objective\": {\"sum\": 0.972404842376709, \"count\": 1, \"min\": 0.972404842376709, \"max\": 0.972404842376709}}}\u001b[0m\n",
      "\u001b[34m#metrics {\"StartTime\": 1662909744.1992671, \"EndTime\": 1662909744.1992826, \"Dimensions\": {\"Algorithm\": \"Linear Learner\", \"Host\": \"algo-1\", \"Operation\": \"training\", \"epoch\": 6, \"model\": 29}, \"Metrics\": {\"train_absolute_loss_objective\": {\"sum\": 0.9748616123199463, \"count\": 1, \"min\": 0.9748616123199463, \"max\": 0.9748616123199463}}}\u001b[0m\n",
      "\u001b[34m#metrics {\"StartTime\": 1662909744.1994185, \"EndTime\": 1662909744.1994362, \"Dimensions\": {\"Algorithm\": \"Linear Learner\", \"Host\": \"algo-1\", \"Operation\": \"training\", \"epoch\": 6, \"model\": 30}, \"Metrics\": {\"train_absolute_loss_objective\": {\"sum\": 0.9554719734191894, \"count\": 1, \"min\": 0.9554719734191894, \"max\": 0.9554719734191894}}}\u001b[0m\n",
      "\u001b[34m#metrics {\"StartTime\": 1662909744.1994889, \"EndTime\": 1662909744.1995099, \"Dimensions\": {\"Algorithm\": \"Linear Learner\", \"Host\": \"algo-1\", \"Operation\": \"training\", \"epoch\": 6, \"model\": 31}, \"Metrics\": {\"train_absolute_loss_objective\": {\"sum\": 0.9875551795959473, \"count\": 1, \"min\": 0.9875551795959473, \"max\": 0.9875551795959473}}}\u001b[0m\n",
      "\u001b[34m[09/11/2022 15:22:24 INFO 140682820122432] #quality_metric: host=algo-1, epoch=6, train absolute_loss_objective <loss>=0.7687600040435791\u001b[0m\n",
      "\u001b[34m[09/11/2022 15:22:24 INFO 140682820122432] #early_stopping_criteria_metric: host=algo-1, epoch=6, criteria=absolute_loss_objective, value=0.18533342838287353\u001b[0m\n",
      "\u001b[34m[09/11/2022 15:22:24 INFO 140682820122432] Saving model for epoch: 6\u001b[0m\n",
      "\u001b[34m[09/11/2022 15:22:24 INFO 140682820122432] Saved checkpoint to \"/tmp/tmpoq7m8htj/mx-mod-0000.params\"\u001b[0m\n",
      "\u001b[34m[09/11/2022 15:22:24 INFO 140682820122432] #progress_metric: host=algo-1, completed 14.0 % of epochs\u001b[0m\n",
      "\u001b[34m#metrics {\"StartTime\": 1662909744.0182724, \"EndTime\": 1662909744.2111416, \"Dimensions\": {\"Algorithm\": \"Linear Learner\", \"Host\": \"algo-1\", \"Operation\": \"training\", \"epoch\": 6, \"Meta\": \"training_data_iter\"}, \"Metrics\": {\"Total Records Seen\": {\"sum\": 213.0, \"count\": 1, \"min\": 213, \"max\": 213}, \"Total Batches Seen\": {\"sum\": 49.0, \"count\": 1, \"min\": 49, \"max\": 49}, \"Max Records Seen Between Resets\": {\"sum\": 26.0, \"count\": 1, \"min\": 26, \"max\": 26}, \"Max Batches Seen Between Resets\": {\"sum\": 6.0, \"count\": 1, \"min\": 6, \"max\": 6}, \"Reset Count\": {\"sum\": 9.0, \"count\": 1, \"min\": 9, \"max\": 9}, \"Number of Records Since Last Reset\": {\"sum\": 26.0, \"count\": 1, \"min\": 26, \"max\": 26}, \"Number of Batches Since Last Reset\": {\"sum\": 6.0, \"count\": 1, \"min\": 6, \"max\": 6}}}\u001b[0m\n",
      "\u001b[34m[09/11/2022 15:22:24 INFO 140682820122432] #throughput_metric: host=algo-1, train throughput=134.6555865349234 records/second\u001b[0m\n",
      "\u001b[34m[2022-09-11 15:22:24.375] [tensorio] [info] epoch_stats={\"data_pipeline\": \"/opt/ml/input/data/train\", \"epoch\": 18, \"duration\": 163, \"num_examples\": 6, \"num_bytes\": 1248}\u001b[0m\n",
      "\u001b[34m#metrics {\"StartTime\": 1662909744.3753853, \"EndTime\": 1662909744.375472, \"Dimensions\": {\"Algorithm\": \"Linear Learner\", \"Host\": \"algo-1\", \"Operation\": \"training\", \"epoch\": 7, \"model\": 0}, \"Metrics\": {\"train_absolute_loss_objective\": {\"sum\": 0.7488125705718994, \"count\": 1, \"min\": 0.7488125705718994, \"max\": 0.7488125705718994}}}\u001b[0m\n",
      "\u001b[34m#metrics {\"StartTime\": 1662909744.375699, \"EndTime\": 1662909744.3757234, \"Dimensions\": {\"Algorithm\": \"Linear Learner\", \"Host\": \"algo-1\", \"Operation\": \"training\", \"epoch\": 7, \"model\": 1}, \"Metrics\": {\"train_absolute_loss_objective\": {\"sum\": 0.7660768985748291, \"count\": 1, \"min\": 0.7660768985748291, \"max\": 0.7660768985748291}}}\u001b[0m\n",
      "\u001b[34m#metrics {\"StartTime\": 1662909744.375783, \"EndTime\": 1662909744.3758726, \"Dimensions\": {\"Algorithm\": \"Linear Learner\", \"Host\": \"algo-1\", \"Operation\": \"training\", \"epoch\": 7, \"model\": 2}, \"Metrics\": {\"train_absolute_loss_objective\": {\"sum\": 0.7511290168762207, \"count\": 1, \"min\": 0.7511290168762207, \"max\": 0.7511290168762207}}}\u001b[0m\n",
      "\u001b[34m#metrics {\"StartTime\": 1662909744.3761868, \"EndTime\": 1662909744.3762105, \"Dimensions\": {\"Algorithm\": \"Linear Learner\", \"Host\": \"algo-1\", \"Operation\": \"training\", \"epoch\": 7, \"model\": 3}, \"Metrics\": {\"train_absolute_loss_objective\": {\"sum\": 0.765066785812378, \"count\": 1, \"min\": 0.765066785812378, \"max\": 0.765066785812378}}}\u001b[0m\n",
      "\u001b[34m#metrics {\"StartTime\": 1662909744.3763003, \"EndTime\": 1662909744.3763208, \"Dimensions\": {\"Algorithm\": \"Linear Learner\", \"Host\": \"algo-1\", \"Operation\": \"training\", \"epoch\": 7, \"model\": 4}, \"Metrics\": {\"train_absolute_loss_objective\": {\"sum\": 0.22819997787475585, \"count\": 1, \"min\": 0.22819997787475585, \"max\": 0.22819997787475585}}}\u001b[0m\n",
      "\u001b[34m#metrics {\"StartTime\": 1662909744.3764684, \"EndTime\": 1662909744.3764887, \"Dimensions\": {\"Algorithm\": \"Linear Learner\", \"Host\": \"algo-1\", \"Operation\": \"training\", \"epoch\": 7, \"model\": 5}, \"Metrics\": {\"train_absolute_loss_objective\": {\"sum\": 0.20178078532218932, \"count\": 1, \"min\": 0.20178078532218932, \"max\": 0.20178078532218932}}}\u001b[0m\n",
      "\u001b[34m#metrics {\"StartTime\": 1662909744.376545, \"EndTime\": 1662909744.3765619, \"Dimensions\": {\"Algorithm\": \"Linear Learner\", \"Host\": \"algo-1\", \"Operation\": \"training\", \"epoch\": 7, \"model\": 6}, \"Metrics\": {\"train_absolute_loss_objective\": {\"sum\": 0.25237990856170656, \"count\": 1, \"min\": 0.25237990856170656, \"max\": 0.25237990856170656}}}\u001b[0m\n",
      "\u001b[34m#metrics {\"StartTime\": 1662909744.3766906, \"EndTime\": 1662909744.3767092, \"Dimensions\": {\"Algorithm\": \"Linear Learner\", \"Host\": \"algo-1\", \"Operation\": \"training\", \"epoch\": 7, \"model\": 7}, \"Metrics\": {\"train_absolute_loss_objective\": {\"sum\": 0.2406848442554474, \"count\": 1, \"min\": 0.2406848442554474, \"max\": 0.2406848442554474}}}\u001b[0m\n",
      "\u001b[34m#metrics {\"StartTime\": 1662909744.376848, \"EndTime\": 1662909744.3769329, \"Dimensions\": {\"Algorithm\": \"Linear Learner\", \"Host\": \"algo-1\", \"Operation\": \"training\", \"epoch\": 7, \"model\": 8}, \"Metrics\": {\"train_absolute_loss_objective\": {\"sum\": 0.8038522338867188, \"count\": 1, \"min\": 0.8038522338867188, \"max\": 0.8038522338867188}}}\u001b[0m\n",
      "\u001b[34m#metrics {\"StartTime\": 1662909744.3770647, \"EndTime\": 1662909744.377087, \"Dimensions\": {\"Algorithm\": \"Linear Learner\", \"Host\": \"algo-1\", \"Operation\": \"training\", \"epoch\": 7, \"model\": 9}, \"Metrics\": {\"train_absolute_loss_objective\": {\"sum\": 0.7354101943969726, \"count\": 1, \"min\": 0.7354101943969726, \"max\": 0.7354101943969726}}}\u001b[0m\n",
      "\u001b[34m#metrics {\"StartTime\": 1662909744.3771474, \"EndTime\": 1662909744.3772402, \"Dimensions\": {\"Algorithm\": \"Linear Learner\", \"Host\": \"algo-1\", \"Operation\": \"training\", \"epoch\": 7, \"model\": 10}, \"Metrics\": {\"train_absolute_loss_objective\": {\"sum\": 0.7440671730041504, \"count\": 1, \"min\": 0.7440671730041504, \"max\": 0.7440671730041504}}}\u001b[0m\n",
      "\u001b[34m#metrics {\"StartTime\": 1662909744.3773658, \"EndTime\": 1662909744.3773882, \"Dimensions\": {\"Algorithm\": \"Linear Learner\", \"Host\": \"algo-1\", \"Operation\": \"training\", \"epoch\": 7, \"model\": 11}, \"Metrics\": {\"train_absolute_loss_objective\": {\"sum\": 0.7273546600341797, \"count\": 1, \"min\": 0.7273546600341797, \"max\": 0.7273546600341797}}}\u001b[0m\n",
      "\u001b[34m#metrics {\"StartTime\": 1662909744.377516, \"EndTime\": 1662909744.377536, \"Dimensions\": {\"Algorithm\": \"Linear Learner\", \"Host\": \"algo-1\", \"Operation\": \"training\", \"epoch\": 7, \"model\": 12}, \"Metrics\": {\"train_absolute_loss_objective\": {\"sum\": 0.1696927833557129, \"count\": 1, \"min\": 0.1696927833557129, \"max\": 0.1696927833557129}}}\u001b[0m\n",
      "\u001b[34m#metrics {\"StartTime\": 1662909744.377591, \"EndTime\": 1662909744.3776834, \"Dimensions\": {\"Algorithm\": \"Linear Learner\", \"Host\": \"algo-1\", \"Operation\": \"training\", \"epoch\": 7, \"model\": 13}, \"Metrics\": {\"train_absolute_loss_objective\": {\"sum\": 0.25432744264602664, \"count\": 1, \"min\": 0.25432744264602664, \"max\": 0.25432744264602664}}}\u001b[0m\n",
      "\u001b[34m#metrics {\"StartTime\": 1662909744.3777428, \"EndTime\": 1662909744.3778262, \"Dimensions\": {\"Algorithm\": \"Linear Learner\", \"Host\": \"algo-1\", \"Operation\": \"training\", \"epoch\": 7, \"model\": 14}, \"Metrics\": {\"train_absolute_loss_objective\": {\"sum\": 0.16954013586044311, \"count\": 1, \"min\": 0.16954013586044311, \"max\": 0.16954013586044311}}}\u001b[0m\n",
      "\u001b[34m#metrics {\"StartTime\": 1662909744.377957, \"EndTime\": 1662909744.3779783, \"Dimensions\": {\"Algorithm\": \"Linear Learner\", \"Host\": \"algo-1\", \"Operation\": \"training\", \"epoch\": 7, \"model\": 15}, \"Metrics\": {\"train_absolute_loss_objective\": {\"sum\": 0.25499859809875486, \"count\": 1, \"min\": 0.25499859809875486, \"max\": 0.25499859809875486}}}\u001b[0m\n",
      "\u001b[34m#metrics {\"StartTime\": 1662909744.3780346, \"EndTime\": 1662909744.3781092, \"Dimensions\": {\"Algorithm\": \"Linear Learner\", \"Host\": \"algo-1\", \"Operation\": \"training\", \"epoch\": 7, \"model\": 16}, \"Metrics\": {\"train_absolute_loss_objective\": {\"sum\": 0.7180072402954102, \"count\": 1, \"min\": 0.7180072402954102, \"max\": 0.7180072402954102}}}\u001b[0m\n",
      "\u001b[34m#metrics {\"StartTime\": 1662909744.3781781, \"EndTime\": 1662909744.3781958, \"Dimensions\": {\"Algorithm\": \"Linear Learner\", \"Host\": \"algo-1\", \"Operation\": \"training\", \"epoch\": 7, \"model\": 17}, \"Metrics\": {\"train_absolute_loss_objective\": {\"sum\": 0.7652110576629638, \"count\": 1, \"min\": 0.7652110576629638, \"max\": 0.7652110576629638}}}\u001b[0m\n",
      "\u001b[34m#metrics {\"StartTime\": 1662909744.3783877, \"EndTime\": 1662909744.3784087, \"Dimensions\": {\"Algorithm\": \"Linear Learner\", \"Host\": \"algo-1\", \"Operation\": \"training\", \"epoch\": 7, \"model\": 18}, \"Metrics\": {\"train_absolute_loss_objective\": {\"sum\": 0.7444639587402344, \"count\": 1, \"min\": 0.7444639587402344, \"max\": 0.7444639587402344}}}\u001b[0m\n",
      "\u001b[34m#metrics {\"StartTime\": 1662909744.3785322, \"EndTime\": 1662909744.3785539, \"Dimensions\": {\"Algorithm\": \"Linear Learner\", \"Host\": \"algo-1\", \"Operation\": \"training\", \"epoch\": 7, \"model\": 19}, \"Metrics\": {\"train_absolute_loss_objective\": {\"sum\": 0.7399458789825439, \"count\": 1, \"min\": 0.7399458789825439, \"max\": 0.7399458789825439}}}\u001b[0m\n",
      "\u001b[34m#metrics {\"StartTime\": 1662909744.3787003, \"EndTime\": 1662909744.3787215, \"Dimensions\": {\"Algorithm\": \"Linear Learner\", \"Host\": \"algo-1\", \"Operation\": \"training\", \"epoch\": 7, \"model\": 20}, \"Metrics\": {\"train_absolute_loss_objective\": {\"sum\": 0.3227185487747192, \"count\": 1, \"min\": 0.3227185487747192, \"max\": 0.3227185487747192}}}\u001b[0m\n",
      "\u001b[34m#metrics {\"StartTime\": 1662909744.3788455, \"EndTime\": 1662909744.378865, \"Dimensions\": {\"Algorithm\": \"Linear Learner\", \"Host\": \"algo-1\", \"Operation\": \"training\", \"epoch\": 7, \"model\": 21}, \"Metrics\": {\"train_absolute_loss_objective\": {\"sum\": 0.3248226499557495, \"count\": 1, \"min\": 0.3248226499557495, \"max\": 0.3248226499557495}}}\u001b[0m\n",
      "\u001b[34m#metrics {\"StartTime\": 1662909744.3789823, \"EndTime\": 1662909744.3790042, \"Dimensions\": {\"Algorithm\": \"Linear Learner\", \"Host\": \"algo-1\", \"Operation\": \"training\", \"epoch\": 7, \"model\": 22}, \"Metrics\": {\"train_absolute_loss_objective\": {\"sum\": 0.3308134126663208, \"count\": 1, \"min\": 0.3308134126663208, \"max\": 0.3308134126663208}}}\u001b[0m\n",
      "\u001b[34m#metrics {\"StartTime\": 1662909744.3790603, \"EndTime\": 1662909744.3791456, \"Dimensions\": {\"Algorithm\": \"Linear Learner\", \"Host\": \"algo-1\", \"Operation\": \"training\", \"epoch\": 7, \"model\": 23}, \"Metrics\": {\"train_absolute_loss_objective\": {\"sum\": 0.3551238822937012, \"count\": 1, \"min\": 0.3551238822937012, \"max\": 0.3551238822937012}}}\u001b[0m\n",
      "\u001b[34m#metrics {\"StartTime\": 1662909744.379273, \"EndTime\": 1662909744.3792934, \"Dimensions\": {\"Algorithm\": \"Linear Learner\", \"Host\": \"algo-1\", \"Operation\": \"training\", \"epoch\": 7, \"model\": 24}, \"Metrics\": {\"train_absolute_loss_objective\": {\"sum\": 0.8961546993255616, \"count\": 1, \"min\": 0.8961546993255616, \"max\": 0.8961546993255616}}}\u001b[0m\n",
      "\u001b[34m#metrics {\"StartTime\": 1662909744.3794148, \"EndTime\": 1662909744.3794367, \"Dimensions\": {\"Algorithm\": \"Linear Learner\", \"Host\": \"algo-1\", \"Operation\": \"training\", \"epoch\": 7, \"model\": 25}, \"Metrics\": {\"train_absolute_loss_objective\": {\"sum\": 0.9016324329376221, \"count\": 1, \"min\": 0.9016324329376221, \"max\": 0.9016324329376221}}}\u001b[0m\n",
      "\u001b[34m#metrics {\"StartTime\": 1662909744.3795576, \"EndTime\": 1662909744.379578, \"Dimensions\": {\"Algorithm\": \"Linear Learner\", \"Host\": \"algo-1\", \"Operation\": \"training\", \"epoch\": 7, \"model\": 26}, \"Metrics\": {\"train_absolute_loss_objective\": {\"sum\": 0.8959207725524903, \"count\": 1, \"min\": 0.8959207725524903, \"max\": 0.8959207725524903}}}\u001b[0m\n",
      "\u001b[34m#metrics {\"StartTime\": 1662909744.3796332, \"EndTime\": 1662909744.379714, \"Dimensions\": {\"Algorithm\": \"Linear Learner\", \"Host\": \"algo-1\", \"Operation\": \"training\", \"epoch\": 7, \"model\": 27}, \"Metrics\": {\"train_absolute_loss_objective\": {\"sum\": 0.8978206729888916, \"count\": 1, \"min\": 0.8978206729888916, \"max\": 0.8978206729888916}}}\u001b[0m\n",
      "\u001b[34m#metrics {\"StartTime\": 1662909744.379844, \"EndTime\": 1662909744.3798637, \"Dimensions\": {\"Algorithm\": \"Linear Learner\", \"Host\": \"algo-1\", \"Operation\": \"training\", \"epoch\": 7, \"model\": 28}, \"Metrics\": {\"train_absolute_loss_objective\": {\"sum\": 0.9480939292907715, \"count\": 1, \"min\": 0.9480939292907715, \"max\": 0.9480939292907715}}}\u001b[0m\n",
      "\u001b[34m#metrics {\"StartTime\": 1662909744.3799863, \"EndTime\": 1662909744.3800085, \"Dimensions\": {\"Algorithm\": \"Linear Learner\", \"Host\": \"algo-1\", \"Operation\": \"training\", \"epoch\": 7, \"model\": 29}, \"Metrics\": {\"train_absolute_loss_objective\": {\"sum\": 0.9477649307250977, \"count\": 1, \"min\": 0.9477649307250977, \"max\": 0.9477649307250977}}}\u001b[0m\n",
      "\u001b[34m#metrics {\"StartTime\": 1662909744.3801317, \"EndTime\": 1662909744.3801517, \"Dimensions\": {\"Algorithm\": \"Linear Learner\", \"Host\": \"algo-1\", \"Operation\": \"training\", \"epoch\": 7, \"model\": 30}, \"Metrics\": {\"train_absolute_loss_objective\": {\"sum\": 0.9517888832092285, \"count\": 1, \"min\": 0.9517888832092285, \"max\": 0.9517888832092285}}}\u001b[0m\n",
      "\u001b[34m#metrics {\"StartTime\": 1662909744.3802805, \"EndTime\": 1662909744.3802998, \"Dimensions\": {\"Algorithm\": \"Linear Learner\", \"Host\": \"algo-1\", \"Operation\": \"training\", \"epoch\": 7, \"model\": 31}, \"Metrics\": {\"train_absolute_loss_objective\": {\"sum\": 0.9402964687347413, \"count\": 1, \"min\": 0.9402964687347413, \"max\": 0.9402964687347413}}}\u001b[0m\n",
      "\u001b[34m[09/11/2022 15:22:24 INFO 140682820122432] #quality_metric: host=algo-1, epoch=7, train absolute_loss_objective <loss>=0.7488125705718994\u001b[0m\n",
      "\u001b[34m[09/11/2022 15:22:24 INFO 140682820122432] #early_stopping_criteria_metric: host=algo-1, epoch=7, criteria=absolute_loss_objective, value=0.16954013586044311\u001b[0m\n",
      "\u001b[34m[09/11/2022 15:22:24 INFO 140682820122432] Epoch 7: Loss improved. Updating best model\u001b[0m\n",
      "\u001b[34m[09/11/2022 15:22:24 INFO 140682820122432] Saving model for epoch: 7\u001b[0m\n",
      "\u001b[34m[09/11/2022 15:22:24 INFO 140682820122432] Saved checkpoint to \"/tmp/tmp3nspos8g/mx-mod-0000.params\"\u001b[0m\n",
      "\u001b[34m[09/11/2022 15:22:24 INFO 140682820122432] #progress_metric: host=algo-1, completed 16.0 % of epochs\u001b[0m\n",
      "\u001b[34m#metrics {\"StartTime\": 1662909744.2117083, \"EndTime\": 1662909744.3913891, \"Dimensions\": {\"Algorithm\": \"Linear Learner\", \"Host\": \"algo-1\", \"Operation\": \"training\", \"epoch\": 7, \"Meta\": \"training_data_iter\"}, \"Metrics\": {\"Total Records Seen\": {\"sum\": 239.0, \"count\": 1, \"min\": 239, \"max\": 239}, \"Total Batches Seen\": {\"sum\": 55.0, \"count\": 1, \"min\": 55, \"max\": 55}, \"Max Records Seen Between Resets\": {\"sum\": 26.0, \"count\": 1, \"min\": 26, \"max\": 26}, \"Max Batches Seen Between Resets\": {\"sum\": 6.0, \"count\": 1, \"min\": 6, \"max\": 6}, \"Reset Count\": {\"sum\": 10.0, \"count\": 1, \"min\": 10, \"max\": 10}, \"Number of Records Since Last Reset\": {\"sum\": 26.0, \"count\": 1, \"min\": 26, \"max\": 26}, \"Number of Batches Since Last Reset\": {\"sum\": 6.0, \"count\": 1, \"min\": 6, \"max\": 6}}}\u001b[0m\n",
      "\u001b[34m[09/11/2022 15:22:24 INFO 140682820122432] #throughput_metric: host=algo-1, train throughput=144.60739082697276 records/second\u001b[0m\n",
      "\u001b[34m[2022-09-11 15:22:24.540] [tensorio] [info] epoch_stats={\"data_pipeline\": \"/opt/ml/input/data/train\", \"epoch\": 20, \"duration\": 149, \"num_examples\": 6, \"num_bytes\": 1248}\u001b[0m\n",
      "\u001b[34m#metrics {\"StartTime\": 1662909744.5413256, \"EndTime\": 1662909744.5414097, \"Dimensions\": {\"Algorithm\": \"Linear Learner\", \"Host\": \"algo-1\", \"Operation\": \"training\", \"epoch\": 8, \"model\": 0}, \"Metrics\": {\"train_absolute_loss_objective\": {\"sum\": 0.7287634181976318, \"count\": 1, \"min\": 0.7287634181976318, \"max\": 0.7287634181976318}}}\u001b[0m\n",
      "\u001b[34m#metrics {\"StartTime\": 1662909744.5417547, \"EndTime\": 1662909744.541776, \"Dimensions\": {\"Algorithm\": \"Linear Learner\", \"Host\": \"algo-1\", \"Operation\": \"training\", \"epoch\": 8, \"model\": 1}, \"Metrics\": {\"train_absolute_loss_objective\": {\"sum\": 0.7457117366790772, \"count\": 1, \"min\": 0.7457117366790772, \"max\": 0.7457117366790772}}}\u001b[0m\n",
      "\u001b[34m#metrics {\"StartTime\": 1662909744.5420914, \"EndTime\": 1662909744.542111, \"Dimensions\": {\"Algorithm\": \"Linear Learner\", \"Host\": \"algo-1\", \"Operation\": \"training\", \"epoch\": 8, \"model\": 2}, \"Metrics\": {\"train_absolute_loss_objective\": {\"sum\": 0.73107985496521, \"count\": 1, \"min\": 0.73107985496521, \"max\": 0.73107985496521}}}\u001b[0m\n",
      "\u001b[34m#metrics {\"StartTime\": 1662909744.5423946, \"EndTime\": 1662909744.5424142, \"Dimensions\": {\"Algorithm\": \"Linear Learner\", \"Host\": \"algo-1\", \"Operation\": \"training\", \"epoch\": 8, \"model\": 3}, \"Metrics\": {\"train_absolute_loss_objective\": {\"sum\": 0.7447344970703125, \"count\": 1, \"min\": 0.7447344970703125, \"max\": 0.7447344970703125}}}\u001b[0m\n",
      "\u001b[34m#metrics {\"StartTime\": 1662909744.5427876, \"EndTime\": 1662909744.5428112, \"Dimensions\": {\"Algorithm\": \"Linear Learner\", \"Host\": \"algo-1\", \"Operation\": \"training\", \"epoch\": 8, \"model\": 4}, \"Metrics\": {\"train_absolute_loss_objective\": {\"sum\": 0.18515347480773925, \"count\": 1, \"min\": 0.18515347480773925, \"max\": 0.18515347480773925}}}\u001b[0m\n",
      "\u001b[34m#metrics {\"StartTime\": 1662909744.5432265, \"EndTime\": 1662909744.5432515, \"Dimensions\": {\"Algorithm\": \"Linear Learner\", \"Host\": \"algo-1\", \"Operation\": \"training\", \"epoch\": 8, \"model\": 5}, \"Metrics\": {\"train_absolute_loss_objective\": {\"sum\": 0.24286606073379516, \"count\": 1, \"min\": 0.24286606073379516, \"max\": 0.24286606073379516}}}\u001b[0m\n",
      "\u001b[34m#metrics {\"StartTime\": 1662909744.54368, \"EndTime\": 1662909744.5437033, \"Dimensions\": {\"Algorithm\": \"Linear Learner\", \"Host\": \"algo-1\", \"Operation\": \"training\", \"epoch\": 8, \"model\": 6}, \"Metrics\": {\"train_absolute_loss_objective\": {\"sum\": 0.18279617309570312, \"count\": 1, \"min\": 0.18279617309570312, \"max\": 0.18279617309570312}}}\u001b[0m\n",
      "\u001b[34m#metrics {\"StartTime\": 1662909744.5438623, \"EndTime\": 1662909744.543991, \"Dimensions\": {\"Algorithm\": \"Linear Learner\", \"Host\": \"algo-1\", \"Operation\": \"training\", \"epoch\": 8, \"model\": 7}, \"Metrics\": {\"train_absolute_loss_objective\": {\"sum\": 0.2319953227043152, \"count\": 1, \"min\": 0.2319953227043152, \"max\": 0.2319953227043152}}}\u001b[0m\n",
      "\u001b[34m#metrics {\"StartTime\": 1662909744.5440497, \"EndTime\": 1662909744.5440946, \"Dimensions\": {\"Algorithm\": \"Linear Learner\", \"Host\": \"algo-1\", \"Operation\": \"training\", \"epoch\": 8, \"model\": 8}, \"Metrics\": {\"train_absolute_loss_objective\": {\"sum\": 0.7835705852508545, \"count\": 1, \"min\": 0.7835705852508545, \"max\": 0.7835705852508545}}}\u001b[0m\n",
      "\u001b[34m#metrics {\"StartTime\": 1662909744.5442533, \"EndTime\": 1662909744.5442722, \"Dimensions\": {\"Algorithm\": \"Linear Learner\", \"Host\": \"algo-1\", \"Operation\": \"training\", \"epoch\": 8, \"model\": 9}, \"Metrics\": {\"train_absolute_loss_objective\": {\"sum\": 0.7144246006011963, \"count\": 1, \"min\": 0.7144246006011963, \"max\": 0.7144246006011963}}}\u001b[0m\n",
      "\u001b[34m#metrics {\"StartTime\": 1662909744.5444767, \"EndTime\": 1662909744.5444965, \"Dimensions\": {\"Algorithm\": \"Linear Learner\", \"Host\": \"algo-1\", \"Operation\": \"training\", \"epoch\": 8, \"model\": 10}, \"Metrics\": {\"train_absolute_loss_objective\": {\"sum\": 0.7237696075439453, \"count\": 1, \"min\": 0.7237696075439453, \"max\": 0.7237696075439453}}}\u001b[0m\n",
      "\u001b[34m#metrics {\"StartTime\": 1662909744.5445578, \"EndTime\": 1662909744.5445983, \"Dimensions\": {\"Algorithm\": \"Linear Learner\", \"Host\": \"algo-1\", \"Operation\": \"training\", \"epoch\": 8, \"model\": 11}, \"Metrics\": {\"train_absolute_loss_objective\": {\"sum\": 0.7063691425323486, \"count\": 1, \"min\": 0.7063691425323486, \"max\": 0.7063691425323486}}}\u001b[0m\n",
      "\u001b[34m#metrics {\"StartTime\": 1662909744.544728, \"EndTime\": 1662909744.5448391, \"Dimensions\": {\"Algorithm\": \"Linear Learner\", \"Host\": \"algo-1\", \"Operation\": \"training\", \"epoch\": 8, \"model\": 12}, \"Metrics\": {\"train_absolute_loss_objective\": {\"sum\": 0.1804533815383911, \"count\": 1, \"min\": 0.1804533815383911, \"max\": 0.1804533815383911}}}\u001b[0m\n",
      "\u001b[34m#metrics {\"StartTime\": 1662909744.5448873, \"EndTime\": 1662909744.5449286, \"Dimensions\": {\"Algorithm\": \"Linear Learner\", \"Host\": \"algo-1\", \"Operation\": \"training\", \"epoch\": 8, \"model\": 13}, \"Metrics\": {\"train_absolute_loss_objective\": {\"sum\": 0.1919974911212921, \"count\": 1, \"min\": 0.1919974911212921, \"max\": 0.1919974911212921}}}\u001b[0m\n",
      "\u001b[34m#metrics {\"StartTime\": 1662909744.545057, \"EndTime\": 1662909744.545105, \"Dimensions\": {\"Algorithm\": \"Linear Learner\", \"Host\": \"algo-1\", \"Operation\": \"training\", \"epoch\": 8, \"model\": 14}, \"Metrics\": {\"train_absolute_loss_objective\": {\"sum\": 0.18026232957839966, \"count\": 1, \"min\": 0.18026232957839966, \"max\": 0.18026232957839966}}}\u001b[0m\n",
      "\u001b[34m#metrics {\"StartTime\": 1662909744.5452359, \"EndTime\": 1662909744.5452797, \"Dimensions\": {\"Algorithm\": \"Linear Learner\", \"Host\": \"algo-1\", \"Operation\": \"training\", \"epoch\": 8, \"model\": 15}, \"Metrics\": {\"train_absolute_loss_objective\": {\"sum\": 0.1872525155544281, \"count\": 1, \"min\": 0.1872525155544281, \"max\": 0.1872525155544281}}}\u001b[0m\n",
      "\u001b[34m#metrics {\"StartTime\": 1662909744.545435, \"EndTime\": 1662909744.5454578, \"Dimensions\": {\"Algorithm\": \"Linear Learner\", \"Host\": \"algo-1\", \"Operation\": \"training\", \"epoch\": 8, \"model\": 16}, \"Metrics\": {\"train_absolute_loss_objective\": {\"sum\": 0.6997475814819336, \"count\": 1, \"min\": 0.6997475814819336, \"max\": 0.6997475814819336}}}\u001b[0m\n",
      "\u001b[34m#metrics {\"StartTime\": 1662909744.5456126, \"EndTime\": 1662909744.5456336, \"Dimensions\": {\"Algorithm\": \"Linear Learner\", \"Host\": \"algo-1\", \"Operation\": \"training\", \"epoch\": 8, \"model\": 17}, \"Metrics\": {\"train_absolute_loss_objective\": {\"sum\": 0.7464092826843262, \"count\": 1, \"min\": 0.7464092826843262, \"max\": 0.7464092826843262}}}\u001b[0m\n",
      "\u001b[34m#metrics {\"StartTime\": 1662909744.5457895, \"EndTime\": 1662909744.5458107, \"Dimensions\": {\"Algorithm\": \"Linear Learner\", \"Host\": \"algo-1\", \"Operation\": \"training\", \"epoch\": 8, \"model\": 18}, \"Metrics\": {\"train_absolute_loss_objective\": {\"sum\": 0.7257184219360352, \"count\": 1, \"min\": 0.7257184219360352, \"max\": 0.7257184219360352}}}\u001b[0m\n",
      "\u001b[34m#metrics {\"StartTime\": 1662909744.5459597, \"EndTime\": 1662909744.5459814, \"Dimensions\": {\"Algorithm\": \"Linear Learner\", \"Host\": \"algo-1\", \"Operation\": \"training\", \"epoch\": 8, \"model\": 19}, \"Metrics\": {\"train_absolute_loss_objective\": {\"sum\": 0.7206041622161865, \"count\": 1, \"min\": 0.7206041622161865, \"max\": 0.7206041622161865}}}\u001b[0m\n",
      "\u001b[34m#metrics {\"StartTime\": 1662909744.5462122, \"EndTime\": 1662909744.546235, \"Dimensions\": {\"Algorithm\": \"Linear Learner\", \"Host\": \"algo-1\", \"Operation\": \"training\", \"epoch\": 8, \"model\": 20}, \"Metrics\": {\"train_absolute_loss_objective\": {\"sum\": 0.28082096576690674, \"count\": 1, \"min\": 0.28082096576690674, \"max\": 0.28082096576690674}}}\u001b[0m\n",
      "\u001b[34m#metrics {\"StartTime\": 1662909744.5463023, \"EndTime\": 1662909744.546321, \"Dimensions\": {\"Algorithm\": \"Linear Learner\", \"Host\": \"algo-1\", \"Operation\": \"training\", \"epoch\": 8, \"model\": 21}, \"Metrics\": {\"train_absolute_loss_objective\": {\"sum\": 0.2828605365753174, \"count\": 1, \"min\": 0.2828605365753174, \"max\": 0.2828605365753174}}}\u001b[0m\n",
      "\u001b[34m#metrics {\"StartTime\": 1662909744.5463731, \"EndTime\": 1662909744.5464606, \"Dimensions\": {\"Algorithm\": \"Linear Learner\", \"Host\": \"algo-1\", \"Operation\": \"training\", \"epoch\": 8, \"model\": 22}, \"Metrics\": {\"train_absolute_loss_objective\": {\"sum\": 0.31211606502532957, \"count\": 1, \"min\": 0.31211606502532957, \"max\": 0.31211606502532957}}}\u001b[0m\n",
      "\u001b[34m#metrics {\"StartTime\": 1662909744.5465894, \"EndTime\": 1662909744.5466099, \"Dimensions\": {\"Algorithm\": \"Linear Learner\", \"Host\": \"algo-1\", \"Operation\": \"training\", \"epoch\": 8, \"model\": 23}, \"Metrics\": {\"train_absolute_loss_objective\": {\"sum\": 0.3075166988372803, \"count\": 1, \"min\": 0.3075166988372803, \"max\": 0.3075166988372803}}}\u001b[0m\n",
      "\u001b[34m#metrics {\"StartTime\": 1662909744.5466864, \"EndTime\": 1662909744.5467072, \"Dimensions\": {\"Algorithm\": \"Linear Learner\", \"Host\": \"algo-1\", \"Operation\": \"training\", \"epoch\": 8, \"model\": 24}, \"Metrics\": {\"train_absolute_loss_objective\": {\"sum\": 0.8943356227874756, \"count\": 1, \"min\": 0.8943356227874756, \"max\": 0.8943356227874756}}}\u001b[0m\n",
      "\u001b[34m#metrics {\"StartTime\": 1662909744.546828, \"EndTime\": 1662909744.5468464, \"Dimensions\": {\"Algorithm\": \"Linear Learner\", \"Host\": \"algo-1\", \"Operation\": \"training\", \"epoch\": 8, \"model\": 25}, \"Metrics\": {\"train_absolute_loss_objective\": {\"sum\": 0.8986551856994629, \"count\": 1, \"min\": 0.8986551856994629, \"max\": 0.8986551856994629}}}\u001b[0m\n",
      "\u001b[34m#metrics {\"StartTime\": 1662909744.547041, \"EndTime\": 1662909744.547065, \"Dimensions\": {\"Algorithm\": \"Linear Learner\", \"Host\": \"algo-1\", \"Operation\": \"training\", \"epoch\": 8, \"model\": 26}, \"Metrics\": {\"train_absolute_loss_objective\": {\"sum\": 0.8969947242736817, \"count\": 1, \"min\": 0.8969947242736817, \"max\": 0.8969947242736817}}}\u001b[0m\n",
      "\u001b[34m#metrics {\"StartTime\": 1662909744.547438, \"EndTime\": 1662909744.5474627, \"Dimensions\": {\"Algorithm\": \"Linear Learner\", \"Host\": \"algo-1\", \"Operation\": \"training\", \"epoch\": 8, \"model\": 27}, \"Metrics\": {\"train_absolute_loss_objective\": {\"sum\": 0.8976912403106689, \"count\": 1, \"min\": 0.8976912403106689, \"max\": 0.8976912403106689}}}\u001b[0m\n",
      "\u001b[34m#metrics {\"StartTime\": 1662909744.5477874, \"EndTime\": 1662909744.5478108, \"Dimensions\": {\"Algorithm\": \"Linear Learner\", \"Host\": \"algo-1\", \"Operation\": \"training\", \"epoch\": 8, \"model\": 28}, \"Metrics\": {\"train_absolute_loss_objective\": {\"sum\": 0.935335693359375, \"count\": 1, \"min\": 0.935335693359375, \"max\": 0.935335693359375}}}\u001b[0m\n",
      "\u001b[34m#metrics {\"StartTime\": 1662909744.548114, \"EndTime\": 1662909744.5481389, \"Dimensions\": {\"Algorithm\": \"Linear Learner\", \"Host\": \"algo-1\", \"Operation\": \"training\", \"epoch\": 8, \"model\": 29}, \"Metrics\": {\"train_absolute_loss_objective\": {\"sum\": 0.9402142810821533, \"count\": 1, \"min\": 0.9402142810821533, \"max\": 0.9402142810821533}}}\u001b[0m\n",
      "\u001b[34m#metrics {\"StartTime\": 1662909744.5484488, \"EndTime\": 1662909744.5484715, \"Dimensions\": {\"Algorithm\": \"Linear Learner\", \"Host\": \"algo-1\", \"Operation\": \"training\", \"epoch\": 8, \"model\": 30}, \"Metrics\": {\"train_absolute_loss_objective\": {\"sum\": 0.9420056247711182, \"count\": 1, \"min\": 0.9420056247711182, \"max\": 0.9420056247711182}}}\u001b[0m\n",
      "\u001b[34m#metrics {\"StartTime\": 1662909744.5488265, \"EndTime\": 1662909744.5488505, \"Dimensions\": {\"Algorithm\": \"Linear Learner\", \"Host\": \"algo-1\", \"Operation\": \"training\", \"epoch\": 8, \"model\": 31}, \"Metrics\": {\"train_absolute_loss_objective\": {\"sum\": 0.9433542346954346, \"count\": 1, \"min\": 0.9433542346954346, \"max\": 0.9433542346954346}}}\u001b[0m\n",
      "\u001b[34m[09/11/2022 15:22:24 INFO 140682820122432] #quality_metric: host=algo-1, epoch=8, train absolute_loss_objective <loss>=0.7287634181976318\u001b[0m\n",
      "\u001b[34m[09/11/2022 15:22:24 INFO 140682820122432] #early_stopping_criteria_metric: host=algo-1, epoch=8, criteria=absolute_loss_objective, value=0.18026232957839966\u001b[0m\n",
      "\u001b[34m[09/11/2022 15:22:24 INFO 140682820122432] Saving model for epoch: 8\u001b[0m\n",
      "\u001b[34m[09/11/2022 15:22:24 INFO 140682820122432] Saved checkpoint to \"/tmp/tmpx2em90r2/mx-mod-0000.params\"\u001b[0m\n",
      "\u001b[34m[09/11/2022 15:22:24 INFO 140682820122432] #progress_metric: host=algo-1, completed 18.0 % of epochs\u001b[0m\n",
      "\u001b[34m#metrics {\"StartTime\": 1662909744.391666, \"EndTime\": 1662909744.562081, \"Dimensions\": {\"Algorithm\": \"Linear Learner\", \"Host\": \"algo-1\", \"Operation\": \"training\", \"epoch\": 8, \"Meta\": \"training_data_iter\"}, \"Metrics\": {\"Total Records Seen\": {\"sum\": 265.0, \"count\": 1, \"min\": 265, \"max\": 265}, \"Total Batches Seen\": {\"sum\": 61.0, \"count\": 1, \"min\": 61, \"max\": 61}, \"Max Records Seen Between Resets\": {\"sum\": 26.0, \"count\": 1, \"min\": 26, \"max\": 26}, \"Max Batches Seen Between Resets\": {\"sum\": 6.0, \"count\": 1, \"min\": 6, \"max\": 6}, \"Reset Count\": {\"sum\": 11.0, \"count\": 1, \"min\": 11, \"max\": 11}, \"Number of Records Since Last Reset\": {\"sum\": 26.0, \"count\": 1, \"min\": 26, \"max\": 26}, \"Number of Batches Since Last Reset\": {\"sum\": 6.0, \"count\": 1, \"min\": 6, \"max\": 6}}}\u001b[0m\n",
      "\u001b[34m[09/11/2022 15:22:24 INFO 140682820122432] #throughput_metric: host=algo-1, train throughput=152.42954048292972 records/second\u001b[0m\n",
      "\u001b[34m[2022-09-11 15:22:24.717] [tensorio] [info] epoch_stats={\"data_pipeline\": \"/opt/ml/input/data/train\", \"epoch\": 22, \"duration\": 154, \"num_examples\": 6, \"num_bytes\": 1248}\u001b[0m\n",
      "\u001b[34m#metrics {\"StartTime\": 1662909744.7177663, \"EndTime\": 1662909744.7180033, \"Dimensions\": {\"Algorithm\": \"Linear Learner\", \"Host\": \"algo-1\", \"Operation\": \"training\", \"epoch\": 9, \"model\": 0}, \"Metrics\": {\"train_absolute_loss_objective\": {\"sum\": 0.708956298828125, \"count\": 1, \"min\": 0.708956298828125, \"max\": 0.708956298828125}}}\u001b[0m\n",
      "\u001b[34m#metrics {\"StartTime\": 1662909744.7181046, \"EndTime\": 1662909744.7181652, \"Dimensions\": {\"Algorithm\": \"Linear Learner\", \"Host\": \"algo-1\", \"Operation\": \"training\", \"epoch\": 9, \"model\": 1}, \"Metrics\": {\"train_absolute_loss_objective\": {\"sum\": 0.7251795101165771, \"count\": 1, \"min\": 0.7251795101165771, \"max\": 0.7251795101165771}}}\u001b[0m\n",
      "\u001b[34m#metrics {\"StartTime\": 1662909744.718376, \"EndTime\": 1662909744.7184353, \"Dimensions\": {\"Algorithm\": \"Linear Learner\", \"Host\": \"algo-1\", \"Operation\": \"training\", \"epoch\": 9, \"model\": 2}, \"Metrics\": {\"train_absolute_loss_objective\": {\"sum\": 0.7113507270812989, \"count\": 1, \"min\": 0.7113507270812989, \"max\": 0.7113507270812989}}}\u001b[0m\n",
      "\u001b[34m#metrics {\"StartTime\": 1662909744.718611, \"EndTime\": 1662909744.7186637, \"Dimensions\": {\"Algorithm\": \"Linear Learner\", \"Host\": \"algo-1\", \"Operation\": \"training\", \"epoch\": 9, \"model\": 3}, \"Metrics\": {\"train_absolute_loss_objective\": {\"sum\": 0.7242023086547852, \"count\": 1, \"min\": 0.7242023086547852, \"max\": 0.7242023086547852}}}\u001b[0m\n",
      "\u001b[34m#metrics {\"StartTime\": 1662909744.7188513, \"EndTime\": 1662909744.718914, \"Dimensions\": {\"Algorithm\": \"Linear Learner\", \"Host\": \"algo-1\", \"Operation\": \"training\", \"epoch\": 9, \"model\": 4}, \"Metrics\": {\"train_absolute_loss_objective\": {\"sum\": 0.21195051670074463, \"count\": 1, \"min\": 0.21195051670074463, \"max\": 0.21195051670074463}}}\u001b[0m\n",
      "\u001b[34m#metrics {\"StartTime\": 1662909744.7190938, \"EndTime\": 1662909744.7191534, \"Dimensions\": {\"Algorithm\": \"Linear Learner\", \"Host\": \"algo-1\", \"Operation\": \"training\", \"epoch\": 9, \"model\": 5}, \"Metrics\": {\"train_absolute_loss_objective\": {\"sum\": 0.2265627646446228, \"count\": 1, \"min\": 0.2265627646446228, \"max\": 0.2265627646446228}}}\u001b[0m\n",
      "\u001b[34m#metrics {\"StartTime\": 1662909744.7193358, \"EndTime\": 1662909744.719358, \"Dimensions\": {\"Algorithm\": \"Linear Learner\", \"Host\": \"algo-1\", \"Operation\": \"training\", \"epoch\": 9, \"model\": 6}, \"Metrics\": {\"train_absolute_loss_objective\": {\"sum\": 0.23952552318572998, \"count\": 1, \"min\": 0.23952552318572998, \"max\": 0.23952552318572998}}}\u001b[0m\n",
      "\u001b[34m#metrics {\"StartTime\": 1662909744.7194195, \"EndTime\": 1662909744.719438, \"Dimensions\": {\"Algorithm\": \"Linear Learner\", \"Host\": \"algo-1\", \"Operation\": \"training\", \"epoch\": 9, \"model\": 7}, \"Metrics\": {\"train_absolute_loss_objective\": {\"sum\": 0.29498422622680665, \"count\": 1, \"min\": 0.29498422622680665, \"max\": 0.29498422622680665}}}\u001b[0m\n",
      "\u001b[34m#metrics {\"StartTime\": 1662909744.7194965, \"EndTime\": 1662909744.7195137, \"Dimensions\": {\"Algorithm\": \"Linear Learner\", \"Host\": \"algo-1\", \"Operation\": \"training\", \"epoch\": 9, \"model\": 8}, \"Metrics\": {\"train_absolute_loss_objective\": {\"sum\": 0.7641768550872803, \"count\": 1, \"min\": 0.7641768550872803, \"max\": 0.7641768550872803}}}\u001b[0m\n",
      "\u001b[34m#metrics {\"StartTime\": 1662909744.7195706, \"EndTime\": 1662909744.7195885, \"Dimensions\": {\"Algorithm\": \"Linear Learner\", \"Host\": \"algo-1\", \"Operation\": \"training\", \"epoch\": 9, \"model\": 9}, \"Metrics\": {\"train_absolute_loss_objective\": {\"sum\": 0.693938455581665, \"count\": 1, \"min\": 0.693938455581665, \"max\": 0.693938455581665}}}\u001b[0m\n",
      "\u001b[34m#metrics {\"StartTime\": 1662909744.7196436, \"EndTime\": 1662909744.7196605, \"Dimensions\": {\"Algorithm\": \"Linear Learner\", \"Host\": \"algo-1\", \"Operation\": \"training\", \"epoch\": 9, \"model\": 10}, \"Metrics\": {\"train_absolute_loss_objective\": {\"sum\": 0.7039070510864258, \"count\": 1, \"min\": 0.7039070510864258, \"max\": 0.7039070510864258}}}\u001b[0m\n",
      "\u001b[34m#metrics {\"StartTime\": 1662909744.719717, \"EndTime\": 1662909744.719734, \"Dimensions\": {\"Algorithm\": \"Linear Learner\", \"Host\": \"algo-1\", \"Operation\": \"training\", \"epoch\": 9, \"model\": 11}, \"Metrics\": {\"train_absolute_loss_objective\": {\"sum\": 0.6861454391479492, \"count\": 1, \"min\": 0.6861454391479492, \"max\": 0.6861454391479492}}}\u001b[0m\n",
      "\u001b[34m#metrics {\"StartTime\": 1662909744.719788, \"EndTime\": 1662909744.7198048, \"Dimensions\": {\"Algorithm\": \"Linear Learner\", \"Host\": \"algo-1\", \"Operation\": \"training\", \"epoch\": 9, \"model\": 12}, \"Metrics\": {\"train_absolute_loss_objective\": {\"sum\": 0.22147058963775634, \"count\": 1, \"min\": 0.22147058963775634, \"max\": 0.22147058963775634}}}\u001b[0m\n",
      "\u001b[34m#metrics {\"StartTime\": 1662909744.719895, \"EndTime\": 1662909744.7199135, \"Dimensions\": {\"Algorithm\": \"Linear Learner\", \"Host\": \"algo-1\", \"Operation\": \"training\", \"epoch\": 9, \"model\": 13}, \"Metrics\": {\"train_absolute_loss_objective\": {\"sum\": 0.29625877380371096, \"count\": 1, \"min\": 0.29625877380371096, \"max\": 0.29625877380371096}}}\u001b[0m\n",
      "\u001b[34m#metrics {\"StartTime\": 1662909744.719974, \"EndTime\": 1662909744.7199926, \"Dimensions\": {\"Algorithm\": \"Linear Learner\", \"Host\": \"algo-1\", \"Operation\": \"training\", \"epoch\": 9, \"model\": 14}, \"Metrics\": {\"train_absolute_loss_objective\": {\"sum\": 0.2217649459838867, \"count\": 1, \"min\": 0.2217649459838867, \"max\": 0.2217649459838867}}}\u001b[0m\n",
      "\u001b[34m#metrics {\"StartTime\": 1662909744.7200897, \"EndTime\": 1662909744.7201087, \"Dimensions\": {\"Algorithm\": \"Linear Learner\", \"Host\": \"algo-1\", \"Operation\": \"training\", \"epoch\": 9, \"model\": 15}, \"Metrics\": {\"train_absolute_loss_objective\": {\"sum\": 0.3229986810684204, \"count\": 1, \"min\": 0.3229986810684204, \"max\": 0.3229986810684204}}}\u001b[0m\n",
      "\u001b[34m#metrics {\"StartTime\": 1662909744.7201633, \"EndTime\": 1662909744.7201815, \"Dimensions\": {\"Algorithm\": \"Linear Learner\", \"Host\": \"algo-1\", \"Operation\": \"training\", \"epoch\": 9, \"model\": 16}, \"Metrics\": {\"train_absolute_loss_objective\": {\"sum\": 0.6817788314819336, \"count\": 1, \"min\": 0.6817788314819336, \"max\": 0.6817788314819336}}}\u001b[0m\n",
      "\u001b[34m#metrics {\"StartTime\": 1662909744.7202332, \"EndTime\": 1662909744.720249, \"Dimensions\": {\"Algorithm\": \"Linear Learner\", \"Host\": \"algo-1\", \"Operation\": \"training\", \"epoch\": 9, \"model\": 17}, \"Metrics\": {\"train_absolute_loss_objective\": {\"sum\": 0.7277438926696778, \"count\": 1, \"min\": 0.7277438926696778, \"max\": 0.7277438926696778}}}\u001b[0m\n",
      "\u001b[34m#metrics {\"StartTime\": 1662909744.7203004, \"EndTime\": 1662909744.7203166, \"Dimensions\": {\"Algorithm\": \"Linear Learner\", \"Host\": \"algo-1\", \"Operation\": \"training\", \"epoch\": 9, \"model\": 18}, \"Metrics\": {\"train_absolute_loss_objective\": {\"sum\": 0.7076183128356933, \"count\": 1, \"min\": 0.7076183128356933, \"max\": 0.7076183128356933}}}\u001b[0m\n",
      "\u001b[34m#metrics {\"StartTime\": 1662909744.7203665, \"EndTime\": 1662909744.7203834, \"Dimensions\": {\"Algorithm\": \"Linear Learner\", \"Host\": \"algo-1\", \"Operation\": \"training\", \"epoch\": 9, \"model\": 19}, \"Metrics\": {\"train_absolute_loss_objective\": {\"sum\": 0.7018680953979493, \"count\": 1, \"min\": 0.7018680953979493, \"max\": 0.7018680953979493}}}\u001b[0m\n",
      "\u001b[34m#metrics {\"StartTime\": 1662909744.7204356, \"EndTime\": 1662909744.720452, \"Dimensions\": {\"Algorithm\": \"Linear Learner\", \"Host\": \"algo-1\", \"Operation\": \"training\", \"epoch\": 9, \"model\": 20}, \"Metrics\": {\"train_absolute_loss_objective\": {\"sum\": 0.2889987277984619, \"count\": 1, \"min\": 0.2889987277984619, \"max\": 0.2889987277984619}}}\u001b[0m\n",
      "\u001b[34m#metrics {\"StartTime\": 1662909744.7205029, \"EndTime\": 1662909744.72052, \"Dimensions\": {\"Algorithm\": \"Linear Learner\", \"Host\": \"algo-1\", \"Operation\": \"training\", \"epoch\": 9, \"model\": 21}, \"Metrics\": {\"train_absolute_loss_objective\": {\"sum\": 0.29224652767181397, \"count\": 1, \"min\": 0.29224652767181397, \"max\": 0.29224652767181397}}}\u001b[0m\n",
      "\u001b[34m#metrics {\"StartTime\": 1662909744.7205722, \"EndTime\": 1662909744.7205892, \"Dimensions\": {\"Algorithm\": \"Linear Learner\", \"Host\": \"algo-1\", \"Operation\": \"training\", \"epoch\": 9, \"model\": 22}, \"Metrics\": {\"train_absolute_loss_objective\": {\"sum\": 0.29335546016693115, \"count\": 1, \"min\": 0.29335546016693115, \"max\": 0.29335546016693115}}}\u001b[0m\n",
      "\u001b[34m#metrics {\"StartTime\": 1662909744.7206447, \"EndTime\": 1662909744.720662, \"Dimensions\": {\"Algorithm\": \"Linear Learner\", \"Host\": \"algo-1\", \"Operation\": \"training\", \"epoch\": 9, \"model\": 23}, \"Metrics\": {\"train_absolute_loss_objective\": {\"sum\": 0.2844477033615112, \"count\": 1, \"min\": 0.2844477033615112, \"max\": 0.2844477033615112}}}\u001b[0m\n",
      "\u001b[34m#metrics {\"StartTime\": 1662909744.720713, \"EndTime\": 1662909744.7207341, \"Dimensions\": {\"Algorithm\": \"Linear Learner\", \"Host\": \"algo-1\", \"Operation\": \"training\", \"epoch\": 9, \"model\": 24}, \"Metrics\": {\"train_absolute_loss_objective\": {\"sum\": 0.8948959541320801, \"count\": 1, \"min\": 0.8948959541320801, \"max\": 0.8948959541320801}}}\u001b[0m\n",
      "\u001b[34m#metrics {\"StartTime\": 1662909744.7207818, \"EndTime\": 1662909744.7207954, \"Dimensions\": {\"Algorithm\": \"Linear Learner\", \"Host\": \"algo-1\", \"Operation\": \"training\", \"epoch\": 9, \"model\": 25}, \"Metrics\": {\"train_absolute_loss_objective\": {\"sum\": 0.8963817977905273, \"count\": 1, \"min\": 0.8963817977905273, \"max\": 0.8963817977905273}}}\u001b[0m\n",
      "\u001b[34m#metrics {\"StartTime\": 1662909744.7208438, \"EndTime\": 1662909744.7208598, \"Dimensions\": {\"Algorithm\": \"Linear Learner\", \"Host\": \"algo-1\", \"Operation\": \"training\", \"epoch\": 9, \"model\": 26}, \"Metrics\": {\"train_absolute_loss_objective\": {\"sum\": 0.898901481628418, \"count\": 1, \"min\": 0.898901481628418, \"max\": 0.898901481628418}}}\u001b[0m\n",
      "\u001b[34m#metrics {\"StartTime\": 1662909744.7209144, \"EndTime\": 1662909744.720931, \"Dimensions\": {\"Algorithm\": \"Linear Learner\", \"Host\": \"algo-1\", \"Operation\": \"training\", \"epoch\": 9, \"model\": 27}, \"Metrics\": {\"train_absolute_loss_objective\": {\"sum\": 0.8986135578155517, \"count\": 1, \"min\": 0.8986135578155517, \"max\": 0.8986135578155517}}}\u001b[0m\n",
      "\u001b[34m#metrics {\"StartTime\": 1662909744.7209876, \"EndTime\": 1662909744.7210045, \"Dimensions\": {\"Algorithm\": \"Linear Learner\", \"Host\": \"algo-1\", \"Operation\": \"training\", \"epoch\": 9, \"model\": 28}, \"Metrics\": {\"train_absolute_loss_objective\": {\"sum\": 0.9248389339447022, \"count\": 1, \"min\": 0.9248389339447022, \"max\": 0.9248389339447022}}}\u001b[0m\n",
      "\u001b[34m#metrics {\"StartTime\": 1662909744.7210562, \"EndTime\": 1662909744.7210724, \"Dimensions\": {\"Algorithm\": \"Linear Learner\", \"Host\": \"algo-1\", \"Operation\": \"training\", \"epoch\": 9, \"model\": 29}, \"Metrics\": {\"train_absolute_loss_objective\": {\"sum\": 0.9254002285003662, \"count\": 1, \"min\": 0.9254002285003662, \"max\": 0.9254002285003662}}}\u001b[0m\n",
      "\u001b[34m#metrics {\"StartTime\": 1662909744.7211232, \"EndTime\": 1662909744.72114, \"Dimensions\": {\"Algorithm\": \"Linear Learner\", \"Host\": \"algo-1\", \"Operation\": \"training\", \"epoch\": 9, \"model\": 30}, \"Metrics\": {\"train_absolute_loss_objective\": {\"sum\": 0.9335387229919434, \"count\": 1, \"min\": 0.9335387229919434, \"max\": 0.9335387229919434}}}\u001b[0m\n",
      "\u001b[34m#metrics {\"StartTime\": 1662909744.7211907, \"EndTime\": 1662909744.7212071, \"Dimensions\": {\"Algorithm\": \"Linear Learner\", \"Host\": \"algo-1\", \"Operation\": \"training\", \"epoch\": 9, \"model\": 31}, \"Metrics\": {\"train_absolute_loss_objective\": {\"sum\": 0.9242543601989746, \"count\": 1, \"min\": 0.9242543601989746, \"max\": 0.9242543601989746}}}\u001b[0m\n",
      "\u001b[34m[09/11/2022 15:22:24 INFO 140682820122432] #quality_metric: host=algo-1, epoch=9, train absolute_loss_objective <loss>=0.708956298828125\u001b[0m\n",
      "\u001b[34m[09/11/2022 15:22:24 INFO 140682820122432] #early_stopping_criteria_metric: host=algo-1, epoch=9, criteria=absolute_loss_objective, value=0.21195051670074463\u001b[0m\n",
      "\u001b[34m[09/11/2022 15:22:24 INFO 140682820122432] Saving model for epoch: 9\u001b[0m\n",
      "\u001b[34m[09/11/2022 15:22:24 INFO 140682820122432] Saved checkpoint to \"/tmp/tmpbrvs_e8n/mx-mod-0000.params\"\u001b[0m\n",
      "\u001b[34m[09/11/2022 15:22:24 INFO 140682820122432] #progress_metric: host=algo-1, completed 20.0 % of epochs\u001b[0m\n",
      "\u001b[34m#metrics {\"StartTime\": 1662909744.5626333, \"EndTime\": 1662909744.7336059, \"Dimensions\": {\"Algorithm\": \"Linear Learner\", \"Host\": \"algo-1\", \"Operation\": \"training\", \"epoch\": 9, \"Meta\": \"training_data_iter\"}, \"Metrics\": {\"Total Records Seen\": {\"sum\": 291.0, \"count\": 1, \"min\": 291, \"max\": 291}, \"Total Batches Seen\": {\"sum\": 67.0, \"count\": 1, \"min\": 67, \"max\": 67}, \"Max Records Seen Between Resets\": {\"sum\": 26.0, \"count\": 1, \"min\": 26, \"max\": 26}, \"Max Batches Seen Between Resets\": {\"sum\": 6.0, \"count\": 1, \"min\": 6, \"max\": 6}, \"Reset Count\": {\"sum\": 12.0, \"count\": 1, \"min\": 12, \"max\": 12}, \"Number of Records Since Last Reset\": {\"sum\": 26.0, \"count\": 1, \"min\": 26, \"max\": 26}, \"Number of Batches Since Last Reset\": {\"sum\": 6.0, \"count\": 1, \"min\": 6, \"max\": 6}}}\u001b[0m\n",
      "\u001b[34m[09/11/2022 15:22:24 INFO 140682820122432] #throughput_metric: host=algo-1, train throughput=151.9095328706709 records/second\u001b[0m\n",
      "\u001b[34m[2022-09-11 15:22:24.882] [tensorio] [info] epoch_stats={\"data_pipeline\": \"/opt/ml/input/data/train\", \"epoch\": 24, \"duration\": 148, \"num_examples\": 6, \"num_bytes\": 1248}\u001b[0m\n",
      "\u001b[34m#metrics {\"StartTime\": 1662909744.8831844, \"EndTime\": 1662909744.8832746, \"Dimensions\": {\"Algorithm\": \"Linear Learner\", \"Host\": \"algo-1\", \"Operation\": \"training\", \"epoch\": 10, \"model\": 0}, \"Metrics\": {\"train_absolute_loss_objective\": {\"sum\": 0.6891380596160889, \"count\": 1, \"min\": 0.6891380596160889, \"max\": 0.6891380596160889}}}\u001b[0m\n",
      "\u001b[34m#metrics {\"StartTime\": 1662909744.8836327, \"EndTime\": 1662909744.8836584, \"Dimensions\": {\"Algorithm\": \"Linear Learner\", \"Host\": \"algo-1\", \"Operation\": \"training\", \"epoch\": 10, \"model\": 1}, \"Metrics\": {\"train_absolute_loss_objective\": {\"sum\": 0.704430274963379, \"count\": 1, \"min\": 0.704430274963379, \"max\": 0.704430274963379}}}\u001b[0m\n",
      "\u001b[34m#metrics {\"StartTime\": 1662909744.883982, \"EndTime\": 1662909744.8840067, \"Dimensions\": {\"Algorithm\": \"Linear Learner\", \"Host\": \"algo-1\", \"Operation\": \"training\", \"epoch\": 10, \"model\": 2}, \"Metrics\": {\"train_absolute_loss_objective\": {\"sum\": 0.6914545059204101, \"count\": 1, \"min\": 0.6914545059204101, \"max\": 0.6914545059204101}}}\u001b[0m\n",
      "\u001b[34m#metrics {\"StartTime\": 1662909744.8843024, \"EndTime\": 1662909744.8843274, \"Dimensions\": {\"Algorithm\": \"Linear Learner\", \"Host\": \"algo-1\", \"Operation\": \"training\", \"epoch\": 10, \"model\": 3}, \"Metrics\": {\"train_absolute_loss_objective\": {\"sum\": 0.7034530735015869, \"count\": 1, \"min\": 0.7034530735015869, \"max\": 0.7034530735015869}}}\u001b[0m\n",
      "\u001b[34m#metrics {\"StartTime\": 1662909744.884605, \"EndTime\": 1662909744.8846283, \"Dimensions\": {\"Algorithm\": \"Linear Learner\", \"Host\": \"algo-1\", \"Operation\": \"training\", \"epoch\": 10, \"model\": 4}, \"Metrics\": {\"train_absolute_loss_objective\": {\"sum\": 0.1668476414680481, \"count\": 1, \"min\": 0.1668476414680481, \"max\": 0.1668476414680481}}}\u001b[0m\n",
      "\u001b[34m#metrics {\"StartTime\": 1662909744.8849049, \"EndTime\": 1662909744.8849254, \"Dimensions\": {\"Algorithm\": \"Linear Learner\", \"Host\": \"algo-1\", \"Operation\": \"training\", \"epoch\": 10, \"model\": 5}, \"Metrics\": {\"train_absolute_loss_objective\": {\"sum\": 0.21697760343551636, \"count\": 1, \"min\": 0.21697760343551636, \"max\": 0.21697760343551636}}}\u001b[0m\n",
      "\u001b[34m#metrics {\"StartTime\": 1662909744.8849945, \"EndTime\": 1662909744.8850367, \"Dimensions\": {\"Algorithm\": \"Linear Learner\", \"Host\": \"algo-1\", \"Operation\": \"training\", \"epoch\": 10, \"model\": 6}, \"Metrics\": {\"train_absolute_loss_objective\": {\"sum\": 0.18469057321548463, \"count\": 1, \"min\": 0.18469057321548463, \"max\": 0.18469057321548463}}}\u001b[0m\n",
      "\u001b[34m#metrics {\"StartTime\": 1662909744.8850965, \"EndTime\": 1662909744.885115, \"Dimensions\": {\"Algorithm\": \"Linear Learner\", \"Host\": \"algo-1\", \"Operation\": \"training\", \"epoch\": 10, \"model\": 7}, \"Metrics\": {\"train_absolute_loss_objective\": {\"sum\": 0.2593576622009277, \"count\": 1, \"min\": 0.2593576622009277, \"max\": 0.2593576622009277}}}\u001b[0m\n",
      "\u001b[34m#metrics {\"StartTime\": 1662909744.8851652, \"EndTime\": 1662909744.8852103, \"Dimensions\": {\"Algorithm\": \"Linear Learner\", \"Host\": \"algo-1\", \"Operation\": \"training\", \"epoch\": 10, \"model\": 8}, \"Metrics\": {\"train_absolute_loss_objective\": {\"sum\": 0.7441317367553711, \"count\": 1, \"min\": 0.7441317367553711, \"max\": 0.7441317367553711}}}\u001b[0m\n",
      "\u001b[34m#metrics {\"StartTime\": 1662909744.885258, \"EndTime\": 1662909744.885271, \"Dimensions\": {\"Algorithm\": \"Linear Learner\", \"Host\": \"algo-1\", \"Operation\": \"training\", \"epoch\": 10, \"model\": 9}, \"Metrics\": {\"train_absolute_loss_objective\": {\"sum\": 0.67339186668396, \"count\": 1, \"min\": 0.67339186668396, \"max\": 0.67339186668396}}}\u001b[0m\n",
      "\u001b[34m#metrics {\"StartTime\": 1662909744.8853083, \"EndTime\": 1662909744.8853192, \"Dimensions\": {\"Algorithm\": \"Linear Learner\", \"Host\": \"algo-1\", \"Operation\": \"training\", \"epoch\": 10, \"model\": 10}, \"Metrics\": {\"train_absolute_loss_objective\": {\"sum\": 0.6842340660095215, \"count\": 1, \"min\": 0.6842340660095215, \"max\": 0.6842340660095215}}}\u001b[0m\n",
      "\u001b[34m#metrics {\"StartTime\": 1662909744.8853877, \"EndTime\": 1662909744.8854027, \"Dimensions\": {\"Algorithm\": \"Linear Learner\", \"Host\": \"algo-1\", \"Operation\": \"training\", \"epoch\": 10, \"model\": 11}, \"Metrics\": {\"train_absolute_loss_objective\": {\"sum\": 0.6655989646911621, \"count\": 1, \"min\": 0.6655989646911621, \"max\": 0.6655989646911621}}}\u001b[0m\n",
      "\u001b[34m#metrics {\"StartTime\": 1662909744.8854845, \"EndTime\": 1662909744.8855016, \"Dimensions\": {\"Algorithm\": \"Linear Learner\", \"Host\": \"algo-1\", \"Operation\": \"training\", \"epoch\": 10, \"model\": 12}, \"Metrics\": {\"train_absolute_loss_objective\": {\"sum\": 0.18731334209442138, \"count\": 1, \"min\": 0.18731334209442138, \"max\": 0.18731334209442138}}}\u001b[0m\n",
      "\u001b[34m#metrics {\"StartTime\": 1662909744.8855526, \"EndTime\": 1662909744.8856072, \"Dimensions\": {\"Algorithm\": \"Linear Learner\", \"Host\": \"algo-1\", \"Operation\": \"training\", \"epoch\": 10, \"model\": 13}, \"Metrics\": {\"train_absolute_loss_objective\": {\"sum\": 0.20912165880203248, \"count\": 1, \"min\": 0.20912165880203248, \"max\": 0.20912165880203248}}}\u001b[0m\n",
      "\u001b[34m#metrics {\"StartTime\": 1662909744.8856773, \"EndTime\": 1662909744.8856936, \"Dimensions\": {\"Algorithm\": \"Linear Learner\", \"Host\": \"algo-1\", \"Operation\": \"training\", \"epoch\": 10, \"model\": 14}, \"Metrics\": {\"train_absolute_loss_objective\": {\"sum\": 0.18764078736305237, \"count\": 1, \"min\": 0.18764078736305237, \"max\": 0.18764078736305237}}}\u001b[0m\n",
      "\u001b[34m#metrics {\"StartTime\": 1662909744.8857365, \"EndTime\": 1662909744.885748, \"Dimensions\": {\"Algorithm\": \"Linear Learner\", \"Host\": \"algo-1\", \"Operation\": \"training\", \"epoch\": 10, \"model\": 15}, \"Metrics\": {\"train_absolute_loss_objective\": {\"sum\": 0.20863346815109252, \"count\": 1, \"min\": 0.20863346815109252, \"max\": 0.20863346815109252}}}\u001b[0m\n",
      "\u001b[34m#metrics {\"StartTime\": 1662909744.8857863, \"EndTime\": 1662909744.885797, \"Dimensions\": {\"Algorithm\": \"Linear Learner\", \"Host\": \"algo-1\", \"Operation\": \"training\", \"epoch\": 10, \"model\": 16}, \"Metrics\": {\"train_absolute_loss_objective\": {\"sum\": 0.664620885848999, \"count\": 1, \"min\": 0.664620885848999, \"max\": 0.664620885848999}}}\u001b[0m\n",
      "\u001b[34m#metrics {\"StartTime\": 1662909744.8858712, \"EndTime\": 1662909744.8859107, \"Dimensions\": {\"Algorithm\": \"Linear Learner\", \"Host\": \"algo-1\", \"Operation\": \"training\", \"epoch\": 10, \"model\": 17}, \"Metrics\": {\"train_absolute_loss_objective\": {\"sum\": 0.7092180728912354, \"count\": 1, \"min\": 0.7092180728912354, \"max\": 0.7092180728912354}}}\u001b[0m\n",
      "\u001b[34m#metrics {\"StartTime\": 1662909744.8859644, \"EndTime\": 1662909744.8859808, \"Dimensions\": {\"Algorithm\": \"Linear Learner\", \"Host\": \"algo-1\", \"Operation\": \"training\", \"epoch\": 10, \"model\": 18}, \"Metrics\": {\"train_absolute_loss_objective\": {\"sum\": 0.690092363357544, \"count\": 1, \"min\": 0.690092363357544, \"max\": 0.690092363357544}}}\u001b[0m\n",
      "\u001b[34m#metrics {\"StartTime\": 1662909744.886034, \"EndTime\": 1662909744.8860831, \"Dimensions\": {\"Algorithm\": \"Linear Learner\", \"Host\": \"algo-1\", \"Operation\": \"training\", \"epoch\": 10, \"model\": 19}, \"Metrics\": {\"train_absolute_loss_objective\": {\"sum\": 0.683633279800415, \"count\": 1, \"min\": 0.683633279800415, \"max\": 0.683633279800415}}}\u001b[0m\n",
      "\u001b[34m#metrics {\"StartTime\": 1662909744.8861396, \"EndTime\": 1662909744.8861568, \"Dimensions\": {\"Algorithm\": \"Linear Learner\", \"Host\": \"algo-1\", \"Operation\": \"training\", \"epoch\": 10, \"model\": 20}, \"Metrics\": {\"train_absolute_loss_objective\": {\"sum\": 0.27749218463897707, \"count\": 1, \"min\": 0.27749218463897707, \"max\": 0.27749218463897707}}}\u001b[0m\n",
      "\u001b[34m#metrics {\"StartTime\": 1662909744.8862417, \"EndTime\": 1662909744.8862607, \"Dimensions\": {\"Algorithm\": \"Linear Learner\", \"Host\": \"algo-1\", \"Operation\": \"training\", \"epoch\": 10, \"model\": 21}, \"Metrics\": {\"train_absolute_loss_objective\": {\"sum\": 0.28025309085845945, \"count\": 1, \"min\": 0.28025309085845945, \"max\": 0.28025309085845945}}}\u001b[0m\n",
      "\u001b[34m#metrics {\"StartTime\": 1662909744.886311, \"EndTime\": 1662909744.8863256, \"Dimensions\": {\"Algorithm\": \"Linear Learner\", \"Host\": \"algo-1\", \"Operation\": \"training\", \"epoch\": 10, \"model\": 22}, \"Metrics\": {\"train_absolute_loss_objective\": {\"sum\": 0.3734449052810669, \"count\": 1, \"min\": 0.3734449052810669, \"max\": 0.3734449052810669}}}\u001b[0m\n",
      "\u001b[34m#metrics {\"StartTime\": 1662909744.8864312, \"EndTime\": 1662909744.8864493, \"Dimensions\": {\"Algorithm\": \"Linear Learner\", \"Host\": \"algo-1\", \"Operation\": \"training\", \"epoch\": 10, \"model\": 23}, \"Metrics\": {\"train_absolute_loss_objective\": {\"sum\": 0.2843717384338379, \"count\": 1, \"min\": 0.2843717384338379, \"max\": 0.2843717384338379}}}\u001b[0m\n",
      "\u001b[34m#metrics {\"StartTime\": 1662909744.8864996, \"EndTime\": 1662909744.8865147, \"Dimensions\": {\"Algorithm\": \"Linear Learner\", \"Host\": \"algo-1\", \"Operation\": \"training\", \"epoch\": 10, \"model\": 24}, \"Metrics\": {\"train_absolute_loss_objective\": {\"sum\": 0.896770486831665, \"count\": 1, \"min\": 0.896770486831665, \"max\": 0.896770486831665}}}\u001b[0m\n",
      "\u001b[34m#metrics {\"StartTime\": 1662909744.8866005, \"EndTime\": 1662909744.8866355, \"Dimensions\": {\"Algorithm\": \"Linear Learner\", \"Host\": \"algo-1\", \"Operation\": \"training\", \"epoch\": 10, \"model\": 25}, \"Metrics\": {\"train_absolute_loss_objective\": {\"sum\": 0.8965592575073242, \"count\": 1, \"min\": 0.8965592575073242, \"max\": 0.8965592575073242}}}\u001b[0m\n",
      "\u001b[34m#metrics {\"StartTime\": 1662909744.8868432, \"EndTime\": 1662909744.8868637, \"Dimensions\": {\"Algorithm\": \"Linear Learner\", \"Host\": \"algo-1\", \"Operation\": \"training\", \"epoch\": 10, \"model\": 26}, \"Metrics\": {\"train_absolute_loss_objective\": {\"sum\": 0.8989800643920899, \"count\": 1, \"min\": 0.8989800643920899, \"max\": 0.8989800643920899}}}\u001b[0m\n",
      "\u001b[34m#metrics {\"StartTime\": 1662909744.886967, \"EndTime\": 1662909744.886984, \"Dimensions\": {\"Algorithm\": \"Linear Learner\", \"Host\": \"algo-1\", \"Operation\": \"training\", \"epoch\": 10, \"model\": 27}, \"Metrics\": {\"train_absolute_loss_objective\": {\"sum\": 0.8982101631164551, \"count\": 1, \"min\": 0.8982101631164551, \"max\": 0.8982101631164551}}}\u001b[0m\n",
      "\u001b[34m#metrics {\"StartTime\": 1662909744.8870847, \"EndTime\": 1662909744.8871076, \"Dimensions\": {\"Algorithm\": \"Linear Learner\", \"Host\": \"algo-1\", \"Operation\": \"training\", \"epoch\": 10, \"model\": 28}, \"Metrics\": {\"train_absolute_loss_objective\": {\"sum\": 0.9316730880737305, \"count\": 1, \"min\": 0.9316730880737305, \"max\": 0.9316730880737305}}}\u001b[0m\n",
      "\u001b[34m#metrics {\"StartTime\": 1662909744.8871636, \"EndTime\": 1662909744.8871799, \"Dimensions\": {\"Algorithm\": \"Linear Learner\", \"Host\": \"algo-1\", \"Operation\": \"training\", \"epoch\": 10, \"model\": 29}, \"Metrics\": {\"train_absolute_loss_objective\": {\"sum\": 0.9331451797485352, \"count\": 1, \"min\": 0.9331451797485352, \"max\": 0.9331451797485352}}}\u001b[0m\n",
      "\u001b[34m#metrics {\"StartTime\": 1662909744.887257, \"EndTime\": 1662909744.887281, \"Dimensions\": {\"Algorithm\": \"Linear Learner\", \"Host\": \"algo-1\", \"Operation\": \"training\", \"epoch\": 10, \"model\": 30}, \"Metrics\": {\"train_absolute_loss_objective\": {\"sum\": 0.9262855052947998, \"count\": 1, \"min\": 0.9262855052947998, \"max\": 0.9262855052947998}}}\u001b[0m\n",
      "\u001b[34m#metrics {\"StartTime\": 1662909744.8874302, \"EndTime\": 1662909744.8874795, \"Dimensions\": {\"Algorithm\": \"Linear Learner\", \"Host\": \"algo-1\", \"Operation\": \"training\", \"epoch\": 10, \"model\": 31}, \"Metrics\": {\"train_absolute_loss_objective\": {\"sum\": 0.9334323883056641, \"count\": 1, \"min\": 0.9334323883056641, \"max\": 0.9334323883056641}}}\u001b[0m\n",
      "\u001b[34m[09/11/2022 15:22:24 INFO 140682820122432] #quality_metric: host=algo-1, epoch=10, train absolute_loss_objective <loss>=0.6891380596160889\u001b[0m\n",
      "\u001b[34m[09/11/2022 15:22:24 INFO 140682820122432] #early_stopping_criteria_metric: host=algo-1, epoch=10, criteria=absolute_loss_objective, value=0.1668476414680481\u001b[0m\n",
      "\u001b[34m[09/11/2022 15:22:24 INFO 140682820122432] Epoch 10: Loss improved. Updating best model\u001b[0m\n",
      "\u001b[34m[09/11/2022 15:22:24 INFO 140682820122432] Saving model for epoch: 10\u001b[0m\n",
      "\u001b[34m[09/11/2022 15:22:24 INFO 140682820122432] Saved checkpoint to \"/tmp/tmpxk8402jh/mx-mod-0000.params\"\u001b[0m\n",
      "\u001b[34m[09/11/2022 15:22:24 INFO 140682820122432] #progress_metric: host=algo-1, completed 22.0 % of epochs\u001b[0m\n",
      "\u001b[34m#metrics {\"StartTime\": 1662909744.7339306, \"EndTime\": 1662909744.9003105, \"Dimensions\": {\"Algorithm\": \"Linear Learner\", \"Host\": \"algo-1\", \"Operation\": \"training\", \"epoch\": 10, \"Meta\": \"training_data_iter\"}, \"Metrics\": {\"Total Records Seen\": {\"sum\": 317.0, \"count\": 1, \"min\": 317, \"max\": 317}, \"Total Batches Seen\": {\"sum\": 73.0, \"count\": 1, \"min\": 73, \"max\": 73}, \"Max Records Seen Between Resets\": {\"sum\": 26.0, \"count\": 1, \"min\": 26, \"max\": 26}, \"Max Batches Seen Between Resets\": {\"sum\": 6.0, \"count\": 1, \"min\": 6, \"max\": 6}, \"Reset Count\": {\"sum\": 13.0, \"count\": 1, \"min\": 13, \"max\": 13}, \"Number of Records Since Last Reset\": {\"sum\": 26.0, \"count\": 1, \"min\": 26, \"max\": 26}, \"Number of Batches Since Last Reset\": {\"sum\": 6.0, \"count\": 1, \"min\": 6, \"max\": 6}}}\u001b[0m\n",
      "\u001b[34m[09/11/2022 15:22:24 INFO 140682820122432] #throughput_metric: host=algo-1, train throughput=156.12097195598054 records/second\u001b[0m\n",
      "\u001b[34m[2022-09-11 15:22:25.032] [tensorio] [info] epoch_stats={\"data_pipeline\": \"/opt/ml/input/data/train\", \"epoch\": 26, \"duration\": 131, \"num_examples\": 6, \"num_bytes\": 1248}\u001b[0m\n",
      "\u001b[34m#metrics {\"StartTime\": 1662909745.0325778, \"EndTime\": 1662909745.0327113, \"Dimensions\": {\"Algorithm\": \"Linear Learner\", \"Host\": \"algo-1\", \"Operation\": \"training\", \"epoch\": 11, \"model\": 0}, \"Metrics\": {\"train_absolute_loss_objective\": {\"sum\": 0.6694511032104492, \"count\": 1, \"min\": 0.6694511032104492, \"max\": 0.6694511032104492}}}\u001b[0m\n",
      "\u001b[34m#metrics {\"StartTime\": 1662909745.0328014, \"EndTime\": 1662909745.0328517, \"Dimensions\": {\"Algorithm\": \"Linear Learner\", \"Host\": \"algo-1\", \"Operation\": \"training\", \"epoch\": 11, \"model\": 1}, \"Metrics\": {\"train_absolute_loss_objective\": {\"sum\": 0.6835448169708251, \"count\": 1, \"min\": 0.6835448169708251, \"max\": 0.6835448169708251}}}\u001b[0m\n",
      "\u001b[34m#metrics {\"StartTime\": 1662909745.0329063, \"EndTime\": 1662909745.032924, \"Dimensions\": {\"Algorithm\": \"Linear Learner\", \"Host\": \"algo-1\", \"Operation\": \"training\", \"epoch\": 11, \"model\": 2}, \"Metrics\": {\"train_absolute_loss_objective\": {\"sum\": 0.6717675685882568, \"count\": 1, \"min\": 0.6717675685882568, \"max\": 0.6717675685882568}}}\u001b[0m\n",
      "\u001b[34m#metrics {\"StartTime\": 1662909745.0330062, \"EndTime\": 1662909745.033025, \"Dimensions\": {\"Algorithm\": \"Linear Learner\", \"Host\": \"algo-1\", \"Operation\": \"training\", \"epoch\": 11, \"model\": 3}, \"Metrics\": {\"train_absolute_loss_objective\": {\"sum\": 0.6825676250457764, \"count\": 1, \"min\": 0.6825676250457764, \"max\": 0.6825676250457764}}}\u001b[0m\n",
      "\u001b[34m#metrics {\"StartTime\": 1662909745.0330791, \"EndTime\": 1662909745.033096, \"Dimensions\": {\"Algorithm\": \"Linear Learner\", \"Host\": \"algo-1\", \"Operation\": \"training\", \"epoch\": 11, \"model\": 4}, \"Metrics\": {\"train_absolute_loss_objective\": {\"sum\": 0.20631487607955934, \"count\": 1, \"min\": 0.20631487607955934, \"max\": 0.20631487607955934}}}\u001b[0m\n",
      "\u001b[34m#metrics {\"StartTime\": 1662909745.0332103, \"EndTime\": 1662909745.033231, \"Dimensions\": {\"Algorithm\": \"Linear Learner\", \"Host\": \"algo-1\", \"Operation\": \"training\", \"epoch\": 11, \"model\": 5}, \"Metrics\": {\"train_absolute_loss_objective\": {\"sum\": 0.22716152906417847, \"count\": 1, \"min\": 0.22716152906417847, \"max\": 0.22716152906417847}}}\u001b[0m\n",
      "\u001b[34m#metrics {\"StartTime\": 1662909745.0332878, \"EndTime\": 1662909745.033304, \"Dimensions\": {\"Algorithm\": \"Linear Learner\", \"Host\": \"algo-1\", \"Operation\": \"training\", \"epoch\": 11, \"model\": 6}, \"Metrics\": {\"train_absolute_loss_objective\": {\"sum\": 0.3024990773200989, \"count\": 1, \"min\": 0.3024990773200989, \"max\": 0.3024990773200989}}}\u001b[0m\n",
      "\u001b[34m#metrics {\"StartTime\": 1662909745.0333865, \"EndTime\": 1662909745.0334291, \"Dimensions\": {\"Algorithm\": \"Linear Learner\", \"Host\": \"algo-1\", \"Operation\": \"training\", \"epoch\": 11, \"model\": 7}, \"Metrics\": {\"train_absolute_loss_objective\": {\"sum\": 0.27181425571441653, \"count\": 1, \"min\": 0.27181425571441653, \"max\": 0.27181425571441653}}}\u001b[0m\n",
      "\u001b[34m#metrics {\"StartTime\": 1662909745.033488, \"EndTime\": 1662909745.0335045, \"Dimensions\": {\"Algorithm\": \"Linear Learner\", \"Host\": \"algo-1\", \"Operation\": \"training\", \"epoch\": 11, \"model\": 8}, \"Metrics\": {\"train_absolute_loss_objective\": {\"sum\": 0.7245385456085205, \"count\": 1, \"min\": 0.7245385456085205, \"max\": 0.7245385456085205}}}\u001b[0m\n",
      "\u001b[34m#metrics {\"StartTime\": 1662909745.0335543, \"EndTime\": 1662909745.0336, \"Dimensions\": {\"Algorithm\": \"Linear Learner\", \"Host\": \"algo-1\", \"Operation\": \"training\", \"epoch\": 11, \"model\": 9}, \"Metrics\": {\"train_absolute_loss_objective\": {\"sum\": 0.6526380157470704, \"count\": 1, \"min\": 0.6526380157470704, \"max\": 0.6526380157470704}}}\u001b[0m\n",
      "\u001b[34m#metrics {\"StartTime\": 1662909745.0336556, \"EndTime\": 1662909745.0336924, \"Dimensions\": {\"Algorithm\": \"Linear Learner\", \"Host\": \"algo-1\", \"Operation\": \"training\", \"epoch\": 11, \"model\": 10}, \"Metrics\": {\"train_absolute_loss_objective\": {\"sum\": 0.6644967365264892, \"count\": 1, \"min\": 0.6644967365264892, \"max\": 0.6644967365264892}}}\u001b[0m\n",
      "\u001b[34m#metrics {\"StartTime\": 1662909745.0337546, \"EndTime\": 1662909745.0337725, \"Dimensions\": {\"Algorithm\": \"Linear Learner\", \"Host\": \"algo-1\", \"Operation\": \"training\", \"epoch\": 11, \"model\": 11}, \"Metrics\": {\"train_absolute_loss_objective\": {\"sum\": 0.6448452377319336, \"count\": 1, \"min\": 0.6448452377319336, \"max\": 0.6448452377319336}}}\u001b[0m\n",
      "\u001b[34m#metrics {\"StartTime\": 1662909745.033824, \"EndTime\": 1662909745.03387, \"Dimensions\": {\"Algorithm\": \"Linear Learner\", \"Host\": \"algo-1\", \"Operation\": \"training\", \"epoch\": 11, \"model\": 12}, \"Metrics\": {\"train_absolute_loss_objective\": {\"sum\": 0.21824976801872253, \"count\": 1, \"min\": 0.21824976801872253, \"max\": 0.21824976801872253}}}\u001b[0m\n",
      "\u001b[34m#metrics {\"StartTime\": 1662909745.0339563, \"EndTime\": 1662909745.0339777, \"Dimensions\": {\"Algorithm\": \"Linear Learner\", \"Host\": \"algo-1\", \"Operation\": \"training\", \"epoch\": 11, \"model\": 13}, \"Metrics\": {\"train_absolute_loss_objective\": {\"sum\": 0.27275989174842835, \"count\": 1, \"min\": 0.27275989174842835, \"max\": 0.27275989174842835}}}\u001b[0m\n",
      "\u001b[34m#metrics {\"StartTime\": 1662909745.034035, \"EndTime\": 1662909745.0340507, \"Dimensions\": {\"Algorithm\": \"Linear Learner\", \"Host\": \"algo-1\", \"Operation\": \"training\", \"epoch\": 11, \"model\": 14}, \"Metrics\": {\"train_absolute_loss_objective\": {\"sum\": 0.21793335676193237, \"count\": 1, \"min\": 0.21793335676193237, \"max\": 0.21793335676193237}}}\u001b[0m\n",
      "\u001b[34m#metrics {\"StartTime\": 1662909745.0341306, \"EndTime\": 1662909745.0341513, \"Dimensions\": {\"Algorithm\": \"Linear Learner\", \"Host\": \"algo-1\", \"Operation\": \"training\", \"epoch\": 11, \"model\": 15}, \"Metrics\": {\"train_absolute_loss_objective\": {\"sum\": 0.3199401187896729, \"count\": 1, \"min\": 0.3199401187896729, \"max\": 0.3199401187896729}}}\u001b[0m\n",
      "\u001b[34m#metrics {\"StartTime\": 1662909745.0342357, \"EndTime\": 1662909745.0342548, \"Dimensions\": {\"Algorithm\": \"Linear Learner\", \"Host\": \"algo-1\", \"Operation\": \"training\", \"epoch\": 11, \"model\": 16}, \"Metrics\": {\"train_absolute_loss_objective\": {\"sum\": 0.6472008323669434, \"count\": 1, \"min\": 0.6472008323669434, \"max\": 0.6472008323669434}}}\u001b[0m\n",
      "\u001b[34m#metrics {\"StartTime\": 1662909745.0343099, \"EndTime\": 1662909745.034352, \"Dimensions\": {\"Algorithm\": \"Linear Learner\", \"Host\": \"algo-1\", \"Operation\": \"training\", \"epoch\": 11, \"model\": 17}, \"Metrics\": {\"train_absolute_loss_objective\": {\"sum\": 0.6909179782867432, \"count\": 1, \"min\": 0.6909179782867432, \"max\": 0.6909179782867432}}}\u001b[0m\n",
      "\u001b[34m#metrics {\"StartTime\": 1662909745.0344412, \"EndTime\": 1662909745.0344627, \"Dimensions\": {\"Algorithm\": \"Linear Learner\", \"Host\": \"algo-1\", \"Operation\": \"training\", \"epoch\": 11, \"model\": 18}, \"Metrics\": {\"train_absolute_loss_objective\": {\"sum\": 0.6728372478485107, \"count\": 1, \"min\": 0.6728372478485107, \"max\": 0.6728372478485107}}}\u001b[0m\n",
      "\u001b[34m#metrics {\"StartTime\": 1662909745.0345216, \"EndTime\": 1662909745.034539, \"Dimensions\": {\"Algorithm\": \"Linear Learner\", \"Host\": \"algo-1\", \"Operation\": \"training\", \"epoch\": 11, \"model\": 19}, \"Metrics\": {\"train_absolute_loss_objective\": {\"sum\": 0.6655759048461914, \"count\": 1, \"min\": 0.6655759048461914, \"max\": 0.6655759048461914}}}\u001b[0m\n",
      "\u001b[34m#metrics {\"StartTime\": 1662909745.0346482, \"EndTime\": 1662909745.034667, \"Dimensions\": {\"Algorithm\": \"Linear Learner\", \"Host\": \"algo-1\", \"Operation\": \"training\", \"epoch\": 11, \"model\": 20}, \"Metrics\": {\"train_absolute_loss_objective\": {\"sum\": 0.2533276534080505, \"count\": 1, \"min\": 0.2533276534080505, \"max\": 0.2533276534080505}}}\u001b[0m\n",
      "\u001b[34m#metrics {\"StartTime\": 1662909745.0347247, \"EndTime\": 1662909745.0347786, \"Dimensions\": {\"Algorithm\": \"Linear Learner\", \"Host\": \"algo-1\", \"Operation\": \"training\", \"epoch\": 11, \"model\": 21}, \"Metrics\": {\"train_absolute_loss_objective\": {\"sum\": 0.2540704894065857, \"count\": 1, \"min\": 0.2540704894065857, \"max\": 0.2540704894065857}}}\u001b[0m\n",
      "\u001b[34m#metrics {\"StartTime\": 1662909745.0348403, \"EndTime\": 1662909745.0348573, \"Dimensions\": {\"Algorithm\": \"Linear Learner\", \"Host\": \"algo-1\", \"Operation\": \"training\", \"epoch\": 11, \"model\": 22}, \"Metrics\": {\"train_absolute_loss_objective\": {\"sum\": 0.36052982330322264, \"count\": 1, \"min\": 0.36052982330322264, \"max\": 0.36052982330322264}}}\u001b[0m\n",
      "\u001b[34m#metrics {\"StartTime\": 1662909745.0349407, \"EndTime\": 1662909745.0349598, \"Dimensions\": {\"Algorithm\": \"Linear Learner\", \"Host\": \"algo-1\", \"Operation\": \"training\", \"epoch\": 11, \"model\": 23}, \"Metrics\": {\"train_absolute_loss_objective\": {\"sum\": 0.3029935932159424, \"count\": 1, \"min\": 0.3029935932159424, \"max\": 0.3029935932159424}}}\u001b[0m\n",
      "\u001b[34m#metrics {\"StartTime\": 1662909745.0350134, \"EndTime\": 1662909745.035029, \"Dimensions\": {\"Algorithm\": \"Linear Learner\", \"Host\": \"algo-1\", \"Operation\": \"training\", \"epoch\": 11, \"model\": 24}, \"Metrics\": {\"train_absolute_loss_objective\": {\"sum\": 0.8985619163513183, \"count\": 1, \"min\": 0.8985619163513183, \"max\": 0.8985619163513183}}}\u001b[0m\n",
      "\u001b[34m#metrics {\"StartTime\": 1662909745.0351152, \"EndTime\": 1662909745.0351331, \"Dimensions\": {\"Algorithm\": \"Linear Learner\", \"Host\": \"algo-1\", \"Operation\": \"training\", \"epoch\": 11, \"model\": 25}, \"Metrics\": {\"train_absolute_loss_objective\": {\"sum\": 0.897732048034668, \"count\": 1, \"min\": 0.897732048034668, \"max\": 0.897732048034668}}}\u001b[0m\n",
      "\u001b[34m#metrics {\"StartTime\": 1662909745.0352156, \"EndTime\": 1662909745.0352356, \"Dimensions\": {\"Algorithm\": \"Linear Learner\", \"Host\": \"algo-1\", \"Operation\": \"training\", \"epoch\": 11, \"model\": 26}, \"Metrics\": {\"train_absolute_loss_objective\": {\"sum\": 0.8977076721191406, \"count\": 1, \"min\": 0.8977076721191406, \"max\": 0.8977076721191406}}}\u001b[0m\n",
      "\u001b[34m#metrics {\"StartTime\": 1662909745.0352898, \"EndTime\": 1662909745.035306, \"Dimensions\": {\"Algorithm\": \"Linear Learner\", \"Host\": \"algo-1\", \"Operation\": \"training\", \"epoch\": 11, \"model\": 27}, \"Metrics\": {\"train_absolute_loss_objective\": {\"sum\": 0.8975664520263672, \"count\": 1, \"min\": 0.8975664520263672, \"max\": 0.8975664520263672}}}\u001b[0m\n",
      "\u001b[34m#metrics {\"StartTime\": 1662909745.0353913, \"EndTime\": 1662909745.03541, \"Dimensions\": {\"Algorithm\": \"Linear Learner\", \"Host\": \"algo-1\", \"Operation\": \"training\", \"epoch\": 11, \"model\": 28}, \"Metrics\": {\"train_absolute_loss_objective\": {\"sum\": 0.9331907653808593, \"count\": 1, \"min\": 0.9331907653808593, \"max\": 0.9331907653808593}}}\u001b[0m\n",
      "\u001b[34m#metrics {\"StartTime\": 1662909745.0354652, \"EndTime\": 1662909745.0354822, \"Dimensions\": {\"Algorithm\": \"Linear Learner\", \"Host\": \"algo-1\", \"Operation\": \"training\", \"epoch\": 11, \"model\": 29}, \"Metrics\": {\"train_absolute_loss_objective\": {\"sum\": 0.9351303100585937, \"count\": 1, \"min\": 0.9351303100585937, \"max\": 0.9351303100585937}}}\u001b[0m\n",
      "\u001b[34m#metrics {\"StartTime\": 1662909745.0355961, \"EndTime\": 1662909745.0356164, \"Dimensions\": {\"Algorithm\": \"Linear Learner\", \"Host\": \"algo-1\", \"Operation\": \"training\", \"epoch\": 11, \"model\": 30}, \"Metrics\": {\"train_absolute_loss_objective\": {\"sum\": 0.9361404609680176, \"count\": 1, \"min\": 0.9361404609680176, \"max\": 0.9361404609680176}}}\u001b[0m\n",
      "\u001b[34m#metrics {\"StartTime\": 1662909745.0356712, \"EndTime\": 1662909745.0356889, \"Dimensions\": {\"Algorithm\": \"Linear Learner\", \"Host\": \"algo-1\", \"Operation\": \"training\", \"epoch\": 11, \"model\": 31}, \"Metrics\": {\"train_absolute_loss_objective\": {\"sum\": 0.9342520904541015, \"count\": 1, \"min\": 0.9342520904541015, \"max\": 0.9342520904541015}}}\u001b[0m\n",
      "\u001b[34m[09/11/2022 15:22:25 INFO 140682820122432] #quality_metric: host=algo-1, epoch=11, train absolute_loss_objective <loss>=0.6694511032104492\u001b[0m\n",
      "\u001b[34m[09/11/2022 15:22:25 INFO 140682820122432] #early_stopping_criteria_metric: host=algo-1, epoch=11, criteria=absolute_loss_objective, value=0.20631487607955934\u001b[0m\n",
      "\u001b[34m[09/11/2022 15:22:25 INFO 140682820122432] Saving model for epoch: 11\u001b[0m\n",
      "\u001b[34m[09/11/2022 15:22:25 INFO 140682820122432] Saved checkpoint to \"/tmp/tmpjx9fspj6/mx-mod-0000.params\"\u001b[0m\n",
      "\u001b[34m[09/11/2022 15:22:25 INFO 140682820122432] #progress_metric: host=algo-1, completed 24.0 % of epochs\u001b[0m\n",
      "\u001b[34m#metrics {\"StartTime\": 1662909744.900637, \"EndTime\": 1662909745.0456452, \"Dimensions\": {\"Algorithm\": \"Linear Learner\", \"Host\": \"algo-1\", \"Operation\": \"training\", \"epoch\": 11, \"Meta\": \"training_data_iter\"}, \"Metrics\": {\"Total Records Seen\": {\"sum\": 343.0, \"count\": 1, \"min\": 343, \"max\": 343}, \"Total Batches Seen\": {\"sum\": 79.0, \"count\": 1, \"min\": 79, \"max\": 79}, \"Max Records Seen Between Resets\": {\"sum\": 26.0, \"count\": 1, \"min\": 26, \"max\": 26}, \"Max Batches Seen Between Resets\": {\"sum\": 6.0, \"count\": 1, \"min\": 6, \"max\": 6}, \"Reset Count\": {\"sum\": 14.0, \"count\": 1, \"min\": 14, \"max\": 14}, \"Number of Records Since Last Reset\": {\"sum\": 26.0, \"count\": 1, \"min\": 26, \"max\": 26}, \"Number of Batches Since Last Reset\": {\"sum\": 6.0, \"count\": 1, \"min\": 6, \"max\": 6}}}\u001b[0m\n",
      "\u001b[34m[09/11/2022 15:22:25 INFO 140682820122432] #throughput_metric: host=algo-1, train throughput=179.12599211563733 records/second\u001b[0m\n",
      "\u001b[34m[2022-09-11 15:22:25.177] [tensorio] [info] epoch_stats={\"data_pipeline\": \"/opt/ml/input/data/train\", \"epoch\": 28, \"duration\": 130, \"num_examples\": 6, \"num_bytes\": 1248}\u001b[0m\n",
      "\u001b[34m#metrics {\"StartTime\": 1662909745.1771545, \"EndTime\": 1662909745.1772373, \"Dimensions\": {\"Algorithm\": \"Linear Learner\", \"Host\": \"algo-1\", \"Operation\": \"training\", \"epoch\": 12, \"model\": 0}, \"Metrics\": {\"train_absolute_loss_objective\": {\"sum\": 0.6498065853118896, \"count\": 1, \"min\": 0.6498065853118896, \"max\": 0.6498065853118896}}}\u001b[0m\n",
      "\u001b[34m#metrics {\"StartTime\": 1662909745.1773903, \"EndTime\": 1662909745.1774132, \"Dimensions\": {\"Algorithm\": \"Linear Learner\", \"Host\": \"algo-1\", \"Operation\": \"training\", \"epoch\": 12, \"model\": 1}, \"Metrics\": {\"train_absolute_loss_objective\": {\"sum\": 0.6628635692596435, \"count\": 1, \"min\": 0.6628635692596435, \"max\": 0.6628635692596435}}}\u001b[0m\n",
      "\u001b[34m#metrics {\"StartTime\": 1662909745.1774678, \"EndTime\": 1662909745.177485, \"Dimensions\": {\"Algorithm\": \"Linear Learner\", \"Host\": \"algo-1\", \"Operation\": \"training\", \"epoch\": 12, \"model\": 2}, \"Metrics\": {\"train_absolute_loss_objective\": {\"sum\": 0.6522010231018066, \"count\": 1, \"min\": 0.6522010231018066, \"max\": 0.6522010231018066}}}\u001b[0m\n",
      "\u001b[34m#metrics {\"StartTime\": 1662909745.1775374, \"EndTime\": 1662909745.1776097, \"Dimensions\": {\"Algorithm\": \"Linear Learner\", \"Host\": \"algo-1\", \"Operation\": \"training\", \"epoch\": 12, \"model\": 3}, \"Metrics\": {\"train_absolute_loss_objective\": {\"sum\": 0.6618534660339356, \"count\": 1, \"min\": 0.6618534660339356, \"max\": 0.6618534660339356}}}\u001b[0m\n",
      "\u001b[34m#metrics {\"StartTime\": 1662909745.17767, \"EndTime\": 1662909745.1776881, \"Dimensions\": {\"Algorithm\": \"Linear Learner\", \"Host\": \"algo-1\", \"Operation\": \"training\", \"epoch\": 12, \"model\": 4}, \"Metrics\": {\"train_absolute_loss_objective\": {\"sum\": 0.16951721906661987, \"count\": 1, \"min\": 0.16951721906661987, \"max\": 0.16951721906661987}}}\u001b[0m\n",
      "\u001b[34m#metrics {\"StartTime\": 1662909745.1777406, \"EndTime\": 1662909745.1777563, \"Dimensions\": {\"Algorithm\": \"Linear Learner\", \"Host\": \"algo-1\", \"Operation\": \"training\", \"epoch\": 12, \"model\": 5}, \"Metrics\": {\"train_absolute_loss_objective\": {\"sum\": 0.1866458797454834, \"count\": 1, \"min\": 0.1866458797454834, \"max\": 0.1866458797454834}}}\u001b[0m\n",
      "\u001b[34m#metrics {\"StartTime\": 1662909745.177869, \"EndTime\": 1662909745.177889, \"Dimensions\": {\"Algorithm\": \"Linear Learner\", \"Host\": \"algo-1\", \"Operation\": \"training\", \"epoch\": 12, \"model\": 6}, \"Metrics\": {\"train_absolute_loss_objective\": {\"sum\": 0.21237585306167603, \"count\": 1, \"min\": 0.21237585306167603, \"max\": 0.21237585306167603}}}\u001b[0m\n",
      "\u001b[34m#metrics {\"StartTime\": 1662909745.1779435, \"EndTime\": 1662909745.1779609, \"Dimensions\": {\"Algorithm\": \"Linear Learner\", \"Host\": \"algo-1\", \"Operation\": \"training\", \"epoch\": 12, \"model\": 7}, \"Metrics\": {\"train_absolute_loss_objective\": {\"sum\": 0.25677066802978515, \"count\": 1, \"min\": 0.25677066802978515, \"max\": 0.25677066802978515}}}\u001b[0m\n",
      "\u001b[34m#metrics {\"StartTime\": 1662909745.1780803, \"EndTime\": 1662909745.1781025, \"Dimensions\": {\"Algorithm\": \"Linear Learner\", \"Host\": \"algo-1\", \"Operation\": \"training\", \"epoch\": 12, \"model\": 8}, \"Metrics\": {\"train_absolute_loss_objective\": {\"sum\": 0.7050715827941895, \"count\": 1, \"min\": 0.7050715827941895, \"max\": 0.7050715827941895}}}\u001b[0m\n",
      "\u001b[34m#metrics {\"StartTime\": 1662909745.1781573, \"EndTime\": 1662909745.1781745, \"Dimensions\": {\"Algorithm\": \"Linear Learner\", \"Host\": \"algo-1\", \"Operation\": \"training\", \"epoch\": 12, \"model\": 9}, \"Metrics\": {\"train_absolute_loss_objective\": {\"sum\": 0.6317559051513671, \"count\": 1, \"min\": 0.6317559051513671, \"max\": 0.6317559051513671}}}\u001b[0m\n",
      "\u001b[34m#metrics {\"StartTime\": 1662909745.1782894, \"EndTime\": 1662909745.178309, \"Dimensions\": {\"Algorithm\": \"Linear Learner\", \"Host\": \"algo-1\", \"Operation\": \"training\", \"epoch\": 12, \"model\": 10}, \"Metrics\": {\"train_absolute_loss_objective\": {\"sum\": 0.6447011470794678, \"count\": 1, \"min\": 0.6447011470794678, \"max\": 0.6447011470794678}}}\u001b[0m\n",
      "\u001b[34m#metrics {\"StartTime\": 1662909745.1783636, \"EndTime\": 1662909745.1783862, \"Dimensions\": {\"Algorithm\": \"Linear Learner\", \"Host\": \"algo-1\", \"Operation\": \"training\", \"epoch\": 12, \"model\": 11}, \"Metrics\": {\"train_absolute_loss_objective\": {\"sum\": 0.6239632034301758, \"count\": 1, \"min\": 0.6239632034301758, \"max\": 0.6239632034301758}}}\u001b[0m\n",
      "\u001b[34m#metrics {\"StartTime\": 1662909745.1785495, \"EndTime\": 1662909745.1785727, \"Dimensions\": {\"Algorithm\": \"Linear Learner\", \"Host\": \"algo-1\", \"Operation\": \"training\", \"epoch\": 12, \"model\": 12}, \"Metrics\": {\"train_absolute_loss_objective\": {\"sum\": 0.1594018268585205, \"count\": 1, \"min\": 0.1594018268585205, \"max\": 0.1594018268585205}}}\u001b[0m\n",
      "\u001b[34m#metrics {\"StartTime\": 1662909745.1786313, \"EndTime\": 1662909745.1786723, \"Dimensions\": {\"Algorithm\": \"Linear Learner\", \"Host\": \"algo-1\", \"Operation\": \"training\", \"epoch\": 12, \"model\": 13}, \"Metrics\": {\"train_absolute_loss_objective\": {\"sum\": 0.2939964389801025, \"count\": 1, \"min\": 0.2939964389801025, \"max\": 0.2939964389801025}}}\u001b[0m\n",
      "\u001b[34m#metrics {\"StartTime\": 1662909745.178785, \"EndTime\": 1662909745.178806, \"Dimensions\": {\"Algorithm\": \"Linear Learner\", \"Host\": \"algo-1\", \"Operation\": \"training\", \"epoch\": 12, \"model\": 14}, \"Metrics\": {\"train_absolute_loss_objective\": {\"sum\": 0.15897440910339355, \"count\": 1, \"min\": 0.15897440910339355, \"max\": 0.15897440910339355}}}\u001b[0m\n",
      "\u001b[34m#metrics {\"StartTime\": 1662909745.178863, \"EndTime\": 1662909745.178881, \"Dimensions\": {\"Algorithm\": \"Linear Learner\", \"Host\": \"algo-1\", \"Operation\": \"training\", \"epoch\": 12, \"model\": 15}, \"Metrics\": {\"train_absolute_loss_objective\": {\"sum\": 0.2653299283981323, \"count\": 1, \"min\": 0.2653299283981323, \"max\": 0.2653299283981323}}}\u001b[0m\n",
      "\u001b[34m#metrics {\"StartTime\": 1662909745.1790988, \"EndTime\": 1662909745.1791213, \"Dimensions\": {\"Algorithm\": \"Linear Learner\", \"Host\": \"algo-1\", \"Operation\": \"training\", \"epoch\": 12, \"model\": 16}, \"Metrics\": {\"train_absolute_loss_objective\": {\"sum\": 0.6306640338897705, \"count\": 1, \"min\": 0.6306640338897705, \"max\": 0.6306640338897705}}}\u001b[0m\n",
      "\u001b[34m#metrics {\"StartTime\": 1662909745.1792564, \"EndTime\": 1662909745.179277, \"Dimensions\": {\"Algorithm\": \"Linear Learner\", \"Host\": \"algo-1\", \"Operation\": \"training\", \"epoch\": 12, \"model\": 17}, \"Metrics\": {\"train_absolute_loss_objective\": {\"sum\": 0.6734675693511963, \"count\": 1, \"min\": 0.6734675693511963, \"max\": 0.6734675693511963}}}\u001b[0m\n",
      "\u001b[34m#metrics {\"StartTime\": 1662909745.1794498, \"EndTime\": 1662909745.179539, \"Dimensions\": {\"Algorithm\": \"Linear Learner\", \"Host\": \"algo-1\", \"Operation\": \"training\", \"epoch\": 12, \"model\": 18}, \"Metrics\": {\"train_absolute_loss_objective\": {\"sum\": 0.6559873390197754, \"count\": 1, \"min\": 0.6559873390197754, \"max\": 0.6559873390197754}}}\u001b[0m\n",
      "\u001b[34m#metrics {\"StartTime\": 1662909745.1795945, \"EndTime\": 1662909745.1796122, \"Dimensions\": {\"Algorithm\": \"Linear Learner\", \"Host\": \"algo-1\", \"Operation\": \"training\", \"epoch\": 12, \"model\": 19}, \"Metrics\": {\"train_absolute_loss_objective\": {\"sum\": 0.6478734397888184, \"count\": 1, \"min\": 0.6478734397888184, \"max\": 0.6478734397888184}}}\u001b[0m\n",
      "\u001b[34m#metrics {\"StartTime\": 1662909745.1796644, \"EndTime\": 1662909745.179757, \"Dimensions\": {\"Algorithm\": \"Linear Learner\", \"Host\": \"algo-1\", \"Operation\": \"training\", \"epoch\": 12, \"model\": 20}, \"Metrics\": {\"train_absolute_loss_objective\": {\"sum\": 0.2587038850784302, \"count\": 1, \"min\": 0.2587038850784302, \"max\": 0.2587038850784302}}}\u001b[0m\n",
      "\u001b[34m#metrics {\"StartTime\": 1662909745.1799164, \"EndTime\": 1662909745.1799362, \"Dimensions\": {\"Algorithm\": \"Linear Learner\", \"Host\": \"algo-1\", \"Operation\": \"training\", \"epoch\": 12, \"model\": 21}, \"Metrics\": {\"train_absolute_loss_objective\": {\"sum\": 0.2597166967391968, \"count\": 1, \"min\": 0.2597166967391968, \"max\": 0.2597166967391968}}}\u001b[0m\n",
      "\u001b[34m#metrics {\"StartTime\": 1662909745.1799905, \"EndTime\": 1662909745.1800864, \"Dimensions\": {\"Algorithm\": \"Linear Learner\", \"Host\": \"algo-1\", \"Operation\": \"training\", \"epoch\": 12, \"model\": 22}, \"Metrics\": {\"train_absolute_loss_objective\": {\"sum\": 0.28926049947738647, \"count\": 1, \"min\": 0.28926049947738647, \"max\": 0.28926049947738647}}}\u001b[0m\n",
      "\u001b[34m#metrics {\"StartTime\": 1662909745.18022, \"EndTime\": 1662909745.1802464, \"Dimensions\": {\"Algorithm\": \"Linear Learner\", \"Host\": \"algo-1\", \"Operation\": \"training\", \"epoch\": 12, \"model\": 23}, \"Metrics\": {\"train_absolute_loss_objective\": {\"sum\": 0.3559060382843018, \"count\": 1, \"min\": 0.3559060382843018, \"max\": 0.3559060382843018}}}\u001b[0m\n",
      "\u001b[34m#metrics {\"StartTime\": 1662909745.1803854, \"EndTime\": 1662909745.1804059, \"Dimensions\": {\"Algorithm\": \"Linear Learner\", \"Host\": \"algo-1\", \"Operation\": \"training\", \"epoch\": 12, \"model\": 24}, \"Metrics\": {\"train_absolute_loss_objective\": {\"sum\": 0.8994756603240966, \"count\": 1, \"min\": 0.8994756603240966, \"max\": 0.8994756603240966}}}\u001b[0m\n",
      "\u001b[34m#metrics {\"StartTime\": 1662909745.180587, \"EndTime\": 1662909745.1806116, \"Dimensions\": {\"Algorithm\": \"Linear Learner\", \"Host\": \"algo-1\", \"Operation\": \"training\", \"epoch\": 12, \"model\": 25}, \"Metrics\": {\"train_absolute_loss_objective\": {\"sum\": 0.8987217807769775, \"count\": 1, \"min\": 0.8987217807769775, \"max\": 0.8987217807769775}}}\u001b[0m\n",
      "\u001b[34m#metrics {\"StartTime\": 1662909745.1807494, \"EndTime\": 1662909745.1807694, \"Dimensions\": {\"Algorithm\": \"Linear Learner\", \"Host\": \"algo-1\", \"Operation\": \"training\", \"epoch\": 12, \"model\": 26}, \"Metrics\": {\"train_absolute_loss_objective\": {\"sum\": 0.8976079654693604, \"count\": 1, \"min\": 0.8976079654693604, \"max\": 0.8976079654693604}}}\u001b[0m\n",
      "\u001b[34m#metrics {\"StartTime\": 1662909745.1808228, \"EndTime\": 1662909745.1809175, \"Dimensions\": {\"Algorithm\": \"Linear Learner\", \"Host\": \"algo-1\", \"Operation\": \"training\", \"epoch\": 12, \"model\": 27}, \"Metrics\": {\"train_absolute_loss_objective\": {\"sum\": 0.8984878730773925, \"count\": 1, \"min\": 0.8984878730773925, \"max\": 0.8984878730773925}}}\u001b[0m\n",
      "\u001b[34m#metrics {\"StartTime\": 1662909745.181053, \"EndTime\": 1662909745.1810732, \"Dimensions\": {\"Algorithm\": \"Linear Learner\", \"Host\": \"algo-1\", \"Operation\": \"training\", \"epoch\": 12, \"model\": 28}, \"Metrics\": {\"train_absolute_loss_objective\": {\"sum\": 0.929781150817871, \"count\": 1, \"min\": 0.929781150817871, \"max\": 0.929781150817871}}}\u001b[0m\n",
      "\u001b[34m#metrics {\"StartTime\": 1662909745.1811283, \"EndTime\": 1662909745.1811447, \"Dimensions\": {\"Algorithm\": \"Linear Learner\", \"Host\": \"algo-1\", \"Operation\": \"training\", \"epoch\": 12, \"model\": 29}, \"Metrics\": {\"train_absolute_loss_objective\": {\"sum\": 0.9302229118347168, \"count\": 1, \"min\": 0.9302229118347168, \"max\": 0.9302229118347168}}}\u001b[0m\n",
      "\u001b[34m#metrics {\"StartTime\": 1662909745.1813555, \"EndTime\": 1662909745.1813762, \"Dimensions\": {\"Algorithm\": \"Linear Learner\", \"Host\": \"algo-1\", \"Operation\": \"training\", \"epoch\": 12, \"model\": 30}, \"Metrics\": {\"train_absolute_loss_objective\": {\"sum\": 0.9288221645355225, \"count\": 1, \"min\": 0.9288221645355225, \"max\": 0.9288221645355225}}}\u001b[0m\n",
      "\u001b[34m#metrics {\"StartTime\": 1662909745.181509, \"EndTime\": 1662909745.1815991, \"Dimensions\": {\"Algorithm\": \"Linear Learner\", \"Host\": \"algo-1\", \"Operation\": \"training\", \"epoch\": 12, \"model\": 31}, \"Metrics\": {\"train_absolute_loss_objective\": {\"sum\": 0.9315863800048828, \"count\": 1, \"min\": 0.9315863800048828, \"max\": 0.9315863800048828}}}\u001b[0m\n",
      "\u001b[34m[09/11/2022 15:22:25 INFO 140682820122432] #quality_metric: host=algo-1, epoch=12, train absolute_loss_objective <loss>=0.6498065853118896\u001b[0m\n",
      "\u001b[34m[09/11/2022 15:22:25 INFO 140682820122432] #early_stopping_criteria_metric: host=algo-1, epoch=12, criteria=absolute_loss_objective, value=0.15897440910339355\u001b[0m\n",
      "\u001b[34m[09/11/2022 15:22:25 INFO 140682820122432] Epoch 12: Loss improved. Updating best model\u001b[0m\n",
      "\u001b[34m[09/11/2022 15:22:25 INFO 140682820122432] Saving model for epoch: 12\u001b[0m\n",
      "\u001b[34m[09/11/2022 15:22:25 INFO 140682820122432] Saved checkpoint to \"/tmp/tmpand10i2_/mx-mod-0000.params\"\u001b[0m\n",
      "\u001b[34m[09/11/2022 15:22:25 INFO 140682820122432] #progress_metric: host=algo-1, completed 26.0 % of epochs\u001b[0m\n",
      "\u001b[34m#metrics {\"StartTime\": 1662909745.0459347, \"EndTime\": 1662909745.1959898, \"Dimensions\": {\"Algorithm\": \"Linear Learner\", \"Host\": \"algo-1\", \"Operation\": \"training\", \"epoch\": 12, \"Meta\": \"training_data_iter\"}, \"Metrics\": {\"Total Records Seen\": {\"sum\": 369.0, \"count\": 1, \"min\": 369, \"max\": 369}, \"Total Batches Seen\": {\"sum\": 85.0, \"count\": 1, \"min\": 85, \"max\": 85}, \"Max Records Seen Between Resets\": {\"sum\": 26.0, \"count\": 1, \"min\": 26, \"max\": 26}, \"Max Batches Seen Between Resets\": {\"sum\": 6.0, \"count\": 1, \"min\": 6, \"max\": 6}, \"Reset Count\": {\"sum\": 15.0, \"count\": 1, \"min\": 15, \"max\": 15}, \"Number of Records Since Last Reset\": {\"sum\": 26.0, \"count\": 1, \"min\": 26, \"max\": 26}, \"Number of Batches Since Last Reset\": {\"sum\": 6.0, \"count\": 1, \"min\": 6, \"max\": 6}}}\u001b[0m\n",
      "\u001b[34m[09/11/2022 15:22:25 INFO 140682820122432] #throughput_metric: host=algo-1, train throughput=173.01120547280178 records/second\u001b[0m\n",
      "\u001b[34m[2022-09-11 15:22:25.401] [tensorio] [info] epoch_stats={\"data_pipeline\": \"/opt/ml/input/data/train\", \"epoch\": 30, \"duration\": 205, \"num_examples\": 6, \"num_bytes\": 1248}\u001b[0m\n",
      "\u001b[34m#metrics {\"StartTime\": 1662909745.4019377, \"EndTime\": 1662909745.4020178, \"Dimensions\": {\"Algorithm\": \"Linear Learner\", \"Host\": \"algo-1\", \"Operation\": \"training\", \"epoch\": 13, \"model\": 0}, \"Metrics\": {\"train_absolute_loss_objective\": {\"sum\": 0.630437126159668, \"count\": 1, \"min\": 0.630437126159668, \"max\": 0.630437126159668}}}\u001b[0m\n",
      "\u001b[34m#metrics {\"StartTime\": 1662909745.4021783, \"EndTime\": 1662909745.4021966, \"Dimensions\": {\"Algorithm\": \"Linear Learner\", \"Host\": \"algo-1\", \"Operation\": \"training\", \"epoch\": 13, \"model\": 1}, \"Metrics\": {\"train_absolute_loss_objective\": {\"sum\": 0.6420757007598877, \"count\": 1, \"min\": 0.6420757007598877, \"max\": 0.6420757007598877}}}\u001b[0m\n",
      "\u001b[34m#metrics {\"StartTime\": 1662909745.4022455, \"EndTime\": 1662909745.4022586, \"Dimensions\": {\"Algorithm\": \"Linear Learner\", \"Host\": \"algo-1\", \"Operation\": \"training\", \"epoch\": 13, \"model\": 2}, \"Metrics\": {\"train_absolute_loss_objective\": {\"sum\": 0.6327535915374756, \"count\": 1, \"min\": 0.6327535915374756, \"max\": 0.6327535915374756}}}\u001b[0m\n",
      "\u001b[34m#metrics {\"StartTime\": 1662909745.4023623, \"EndTime\": 1662909745.40238, \"Dimensions\": {\"Algorithm\": \"Linear Learner\", \"Host\": \"algo-1\", \"Operation\": \"training\", \"epoch\": 13, \"model\": 3}, \"Metrics\": {\"train_absolute_loss_objective\": {\"sum\": 0.6410985088348389, \"count\": 1, \"min\": 0.6410985088348389, \"max\": 0.6410985088348389}}}\u001b[0m\n",
      "\u001b[34m#metrics {\"StartTime\": 1662909745.402489, \"EndTime\": 1662909745.4025035, \"Dimensions\": {\"Algorithm\": \"Linear Learner\", \"Host\": \"algo-1\", \"Operation\": \"training\", \"epoch\": 13, \"model\": 4}, \"Metrics\": {\"train_absolute_loss_objective\": {\"sum\": 0.24428756952285766, \"count\": 1, \"min\": 0.24428756952285766, \"max\": 0.24428756952285766}}}\u001b[0m\n",
      "\u001b[34m#metrics {\"StartTime\": 1662909745.4026115, \"EndTime\": 1662909745.4026284, \"Dimensions\": {\"Algorithm\": \"Linear Learner\", \"Host\": \"algo-1\", \"Operation\": \"training\", \"epoch\": 13, \"model\": 5}, \"Metrics\": {\"train_absolute_loss_objective\": {\"sum\": 0.2693497228622437, \"count\": 1, \"min\": 0.2693497228622437, \"max\": 0.2693497228622437}}}\u001b[0m\n",
      "\u001b[34m#metrics {\"StartTime\": 1662909745.402765, \"EndTime\": 1662909745.4028418, \"Dimensions\": {\"Algorithm\": \"Linear Learner\", \"Host\": \"algo-1\", \"Operation\": \"training\", \"epoch\": 13, \"model\": 6}, \"Metrics\": {\"train_absolute_loss_objective\": {\"sum\": 0.2597599411010742, \"count\": 1, \"min\": 0.2597599411010742, \"max\": 0.2597599411010742}}}\u001b[0m\n",
      "\u001b[34m#metrics {\"StartTime\": 1662909745.4029586, \"EndTime\": 1662909745.4029741, \"Dimensions\": {\"Algorithm\": \"Linear Learner\", \"Host\": \"algo-1\", \"Operation\": \"training\", \"epoch\": 13, \"model\": 7}, \"Metrics\": {\"train_absolute_loss_objective\": {\"sum\": 0.25387431621551515, \"count\": 1, \"min\": 0.25387431621551515, \"max\": 0.25387431621551515}}}\u001b[0m\n",
      "\u001b[34m#metrics {\"StartTime\": 1662909745.4030201, \"EndTime\": 1662909745.403032, \"Dimensions\": {\"Algorithm\": \"Linear Learner\", \"Host\": \"algo-1\", \"Operation\": \"training\", \"epoch\": 13, \"model\": 8}, \"Metrics\": {\"train_absolute_loss_objective\": {\"sum\": 0.6855458831787109, \"count\": 1, \"min\": 0.6855458831787109, \"max\": 0.6855458831787109}}}\u001b[0m\n",
      "\u001b[34m#metrics {\"StartTime\": 1662909745.4041314, \"EndTime\": 1662909745.4041557, \"Dimensions\": {\"Algorithm\": \"Linear Learner\", \"Host\": \"algo-1\", \"Operation\": \"training\", \"epoch\": 13, \"model\": 9}, \"Metrics\": {\"train_absolute_loss_objective\": {\"sum\": 0.611308240890503, \"count\": 1, \"min\": 0.611308240890503, \"max\": 0.611308240890503}}}\u001b[0m\n",
      "\u001b[34m#metrics {\"StartTime\": 1662909745.4042091, \"EndTime\": 1662909745.4042265, \"Dimensions\": {\"Algorithm\": \"Linear Learner\", \"Host\": \"algo-1\", \"Operation\": \"training\", \"epoch\": 13, \"model\": 10}, \"Metrics\": {\"train_absolute_loss_objective\": {\"sum\": 0.6256158924102784, \"count\": 1, \"min\": 0.6256158924102784, \"max\": 0.6256158924102784}}}\u001b[0m\n",
      "\u001b[34m#metrics {\"StartTime\": 1662909745.4042797, \"EndTime\": 1662909745.4042966, \"Dimensions\": {\"Algorithm\": \"Linear Learner\", \"Host\": \"algo-1\", \"Operation\": \"training\", \"epoch\": 13, \"model\": 11}, \"Metrics\": {\"train_absolute_loss_objective\": {\"sum\": 0.6032533168792724, \"count\": 1, \"min\": 0.6032533168792724, \"max\": 0.6032533168792724}}}\u001b[0m\n",
      "\u001b[34m#metrics {\"StartTime\": 1662909745.4043484, \"EndTime\": 1662909745.4043648, \"Dimensions\": {\"Algorithm\": \"Linear Learner\", \"Host\": \"algo-1\", \"Operation\": \"training\", \"epoch\": 13, \"model\": 12}, \"Metrics\": {\"train_absolute_loss_objective\": {\"sum\": 0.24390182971954347, \"count\": 1, \"min\": 0.24390182971954347, \"max\": 0.24390182971954347}}}\u001b[0m\n",
      "\u001b[34m#metrics {\"StartTime\": 1662909745.4044242, \"EndTime\": 1662909745.4044425, \"Dimensions\": {\"Algorithm\": \"Linear Learner\", \"Host\": \"algo-1\", \"Operation\": \"training\", \"epoch\": 13, \"model\": 13}, \"Metrics\": {\"train_absolute_loss_objective\": {\"sum\": 0.2372196865081787, \"count\": 1, \"min\": 0.2372196865081787, \"max\": 0.2372196865081787}}}\u001b[0m\n",
      "\u001b[34m#metrics {\"StartTime\": 1662909745.4045033, \"EndTime\": 1662909745.4045205, \"Dimensions\": {\"Algorithm\": \"Linear Learner\", \"Host\": \"algo-1\", \"Operation\": \"training\", \"epoch\": 13, \"model\": 14}, \"Metrics\": {\"train_absolute_loss_objective\": {\"sum\": 0.24430112838745116, \"count\": 1, \"min\": 0.24430112838745116, \"max\": 0.24430112838745116}}}\u001b[0m\n",
      "\u001b[34m#metrics {\"StartTime\": 1662909745.4045794, \"EndTime\": 1662909745.404597, \"Dimensions\": {\"Algorithm\": \"Linear Learner\", \"Host\": \"algo-1\", \"Operation\": \"training\", \"epoch\": 13, \"model\": 15}, \"Metrics\": {\"train_absolute_loss_objective\": {\"sum\": 0.32276801466941835, \"count\": 1, \"min\": 0.32276801466941835, \"max\": 0.32276801466941835}}}\u001b[0m\n",
      "\u001b[34m#metrics {\"StartTime\": 1662909745.4046574, \"EndTime\": 1662909745.4046743, \"Dimensions\": {\"Algorithm\": \"Linear Learner\", \"Host\": \"algo-1\", \"Operation\": \"training\", \"epoch\": 13, \"model\": 16}, \"Metrics\": {\"train_absolute_loss_objective\": {\"sum\": 0.6146002960205078, \"count\": 1, \"min\": 0.6146002960205078, \"max\": 0.6146002960205078}}}\u001b[0m\n",
      "\u001b[34m#metrics {\"StartTime\": 1662909745.40473, \"EndTime\": 1662909745.404746, \"Dimensions\": {\"Algorithm\": \"Linear Learner\", \"Host\": \"algo-1\", \"Operation\": \"training\", \"epoch\": 13, \"model\": 17}, \"Metrics\": {\"train_absolute_loss_objective\": {\"sum\": 0.655781602859497, \"count\": 1, \"min\": 0.655781602859497, \"max\": 0.655781602859497}}}\u001b[0m\n",
      "\u001b[34m#metrics {\"StartTime\": 1662909745.4048033, \"EndTime\": 1662909745.40482, \"Dimensions\": {\"Algorithm\": \"Linear Learner\", \"Host\": \"algo-1\", \"Operation\": \"training\", \"epoch\": 13, \"model\": 18}, \"Metrics\": {\"train_absolute_loss_objective\": {\"sum\": 0.6396795463562012, \"count\": 1, \"min\": 0.6396795463562012, \"max\": 0.6396795463562012}}}\u001b[0m\n",
      "\u001b[34m#metrics {\"StartTime\": 1662909745.404879, \"EndTime\": 1662909745.404896, \"Dimensions\": {\"Algorithm\": \"Linear Learner\", \"Host\": \"algo-1\", \"Operation\": \"training\", \"epoch\": 13, \"model\": 19}, \"Metrics\": {\"train_absolute_loss_objective\": {\"sum\": 0.6307207679748535, \"count\": 1, \"min\": 0.6307207679748535, \"max\": 0.6307207679748535}}}\u001b[0m\n",
      "\u001b[34m#metrics {\"StartTime\": 1662909745.4049559, \"EndTime\": 1662909745.4049726, \"Dimensions\": {\"Algorithm\": \"Linear Learner\", \"Host\": \"algo-1\", \"Operation\": \"training\", \"epoch\": 13, \"model\": 20}, \"Metrics\": {\"train_absolute_loss_objective\": {\"sum\": 0.29483661651611326, \"count\": 1, \"min\": 0.29483661651611326, \"max\": 0.29483661651611326}}}\u001b[0m\n",
      "\u001b[34m#metrics {\"StartTime\": 1662909745.4050262, \"EndTime\": 1662909745.4050431, \"Dimensions\": {\"Algorithm\": \"Linear Learner\", \"Host\": \"algo-1\", \"Operation\": \"training\", \"epoch\": 13, \"model\": 21}, \"Metrics\": {\"train_absolute_loss_objective\": {\"sum\": 0.2985409927368164, \"count\": 1, \"min\": 0.2985409927368164, \"max\": 0.2985409927368164}}}\u001b[0m\n",
      "\u001b[34m#metrics {\"StartTime\": 1662909745.4050949, \"EndTime\": 1662909745.4051106, \"Dimensions\": {\"Algorithm\": \"Linear Learner\", \"Host\": \"algo-1\", \"Operation\": \"training\", \"epoch\": 13, \"model\": 22}, \"Metrics\": {\"train_absolute_loss_objective\": {\"sum\": 0.28792351961135865, \"count\": 1, \"min\": 0.28792351961135865, \"max\": 0.28792351961135865}}}\u001b[0m\n",
      "\u001b[34m#metrics {\"StartTime\": 1662909745.4051569, \"EndTime\": 1662909745.4051712, \"Dimensions\": {\"Algorithm\": \"Linear Learner\", \"Host\": \"algo-1\", \"Operation\": \"training\", \"epoch\": 13, \"model\": 23}, \"Metrics\": {\"train_absolute_loss_objective\": {\"sum\": 0.3447944974899292, \"count\": 1, \"min\": 0.3447944974899292, \"max\": 0.3447944974899292}}}\u001b[0m\n",
      "\u001b[34m#metrics {\"StartTime\": 1662909745.4052196, \"EndTime\": 1662909745.4052343, \"Dimensions\": {\"Algorithm\": \"Linear Learner\", \"Host\": \"algo-1\", \"Operation\": \"training\", \"epoch\": 13, \"model\": 24}, \"Metrics\": {\"train_absolute_loss_objective\": {\"sum\": 0.8989347553253174, \"count\": 1, \"min\": 0.8989347553253174, \"max\": 0.8989347553253174}}}\u001b[0m\n",
      "\u001b[34m#metrics {\"StartTime\": 1662909745.4052827, \"EndTime\": 1662909745.4052987, \"Dimensions\": {\"Algorithm\": \"Linear Learner\", \"Host\": \"algo-1\", \"Operation\": \"training\", \"epoch\": 13, \"model\": 25}, \"Metrics\": {\"train_absolute_loss_objective\": {\"sum\": 0.8987281894683838, \"count\": 1, \"min\": 0.8987281894683838, \"max\": 0.8987281894683838}}}\u001b[0m\n",
      "\u001b[34m#metrics {\"StartTime\": 1662909745.4053574, \"EndTime\": 1662909745.4053743, \"Dimensions\": {\"Algorithm\": \"Linear Learner\", \"Host\": \"algo-1\", \"Operation\": \"training\", \"epoch\": 13, \"model\": 26}, \"Metrics\": {\"train_absolute_loss_objective\": {\"sum\": 0.8979247951507568, \"count\": 1, \"min\": 0.8979247951507568, \"max\": 0.8979247951507568}}}\u001b[0m\n",
      "\u001b[34m#metrics {\"StartTime\": 1662909745.4054332, \"EndTime\": 1662909745.4054496, \"Dimensions\": {\"Algorithm\": \"Linear Learner\", \"Host\": \"algo-1\", \"Operation\": \"training\", \"epoch\": 13, \"model\": 27}, \"Metrics\": {\"train_absolute_loss_objective\": {\"sum\": 0.8982807159423828, \"count\": 1, \"min\": 0.8982807159423828, \"max\": 0.8982807159423828}}}\u001b[0m\n",
      "\u001b[34m#metrics {\"StartTime\": 1662909745.4055061, \"EndTime\": 1662909745.4055233, \"Dimensions\": {\"Algorithm\": \"Linear Learner\", \"Host\": \"algo-1\", \"Operation\": \"training\", \"epoch\": 13, \"model\": 28}, \"Metrics\": {\"train_absolute_loss_objective\": {\"sum\": 0.9244985389709472, \"count\": 1, \"min\": 0.9244985389709472, \"max\": 0.9244985389709472}}}\u001b[0m\n",
      "\u001b[34m#metrics {\"StartTime\": 1662909745.4055734, \"EndTime\": 1662909745.4055896, \"Dimensions\": {\"Algorithm\": \"Linear Learner\", \"Host\": \"algo-1\", \"Operation\": \"training\", \"epoch\": 13, \"model\": 29}, \"Metrics\": {\"train_absolute_loss_objective\": {\"sum\": 0.9288617420196533, \"count\": 1, \"min\": 0.9288617420196533, \"max\": 0.9288617420196533}}}\u001b[0m\n",
      "\u001b[34m#metrics {\"StartTime\": 1662909745.405639, \"EndTime\": 1662909745.405654, \"Dimensions\": {\"Algorithm\": \"Linear Learner\", \"Host\": \"algo-1\", \"Operation\": \"training\", \"epoch\": 13, \"model\": 30}, \"Metrics\": {\"train_absolute_loss_objective\": {\"sum\": 0.9237223243713379, \"count\": 1, \"min\": 0.9237223243713379, \"max\": 0.9237223243713379}}}\u001b[0m\n",
      "\u001b[34m#metrics {\"StartTime\": 1662909745.4057019, \"EndTime\": 1662909745.405716, \"Dimensions\": {\"Algorithm\": \"Linear Learner\", \"Host\": \"algo-1\", \"Operation\": \"training\", \"epoch\": 13, \"model\": 31}, \"Metrics\": {\"train_absolute_loss_objective\": {\"sum\": 0.9271115684509277, \"count\": 1, \"min\": 0.9271115684509277, \"max\": 0.9271115684509277}}}\u001b[0m\n",
      "\u001b[34m[09/11/2022 15:22:25 INFO 140682820122432] #quality_metric: host=algo-1, epoch=13, train absolute_loss_objective <loss>=0.630437126159668\u001b[0m\n",
      "\u001b[34m[09/11/2022 15:22:25 INFO 140682820122432] #early_stopping_criteria_metric: host=algo-1, epoch=13, criteria=absolute_loss_objective, value=0.2372196865081787\u001b[0m\n",
      "\u001b[34m[09/11/2022 15:22:25 INFO 140682820122432] Saving model for epoch: 13\u001b[0m\n",
      "\u001b[34m[09/11/2022 15:22:25 INFO 140682820122432] Saved checkpoint to \"/tmp/tmp3_ai0sed/mx-mod-0000.params\"\u001b[0m\n",
      "\u001b[34m[09/11/2022 15:22:25 INFO 140682820122432] #progress_metric: host=algo-1, completed 28.0 % of epochs\u001b[0m\n",
      "\u001b[34m#metrics {\"StartTime\": 1662909745.1964836, \"EndTime\": 1662909745.4150023, \"Dimensions\": {\"Algorithm\": \"Linear Learner\", \"Host\": \"algo-1\", \"Operation\": \"training\", \"epoch\": 13, \"Meta\": \"training_data_iter\"}, \"Metrics\": {\"Total Records Seen\": {\"sum\": 395.0, \"count\": 1, \"min\": 395, \"max\": 395}, \"Total Batches Seen\": {\"sum\": 91.0, \"count\": 1, \"min\": 91, \"max\": 91}, \"Max Records Seen Between Resets\": {\"sum\": 26.0, \"count\": 1, \"min\": 26, \"max\": 26}, \"Max Batches Seen Between Resets\": {\"sum\": 6.0, \"count\": 1, \"min\": 6, \"max\": 6}, \"Reset Count\": {\"sum\": 16.0, \"count\": 1, \"min\": 16, \"max\": 16}, \"Number of Records Since Last Reset\": {\"sum\": 26.0, \"count\": 1, \"min\": 26, \"max\": 26}, \"Number of Batches Since Last Reset\": {\"sum\": 6.0, \"count\": 1, \"min\": 6, \"max\": 6}}}\u001b[0m\n",
      "\u001b[34m[09/11/2022 15:22:25 INFO 140682820122432] #throughput_metric: host=algo-1, train throughput=118.87243101595185 records/second\u001b[0m\n",
      "\u001b[34m[2022-09-11 15:22:25.546] [tensorio] [info] epoch_stats={\"data_pipeline\": \"/opt/ml/input/data/train\", \"epoch\": 32, \"duration\": 131, \"num_examples\": 6, \"num_bytes\": 1248}\u001b[0m\n",
      "\u001b[34m#metrics {\"StartTime\": 1662909745.5472836, \"EndTime\": 1662909745.5474067, \"Dimensions\": {\"Algorithm\": \"Linear Learner\", \"Host\": \"algo-1\", \"Operation\": \"training\", \"epoch\": 14, \"model\": 0}, \"Metrics\": {\"train_absolute_loss_objective\": {\"sum\": 0.6110119724273682, \"count\": 1, \"min\": 0.6110119724273682, \"max\": 0.6110119724273682}}}\u001b[0m\n",
      "\u001b[34m#metrics {\"StartTime\": 1662909745.5477395, \"EndTime\": 1662909745.5477595, \"Dimensions\": {\"Algorithm\": \"Linear Learner\", \"Host\": \"algo-1\", \"Operation\": \"training\", \"epoch\": 14, \"model\": 1}, \"Metrics\": {\"train_absolute_loss_objective\": {\"sum\": 0.6213377952575684, \"count\": 1, \"min\": 0.6213377952575684, \"max\": 0.6213377952575684}}}\u001b[0m\n",
      "\u001b[34m#metrics {\"StartTime\": 1662909745.5478506, \"EndTime\": 1662909745.5478718, \"Dimensions\": {\"Algorithm\": \"Linear Learner\", \"Host\": \"algo-1\", \"Operation\": \"training\", \"epoch\": 14, \"model\": 2}, \"Metrics\": {\"train_absolute_loss_objective\": {\"sum\": 0.6133284187316894, \"count\": 1, \"min\": 0.6133284187316894, \"max\": 0.6133284187316894}}}\u001b[0m\n",
      "\u001b[34m#metrics {\"StartTime\": 1662909745.5479295, \"EndTime\": 1662909745.547948, \"Dimensions\": {\"Algorithm\": \"Linear Learner\", \"Host\": \"algo-1\", \"Operation\": \"training\", \"epoch\": 14, \"model\": 3}, \"Metrics\": {\"train_absolute_loss_objective\": {\"sum\": 0.62036057472229, \"count\": 1, \"min\": 0.62036057472229, \"max\": 0.62036057472229}}}\u001b[0m\n",
      "\u001b[34m#metrics {\"StartTime\": 1662909745.5480008, \"EndTime\": 1662909745.5480175, \"Dimensions\": {\"Algorithm\": \"Linear Learner\", \"Host\": \"algo-1\", \"Operation\": \"training\", \"epoch\": 14, \"model\": 4}, \"Metrics\": {\"train_absolute_loss_objective\": {\"sum\": 0.1824164891242981, \"count\": 1, \"min\": 0.1824164891242981, \"max\": 0.1824164891242981}}}\u001b[0m\n",
      "\u001b[34m#metrics {\"StartTime\": 1662909745.5480692, \"EndTime\": 1662909745.5480862, \"Dimensions\": {\"Algorithm\": \"Linear Learner\", \"Host\": \"algo-1\", \"Operation\": \"training\", \"epoch\": 14, \"model\": 5}, \"Metrics\": {\"train_absolute_loss_objective\": {\"sum\": 0.1962469744682312, \"count\": 1, \"min\": 0.1962469744682312, \"max\": 0.1962469744682312}}}\u001b[0m\n",
      "\u001b[34m#metrics {\"StartTime\": 1662909745.54814, \"EndTime\": 1662909745.5481567, \"Dimensions\": {\"Algorithm\": \"Linear Learner\", \"Host\": \"algo-1\", \"Operation\": \"training\", \"epoch\": 14, \"model\": 6}, \"Metrics\": {\"train_absolute_loss_objective\": {\"sum\": 0.1836586332321167, \"count\": 1, \"min\": 0.1836586332321167, \"max\": 0.1836586332321167}}}\u001b[0m\n",
      "\u001b[34m#metrics {\"StartTime\": 1662909745.5482075, \"EndTime\": 1662909745.5482237, \"Dimensions\": {\"Algorithm\": \"Linear Learner\", \"Host\": \"algo-1\", \"Operation\": \"training\", \"epoch\": 14, \"model\": 7}, \"Metrics\": {\"train_absolute_loss_objective\": {\"sum\": 0.17032675504684447, \"count\": 1, \"min\": 0.17032675504684447, \"max\": 0.17032675504684447}}}\u001b[0m\n",
      "\u001b[34m#metrics {\"StartTime\": 1662909745.5482726, \"EndTime\": 1662909745.5482876, \"Dimensions\": {\"Algorithm\": \"Linear Learner\", \"Host\": \"algo-1\", \"Operation\": \"training\", \"epoch\": 14, \"model\": 8}, \"Metrics\": {\"train_absolute_loss_objective\": {\"sum\": 0.6659656333923339, \"count\": 1, \"min\": 0.6659656333923339, \"max\": 0.6659656333923339}}}\u001b[0m\n",
      "\u001b[34m#metrics {\"StartTime\": 1662909745.548364, \"EndTime\": 1662909745.5483818, \"Dimensions\": {\"Algorithm\": \"Linear Learner\", \"Host\": \"algo-1\", \"Operation\": \"training\", \"epoch\": 14, \"model\": 9}, \"Metrics\": {\"train_absolute_loss_objective\": {\"sum\": 0.5903110694885254, \"count\": 1, \"min\": 0.5903110694885254, \"max\": 0.5903110694885254}}}\u001b[0m\n",
      "\u001b[34m#metrics {\"StartTime\": 1662909745.5484436, \"EndTime\": 1662909745.5484629, \"Dimensions\": {\"Algorithm\": \"Linear Learner\", \"Host\": \"algo-1\", \"Operation\": \"training\", \"epoch\": 14, \"model\": 10}, \"Metrics\": {\"train_absolute_loss_objective\": {\"sum\": 0.6058950519561768, \"count\": 1, \"min\": 0.6058950519561768, \"max\": 0.6058950519561768}}}\u001b[0m\n",
      "\u001b[34m#metrics {\"StartTime\": 1662909745.5485258, \"EndTime\": 1662909745.548543, \"Dimensions\": {\"Algorithm\": \"Linear Learner\", \"Host\": \"algo-1\", \"Operation\": \"training\", \"epoch\": 14, \"model\": 11}, \"Metrics\": {\"train_absolute_loss_objective\": {\"sum\": 0.5825185298919677, \"count\": 1, \"min\": 0.5825185298919677, \"max\": 0.5825185298919677}}}\u001b[0m\n",
      "\u001b[34m#metrics {\"StartTime\": 1662909745.5485973, \"EndTime\": 1662909745.548613, \"Dimensions\": {\"Algorithm\": \"Linear Learner\", \"Host\": \"algo-1\", \"Operation\": \"training\", \"epoch\": 14, \"model\": 12}, \"Metrics\": {\"train_absolute_loss_objective\": {\"sum\": 0.1798945665359497, \"count\": 1, \"min\": 0.1798945665359497, \"max\": 0.1798945665359497}}}\u001b[0m\n",
      "\u001b[34m#metrics {\"StartTime\": 1662909745.548674, \"EndTime\": 1662909745.5486915, \"Dimensions\": {\"Algorithm\": \"Linear Learner\", \"Host\": \"algo-1\", \"Operation\": \"training\", \"epoch\": 14, \"model\": 13}, \"Metrics\": {\"train_absolute_loss_objective\": {\"sum\": 0.18563511967658997, \"count\": 1, \"min\": 0.18563511967658997, \"max\": 0.18563511967658997}}}\u001b[0m\n",
      "\u001b[34m#metrics {\"StartTime\": 1662909745.5487435, \"EndTime\": 1662909745.5487597, \"Dimensions\": {\"Algorithm\": \"Linear Learner\", \"Host\": \"algo-1\", \"Operation\": \"training\", \"epoch\": 14, \"model\": 14}, \"Metrics\": {\"train_absolute_loss_objective\": {\"sum\": 0.18022023677825927, \"count\": 1, \"min\": 0.18022023677825927, \"max\": 0.18022023677825927}}}\u001b[0m\n",
      "\u001b[34m#metrics {\"StartTime\": 1662909745.5488212, \"EndTime\": 1662909745.548837, \"Dimensions\": {\"Algorithm\": \"Linear Learner\", \"Host\": \"algo-1\", \"Operation\": \"training\", \"epoch\": 14, \"model\": 15}, \"Metrics\": {\"train_absolute_loss_objective\": {\"sum\": 0.2474608278274536, \"count\": 1, \"min\": 0.2474608278274536, \"max\": 0.2474608278274536}}}\u001b[0m\n",
      "\u001b[34m#metrics {\"StartTime\": 1662909745.548887, \"EndTime\": 1662909745.5489032, \"Dimensions\": {\"Algorithm\": \"Linear Learner\", \"Host\": \"algo-1\", \"Operation\": \"training\", \"epoch\": 14, \"model\": 16}, \"Metrics\": {\"train_absolute_loss_objective\": {\"sum\": 0.5988624477386475, \"count\": 1, \"min\": 0.5988624477386475, \"max\": 0.5988624477386475}}}\u001b[0m\n",
      "\u001b[34m#metrics {\"StartTime\": 1662909745.548961, \"EndTime\": 1662909745.548977, \"Dimensions\": {\"Algorithm\": \"Linear Learner\", \"Host\": \"algo-1\", \"Operation\": \"training\", \"epoch\": 14, \"model\": 17}, \"Metrics\": {\"train_absolute_loss_objective\": {\"sum\": 0.6389996433258056, \"count\": 1, \"min\": 0.6389996433258056, \"max\": 0.6389996433258056}}}\u001b[0m\n",
      "\u001b[34m#metrics {\"StartTime\": 1662909745.5490289, \"EndTime\": 1662909745.5490437, \"Dimensions\": {\"Algorithm\": \"Linear Learner\", \"Host\": \"algo-1\", \"Operation\": \"training\", \"epoch\": 14, \"model\": 18}, \"Metrics\": {\"train_absolute_loss_objective\": {\"sum\": 0.6237028503417968, \"count\": 1, \"min\": 0.6237028503417968, \"max\": 0.6237028503417968}}}\u001b[0m\n",
      "\u001b[34m#metrics {\"StartTime\": 1662909745.5490978, \"EndTime\": 1662909745.5491135, \"Dimensions\": {\"Algorithm\": \"Linear Learner\", \"Host\": \"algo-1\", \"Operation\": \"training\", \"epoch\": 14, \"model\": 19}, \"Metrics\": {\"train_absolute_loss_objective\": {\"sum\": 0.6138568496704102, \"count\": 1, \"min\": 0.6138568496704102, \"max\": 0.6138568496704102}}}\u001b[0m\n",
      "\u001b[34m#metrics {\"StartTime\": 1662909745.5491672, \"EndTime\": 1662909745.5491831, \"Dimensions\": {\"Algorithm\": \"Linear Learner\", \"Host\": \"algo-1\", \"Operation\": \"training\", \"epoch\": 14, \"model\": 20}, \"Metrics\": {\"train_absolute_loss_objective\": {\"sum\": 0.3174241781234741, \"count\": 1, \"min\": 0.3174241781234741, \"max\": 0.3174241781234741}}}\u001b[0m\n",
      "\u001b[34m#metrics {\"StartTime\": 1662909745.5492368, \"EndTime\": 1662909745.5492527, \"Dimensions\": {\"Algorithm\": \"Linear Learner\", \"Host\": \"algo-1\", \"Operation\": \"training\", \"epoch\": 14, \"model\": 21}, \"Metrics\": {\"train_absolute_loss_objective\": {\"sum\": 0.32149524211883546, \"count\": 1, \"min\": 0.32149524211883546, \"max\": 0.32149524211883546}}}\u001b[0m\n",
      "\u001b[34m#metrics {\"StartTime\": 1662909745.5493033, \"EndTime\": 1662909745.5493197, \"Dimensions\": {\"Algorithm\": \"Linear Learner\", \"Host\": \"algo-1\", \"Operation\": \"training\", \"epoch\": 14, \"model\": 22}, \"Metrics\": {\"train_absolute_loss_objective\": {\"sum\": 0.3102559566497803, \"count\": 1, \"min\": 0.3102559566497803, \"max\": 0.3102559566497803}}}\u001b[0m\n",
      "\u001b[34m#metrics {\"StartTime\": 1662909745.5493712, \"EndTime\": 1662909745.5493875, \"Dimensions\": {\"Algorithm\": \"Linear Learner\", \"Host\": \"algo-1\", \"Operation\": \"training\", \"epoch\": 14, \"model\": 23}, \"Metrics\": {\"train_absolute_loss_objective\": {\"sum\": 0.27784677267074587, \"count\": 1, \"min\": 0.27784677267074587, \"max\": 0.27784677267074587}}}\u001b[0m\n",
      "\u001b[34m#metrics {\"StartTime\": 1662909745.549447, \"EndTime\": 1662909745.5494637, \"Dimensions\": {\"Algorithm\": \"Linear Learner\", \"Host\": \"algo-1\", \"Operation\": \"training\", \"epoch\": 14, \"model\": 24}, \"Metrics\": {\"train_absolute_loss_objective\": {\"sum\": 0.8984503746032715, \"count\": 1, \"min\": 0.8984503746032715, \"max\": 0.8984503746032715}}}\u001b[0m\n",
      "\u001b[34m#metrics {\"StartTime\": 1662909745.5495179, \"EndTime\": 1662909745.5495372, \"Dimensions\": {\"Algorithm\": \"Linear Learner\", \"Host\": \"algo-1\", \"Operation\": \"training\", \"epoch\": 14, \"model\": 25}, \"Metrics\": {\"train_absolute_loss_objective\": {\"sum\": 0.898460922241211, \"count\": 1, \"min\": 0.898460922241211, \"max\": 0.898460922241211}}}\u001b[0m\n",
      "\u001b[34m#metrics {\"StartTime\": 1662909745.5495884, \"EndTime\": 1662909745.54964, \"Dimensions\": {\"Algorithm\": \"Linear Learner\", \"Host\": \"algo-1\", \"Operation\": \"training\", \"epoch\": 14, \"model\": 26}, \"Metrics\": {\"train_absolute_loss_objective\": {\"sum\": 0.8981420803070068, \"count\": 1, \"min\": 0.8981420803070068, \"max\": 0.8981420803070068}}}\u001b[0m\n",
      "\u001b[34m#metrics {\"StartTime\": 1662909745.5497127, \"EndTime\": 1662909745.5497298, \"Dimensions\": {\"Algorithm\": \"Linear Learner\", \"Host\": \"algo-1\", \"Operation\": \"training\", \"epoch\": 14, \"model\": 27}, \"Metrics\": {\"train_absolute_loss_objective\": {\"sum\": 0.897791576385498, \"count\": 1, \"min\": 0.897791576385498, \"max\": 0.897791576385498}}}\u001b[0m\n",
      "\u001b[34m#metrics {\"StartTime\": 1662909745.54979, \"EndTime\": 1662909745.5498059, \"Dimensions\": {\"Algorithm\": \"Linear Learner\", \"Host\": \"algo-1\", \"Operation\": \"training\", \"epoch\": 14, \"model\": 28}, \"Metrics\": {\"train_absolute_loss_objective\": {\"sum\": 0.9217439365386962, \"count\": 1, \"min\": 0.9217439365386962, \"max\": 0.9217439365386962}}}\u001b[0m\n",
      "\u001b[34m#metrics {\"StartTime\": 1662909745.5498502, \"EndTime\": 1662909745.5498633, \"Dimensions\": {\"Algorithm\": \"Linear Learner\", \"Host\": \"algo-1\", \"Operation\": \"training\", \"epoch\": 14, \"model\": 29}, \"Metrics\": {\"train_absolute_loss_objective\": {\"sum\": 0.9218100833892823, \"count\": 1, \"min\": 0.9218100833892823, \"max\": 0.9218100833892823}}}\u001b[0m\n",
      "\u001b[34m#metrics {\"StartTime\": 1662909745.5499089, \"EndTime\": 1662909745.549925, \"Dimensions\": {\"Algorithm\": \"Linear Learner\", \"Host\": \"algo-1\", \"Operation\": \"training\", \"epoch\": 14, \"model\": 30}, \"Metrics\": {\"train_absolute_loss_objective\": {\"sum\": 0.931694107055664, \"count\": 1, \"min\": 0.931694107055664, \"max\": 0.931694107055664}}}\u001b[0m\n",
      "\u001b[34m#metrics {\"StartTime\": 1662909745.5499873, \"EndTime\": 1662909745.5500038, \"Dimensions\": {\"Algorithm\": \"Linear Learner\", \"Host\": \"algo-1\", \"Operation\": \"training\", \"epoch\": 14, \"model\": 31}, \"Metrics\": {\"train_absolute_loss_objective\": {\"sum\": 0.9226950168609619, \"count\": 1, \"min\": 0.9226950168609619, \"max\": 0.9226950168609619}}}\u001b[0m\n",
      "\u001b[34m[09/11/2022 15:22:25 INFO 140682820122432] #quality_metric: host=algo-1, epoch=14, train absolute_loss_objective <loss>=0.6110119724273682\u001b[0m\n",
      "\u001b[34m[09/11/2022 15:22:25 INFO 140682820122432] #early_stopping_criteria_metric: host=algo-1, epoch=14, criteria=absolute_loss_objective, value=0.17032675504684447\u001b[0m\n",
      "\u001b[34m[09/11/2022 15:22:25 INFO 140682820122432] Saving model for epoch: 14\u001b[0m\n",
      "\u001b[34m[09/11/2022 15:22:25 INFO 140682820122432] Saved checkpoint to \"/tmp/tmpsvtpxwya/mx-mod-0000.params\"\u001b[0m\n",
      "\u001b[34m[09/11/2022 15:22:25 INFO 140682820122432] #progress_metric: host=algo-1, completed 30.0 % of epochs\u001b[0m\n",
      "\u001b[34m#metrics {\"StartTime\": 1662909745.415306, \"EndTime\": 1662909745.5604334, \"Dimensions\": {\"Algorithm\": \"Linear Learner\", \"Host\": \"algo-1\", \"Operation\": \"training\", \"epoch\": 14, \"Meta\": \"training_data_iter\"}, \"Metrics\": {\"Total Records Seen\": {\"sum\": 421.0, \"count\": 1, \"min\": 421, \"max\": 421}, \"Total Batches Seen\": {\"sum\": 97.0, \"count\": 1, \"min\": 97, \"max\": 97}, \"Max Records Seen Between Resets\": {\"sum\": 26.0, \"count\": 1, \"min\": 26, \"max\": 26}, \"Max Batches Seen Between Resets\": {\"sum\": 6.0, \"count\": 1, \"min\": 6, \"max\": 6}, \"Reset Count\": {\"sum\": 17.0, \"count\": 1, \"min\": 17, \"max\": 17}, \"Number of Records Since Last Reset\": {\"sum\": 26.0, \"count\": 1, \"min\": 26, \"max\": 26}, \"Number of Batches Since Last Reset\": {\"sum\": 6.0, \"count\": 1, \"min\": 6, \"max\": 6}}}\u001b[0m\n",
      "\u001b[34m[09/11/2022 15:22:25 INFO 140682820122432] #throughput_metric: host=algo-1, train throughput=178.96078849682127 records/second\u001b[0m\n",
      "\u001b[34m[2022-09-11 15:22:25.677] [tensorio] [info] epoch_stats={\"data_pipeline\": \"/opt/ml/input/data/train\", \"epoch\": 34, \"duration\": 116, \"num_examples\": 6, \"num_bytes\": 1248}\u001b[0m\n",
      "\u001b[34m#metrics {\"StartTime\": 1662909745.6776185, \"EndTime\": 1662909745.6776993, \"Dimensions\": {\"Algorithm\": \"Linear Learner\", \"Host\": \"algo-1\", \"Operation\": \"training\", \"epoch\": 15, \"model\": 0}, \"Metrics\": {\"train_absolute_loss_objective\": {\"sum\": 0.5915691375732421, \"count\": 1, \"min\": 0.5915691375732421, \"max\": 0.5915691375732421}}}\u001b[0m\n",
      "\u001b[34m#metrics {\"StartTime\": 1662909745.677813, \"EndTime\": 1662909745.6778586, \"Dimensions\": {\"Algorithm\": \"Linear Learner\", \"Host\": \"algo-1\", \"Operation\": \"training\", \"epoch\": 15, \"model\": 1}, \"Metrics\": {\"train_absolute_loss_objective\": {\"sum\": 0.6009550476074219, \"count\": 1, \"min\": 0.6009550476074219, \"max\": 0.6009550476074219}}}\u001b[0m\n",
      "\u001b[34m#metrics {\"StartTime\": 1662909745.6779182, \"EndTime\": 1662909745.6779366, \"Dimensions\": {\"Algorithm\": \"Linear Learner\", \"Host\": \"algo-1\", \"Operation\": \"training\", \"epoch\": 15, \"model\": 2}, \"Metrics\": {\"train_absolute_loss_objective\": {\"sum\": 0.5939158630371094, \"count\": 1, \"min\": 0.5939158630371094, \"max\": 0.5939158630371094}}}\u001b[0m\n",
      "\u001b[34m#metrics {\"StartTime\": 1662909745.6780121, \"EndTime\": 1662909745.67803, \"Dimensions\": {\"Algorithm\": \"Linear Learner\", \"Host\": \"algo-1\", \"Operation\": \"training\", \"epoch\": 15, \"model\": 3}, \"Metrics\": {\"train_absolute_loss_objective\": {\"sum\": 0.599944953918457, \"count\": 1, \"min\": 0.599944953918457, \"max\": 0.599944953918457}}}\u001b[0m\n",
      "\u001b[34m#metrics {\"StartTime\": 1662909745.6780837, \"EndTime\": 1662909745.6781044, \"Dimensions\": {\"Algorithm\": \"Linear Learner\", \"Host\": \"algo-1\", \"Operation\": \"training\", \"epoch\": 15, \"model\": 4}, \"Metrics\": {\"train_absolute_loss_objective\": {\"sum\": 0.20329397201538085, \"count\": 1, \"min\": 0.20329397201538085, \"max\": 0.20329397201538085}}}\u001b[0m\n",
      "\u001b[34m#metrics {\"StartTime\": 1662909745.6781552, \"EndTime\": 1662909745.6781723, \"Dimensions\": {\"Algorithm\": \"Linear Learner\", \"Host\": \"algo-1\", \"Operation\": \"training\", \"epoch\": 15, \"model\": 5}, \"Metrics\": {\"train_absolute_loss_objective\": {\"sum\": 0.2075015139579773, \"count\": 1, \"min\": 0.2075015139579773, \"max\": 0.2075015139579773}}}\u001b[0m\n",
      "\u001b[34m#metrics {\"StartTime\": 1662909745.678223, \"EndTime\": 1662909745.6782393, \"Dimensions\": {\"Algorithm\": \"Linear Learner\", \"Host\": \"algo-1\", \"Operation\": \"training\", \"epoch\": 15, \"model\": 6}, \"Metrics\": {\"train_absolute_loss_objective\": {\"sum\": 0.23451915740966797, \"count\": 1, \"min\": 0.23451915740966797, \"max\": 0.23451915740966797}}}\u001b[0m\n",
      "\u001b[34m#metrics {\"StartTime\": 1662909745.6782901, \"EndTime\": 1662909745.6783066, \"Dimensions\": {\"Algorithm\": \"Linear Learner\", \"Host\": \"algo-1\", \"Operation\": \"training\", \"epoch\": 15, \"model\": 7}, \"Metrics\": {\"train_absolute_loss_objective\": {\"sum\": 0.2727304267883301, \"count\": 1, \"min\": 0.2727304267883301, \"max\": 0.2727304267883301}}}\u001b[0m\n",
      "\u001b[34m#metrics {\"StartTime\": 1662909745.6783578, \"EndTime\": 1662909745.6783736, \"Dimensions\": {\"Algorithm\": \"Linear Learner\", \"Host\": \"algo-1\", \"Operation\": \"training\", \"epoch\": 15, \"model\": 8}, \"Metrics\": {\"train_absolute_loss_objective\": {\"sum\": 0.6470579814910888, \"count\": 1, \"min\": 0.6470579814910888, \"max\": 0.6470579814910888}}}\u001b[0m\n",
      "\u001b[34m#metrics {\"StartTime\": 1662909745.6784248, \"EndTime\": 1662909745.6784408, \"Dimensions\": {\"Algorithm\": \"Linear Learner\", \"Host\": \"algo-1\", \"Operation\": \"training\", \"epoch\": 15, \"model\": 9}, \"Metrics\": {\"train_absolute_loss_objective\": {\"sum\": 0.5697464370727539, \"count\": 1, \"min\": 0.5697464370727539, \"max\": 0.5697464370727539}}}\u001b[0m\n",
      "\u001b[34m#metrics {\"StartTime\": 1662909745.6784916, \"EndTime\": 1662909745.6785078, \"Dimensions\": {\"Algorithm\": \"Linear Learner\", \"Host\": \"algo-1\", \"Operation\": \"training\", \"epoch\": 15, \"model\": 10}, \"Metrics\": {\"train_absolute_loss_objective\": {\"sum\": 0.5869120883941651, \"count\": 1, \"min\": 0.5869120883941651, \"max\": 0.5869120883941651}}}\u001b[0m\n",
      "\u001b[34m#metrics {\"StartTime\": 1662909745.6785567, \"EndTime\": 1662909745.6785717, \"Dimensions\": {\"Algorithm\": \"Linear Learner\", \"Host\": \"algo-1\", \"Operation\": \"training\", \"epoch\": 15, \"model\": 11}, \"Metrics\": {\"train_absolute_loss_objective\": {\"sum\": 0.5617996597290039, \"count\": 1, \"min\": 0.5617996597290039, \"max\": 0.5617996597290039}}}\u001b[0m\n",
      "\u001b[34m#metrics {\"StartTime\": 1662909745.6786203, \"EndTime\": 1662909745.678637, \"Dimensions\": {\"Algorithm\": \"Linear Learner\", \"Host\": \"algo-1\", \"Operation\": \"training\", \"epoch\": 15, \"model\": 12}, \"Metrics\": {\"train_absolute_loss_objective\": {\"sum\": 0.2134317398071289, \"count\": 1, \"min\": 0.2134317398071289, \"max\": 0.2134317398071289}}}\u001b[0m\n",
      "\u001b[34m#metrics {\"StartTime\": 1662909745.678714, \"EndTime\": 1662909745.6787317, \"Dimensions\": {\"Algorithm\": \"Linear Learner\", \"Host\": \"algo-1\", \"Operation\": \"training\", \"epoch\": 15, \"model\": 13}, \"Metrics\": {\"train_absolute_loss_objective\": {\"sum\": 0.30840095520019534, \"count\": 1, \"min\": 0.30840095520019534, \"max\": 0.30840095520019534}}}\u001b[0m\n",
      "\u001b[34m#metrics {\"StartTime\": 1662909745.678782, \"EndTime\": 1662909745.678799, \"Dimensions\": {\"Algorithm\": \"Linear Learner\", \"Host\": \"algo-1\", \"Operation\": \"training\", \"epoch\": 15, \"model\": 14}, \"Metrics\": {\"train_absolute_loss_objective\": {\"sum\": 0.2132202959060669, \"count\": 1, \"min\": 0.2132202959060669, \"max\": 0.2132202959060669}}}\u001b[0m\n",
      "\u001b[34m#metrics {\"StartTime\": 1662909745.6788483, \"EndTime\": 1662909745.6788647, \"Dimensions\": {\"Algorithm\": \"Linear Learner\", \"Host\": \"algo-1\", \"Operation\": \"training\", \"epoch\": 15, \"model\": 15}, \"Metrics\": {\"train_absolute_loss_objective\": {\"sum\": 0.2772955870628357, \"count\": 1, \"min\": 0.2772955870628357, \"max\": 0.2772955870628357}}}\u001b[0m\n",
      "\u001b[34m#metrics {\"StartTime\": 1662909745.678917, \"EndTime\": 1662909745.6789343, \"Dimensions\": {\"Algorithm\": \"Linear Learner\", \"Host\": \"algo-1\", \"Operation\": \"training\", \"epoch\": 15, \"model\": 16}, \"Metrics\": {\"train_absolute_loss_objective\": {\"sum\": 0.5834454250335693, \"count\": 1, \"min\": 0.5834454250335693, \"max\": 0.5834454250335693}}}\u001b[0m\n",
      "\u001b[34m#metrics {\"StartTime\": 1662909745.6789832, \"EndTime\": 1662909745.6789992, \"Dimensions\": {\"Algorithm\": \"Linear Learner\", \"Host\": \"algo-1\", \"Operation\": \"training\", \"epoch\": 15, \"model\": 17}, \"Metrics\": {\"train_absolute_loss_objective\": {\"sum\": 0.6224539089202881, \"count\": 1, \"min\": 0.6224539089202881, \"max\": 0.6224539089202881}}}\u001b[0m\n",
      "\u001b[34m#metrics {\"StartTime\": 1662909745.6790485, \"EndTime\": 1662909745.679064, \"Dimensions\": {\"Algorithm\": \"Linear Learner\", \"Host\": \"algo-1\", \"Operation\": \"training\", \"epoch\": 15, \"model\": 18}, \"Metrics\": {\"train_absolute_loss_objective\": {\"sum\": 0.6084784984588623, \"count\": 1, \"min\": 0.6084784984588623, \"max\": 0.6084784984588623}}}\u001b[0m\n",
      "\u001b[34m#metrics {\"StartTime\": 1662909745.6791143, \"EndTime\": 1662909745.67913, \"Dimensions\": {\"Algorithm\": \"Linear Learner\", \"Host\": \"algo-1\", \"Operation\": \"training\", \"epoch\": 15, \"model\": 19}, \"Metrics\": {\"train_absolute_loss_objective\": {\"sum\": 0.5976864242553711, \"count\": 1, \"min\": 0.5976864242553711, \"max\": 0.5976864242553711}}}\u001b[0m\n",
      "\u001b[34m#metrics {\"StartTime\": 1662909745.679177, \"EndTime\": 1662909745.6791923, \"Dimensions\": {\"Algorithm\": \"Linear Learner\", \"Host\": \"algo-1\", \"Operation\": \"training\", \"epoch\": 15, \"model\": 20}, \"Metrics\": {\"train_absolute_loss_objective\": {\"sum\": 0.3262910270690918, \"count\": 1, \"min\": 0.3262910270690918, \"max\": 0.3262910270690918}}}\u001b[0m\n",
      "\u001b[34m#metrics {\"StartTime\": 1662909745.6792405, \"EndTime\": 1662909745.6792552, \"Dimensions\": {\"Algorithm\": \"Linear Learner\", \"Host\": \"algo-1\", \"Operation\": \"training\", \"epoch\": 15, \"model\": 21}, \"Metrics\": {\"train_absolute_loss_objective\": {\"sum\": 0.33007309436798093, \"count\": 1, \"min\": 0.33007309436798093, \"max\": 0.33007309436798093}}}\u001b[0m\n",
      "\u001b[34m#metrics {\"StartTime\": 1662909745.6793058, \"EndTime\": 1662909745.679321, \"Dimensions\": {\"Algorithm\": \"Linear Learner\", \"Host\": \"algo-1\", \"Operation\": \"training\", \"epoch\": 15, \"model\": 22}, \"Metrics\": {\"train_absolute_loss_objective\": {\"sum\": 0.34480544567108157, \"count\": 1, \"min\": 0.34480544567108157, \"max\": 0.34480544567108157}}}\u001b[0m\n",
      "\u001b[34m#metrics {\"StartTime\": 1662909745.679378, \"EndTime\": 1662909745.6793964, \"Dimensions\": {\"Algorithm\": \"Linear Learner\", \"Host\": \"algo-1\", \"Operation\": \"training\", \"epoch\": 15, \"model\": 23}, \"Metrics\": {\"train_absolute_loss_objective\": {\"sum\": 0.276295485496521, \"count\": 1, \"min\": 0.276295485496521, \"max\": 0.276295485496521}}}\u001b[0m\n",
      "\u001b[34m#metrics {\"StartTime\": 1662909745.6794415, \"EndTime\": 1662909745.6794558, \"Dimensions\": {\"Algorithm\": \"Linear Learner\", \"Host\": \"algo-1\", \"Operation\": \"training\", \"epoch\": 15, \"model\": 24}, \"Metrics\": {\"train_absolute_loss_objective\": {\"sum\": 0.8976462745666504, \"count\": 1, \"min\": 0.8976462745666504, \"max\": 0.8976462745666504}}}\u001b[0m\n",
      "\u001b[34m#metrics {\"StartTime\": 1662909745.6795025, \"EndTime\": 1662909745.679518, \"Dimensions\": {\"Algorithm\": \"Linear Learner\", \"Host\": \"algo-1\", \"Operation\": \"training\", \"epoch\": 15, \"model\": 25}, \"Metrics\": {\"train_absolute_loss_objective\": {\"sum\": 0.8976989269256592, \"count\": 1, \"min\": 0.8976989269256592, \"max\": 0.8976989269256592}}}\u001b[0m\n",
      "\u001b[34m#metrics {\"StartTime\": 1662909745.679561, \"EndTime\": 1662909745.6795745, \"Dimensions\": {\"Algorithm\": \"Linear Learner\", \"Host\": \"algo-1\", \"Operation\": \"training\", \"epoch\": 15, \"model\": 26}, \"Metrics\": {\"train_absolute_loss_objective\": {\"sum\": 0.8981033611297607, \"count\": 1, \"min\": 0.8981033611297607, \"max\": 0.8981033611297607}}}\u001b[0m\n",
      "\u001b[34m#metrics {\"StartTime\": 1662909745.6796203, \"EndTime\": 1662909745.679635, \"Dimensions\": {\"Algorithm\": \"Linear Learner\", \"Host\": \"algo-1\", \"Operation\": \"training\", \"epoch\": 15, \"model\": 27}, \"Metrics\": {\"train_absolute_loss_objective\": {\"sum\": 0.8980692672729492, \"count\": 1, \"min\": 0.8980692672729492, \"max\": 0.8980692672729492}}}\u001b[0m\n",
      "\u001b[34m#metrics {\"StartTime\": 1662909745.6796827, \"EndTime\": 1662909745.679699, \"Dimensions\": {\"Algorithm\": \"Linear Learner\", \"Host\": \"algo-1\", \"Operation\": \"training\", \"epoch\": 15, \"model\": 28}, \"Metrics\": {\"train_absolute_loss_objective\": {\"sum\": 0.9261104774475097, \"count\": 1, \"min\": 0.9261104774475097, \"max\": 0.9261104774475097}}}\u001b[0m\n",
      "\u001b[34m#metrics {\"StartTime\": 1662909745.6797488, \"EndTime\": 1662909745.6797645, \"Dimensions\": {\"Algorithm\": \"Linear Learner\", \"Host\": \"algo-1\", \"Operation\": \"training\", \"epoch\": 15, \"model\": 29}, \"Metrics\": {\"train_absolute_loss_objective\": {\"sum\": 0.9295496368408203, \"count\": 1, \"min\": 0.9295496368408203, \"max\": 0.9295496368408203}}}\u001b[0m\n",
      "\u001b[34m#metrics {\"StartTime\": 1662909745.6798131, \"EndTime\": 1662909745.679828, \"Dimensions\": {\"Algorithm\": \"Linear Learner\", \"Host\": \"algo-1\", \"Operation\": \"training\", \"epoch\": 15, \"model\": 30}, \"Metrics\": {\"train_absolute_loss_objective\": {\"sum\": 0.9357906341552734, \"count\": 1, \"min\": 0.9357906341552734, \"max\": 0.9357906341552734}}}\u001b[0m\n",
      "\u001b[34m#metrics {\"StartTime\": 1662909745.6798773, \"EndTime\": 1662909745.6798923, \"Dimensions\": {\"Algorithm\": \"Linear Learner\", \"Host\": \"algo-1\", \"Operation\": \"training\", \"epoch\": 15, \"model\": 31}, \"Metrics\": {\"train_absolute_loss_objective\": {\"sum\": 0.9290366077423096, \"count\": 1, \"min\": 0.9290366077423096, \"max\": 0.9290366077423096}}}\u001b[0m\n",
      "\u001b[34m[09/11/2022 15:22:25 INFO 140682820122432] #quality_metric: host=algo-1, epoch=15, train absolute_loss_objective <loss>=0.5915691375732421\u001b[0m\n",
      "\u001b[34m[09/11/2022 15:22:25 INFO 140682820122432] #early_stopping_criteria_metric: host=algo-1, epoch=15, criteria=absolute_loss_objective, value=0.20329397201538085\u001b[0m\n",
      "\u001b[34m[09/11/2022 15:22:25 INFO 140682820122432] Saving model for epoch: 15\u001b[0m\n",
      "\u001b[34m[09/11/2022 15:22:25 INFO 140682820122432] Saved checkpoint to \"/tmp/tmpewyffgym/mx-mod-0000.params\"\u001b[0m\n",
      "\u001b[34m[09/11/2022 15:22:25 INFO 140682820122432] #progress_metric: host=algo-1, completed 32.0 % of epochs\u001b[0m\n",
      "\u001b[34m#metrics {\"StartTime\": 1662909745.5607677, \"EndTime\": 1662909745.688738, \"Dimensions\": {\"Algorithm\": \"Linear Learner\", \"Host\": \"algo-1\", \"Operation\": \"training\", \"epoch\": 15, \"Meta\": \"training_data_iter\"}, \"Metrics\": {\"Total Records Seen\": {\"sum\": 447.0, \"count\": 1, \"min\": 447, \"max\": 447}, \"Total Batches Seen\": {\"sum\": 103.0, \"count\": 1, \"min\": 103, \"max\": 103}, \"Max Records Seen Between Resets\": {\"sum\": 26.0, \"count\": 1, \"min\": 26, \"max\": 26}, \"Max Batches Seen Between Resets\": {\"sum\": 6.0, \"count\": 1, \"min\": 6, \"max\": 6}, \"Reset Count\": {\"sum\": 18.0, \"count\": 1, \"min\": 18, \"max\": 18}, \"Number of Records Since Last Reset\": {\"sum\": 26.0, \"count\": 1, \"min\": 26, \"max\": 26}, \"Number of Batches Since Last Reset\": {\"sum\": 6.0, \"count\": 1, \"min\": 6, \"max\": 6}}}\u001b[0m\n",
      "\u001b[34m[09/11/2022 15:22:25 INFO 140682820122432] #throughput_metric: host=algo-1, train throughput=202.94012207830878 records/second\u001b[0m\n",
      "\u001b[34m[2022-09-11 15:22:25.820] [tensorio] [info] epoch_stats={\"data_pipeline\": \"/opt/ml/input/data/train\", \"epoch\": 36, \"duration\": 130, \"num_examples\": 6, \"num_bytes\": 1248}\u001b[0m\n",
      "\u001b[34m#metrics {\"StartTime\": 1662909745.820154, \"EndTime\": 1662909745.820246, \"Dimensions\": {\"Algorithm\": \"Linear Learner\", \"Host\": \"algo-1\", \"Operation\": \"training\", \"epoch\": 16, \"model\": 0}, \"Metrics\": {\"train_absolute_loss_objective\": {\"sum\": 0.5727797698974609, \"count\": 1, \"min\": 0.5727797698974609, \"max\": 0.5727797698974609}}}\u001b[0m\n",
      "\u001b[34m#metrics {\"StartTime\": 1662909745.8203359, \"EndTime\": 1662909745.8203585, \"Dimensions\": {\"Algorithm\": \"Linear Learner\", \"Host\": \"algo-1\", \"Operation\": \"training\", \"epoch\": 16, \"model\": 1}, \"Metrics\": {\"train_absolute_loss_objective\": {\"sum\": 0.5800038814544678, \"count\": 1, \"min\": 0.5800038814544678, \"max\": 0.5800038814544678}}}\u001b[0m\n",
      "\u001b[34m#metrics {\"StartTime\": 1662909745.8204176, \"EndTime\": 1662909745.820434, \"Dimensions\": {\"Algorithm\": \"Linear Learner\", \"Host\": \"algo-1\", \"Operation\": \"training\", \"epoch\": 16, \"model\": 2}, \"Metrics\": {\"train_absolute_loss_objective\": {\"sum\": 0.5748988246917724, \"count\": 1, \"min\": 0.5748988246917724, \"max\": 0.5748988246917724}}}\u001b[0m\n",
      "\u001b[34m#metrics {\"StartTime\": 1662909745.820485, \"EndTime\": 1662909745.8205013, \"Dimensions\": {\"Algorithm\": \"Linear Learner\", \"Host\": \"algo-1\", \"Operation\": \"training\", \"epoch\": 16, \"model\": 3}, \"Metrics\": {\"train_absolute_loss_objective\": {\"sum\": 0.5790266799926758, \"count\": 1, \"min\": 0.5790266799926758, \"max\": 0.5790266799926758}}}\u001b[0m\n",
      "\u001b[34m#metrics {\"StartTime\": 1662909745.820553, \"EndTime\": 1662909745.8205688, \"Dimensions\": {\"Algorithm\": \"Linear Learner\", \"Host\": \"algo-1\", \"Operation\": \"training\", \"epoch\": 16, \"model\": 4}, \"Metrics\": {\"train_absolute_loss_objective\": {\"sum\": 0.18209150075912475, \"count\": 1, \"min\": 0.18209150075912475, \"max\": 0.18209150075912475}}}\u001b[0m\n",
      "\u001b[34m#metrics {\"StartTime\": 1662909745.82062, \"EndTime\": 1662909745.8206358, \"Dimensions\": {\"Algorithm\": \"Linear Learner\", \"Host\": \"algo-1\", \"Operation\": \"training\", \"epoch\": 16, \"model\": 5}, \"Metrics\": {\"train_absolute_loss_objective\": {\"sum\": 0.17200010657310486, \"count\": 1, \"min\": 0.17200010657310486, \"max\": 0.17200010657310486}}}\u001b[0m\n",
      "\u001b[34m#metrics {\"StartTime\": 1662909745.8206809, \"EndTime\": 1662909745.8206944, \"Dimensions\": {\"Algorithm\": \"Linear Learner\", \"Host\": \"algo-1\", \"Operation\": \"training\", \"epoch\": 16, \"model\": 6}, \"Metrics\": {\"train_absolute_loss_objective\": {\"sum\": 0.18307923793792724, \"count\": 1, \"min\": 0.18307923793792724, \"max\": 0.18307923793792724}}}\u001b[0m\n",
      "\u001b[34m#metrics {\"StartTime\": 1662909745.8207393, \"EndTime\": 1662909745.8207524, \"Dimensions\": {\"Algorithm\": \"Linear Learner\", \"Host\": \"algo-1\", \"Operation\": \"training\", \"epoch\": 16, \"model\": 7}, \"Metrics\": {\"train_absolute_loss_objective\": {\"sum\": 0.19517338275909424, \"count\": 1, \"min\": 0.19517338275909424, \"max\": 0.19517338275909424}}}\u001b[0m\n",
      "\u001b[34m#metrics {\"StartTime\": 1662909745.8207986, \"EndTime\": 1662909745.8208122, \"Dimensions\": {\"Algorithm\": \"Linear Learner\", \"Host\": \"algo-1\", \"Operation\": \"training\", \"epoch\": 16, \"model\": 8}, \"Metrics\": {\"train_absolute_loss_objective\": {\"sum\": 0.6275475311279297, \"count\": 1, \"min\": 0.6275475311279297, \"max\": 0.6275475311279297}}}\u001b[0m\n",
      "\u001b[34m#metrics {\"StartTime\": 1662909745.8208563, \"EndTime\": 1662909745.82087, \"Dimensions\": {\"Algorithm\": \"Linear Learner\", \"Host\": \"algo-1\", \"Operation\": \"training\", \"epoch\": 16, \"model\": 9}, \"Metrics\": {\"train_absolute_loss_objective\": {\"sum\": 0.5492529106140137, \"count\": 1, \"min\": 0.5492529106140137, \"max\": 0.5492529106140137}}}\u001b[0m\n",
      "\u001b[34m#metrics {\"StartTime\": 1662909745.8209157, \"EndTime\": 1662909745.8209314, \"Dimensions\": {\"Algorithm\": \"Linear Learner\", \"Host\": \"algo-1\", \"Operation\": \"training\", \"epoch\": 16, \"model\": 10}, \"Metrics\": {\"train_absolute_loss_objective\": {\"sum\": 0.567829761505127, \"count\": 1, \"min\": 0.567829761505127, \"max\": 0.567829761505127}}}\u001b[0m\n",
      "\u001b[34m#metrics {\"StartTime\": 1662909745.8209777, \"EndTime\": 1662909745.8209927, \"Dimensions\": {\"Algorithm\": \"Linear Learner\", \"Host\": \"algo-1\", \"Operation\": \"training\", \"epoch\": 16, \"model\": 11}, \"Metrics\": {\"train_absolute_loss_objective\": {\"sum\": 0.5414179039001464, \"count\": 1, \"min\": 0.5414179039001464, \"max\": 0.5414179039001464}}}\u001b[0m\n",
      "\u001b[34m#metrics {\"StartTime\": 1662909745.8210413, \"EndTime\": 1662909745.821057, \"Dimensions\": {\"Algorithm\": \"Linear Learner\", \"Host\": \"algo-1\", \"Operation\": \"training\", \"epoch\": 16, \"model\": 12}, \"Metrics\": {\"train_absolute_loss_objective\": {\"sum\": 0.17763814449310303, \"count\": 1, \"min\": 0.17763814449310303, \"max\": 0.17763814449310303}}}\u001b[0m\n",
      "\u001b[34m#metrics {\"StartTime\": 1662909745.821103, \"EndTime\": 1662909745.821118, \"Dimensions\": {\"Algorithm\": \"Linear Learner\", \"Host\": \"algo-1\", \"Operation\": \"training\", \"epoch\": 16, \"model\": 13}, \"Metrics\": {\"train_absolute_loss_objective\": {\"sum\": 0.20397603511810303, \"count\": 1, \"min\": 0.20397603511810303, \"max\": 0.20397603511810303}}}\u001b[0m\n",
      "\u001b[34m#metrics {\"StartTime\": 1662909745.8211665, \"EndTime\": 1662909745.8211808, \"Dimensions\": {\"Algorithm\": \"Linear Learner\", \"Host\": \"algo-1\", \"Operation\": \"training\", \"epoch\": 16, \"model\": 14}, \"Metrics\": {\"train_absolute_loss_objective\": {\"sum\": 0.17714146733283997, \"count\": 1, \"min\": 0.17714146733283997, \"max\": 0.17714146733283997}}}\u001b[0m\n",
      "\u001b[34m#metrics {\"StartTime\": 1662909745.8212273, \"EndTime\": 1662909745.821246, \"Dimensions\": {\"Algorithm\": \"Linear Learner\", \"Host\": \"algo-1\", \"Operation\": \"training\", \"epoch\": 16, \"model\": 15}, \"Metrics\": {\"train_absolute_loss_objective\": {\"sum\": 0.2597580218315125, \"count\": 1, \"min\": 0.2597580218315125, \"max\": 0.2597580218315125}}}\u001b[0m\n",
      "\u001b[34m#metrics {\"StartTime\": 1662909745.8213007, \"EndTime\": 1662909745.821316, \"Dimensions\": {\"Algorithm\": \"Linear Learner\", \"Host\": \"algo-1\", \"Operation\": \"training\", \"epoch\": 16, \"model\": 16}, \"Metrics\": {\"train_absolute_loss_objective\": {\"sum\": 0.5689790725708008, \"count\": 1, \"min\": 0.5689790725708008, \"max\": 0.5689790725708008}}}\u001b[0m\n",
      "\u001b[34m#metrics {\"StartTime\": 1662909745.8213704, \"EndTime\": 1662909745.821386, \"Dimensions\": {\"Algorithm\": \"Linear Learner\", \"Host\": \"algo-1\", \"Operation\": \"training\", \"epoch\": 16, \"model\": 17}, \"Metrics\": {\"train_absolute_loss_objective\": {\"sum\": 0.6061046981811523, \"count\": 1, \"min\": 0.6061046981811523, \"max\": 0.6061046981811523}}}\u001b[0m\n",
      "\u001b[34m#metrics {\"StartTime\": 1662909745.8214357, \"EndTime\": 1662909745.8214493, \"Dimensions\": {\"Algorithm\": \"Linear Learner\", \"Host\": \"algo-1\", \"Operation\": \"training\", \"epoch\": 16, \"model\": 18}, \"Metrics\": {\"train_absolute_loss_objective\": {\"sum\": 0.5930829524993897, \"count\": 1, \"min\": 0.5930829524993897, \"max\": 0.5930829524993897}}}\u001b[0m\n",
      "\u001b[34m#metrics {\"StartTime\": 1662909745.8214931, \"EndTime\": 1662909745.821507, \"Dimensions\": {\"Algorithm\": \"Linear Learner\", \"Host\": \"algo-1\", \"Operation\": \"training\", \"epoch\": 16, \"model\": 19}, \"Metrics\": {\"train_absolute_loss_objective\": {\"sum\": 0.5813565635681153, \"count\": 1, \"min\": 0.5813565635681153, \"max\": 0.5813565635681153}}}\u001b[0m\n",
      "\u001b[34m#metrics {\"StartTime\": 1662909745.8215537, \"EndTime\": 1662909745.8215678, \"Dimensions\": {\"Algorithm\": \"Linear Learner\", \"Host\": \"algo-1\", \"Operation\": \"training\", \"epoch\": 16, \"model\": 20}, \"Metrics\": {\"train_absolute_loss_objective\": {\"sum\": 0.289781379699707, \"count\": 1, \"min\": 0.289781379699707, \"max\": 0.289781379699707}}}\u001b[0m\n",
      "\u001b[34m#metrics {\"StartTime\": 1662909745.8216133, \"EndTime\": 1662909745.8216286, \"Dimensions\": {\"Algorithm\": \"Linear Learner\", \"Host\": \"algo-1\", \"Operation\": \"training\", \"epoch\": 16, \"model\": 21}, \"Metrics\": {\"train_absolute_loss_objective\": {\"sum\": 0.2893872785568237, \"count\": 1, \"min\": 0.2893872785568237, \"max\": 0.2893872785568237}}}\u001b[0m\n",
      "\u001b[34m#metrics {\"StartTime\": 1662909745.8216841, \"EndTime\": 1662909745.821702, \"Dimensions\": {\"Algorithm\": \"Linear Learner\", \"Host\": \"algo-1\", \"Operation\": \"training\", \"epoch\": 16, \"model\": 22}, \"Metrics\": {\"train_absolute_loss_objective\": {\"sum\": 0.3225796461105347, \"count\": 1, \"min\": 0.3225796461105347, \"max\": 0.3225796461105347}}}\u001b[0m\n",
      "\u001b[34m#metrics {\"StartTime\": 1662909745.8217468, \"EndTime\": 1662909745.8217616, \"Dimensions\": {\"Algorithm\": \"Linear Learner\", \"Host\": \"algo-1\", \"Operation\": \"training\", \"epoch\": 16, \"model\": 23}, \"Metrics\": {\"train_absolute_loss_objective\": {\"sum\": 0.2902973222732544, \"count\": 1, \"min\": 0.2902973222732544, \"max\": 0.2902973222732544}}}\u001b[0m\n",
      "\u001b[34m#metrics {\"StartTime\": 1662909745.8218126, \"EndTime\": 1662909745.8218284, \"Dimensions\": {\"Algorithm\": \"Linear Learner\", \"Host\": \"algo-1\", \"Operation\": \"training\", \"epoch\": 16, \"model\": 24}, \"Metrics\": {\"train_absolute_loss_objective\": {\"sum\": 0.8972178077697754, \"count\": 1, \"min\": 0.8972178077697754, \"max\": 0.8972178077697754}}}\u001b[0m\n",
      "\u001b[34m#metrics {\"StartTime\": 1662909745.8218744, \"EndTime\": 1662909745.8218896, \"Dimensions\": {\"Algorithm\": \"Linear Learner\", \"Host\": \"algo-1\", \"Operation\": \"training\", \"epoch\": 16, \"model\": 25}, \"Metrics\": {\"train_absolute_loss_objective\": {\"sum\": 0.8976132202148438, \"count\": 1, \"min\": 0.8976132202148438, \"max\": 0.8976132202148438}}}\u001b[0m\n",
      "\u001b[34m#metrics {\"StartTime\": 1662909745.821937, \"EndTime\": 1662909745.8219528, \"Dimensions\": {\"Algorithm\": \"Linear Learner\", \"Host\": \"algo-1\", \"Operation\": \"training\", \"epoch\": 16, \"model\": 26}, \"Metrics\": {\"train_absolute_loss_objective\": {\"sum\": 0.8978493881225585, \"count\": 1, \"min\": 0.8978493881225585, \"max\": 0.8978493881225585}}}\u001b[0m\n",
      "\u001b[34m#metrics {\"StartTime\": 1662909745.821999, \"EndTime\": 1662909745.8220153, \"Dimensions\": {\"Algorithm\": \"Linear Learner\", \"Host\": \"algo-1\", \"Operation\": \"training\", \"epoch\": 16, \"model\": 27}, \"Metrics\": {\"train_absolute_loss_objective\": {\"sum\": 0.898456335067749, \"count\": 1, \"min\": 0.898456335067749, \"max\": 0.898456335067749}}}\u001b[0m\n",
      "\u001b[34m#metrics {\"StartTime\": 1662909745.8220625, \"EndTime\": 1662909745.8220782, \"Dimensions\": {\"Algorithm\": \"Linear Learner\", \"Host\": \"algo-1\", \"Operation\": \"training\", \"epoch\": 16, \"model\": 28}, \"Metrics\": {\"train_absolute_loss_objective\": {\"sum\": 0.9278406620025634, \"count\": 1, \"min\": 0.9278406620025634, \"max\": 0.9278406620025634}}}\u001b[0m\n",
      "\u001b[34m#metrics {\"StartTime\": 1662909745.822127, \"EndTime\": 1662909745.8221436, \"Dimensions\": {\"Algorithm\": \"Linear Learner\", \"Host\": \"algo-1\", \"Operation\": \"training\", \"epoch\": 16, \"model\": 29}, \"Metrics\": {\"train_absolute_loss_objective\": {\"sum\": 0.9313401222229004, \"count\": 1, \"min\": 0.9313401222229004, \"max\": 0.9313401222229004}}}\u001b[0m\n",
      "\u001b[34m#metrics {\"StartTime\": 1662909745.8221946, \"EndTime\": 1662909745.8222115, \"Dimensions\": {\"Algorithm\": \"Linear Learner\", \"Host\": \"algo-1\", \"Operation\": \"training\", \"epoch\": 16, \"model\": 30}, \"Metrics\": {\"train_absolute_loss_objective\": {\"sum\": 0.9289170169830322, \"count\": 1, \"min\": 0.9289170169830322, \"max\": 0.9289170169830322}}}\u001b[0m\n",
      "\u001b[34m#metrics {\"StartTime\": 1662909745.8222613, \"EndTime\": 1662909745.8222785, \"Dimensions\": {\"Algorithm\": \"Linear Learner\", \"Host\": \"algo-1\", \"Operation\": \"training\", \"epoch\": 16, \"model\": 31}, \"Metrics\": {\"train_absolute_loss_objective\": {\"sum\": 0.9315245056152344, \"count\": 1, \"min\": 0.9315245056152344, \"max\": 0.9315245056152344}}}\u001b[0m\n",
      "\u001b[34m[09/11/2022 15:22:25 INFO 140682820122432] #quality_metric: host=algo-1, epoch=16, train absolute_loss_objective <loss>=0.5727797698974609\u001b[0m\n",
      "\u001b[34m[09/11/2022 15:22:25 INFO 140682820122432] #early_stopping_criteria_metric: host=algo-1, epoch=16, criteria=absolute_loss_objective, value=0.17200010657310486\u001b[0m\n",
      "\u001b[34m[09/11/2022 15:22:25 INFO 140682820122432] Saving model for epoch: 16\u001b[0m\n",
      "\u001b[34m[09/11/2022 15:22:25 INFO 140682820122432] Saved checkpoint to \"/tmp/tmpk_upjc4e/mx-mod-0000.params\"\u001b[0m\n",
      "\u001b[34m[09/11/2022 15:22:25 INFO 140682820122432] Early stop condition met. Stopping training.\u001b[0m\n",
      "\u001b[34m[09/11/2022 15:22:25 INFO 140682820122432] #progress_metric: host=algo-1, completed 100 % epochs\u001b[0m\n",
      "\u001b[34m#metrics {\"StartTime\": 1662909745.6890776, \"EndTime\": 1662909745.8313217, \"Dimensions\": {\"Algorithm\": \"Linear Learner\", \"Host\": \"algo-1\", \"Operation\": \"training\", \"epoch\": 16, \"Meta\": \"training_data_iter\"}, \"Metrics\": {\"Total Records Seen\": {\"sum\": 473.0, \"count\": 1, \"min\": 473, \"max\": 473}, \"Total Batches Seen\": {\"sum\": 109.0, \"count\": 1, \"min\": 109, \"max\": 109}, \"Max Records Seen Between Resets\": {\"sum\": 26.0, \"count\": 1, \"min\": 26, \"max\": 26}, \"Max Batches Seen Between Resets\": {\"sum\": 6.0, \"count\": 1, \"min\": 6, \"max\": 6}, \"Reset Count\": {\"sum\": 19.0, \"count\": 1, \"min\": 19, \"max\": 19}, \"Number of Records Since Last Reset\": {\"sum\": 26.0, \"count\": 1, \"min\": 26, \"max\": 26}, \"Number of Batches Since Last Reset\": {\"sum\": 6.0, \"count\": 1, \"min\": 6, \"max\": 6}}}\u001b[0m\n",
      "\u001b[34m[09/11/2022 15:22:25 INFO 140682820122432] #throughput_metric: host=algo-1, train throughput=182.59249014637282 records/second\u001b[0m\n",
      "\u001b[34m[09/11/2022 15:22:25 WARNING 140682820122432] wait_for_all_workers will not sync workers since the kv store is not running distributed\u001b[0m\n",
      "\u001b[34m[09/11/2022 15:22:25 WARNING 140682820122432] wait_for_all_workers will not sync workers since the kv store is not running distributed\u001b[0m\n",
      "\u001b[34m[2022-09-11 15:22:25.832] [tensorio] [info] epoch_stats={\"data_pipeline\": \"/opt/ml/input/data/train\", \"epoch\": 38, \"duration\": 0, \"num_examples\": 1, \"num_bytes\": 240}\u001b[0m\n",
      "\u001b[34m[2022-09-11 15:22:25.848] [tensorio] [info] epoch_stats={\"data_pipeline\": \"/opt/ml/input/data/train\", \"epoch\": 40, \"duration\": 13, \"num_examples\": 6, \"num_bytes\": 1248}\u001b[0m\n",
      "\u001b[34m[09/11/2022 15:22:25 INFO 140682820122432] #train_score (algo-1) : ('absolute_loss_objective', 7240.279447115385)\u001b[0m\n",
      "\u001b[34m[09/11/2022 15:22:25 INFO 140682820122432] #train_score (algo-1) : ('mse', 69950684.0)\u001b[0m\n",
      "\u001b[34m[09/11/2022 15:22:25 INFO 140682820122432] #train_score (algo-1) : ('absolute_loss', 7240.279447115385)\u001b[0m\n",
      "\u001b[34m[09/11/2022 15:22:25 INFO 140682820122432] #train_score (algo-1) : ('rmse', 8363.652551367733)\u001b[0m\n",
      "\u001b[34m[09/11/2022 15:22:25 INFO 140682820122432] #train_score (algo-1) : ('r2', 0.9319691477279878)\u001b[0m\n",
      "\u001b[34m[09/11/2022 15:22:25 INFO 140682820122432] #train_score (algo-1) : ('mae', 7240.279447115385)\u001b[0m\n",
      "\u001b[34m[09/11/2022 15:22:25 INFO 140682820122432] #quality_metric: host=algo-1, train absolute_loss_objective <loss>=7240.279447115385\u001b[0m\n",
      "\u001b[34m[09/11/2022 15:22:25 INFO 140682820122432] #quality_metric: host=algo-1, train mse <loss>=69950684.0\u001b[0m\n",
      "\u001b[34m[09/11/2022 15:22:25 INFO 140682820122432] #quality_metric: host=algo-1, train absolute_loss <loss>=7240.279447115385\u001b[0m\n",
      "\u001b[34m[09/11/2022 15:22:25 INFO 140682820122432] #quality_metric: host=algo-1, train rmse <loss>=8363.652551367733\u001b[0m\n",
      "\u001b[34m[09/11/2022 15:22:25 INFO 140682820122432] #quality_metric: host=algo-1, train r2 <loss>=0.9319691477279878\u001b[0m\n",
      "\u001b[34m[09/11/2022 15:22:25 INFO 140682820122432] #quality_metric: host=algo-1, train mae <loss>=7240.279447115385\u001b[0m\n",
      "\u001b[34m[09/11/2022 15:22:25 INFO 140682820122432] Best model found for hyperparameters: {\"optimizer\": \"adam\", \"learning_rate\": 0.1, \"wd\": 0.01, \"l1\": 0.0, \"lr_scheduler_step\": 10, \"lr_scheduler_factor\": 0.99, \"lr_scheduler_minimum_lr\": 0.0001}\u001b[0m\n",
      "\u001b[34m[09/11/2022 15:22:25 INFO 140682820122432] Saved checkpoint to \"/tmp/tmp830k4006/mx-mod-0000.params\"\u001b[0m\n",
      "\u001b[34m[09/11/2022 15:22:25 INFO 140682820122432] Test data is not provided.\u001b[0m\n",
      "\u001b[34m#metrics {\"StartTime\": 1662909742.7099388, \"EndTime\": 1662909745.8576815, \"Dimensions\": {\"Algorithm\": \"Linear Learner\", \"Host\": \"algo-1\", \"Operation\": \"training\"}, \"Metrics\": {\"initialize.time\": {\"sum\": 218.60337257385254, \"count\": 1, \"min\": 218.60337257385254, \"max\": 218.60337257385254}, \"epochs\": {\"sum\": 50.0, \"count\": 1, \"min\": 50, \"max\": 50}, \"check_early_stopping.time\": {\"sum\": 16.758203506469727, \"count\": 17, \"min\": 0.21505355834960938, \"max\": 2.774953842163086}, \"update.time\": {\"sum\": 2827.2957801818848, \"count\": 17, \"min\": 125.07796287536621, \"max\": 260.209321975708}, \"finalize.time\": {\"sum\": 20.970821380615234, \"count\": 1, \"min\": 20.970821380615234, \"max\": 20.970821380615234}, \"setuptime\": {\"sum\": 3.8213729858398438, \"count\": 1, \"min\": 3.8213729858398438, \"max\": 3.8213729858398438}, \"totaltime\": {\"sum\": 3342.156410217285, \"count\": 1, \"min\": 3342.156410217285, \"max\": 3342.156410217285}}}\u001b[0m\n",
      "\n",
      "2022-09-11 15:22:43 Uploading - Uploading generated training model\n",
      "2022-09-11 15:22:43 Completed - Training job completed\n",
      "Training seconds: 148\n",
      "Billable seconds: 35\n",
      "Managed Spot Training savings: 76.4%\n"
     ]
    }
   ],
   "source": [
    "# We have pass in the container, the type of instance that we would like to use for training \n",
    "# output path and sagemaker session into the Estimator. \n",
    "# We can also specify how many instances we would like to use for training\n",
    "# sagemaker_session = sagemaker.Session()\n",
    "\n",
    "linear = sagemaker.estimator.Estimator(container,\n",
    "                                       role, \n",
    "                                       train_instance_count = 1, \n",
    "                                       train_instance_type = 'ml.c4.xlarge',\n",
    "                                       output_path = output_location,\n",
    "                                       sagemaker_session = sagemaker_session,\n",
    "                                       train_use_spot_instances = True,\n",
    "                                       train_max_run = 300,\n",
    "                                       train_max_wait = 600)\n",
    "\n",
    "\n",
    "# We can tune parameters like the number of features that we are passing in, type of predictor like 'regressor' or 'classifier', mini batch size, epochs\n",
    "# Train 32 different versions of the model and will get the best out of them (built-in parameters optimization!)\n",
    "\n",
    "linear.set_hyperparameters(feature_dim = 1,\n",
    "                           predictor_type = 'regressor',\n",
    "                           mini_batch_size = 5,\n",
    "                           epochs = 50,\n",
    "                           num_models = 32,\n",
    "                           loss = 'absolute_loss')\n",
    "\n",
    "# Now we are ready to pass in the training data from S3 to train the linear learner model\n",
    "\n",
    "linear.fit({'train': s3_train_data})\n",
    "\n",
    "# Let's see the progress using cloudwatch logs"
   ]
  },
  {
   "cell_type": "markdown",
   "metadata": {},
   "source": [
    "MINI CHALLENGE\n",
    "- Try to train the model with more epochs and additional number of models\n",
    "- Can you try to reduce the cost of billable seconds?"
   ]
  },
  {
   "cell_type": "code",
   "execution_count": 64,
   "metadata": {},
   "outputs": [],
   "source": [
    "# you can reduce billable seconds by using spot instances like above "
   ]
  },
  {
   "cell_type": "markdown",
   "metadata": {},
   "source": [
    "# TASK #8: DEPLOY AND TEST THE TRAINED LINEAR LEARNER MODEL "
   ]
  },
  {
   "cell_type": "code",
   "execution_count": 65,
   "metadata": {},
   "outputs": [
    {
     "name": "stdout",
     "output_type": "stream",
     "text": [
      "--------!"
     ]
    }
   ],
   "source": [
    "# Deploying the model to perform inference \n",
    "\n",
    "linear_regressor = linear.deploy(initial_instance_count = 1,\n",
    "                                          instance_type = 'ml.m4.xlarge')"
   ]
  },
  {
   "cell_type": "code",
   "execution_count": 68,
   "metadata": {},
   "outputs": [],
   "source": [
    "from sagemaker.predictor import csv_serializer, json_deserializer\n",
    "\n",
    "# Content type overrides the data that will be passed to the deployed model, since the deployed model expects data in text/csv format.\n",
    "\n",
    "# Serializer accepts a single argument, the input data, and returns a sequence of bytes in the specified content type\n",
    "\n",
    "# Deserializer accepts two arguments, the result data and the response content type, and return a sequence of bytes in the specified content type.\n",
    "\n",
    "# Reference: https://sagemaker.readthedocs.io/en/stable/predictors.html\n",
    "\n",
    "#linear_regressor.content_type = 'text/csv'\n",
    "linear_regressor.serializer = csv_serializer\n",
    "linear_regressor.deserializer = json_deserializer"
   ]
  },
  {
   "cell_type": "code",
   "execution_count": 69,
   "metadata": {},
   "outputs": [
    {
     "name": "stderr",
     "output_type": "stream",
     "text": [
      "The csv_serializer has been renamed in sagemaker>=2.\n",
      "See: https://sagemaker.readthedocs.io/en/stable/v2.html for details.\n",
      "The json_deserializer has been renamed in sagemaker>=2.\n",
      "See: https://sagemaker.readthedocs.io/en/stable/v2.html for details.\n"
     ]
    }
   ],
   "source": [
    "# making prediction on the test data\n",
    "\n",
    "result = linear_regressor.predict(X_test)"
   ]
  },
  {
   "cell_type": "code",
   "execution_count": 70,
   "metadata": {},
   "outputs": [
    {
     "data": {
      "text/plain": [
       "{'predictions': [{'score': 60496.6875},\n",
       "  {'score': 57711.9921875},\n",
       "  {'score': 65137.84375},\n",
       "  {'score': 58640.2265625},\n",
       "  {'score': 150535.09375},\n",
       "  {'score': 93913.0078125},\n",
       "  {'score': 104123.546875},\n",
       "  {'score': 51214.375},\n",
       "  {'score': 67922.53125}]}"
      ]
     },
     "execution_count": 70,
     "metadata": {},
     "output_type": "execute_result"
    }
   ],
   "source": [
    "result # results are in Json format"
   ]
  },
  {
   "cell_type": "code",
   "execution_count": 71,
   "metadata": {},
   "outputs": [],
   "source": [
    "# Since the result is in json format, we access the scores by iterating through the scores in the predictions\n",
    "\n",
    "predictions = np.array([r['score'] for r in result['predictions']])"
   ]
  },
  {
   "cell_type": "code",
   "execution_count": 72,
   "metadata": {},
   "outputs": [
    {
     "data": {
      "text/plain": [
       "array([ 60496.6875   ,  57711.9921875,  65137.84375  ,  58640.2265625,\n",
       "       150535.09375  ,  93913.0078125, 104123.546875 ,  51214.375    ,\n",
       "        67922.53125  ])"
      ]
     },
     "execution_count": 72,
     "metadata": {},
     "output_type": "execute_result"
    }
   ],
   "source": [
    "predictions"
   ]
  },
  {
   "cell_type": "code",
   "execution_count": 73,
   "metadata": {
    "scrolled": true
   },
   "outputs": [
    {
     "data": {
      "text/plain": [
       "(9,)"
      ]
     },
     "execution_count": 73,
     "metadata": {},
     "output_type": "execute_result"
    }
   ],
   "source": [
    "predictions.shape"
   ]
  },
  {
   "cell_type": "code",
   "execution_count": 74,
   "metadata": {},
   "outputs": [
    {
     "data": {
      "text/plain": [
       "Text(0.5, 1.0, 'Salary vs. Years of Experience')"
      ]
     },
     "execution_count": 74,
     "metadata": {},
     "output_type": "execute_result"
    },
    {
     "data": {
      "image/png": "[encoded data removed]",
      "text/plain": [
       "<Figure size 432x288 with 1 Axes>"
      ]
     },
     "metadata": {
      "needs_background": "light"
     },
     "output_type": "display_data"
    }
   ],
   "source": [
    "# VISUALIZE TEST SET RESULTS\n",
    "plt.scatter(X_test, y_test, color = 'gray')\n",
    "plt.plot(X_test, predictions, color = 'red')\n",
    "plt.xlabel('Years of Experience (Testing Dataset)')\n",
    "plt.ylabel('salary')\n",
    "plt.title('Salary vs. Years of Experience')"
   ]
  },
  {
   "cell_type": "code",
   "execution_count": 75,
   "metadata": {},
   "outputs": [],
   "source": [
    "# Delete the end-point\n",
    "\n",
    "linear_regressor.delete_endpoint()"
   ]
  },
  {
   "cell_type": "markdown",
   "metadata": {},
   "source": [
    "# EXCELLENT JOB! NOW YOU'RE FAMILIAR WITH SAGEMAKER LINEAR LEARNER, YOU SHOULD BE PROUD OF YOUR NEWLY ACQUIRED SKILLS"
   ]
  }
 ],
 "metadata": {
  "colab": {
   "collapsed_sections": [],
   "name": "Graduate_Admission_Prediction.ipynb",
   "provenance": [],
   "toc_visible": true
  },
  "instance_type": "ml.t3.medium",
  "kernelspec": {
   "display_name": "conda_tensorflow2_p38",
   "language": "python",
   "name": "conda_tensorflow2_p38"
  },
  "language_info": {
   "codemirror_mode": {
    "name": "ipython",
    "version": 3
   },
   "file_extension": ".py",
   "mimetype": "text/x-python",
   "name": "python",
   "nbconvert_exporter": "python",
   "pygments_lexer": "ipython3",
   "version": "3.8.12"
  }
 },
 "nbformat": 4,
 "nbformat_minor": 4
}
